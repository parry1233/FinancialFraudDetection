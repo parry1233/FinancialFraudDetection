{
  "cells": [
    {
      "cell_type": "markdown",
      "metadata": {},
      "source": [
        "# Common link\n",
        "* [Load Data](#load-data)\n",
        "* [Split Data](#split-dataset)\n",
        "* [Model](#model)\n",
        "* [Evaluation](#evaluation)"
      ]
    },
    {
      "cell_type": "code",
      "execution_count": 1,
      "metadata": {},
      "outputs": [],
      "source": [
        "feature = 29"
      ]
    },
    {
      "cell_type": "markdown",
      "metadata": {},
      "source": [
        "# Model"
      ]
    },
    {
      "cell_type": "code",
      "execution_count": 2,
      "metadata": {
        "colab": {
          "base_uri": "https://localhost:8080/",
          "height": 34
        },
        "colab_type": "code",
        "id": "_fOFzTCbXTfi",
        "outputId": "4e0db446-6657-442e-a7e5-f81c198d1dee"
      },
      "outputs": [],
      "source": [
        "from tensorflow.keras import layers\n",
        "import tensorflow.keras as keras\n",
        "import tensorflow.keras.backend as K"
      ]
    },
    {
      "cell_type": "code",
      "execution_count": 3,
      "metadata": {},
      "outputs": [],
      "source": [
        "encoder = None\n",
        "ae = None\n",
        "d = None\n",
        "encoder_d = None\n",
        "RAT = 10"
      ]
    },
    {
      "cell_type": "code",
      "execution_count": 4,
      "metadata": {
        "colab": {
          "base_uri": "https://localhost:8080/",
          "height": 819
        },
        "colab_type": "code",
        "id": "6SSgbWtgYFge",
        "outputId": "ffb3b7cc-871f-4ef6-b1cb-6f2eb6193249"
      },
      "outputs": [],
      "source": [
        "def Encoder():\n",
        "    input_layer = layers.Input(name='input', shape=(feature))\n",
        "    #x = layers.Reshape((height, width, channels), name='ge_reshape')(input_layer)\n",
        "\n",
        "    # Encoder\n",
        "    x = layers.Dense(25, name='e_dense_1')(input_layer)\n",
        "    x = layers.ReLU(name='e_relu_1')(x)\n",
        "\n",
        "    x = layers.Dense(20, name='e_dense_2')(x)\n",
        "    x = layers.ReLU(name='e_relu_2')(x)\n",
        "\n",
        "    x = layers.Dense(15, name='e_dense_3')(x)\n",
        "    x = layers.ReLU(name='e_relu_3')(x)\n",
        "\n",
        "    x = layers.Dense(10, name='e_dense_4')(x)\n",
        "    x = layers.ReLU(name='e_relu_4')(x)\n",
        "\n",
        "    #x = layers.GlobalAveragePooling2D(name='g_encoder_output')(x)\n",
        "\n",
        "    encoder = keras.models.Model(inputs=input_layer, outputs=x)\n",
        "    \n",
        "    return encoder\n",
        "    "
      ]
    },
    {
      "cell_type": "code",
      "execution_count": 5,
      "metadata": {
        "colab": {
          "base_uri": "https://localhost:8080/",
          "height": 510
        },
        "colab_type": "code",
        "id": "pivNg2CMYQwi",
        "outputId": "4281bfb2-df6d-4958-b3e5-dd75d06f866a"
      },
      "outputs": [],
      "source": [
        "def Decoder(encoder):\n",
        "    input_layer = layers.Input(name='input', shape=(feature))\n",
        "\n",
        "    x = encoder(input_layer)\n",
        "\n",
        "    #decoder\n",
        "    y = layers.Dense(15, name='dec_dense_1')(x)\n",
        "    y = layers.ReLU(name='dec_relu_1')(y)\n",
        "\n",
        "    y = layers.Dense(20, name='dec_dense_2')(y)\n",
        "    y = layers.ReLU(name='dec_relu_2')(y)\n",
        "\n",
        "    y = layers.Dense(25, name='dec_dense_3')(y)\n",
        "    y = layers.ReLU(name='dec_relu_3')(y)\n",
        "\n",
        "    y = layers.Dense(feature, name='dec_dense_4')(y)\n",
        "    y = layers.ReLU(name='dec_relu_4')(y)\n",
        "\n",
        "    ae = keras.models.Model(inputs=input_layer, outputs=y) #Autoencoder\n",
        "    \n",
        "    return ae"
      ]
    },
    {
      "cell_type": "code",
      "execution_count": 6,
      "metadata": {},
      "outputs": [],
      "source": [
        "def Dis():\n",
        "    input_layer = layers.Input(name='input', shape=(10))\n",
        "\n",
        "    z = layers.Dense(10, name='dec_dense_1')(input_layer)\n",
        "    z = layers.ReLU(name='dec_relu_1')(z)\n",
        "\n",
        "    z = layers.Dense(10, name='dec_dense_2')(z)\n",
        "    z = layers.ReLU(name='dec_relu_2')(z)\n",
        "\n",
        "    z = layers.Dense(1, name='dec_dense_3')(z)\n",
        "    z = layers.ReLU(name='dec_relu_3')(z)\n",
        "\n",
        "    d = keras.models.Model(inputs=input_layer, outputs=z) #Discriminator\n",
        "    \n",
        "    return d"
      ]
    },
    {
      "cell_type": "code",
      "execution_count": 7,
      "metadata": {},
      "outputs": [],
      "source": [
        "def Enoder_D(encoder, d):\n",
        "    input_layer = layers.Input(name='input', shape=(feature))\n",
        "\n",
        "    enc_latent = encoder(input_layer)\n",
        "    valid = d(enc_latent)\n",
        "\n",
        "    encoder_d = keras.models.Model(inputs=input_layer, outputs=valid)\n",
        "    return encoder_d"
      ]
    },
    {
      "cell_type": "code",
      "execution_count": 8,
      "metadata": {
        "colab": {
          "base_uri": "https://localhost:8080/",
          "height": 578
        },
        "colab_type": "code",
        "id": "coa6bXCRYRG9",
        "outputId": "9554afeb-f0a2-45ad-82d0-44c0f245be5a"
      },
      "outputs": [],
      "source": [
        "def define_AAE():\n",
        "    encoder = Encoder()\n",
        "    ae = Decoder(encoder)\n",
        "    ae.compile(optimizer = 'adam',\n",
        "              loss = 'mse')\n",
        "    d = Dis()\n",
        "    d.compile(optimizer='adam',\n",
        "                      loss='binary_crossentropy',\n",
        "                      metrics=['accuracy'])\n",
        "    encoder_d = Enoder_D(encoder, d)\n",
        "    encoder_d.compile(optimizer='adam',\n",
        "                      loss='binary_crossentropy',\n",
        "                      metrics=['accuracy'])\n",
        "    \n",
        "    return encoder, ae, d, encoder_d"
      ]
    },
    {
      "cell_type": "markdown",
      "metadata": {
        "colab_type": "text",
        "id": "dxPzCEC1bFMR"
      },
      "source": [
        "# Training"
      ]
    },
    {
      "cell_type": "code",
      "execution_count": 9,
      "metadata": {},
      "outputs": [],
      "source": [
        "import numpy as np\n",
        "niter = 1000\n",
        "bz = 512"
      ]
    },
    {
      "cell_type": "code",
      "execution_count": 10,
      "metadata": {},
      "outputs": [],
      "source": [
        "def train(x_train):\n",
        "    half_bz = bz//2\n",
        "    for i in range(niter):\n",
        "        idx = np.random.randint(0, x_train.shape[0], half_bz)\n",
        "        data = x_train[idx]\n",
        "        \n",
        "        # Generate a half batch of new images\n",
        "        latent_fake = encoder.predict(data)\n",
        "        latent_real = 5*np.random.normal(size=(half_bz, 10))\n",
        "        valid = np.ones((half_bz, 1))\n",
        "        fake = np.zeros((half_bz, 1))\n",
        "        \n",
        "        ### train disciminator ###\n",
        "        d.trainable = True\n",
        "        d_loss_real = d.train_on_batch(latent_real, valid)\n",
        "        d_loss_fake = d.train_on_batch(latent_fake, fake)\n",
        "        d_loss = 0.5*np.add(d_loss_real, d_loss_fake)\n",
        "\n",
        "        ### train autoencoder ###\n",
        "        d.trainable = False \n",
        "        idx = np.random.randint(0, x_train.shape[0], bz)\n",
        "        data = x_train[idx]\n",
        "        valid_y = np.ones((bz, 1))\n",
        "        g_loss = ae.train_on_batch(data, data)\n",
        "        \n",
        "        ### train generator ###\n",
        "        g_logg_similarity = encoder_d.train_on_batch(data, valid_y)\n",
        "        \n",
        "        if i % 500 == 0:\n",
        "            print (\"%d [D loss: %f, acc: %.2f%%] [G acc: %f, mse: %f]\" % (i, d_loss[0], 100*d_loss[1],\n",
        "                    g_logg_similarity[1], g_loss))"
      ]
    },
    {
      "cell_type": "markdown",
      "metadata": {
        "colab_type": "text",
        "id": "0cHDcccacdST"
      },
      "source": [
        "# Evaluation"
      ]
    },
    {
      "cell_type": "code",
      "execution_count": 11,
      "metadata": {
        "colab": {},
        "colab_type": "code",
        "id": "UXAufnuIbuvF"
      },
      "outputs": [],
      "source": [
        "from matplotlib import pyplot as plt\n",
        "from pylab import rcParams\n",
        "from sklearn.metrics import roc_curve, roc_auc_score, precision_recall_curve, auc, average_precision_score\n",
        "from sklearn import metrics\n",
        "from sklearn.metrics import classification_report, confusion_matrix\n",
        "import seaborn as sns\n",
        "\n",
        "TPR_res, FPR_res, P_res, R_res = [], [], [], []\n",
        "AUC_res, AUPRC_res = [], []\n",
        "accuracies, fscore_res, recall_res, precision_res = [], [], [], []\n",
        "reports = []\n",
        "scores = []\n",
        "THR_opt = []\n",
        "\n",
        "def evaluation(x_test,y_test):\n",
        "    recons_x = ae.predict(x_test)\n",
        "    recons_loss = np.sum(np.square(recons_x - x_test), axis=-1)\n",
        "    #print(recons_loss)\n",
        "    print(recons_loss.shape)\n",
        "    score = recons_loss\n",
        "    score = (score - np.min(score)) / (np.max(score) - np.min(score)) # map to 0~1\n",
        "    #print(score)\n",
        "    print(score.shape)\n",
        "    score = score.reshape(len(score))\n",
        "\n",
        "    nScore, abnScore = score[y_test==0], score[y_test==1]\n",
        "    print('Scores of Normal and Abnormal:',nScore.shape,abnScore.shape)\n",
        "    scores.append([nScore,abnScore])\n",
        "\n",
        "\n",
        "    score = score.reshape(len(score))\n",
        "    fpr, tpr, threshold_auc = roc_curve(y_score=score, y_true=y_test, pos_label=1)\n",
        "    TPR_res.append(tpr)\n",
        "    FPR_res.append(fpr)\n",
        "    precision, recall, threshold_prc = precision_recall_curve(probas_pred=score, y_true=y_test, pos_label=1)\n",
        "    P_res.append(precision)\n",
        "    R_res.append(recall)\n",
        "    \n",
        "    auc_score = auc(fpr,tpr)\n",
        "    auprc_score = auc(recall, precision)\n",
        "    AUC_res.append(auc_score)\n",
        "    AUPRC_res.append(auprc_score)\n",
        "\n",
        "\n",
        "    # optimal cut off point would be where “true positive rate” is high and the “false positive rate” is low.\n",
        "    J = tpr - fpr\n",
        "    ix1 = np.argmax(J)\n",
        "    optimal_threshold = threshold_auc[ix1]\n",
        "    #optimal_threshold = sorted(list(zip(np.sqrt(tpr-fpr), threshold_auc)), key=lambda i: i[0], reverse=False)[0][1]\n",
        "    print('Optimal threshold for best AUC:',optimal_threshold, 'TPR-FPR=',J[ix1])\n",
        "\n",
        "    fscore = (2 * precision * recall) / (precision + recall)\n",
        "    ix2 = np.nanargmax(fscore)\n",
        "    optimal_prc_threshold = threshold_prc[ix2]\n",
        "    #optimal_prc_threshold = sorted(list(zip(np.abs(precision - recall), threshold_prc)), key=lambda i: i[0], reverse=False)[0][1]\n",
        "    print('Optimal threshold for best AUPRC:',optimal_prc_threshold,'f-score=', fscore[ix2])\n",
        "    \n",
        "    fscore_res.append(fscore[ix2])\n",
        "    recall_res.append(recall[ix2])\n",
        "    precision_res.append(precision[ix2])\n",
        "\n",
        "    THR_opt.append({'AUC':optimal_threshold, 'PRC':optimal_prc_threshold})\n",
        "    \n",
        "    yTest_predict = [0 if s<=optimal_prc_threshold else 1 for s in score]\n",
        "    class_report = classification_report(y_pred=yTest_predict, y_true=y_test, digits=4, output_dict=True)\n",
        "    reports.append(class_report)\n",
        "    accuracies.append(class_report['accuracy'])\n"
      ]
    },
    {
      "cell_type": "markdown",
      "metadata": {},
      "source": [
        "# K-Fold Train"
      ]
    },
    {
      "cell_type": "code",
      "execution_count": 12,
      "metadata": {},
      "outputs": [
        {
          "name": "stdout",
          "output_type": "stream",
          "text": [
            "run: 1\n",
            "train: (279395, 29) (279395,) ;  test: (5412, 29) (5412,)\n",
            "0 [D loss: 1.886749, acc: 77.34%] [G acc: 0.164062, mse: 1.077987]\n",
            "500 [D loss: 7.625053, acc: 50.00%] [G acc: 1.000000, mse: 0.946932]\n",
            "(5412,)\n",
            "(5412,)\n",
            "Scores of Normal and Abnormal: (4920,) (492,)\n",
            "Optimal threshold for best AUC: 0.00620496405335791 TPR-FPR= 0.8211382113821138\n",
            "Optimal threshold for best AUPRC: 0.012527984793199477 f-score= 0.7992007992007992\n",
            "run: 2\n",
            "train: (279395, 29) (279395,) ;  test: (5412, 29) (5412,)\n",
            "0 [D loss: 1.831845, acc: 79.88%] [G acc: 0.013672, mse: 1.069868]\n",
            "500 [D loss: 7.610178, acc: 49.80%] [G acc: 1.000000, mse: 0.704044]\n",
            "(5412,)\n",
            "(5412,)\n",
            "Scores of Normal and Abnormal: (4920,) (492,)\n",
            "Optimal threshold for best AUC: 0.0046817463894043 TPR-FPR= 0.8164634146341464\n",
            "Optimal threshold for best AUPRC: 0.011444040157450841 f-score= 0.8068068068068067\n",
            "run: 3\n",
            "train: (279395, 29) (279395,) ;  test: (5412, 29) (5412,)\n",
            "0 [D loss: 1.384368, acc: 89.06%] [G acc: 0.001953, mse: 0.954461]\n",
            "500 [D loss: 7.304973, acc: 49.41%] [G acc: 0.996094, mse: 0.670708]\n",
            "(5412,)\n",
            "(5412,)\n",
            "Scores of Normal and Abnormal: (4920,) (492,)\n",
            "Optimal threshold for best AUC: 0.004847306827056041 TPR-FPR= 0.8184959349593496\n",
            "Optimal threshold for best AUPRC: 0.01297067708377438 f-score= 0.813977389516958\n",
            "run: 4\n",
            "train: (279395, 29) (279395,) ;  test: (5412, 29) (5412,)\n",
            "0 [D loss: 5.174186, acc: 63.09%] [G acc: 0.000000, mse: 1.061615]\n",
            "500 [D loss: 7.598838, acc: 48.44%] [G acc: 1.000000, mse: 0.705750]\n",
            "(5412,)\n",
            "(5412,)\n",
            "Scores of Normal and Abnormal: (4920,) (492,)\n",
            "Optimal threshold for best AUC: 0.004578138480335362 TPR-FPR= 0.8233739837398374\n",
            "Optimal threshold for best AUPRC: 0.010701271105407232 f-score= 0.8297655453618756\n",
            "run: 5\n",
            "train: (279395, 29) (279395,) ;  test: (5412, 29) (5412,)\n",
            "0 [D loss: 7.050479, acc: 52.54%] [G acc: 0.000000, mse: 0.949997]\n",
            "500 [D loss: 7.529631, acc: 48.05%] [G acc: 0.998047, mse: 0.757602]\n",
            "(5412,)\n",
            "(5412,)\n",
            "Scores of Normal and Abnormal: (4920,) (492,)\n",
            "Optimal threshold for best AUC: 0.004439155400625046 TPR-FPR= 0.8235772357723578\n",
            "Optimal threshold for best AUPRC: 0.011926687780852378 f-score= 0.8205128205128206\n",
            "run: 6\n",
            "train: (279395, 29) (279395,) ;  test: (5412, 29) (5412,)\n",
            "0 [D loss: 3.069876, acc: 77.73%] [G acc: 0.000000, mse: 0.943668]\n",
            "500 [D loss: 0.180045, acc: 95.90%] [G acc: 0.044922, mse: 0.767130]\n",
            "(5412,)\n",
            "(5412,)\n",
            "Scores of Normal and Abnormal: (4920,) (492,)\n",
            "Optimal threshold for best AUC: 0.00696093635256687 TPR-FPR= 0.8215447154471545\n",
            "Optimal threshold for best AUPRC: 0.013422863010091324 f-score= 0.8008048289738432\n",
            "run: 7\n",
            "train: (279395, 29) (279395,) ;  test: (5412, 29) (5412,)\n",
            "0 [D loss: 4.642119, acc: 64.26%] [G acc: 0.000000, mse: 1.070318]\n",
            "500 [D loss: 7.630343, acc: 49.80%] [G acc: 1.000000, mse: 0.712641]\n",
            "(5412,)\n",
            "(5412,)\n",
            "Scores of Normal and Abnormal: (4920,) (492,)\n",
            "Optimal threshold for best AUC: 0.004735106525309721 TPR-FPR= 0.8111788617886179\n",
            "Optimal threshold for best AUPRC: 0.013261685367543076 f-score= 0.8101522842639594\n",
            "run: 8\n",
            "train: (279395, 29) (279395,) ;  test: (5412, 29) (5412,)\n",
            "0 [D loss: 7.712474, acc: 50.00%] [G acc: 0.000000, mse: 0.838683]\n",
            "500 [D loss: 7.712474, acc: 50.00%] [G acc: 0.000000, mse: 0.706261]\n",
            "(5412,)\n",
            "(5412,)\n",
            "Scores of Normal and Abnormal: (4920,) (492,)\n",
            "Optimal threshold for best AUC: 0.005963857253176956 TPR-FPR= 0.808739837398374\n",
            "Optimal threshold for best AUPRC: 0.012665584963548247 f-score= 0.7912957467853611\n",
            "run: 9\n",
            "train: (279395, 29) (279395,) ;  test: (5412, 29) (5412,)\n",
            "0 [D loss: 7.712474, acc: 50.00%] [G acc: 0.000000, mse: 1.172986]\n",
            "500 [D loss: 7.712474, acc: 50.00%] [G acc: 0.000000, mse: 0.582658]\n",
            "(5412,)\n",
            "(5412,)\n",
            "Scores of Normal and Abnormal: (4920,) (492,)\n",
            "Optimal threshold for best AUC: 0.004180621640505649 TPR-FPR= 0.8097560975609756\n",
            "Optimal threshold for best AUPRC: 0.012769513446438136 f-score= 0.792079207920792\n",
            "run: 10\n",
            "train: (279395, 29) (279395,) ;  test: (5412, 29) (5412,)\n",
            "0 [D loss: 1.869524, acc: 83.01%] [G acc: 0.000000, mse: 1.226838]\n",
            "500 [D loss: 7.631613, acc: 49.61%] [G acc: 1.000000, mse: 0.857912]\n",
            "(5412,)\n",
            "(5412,)\n",
            "Scores of Normal and Abnormal: (4920,) (492,)\n",
            "Optimal threshold for best AUC: 0.007541479464161548 TPR-FPR= 0.8093495934959349\n",
            "Optimal threshold for best AUPRC: 0.013888796448045361 f-score= 0.8078512396694215\n"
          ]
        }
      ],
      "source": [
        "TOTAL_RUN = 10\n",
        "run = 1\n",
        "\n",
        "for run in range(1,TOTAL_RUN+1):\n",
        "    encoder, ae, d, encoder_d = define_AAE()\n",
        "    \n",
        "    print('run: {!r}'.format(run))\n",
        "    datasets = np.load('data/Runs/{!s}_{!s}_Runs/Run_{!s}.npz'.format(RAT,TOTAL_RUN, run))\n",
        "    x_train, y_train = datasets['trainX'], datasets['trainY']\n",
        "    x_test, y_test = datasets['testX'], datasets['testY']\n",
        "    print('train:',x_train.shape,y_train.shape,'; ','test:',x_test.shape,y_test.shape)\n",
        "    train(x_train=x_train)\n",
        "    evaluation(x_test=x_test, y_test=y_test)\n",
        "    run+=1"
      ]
    },
    {
      "cell_type": "markdown",
      "metadata": {},
      "source": [
        "# Retrain\n",
        "* [back to model](#model)"
      ]
    },
    {
      "cell_type": "markdown",
      "metadata": {},
      "source": [
        "# AUC and PR curve"
      ]
    },
    {
      "cell_type": "code",
      "execution_count": 13,
      "metadata": {},
      "outputs": [
        {
          "name": "stdout",
          "output_type": "stream",
          "text": [
            "0.1\n"
          ]
        },
        {
          "data": {
            "image/png": "[encoded data removed]",
            "text/plain": [
              "<Figure size 432x288 with 2 Axes>"
            ]
          },
          "metadata": {
            "needs_background": "light"
          },
          "output_type": "display_data"
        },
        {
          "name": "stdout",
          "output_type": "stream",
          "text": [
            "Average AUC score =  0.9500615126578096\n",
            "Average AUPRC score =  0.815946712410488\n",
            "Average f1 score =  0.8072446669012638\n",
            "Average recall =  0.8117886178861788\n",
            "Average precision =  0.8030980990527568\n",
            "Average accuracy =  0.9645417590539541\n",
            "[{'AUC': 0.00620496405335791, 'PRC': 0.012527984793199477}, {'AUC': 0.0046817463894043, 'PRC': 0.011444040157450841}, {'AUC': 0.004847306827056041, 'PRC': 0.01297067708377438}, {'AUC': 0.004578138480335362, 'PRC': 0.010701271105407232}, {'AUC': 0.004439155400625046, 'PRC': 0.011926687780852378}, {'AUC': 0.00696093635256687, 'PRC': 0.013422863010091324}, {'AUC': 0.004735106525309721, 'PRC': 0.013261685367543076}, {'AUC': 0.005963857253176956, 'PRC': 0.012665584963548247}, {'AUC': 0.004180621640505649, 'PRC': 0.012769513446438136}, {'AUC': 0.007541479464161548, 'PRC': 0.013888796448045361}]\n"
          ]
        }
      ],
      "source": [
        "rcParams['figure.figsize'] = 20, 5\n",
        "#plot\n",
        "fig, ax=plt.subplots(1,2)\n",
        "proportion_of_abn = 152. / 1520.\n",
        "\n",
        "colors = ['orange','purple','green','lime','black','yellow','brown','pink','blue','lightblue']\n",
        "print(proportion_of_abn)\n",
        "\n",
        "\n",
        "for i in range(len(TPR_res)):\n",
        "    tpr, fpr = TPR_res[i], FPR_res[i]\n",
        "    precision, recall = P_res[i], R_res[i]\n",
        "    auc_score, auprc_score = AUC_res[i], AUPRC_res[i]\n",
        "    indicator = colors[i]\n",
        "\n",
        "    #ROC curve\n",
        "    ax[0].plot(fpr, tpr, color = indicator, label = '%0.4f' % auc_score)\n",
        "    ax[0].legend(loc = 'lower right')\n",
        "\n",
        "    #PR curve\n",
        "    ax[1].plot(recall, precision, color = indicator, label='%0.4f' % auprc_score)\n",
        "    ax[1].legend(loc = 'lower right')\n",
        "    \n",
        "\n",
        "\n",
        "ax[0].set_title('Receiver Operating Characteristic')\n",
        "ax[0].plot([0, 1], [0, 1],'r--')\n",
        "ax[0].set_xlim([0, 1])\n",
        "ax[0].set_ylim([0, 1])\n",
        "ax[0].set_ylabel('True Positive Rate')\n",
        "ax[0].set_xlabel('False Positive Rate')\n",
        "\n",
        "ax[1].set_title('Precision-Recall Curve')\n",
        "ax[1].plot([0, 1], [proportion_of_abn, proportion_of_abn],'r--')\n",
        "ax[1].plot([0, 1], [proportion_of_abn, proportion_of_abn],'r--')\n",
        "ax[1].set_xlim([0, 1])\n",
        "ax[1].set_ylim([0, 1])\n",
        "ax[1].set_ylabel('Precision')\n",
        "ax[1].set_xlabel('Recall')\n",
        "plt.show()\n",
        "\n",
        "#calculate average AUC and AUPRC score\n",
        "print('Average AUC score = ',sum(AUC_res) / TOTAL_RUN)\n",
        "print('Average AUPRC score = ',sum(AUPRC_res) / TOTAL_RUN)\n",
        "print('Average f1 score = ',sum(fscore_res) / TOTAL_RUN)\n",
        "print('Average recall = ',sum(recall_res) / TOTAL_RUN)\n",
        "print('Average precision = ',sum(precision_res) / TOTAL_RUN)\n",
        "print('Average accuracy = ', sum(accuracies)/TOTAL_RUN)\n",
        "\n",
        "print(THR_opt)\n",
        "\n",
        "#print optnimal thresholds of 10 folds\n",
        "#print(THR_opt)"
      ]
    },
    {
      "cell_type": "code",
      "execution_count": 14,
      "metadata": {},
      "outputs": [],
      "source": [
        "TPR_maxlen = FPR_maxlen = P_maxlen = R_maxlen = 0\n",
        "\n",
        "for i in range(len(TPR_res)):\n",
        "    if TPR_maxlen < len(TPR_res[i]): TPR_maxlen = len(TPR_res[i])\n",
        "    if FPR_maxlen < len(FPR_res[i]): FPR_maxlen = len(FPR_res[i])\n",
        "    if P_maxlen < len(P_res[i]): P_maxlen = len(P_res[i])\n",
        "    if R_maxlen < len(R_res[i]): R_maxlen = len(R_res[i])\n",
        "\n",
        "def AddOn(addTo,data,row, dataLen):\n",
        "    tmp = data[0]\n",
        "    for i in range(dataLen):\n",
        "        if i<len(data[row]) and data[row][i] is not np.nan: tmp = data[row][i]\n",
        "        addTo[i]+=tmp\n",
        "\n",
        "def AVG(data):\n",
        "    return (data / TOTAL_RUN).tolist()\n",
        "TPR_avg, FPR_avg, P_avg, R_avg = np.zeros((TPR_maxlen)), np.zeros((FPR_maxlen)), np.zeros((P_maxlen)), np.zeros((R_maxlen))\n",
        "\n",
        "for i in range(len(TPR_res)):\n",
        "    AddOn(TPR_avg, TPR_res, i, TPR_maxlen)\n",
        "    AddOn(FPR_avg, FPR_res, i, FPR_maxlen)\n",
        "    AddOn(P_avg, P_res, i, P_maxlen)\n",
        "    AddOn(R_avg, R_res, i, R_maxlen)\n",
        "    \n",
        "TPR_avg, FPR_avg, P_avg, R_avg = AVG(TPR_avg), AVG(FPR_avg), AVG(P_avg), AVG(R_avg)"
      ]
    },
    {
      "attachments": {},
      "cell_type": "markdown",
      "metadata": {},
      "source": [
        "# Save Result to json"
      ]
    },
    {
      "cell_type": "code",
      "execution_count": 15,
      "metadata": {},
      "outputs": [],
      "source": [
        "import json\n",
        "\n",
        "with open('data/Runs/{!s}_{!s}_Runs/result.json'.format(RAT,TOTAL_RUN, run), \"r\", encoding='utf-8') as jsonFile:\n",
        "    data = json.load(jsonFile)\n",
        "\n",
        "with open('data/Runs/{!s}_{!s}_Runs/result.json'.format(RAT,TOTAL_RUN, run), 'w', encoding='utf-8') as jsonFile:\n",
        "    data['AAE'] = {\n",
        "            'AUC': AUC_res,\n",
        "            'AUPRC': AUPRC_res,\n",
        "            'Fscore': fscore_res,\n",
        "            'Recall': recall_res,\n",
        "            'Precision': precision_res,\n",
        "            'Accuracy': accuracies,\n",
        "            'THR_opt': THR_opt,\n",
        "            'AVG': {\n",
        "                'TPR': TPR_avg,\n",
        "                'FPR': FPR_avg,\n",
        "                'P': P_avg,\n",
        "                'R': R_avg\n",
        "            }\n",
        "        }\n",
        "    \n",
        "    json.dump(data, jsonFile, ensure_ascii=False)"
      ]
    },
    {
      "cell_type": "markdown",
      "metadata": {},
      "source": [
        "# End of Jupyter\n",
        "* [To top](#common-link)"
      ]
    }
  ],
  "metadata": {
    "accelerator": "GPU",
    "colab": {
      "name": "ganomaly",
      "provenance": [],
      "version": "0.3.2"
    },
    "kernelspec": {
      "display_name": "Python 3.8.3 ('base')",
      "language": "python",
      "name": "python3"
    },
    "language_info": {
      "codemirror_mode": {
        "name": "ipython",
        "version": 3
      },
      "file_extension": ".py",
      "mimetype": "text/x-python",
      "name": "python",
      "nbconvert_exporter": "python",
      "pygments_lexer": "ipython3",
      "version": "3.8.3"
    },
    "vscode": {
      "interpreter": {
        "hash": "ad2bdc8ecc057115af97d19610ffacc2b4e99fae6737bb82f5d7fb13d2f2c186"
      }
    }
  },
  "nbformat": 4,
  "nbformat_minor": 0
}
