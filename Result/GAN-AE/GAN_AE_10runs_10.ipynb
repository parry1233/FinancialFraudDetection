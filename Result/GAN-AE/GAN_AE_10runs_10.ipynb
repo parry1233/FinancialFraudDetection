{
  "cells": [
    {
      "cell_type": "markdown",
      "metadata": {},
      "source": [
        "# Common link\n",
        "* [Load Data](#load-data)\n",
        "* [Split Data](#split-dataset)\n",
        "* [Model](#model)\n",
        "* [Evaluation](#evaluation)"
      ]
    },
    {
      "cell_type": "code",
      "execution_count": 1,
      "metadata": {},
      "outputs": [],
      "source": [
        "feature = 29"
      ]
    },
    {
      "cell_type": "markdown",
      "metadata": {},
      "source": [
        "# Model"
      ]
    },
    {
      "cell_type": "code",
      "execution_count": 2,
      "metadata": {
        "colab": {
          "base_uri": "https://localhost:8080/",
          "height": 34
        },
        "colab_type": "code",
        "id": "_fOFzTCbXTfi",
        "outputId": "4e0db446-6657-442e-a7e5-f81c198d1dee"
      },
      "outputs": [],
      "source": [
        "from tensorflow.keras import layers\n",
        "import tensorflow.keras as keras\n",
        "import tensorflow.keras.backend as K"
      ]
    },
    {
      "cell_type": "code",
      "execution_count": 3,
      "metadata": {},
      "outputs": [],
      "source": [
        "ae = None\n",
        "d = None\n",
        "RAT = 10"
      ]
    },
    {
      "cell_type": "code",
      "execution_count": 4,
      "metadata": {
        "colab": {
          "base_uri": "https://localhost:8080/",
          "height": 819
        },
        "colab_type": "code",
        "id": "6SSgbWtgYFge",
        "outputId": "ffb3b7cc-871f-4ef6-b1cb-6f2eb6193249"
      },
      "outputs": [],
      "source": [
        "def Autoencoder():\n",
        "    input_layer = layers.Input(name='input', shape=(feature))\n",
        "    #x = layers.Reshape((height, width, channels), name='ge_reshape')(input_layer)\n",
        "\n",
        "    # Encoder\n",
        "    x = layers.Dense(25, name='e_dense_1')(input_layer)\n",
        "    x = layers.ReLU(name='e_relu_1')(x)\n",
        "\n",
        "    x = layers.Dense(20, name='e_dense_2')(x)\n",
        "    x = layers.ReLU(name='e_relu_2')(x)\n",
        "\n",
        "    x = layers.Dense(15, name='e_dense_3')(x)\n",
        "    x = layers.ReLU(name='e_relu_3')(x)\n",
        "\n",
        "    x = layers.Dense(10, name='e_dense_4')(x)\n",
        "    x = layers.ReLU(name='e_relu_4')(x)\n",
        "\n",
        "    #decoder\n",
        "    y = layers.Dense(15, name='dec_dense_1')(x)\n",
        "    y = layers.ReLU(name='dec_relu_1')(y)\n",
        "\n",
        "    y = layers.Dense(20, name='dec_dense_2')(y)\n",
        "    y = layers.ReLU(name='dec_relu_2')(y)\n",
        "\n",
        "    y = layers.Dense(25, name='dec_dense_3')(y)\n",
        "    y = layers.ReLU(name='dec_relu_3')(y)\n",
        "\n",
        "    y = layers.Dense(feature, name='dec_dense_4')(y)\n",
        "    y = layers.ReLU(name='dec_relu_4')(y)\n",
        "\n",
        "    ae = keras.models.Model(inputs=input_layer, outputs=y) #Autoencoder\n",
        "    \n",
        "    return ae\n"
      ]
    },
    {
      "cell_type": "code",
      "execution_count": 5,
      "metadata": {},
      "outputs": [],
      "source": [
        "def discriminator():\n",
        "    input_layer = layers.Input(name='input', shape=(feature))\n",
        "\n",
        "    z = layers.Dense(25, name='dec_dense_1')(input_layer)\n",
        "    z = layers.ReLU(name='dec_relu_1')(z)\n",
        "\n",
        "    z = layers.Dense(20, name='dec_dense_2')(z)\n",
        "    z = layers.ReLU(name='dec_relu_2')(z)\n",
        "\n",
        "    z = layers.Dense(15, name='dec_dense_3')(z)\n",
        "    z = layers.ReLU(name='dec_relu_3')(z)\n",
        "\n",
        "    z = layers.Dense(10, name='dec_dense_4')(z)\n",
        "    z = layers.ReLU(name='dec_relu_4')(z)\n",
        "\n",
        "    z = layers.Dense(1, name='dec_dense_5')(z)\n",
        "    z = layers.ReLU(name='dec_relu_5')(z)\n",
        "\n",
        "    d = keras.models.Model(inputs=input_layer, outputs=z) #Discriminator\n",
        "\n",
        "    d.compile(optimizer='adam',\n",
        "                        loss='binary_crossentropy',\n",
        "                        metrics=['accuracy'])\n",
        "    \n",
        "    return d"
      ]
    },
    {
      "cell_type": "markdown",
      "metadata": {
        "colab_type": "text",
        "id": "dxPzCEC1bFMR"
      },
      "source": [
        "# Training"
      ]
    },
    {
      "cell_type": "code",
      "execution_count": 6,
      "metadata": {},
      "outputs": [],
      "source": [
        "import numpy as np"
      ]
    },
    {
      "cell_type": "code",
      "execution_count": 7,
      "metadata": {},
      "outputs": [],
      "source": [
        "def train_1(x_train, niter=50,bz=512):\n",
        "    ae.compile(optimizer = 'adam',\n",
        "              loss = 'mse')\n",
        "    history = ae.fit(x_train,x_train,\n",
        "                    epochs = niter,\n",
        "                    batch_size = bz,\n",
        "                    validation_split=0.2,\n",
        "                    verbose = 0\n",
        "                    )"
      ]
    },
    {
      "cell_type": "code",
      "execution_count": 8,
      "metadata": {},
      "outputs": [],
      "source": [
        "def train_2(x_train, niter=500, bz=512):\n",
        "    ae.compile(optimizer = 'adam',\n",
        "              loss = 'binary_crossentropy',\n",
        "              metrics=['accuracy'])\n",
        "    \n",
        "    half_bz = bz//2\n",
        "    for i in range(niter):\n",
        "        idx = np.random.randint(0, x_train.shape[0], half_bz)\n",
        "        data = x_train[idx]\n",
        "        \n",
        "        # Generate a half batch of new images\n",
        "        recons = ae.predict(data)\n",
        "        valid = np.ones((half_bz, 1)) # for data\n",
        "        fake = np.zeros((half_bz, 1)) # for recons\n",
        "        \n",
        "        ### train disciminator ###\n",
        "        d.trainable = True\n",
        "        d_loss_real = d.train_on_batch(data, valid)\n",
        "        d_loss_fake = d.train_on_batch(recons, fake)\n",
        "        d_loss = 0.5*np.add(d_loss_real, d_loss_fake)\n",
        "\n",
        "        ### train autoencoder ###\n",
        "        d.trainable = False \n",
        "        idx = np.random.randint(0, x_train.shape[0], bz)\n",
        "        data = x_train[idx]\n",
        "        valid_y = np.ones((bz, 1))\n",
        "        g_loss = ae.train_on_batch(ae.predict(data), valid_y)\n",
        "        \n",
        "        if i % 50 == 0:\n",
        "            print (\"%d [D loss: %f, acc: %.2f%%] [G loss: %f, acc: %f]\" % (i, d_loss[0], 100*d_loss[1],\n",
        "                    g_loss[0], 100*g_loss[1]))"
      ]
    },
    {
      "cell_type": "markdown",
      "metadata": {
        "colab_type": "text",
        "id": "0cHDcccacdST"
      },
      "source": [
        "# Evaluation"
      ]
    },
    {
      "cell_type": "code",
      "execution_count": 9,
      "metadata": {
        "colab": {},
        "colab_type": "code",
        "id": "UXAufnuIbuvF"
      },
      "outputs": [],
      "source": [
        "from matplotlib import pyplot as plt\n",
        "from pylab import rcParams\n",
        "from sklearn.metrics import roc_curve, roc_auc_score, precision_recall_curve, auc, average_precision_score\n",
        "from sklearn import metrics\n",
        "from sklearn.metrics import classification_report, confusion_matrix\n",
        "import seaborn as sns\n",
        "\n",
        "TPR_res, FPR_res, P_res, R_res = [], [], [], []\n",
        "AUC_res, AUPRC_res = [], []\n",
        "accuracies, fscore_res, recall_res, precision_res = [], [], [], []\n",
        "reports = []\n",
        "scores = []\n",
        "THR_opt = []\n",
        "\n",
        "def evaluation(x_test,y_test):\n",
        "    recons_x = ae.predict(x_test)\n",
        "    recons_loss = np.sum(np.square(recons_x - x_test), axis=-1)\n",
        "    #print(recons_loss)\n",
        "    print(recons_loss.shape)\n",
        "    score = recons_loss\n",
        "    score = (score - np.min(score)) / (np.max(score) - np.min(score)) # map to 0~1\n",
        "    #print(score)\n",
        "    print(score.shape)\n",
        "    score = score.reshape(len(score))\n",
        "\n",
        "    nScore, abnScore = score[y_test==0], score[y_test==1]\n",
        "    print('Scores of Normal and Abnormal:',nScore.shape,abnScore.shape)\n",
        "    scores.append([nScore,abnScore])\n",
        "\n",
        "\n",
        "    score = score.reshape(len(score))\n",
        "    fpr, tpr, threshold_auc = roc_curve(y_score=score, y_true=y_test, pos_label=1)\n",
        "    TPR_res.append(tpr)\n",
        "    FPR_res.append(fpr)\n",
        "    precision, recall, threshold_prc = precision_recall_curve(probas_pred=score, y_true=y_test, pos_label=1)\n",
        "    P_res.append(precision)\n",
        "    R_res.append(recall)\n",
        "\n",
        "    auc_score = auc(fpr,tpr)\n",
        "    auprc_score = auc(recall, precision)\n",
        "    AUC_res.append(auc_score)\n",
        "    AUPRC_res.append(auprc_score)\n",
        "\n",
        "\n",
        "    # optimal cut off point would be where “true positive rate” is high and the “false positive rate” is low.\n",
        "    J = tpr - fpr\n",
        "    ix1 = np.argmax(J)\n",
        "    optimal_threshold = threshold_auc[ix1]\n",
        "    #optimal_threshold = sorted(list(zip(np.sqrt(tpr-fpr), threshold_auc)), key=lambda i: i[0], reverse=False)[0][1]\n",
        "    print('Optimal threshold for best AUC:',optimal_threshold, 'TPR-FPR=',J[ix1])\n",
        "\n",
        "    fscore = (2 * precision * recall) / (precision + recall)\n",
        "    ix2 = np.nanargmax(fscore)\n",
        "    optimal_prc_threshold = threshold_prc[ix2]\n",
        "    #optimal_prc_threshold = sorted(list(zip(np.abs(precision - recall), threshold_prc)), key=lambda i: i[0], reverse=False)[0][1]\n",
        "    print('Optimal threshold for best AUPRC:',optimal_prc_threshold,'f-score=', fscore[ix2])\n",
        "    \n",
        "    fscore_res.append(fscore[ix2])\n",
        "    recall_res.append(recall[ix2])\n",
        "    precision_res.append(precision[ix2])\n",
        "\n",
        "    THR_opt.append({'AUC':optimal_threshold, 'PRC':optimal_prc_threshold})\n",
        "    \n",
        "    yTest_predict = [0 if s<=optimal_prc_threshold else 1 for s in score]\n",
        "    class_report = classification_report(y_pred=yTest_predict, y_true=y_test, digits=4, output_dict=True)\n",
        "    reports.append(class_report)\n",
        "    accuracies.append(class_report['accuracy'])\n"
      ]
    },
    {
      "cell_type": "markdown",
      "metadata": {},
      "source": [
        "# K-Fold Train"
      ]
    },
    {
      "cell_type": "code",
      "execution_count": 10,
      "metadata": {},
      "outputs": [
        {
          "name": "stdout",
          "output_type": "stream",
          "text": [
            "run: 1\n",
            "train: (279395, 29) (279395,) ;  test: (5412, 29) (5412,)\n",
            "0 [D loss: 5.586372, acc: 50.00%] [G loss: 10.944408, acc: 5.859375]\n",
            "50 [D loss: 0.392496, acc: 76.76%] [G loss: 5.998460, acc: 0.000000]\n",
            "100 [D loss: 0.061232, acc: 97.46%] [G loss: 5.083837, acc: 5.859375]\n",
            "150 [D loss: 0.010253, acc: 100.00%] [G loss: 5.050335, acc: 7.226562]\n",
            "200 [D loss: 0.006670, acc: 100.00%] [G loss: 4.787053, acc: 0.000000]\n",
            "250 [D loss: 0.000606, acc: 100.00%] [G loss: 4.787053, acc: 0.000000]\n",
            "300 [D loss: 0.000812, acc: 100.00%] [G loss: 4.787053, acc: 0.000000]\n",
            "350 [D loss: 0.000158, acc: 100.00%] [G loss: 4.787053, acc: 0.000000]\n",
            "400 [D loss: 0.000000, acc: 100.00%] [G loss: 4.787053, acc: 0.000000]\n",
            "450 [D loss: 0.000000, acc: 100.00%] [G loss: 4.787053, acc: 0.000000]\n",
            "(5412,)\n",
            "(5412,)\n",
            "Scores of Normal and Abnormal: (4920,) (492,)\n",
            "Optimal threshold for best AUC: 0.014623780095118392 TPR-FPR= 0.6010162601626016\n",
            "Optimal threshold for best AUPRC: 0.028349724244141068 f-score= 0.5652173913043479\n",
            "run: 2\n",
            "train: (279395, 29) (279395,) ;  test: (5412, 29) (5412,)\n",
            "0 [D loss: 2.289899, acc: 51.76%] [G loss: 10.976673, acc: 0.000000]\n",
            "50 [D loss: 0.088385, acc: 98.24%] [G loss: 6.931716, acc: 0.000000]\n",
            "100 [D loss: 0.004287, acc: 100.00%] [G loss: 6.383888, acc: 0.000000]\n",
            "150 [D loss: 0.003812, acc: 99.80%] [G loss: 6.383776, acc: 0.000000]\n",
            "200 [D loss: 0.001624, acc: 100.00%] [G loss: 6.382743, acc: 0.000000]\n",
            "250 [D loss: 0.001484, acc: 100.00%] [G loss: 6.382737, acc: 0.000000]\n",
            "300 [D loss: 0.000000, acc: 100.00%] [G loss: 6.382737, acc: 0.000000]\n",
            "350 [D loss: 0.000000, acc: 100.00%] [G loss: 6.382737, acc: 0.000000]\n",
            "400 [D loss: 0.000000, acc: 100.00%] [G loss: 6.382737, acc: 0.000000]\n",
            "450 [D loss: 0.000192, acc: 100.00%] [G loss: 6.382737, acc: 0.000000]\n",
            "(5412,)\n",
            "(5412,)\n",
            "Scores of Normal and Abnormal: (4920,) (492,)\n",
            "Optimal threshold for best AUC: 0.03241387655339871 TPR-FPR= 0.8030487804878049\n",
            "Optimal threshold for best AUPRC: 0.05558621394831719 f-score= 0.7611607142857143\n",
            "run: 3\n",
            "train: (279395, 29) (279395,) ;  test: (5412, 29) (5412,)\n",
            "0 [D loss: 6.250774, acc: 50.00%] [G loss: 10.441063, acc: 6.250000]\n",
            "50 [D loss: 0.357098, acc: 77.54%] [G loss: 5.824861, acc: 0.000000]\n",
            "100 [D loss: 0.005052, acc: 100.00%] [G loss: 5.321354, acc: 0.000000]\n",
            "150 [D loss: 0.004401, acc: 100.00%] [G loss: 5.318973, acc: 0.000000]\n",
            "200 [D loss: 0.000576, acc: 100.00%] [G loss: 5.320016, acc: 0.000000]\n",
            "250 [D loss: 0.000000, acc: 100.00%] [G loss: 5.318982, acc: 0.000000]\n",
            "300 [D loss: 0.000363, acc: 100.00%] [G loss: 5.319986, acc: 0.000000]\n",
            "350 [D loss: 0.000154, acc: 100.00%] [G loss: 5.318969, acc: 0.000000]\n",
            "400 [D loss: 0.000199, acc: 100.00%] [G loss: 5.318947, acc: 0.000000]\n",
            "450 [D loss: 0.000263, acc: 100.00%] [G loss: 5.318947, acc: 0.000000]\n",
            "(5412,)\n",
            "(5412,)\n",
            "Scores of Normal and Abnormal: (4920,) (492,)\n",
            "Optimal threshold for best AUC: 0.013905941374063334 TPR-FPR= 0.8016260162601626\n",
            "Optimal threshold for best AUPRC: 0.031759754162786896 f-score= 0.7067833698030636\n",
            "run: 4\n",
            "train: (279395, 29) (279395,) ;  test: (5412, 29) (5412,)\n",
            "0 [D loss: 0.841024, acc: 63.28%] [G loss: 11.404022, acc: 11.328125]\n",
            "50 [D loss: 0.014254, acc: 99.80%] [G loss: 6.471589, acc: 0.000000]\n",
            "100 [D loss: 0.002042, acc: 100.00%] [G loss: 6.382942, acc: 0.000000]\n",
            "150 [D loss: 0.000338, acc: 100.00%] [G loss: 6.382747, acc: 0.000000]\n",
            "200 [D loss: 0.002153, acc: 99.80%] [G loss: 6.382751, acc: 0.000000]\n",
            "250 [D loss: 0.000024, acc: 100.00%] [G loss: 6.382754, acc: 0.000000]\n",
            "300 [D loss: 0.000135, acc: 100.00%] [G loss: 6.382740, acc: 0.000000]\n",
            "350 [D loss: 0.000000, acc: 100.00%] [G loss: 6.382737, acc: 0.000000]\n",
            "400 [D loss: 0.000000, acc: 100.00%] [G loss: 6.382737, acc: 0.000000]\n",
            "450 [D loss: 0.000007, acc: 100.00%] [G loss: 6.382748, acc: 0.000000]\n",
            "(5412,)\n",
            "(5412,)\n",
            "Scores of Normal and Abnormal: (4920,) (492,)\n",
            "Optimal threshold for best AUC: 0.017003098068840105 TPR-FPR= 0.6554878048780488\n",
            "Optimal threshold for best AUPRC: 0.03530097190088256 f-score= 0.6311300639658849\n",
            "run: 5\n",
            "train: (279395, 29) (279395,) ;  test: (5412, 29) (5412,)\n",
            "0 [D loss: 5.130418, acc: 50.20%] [G loss: 11.637448, acc: 4.101562]\n",
            "50 [D loss: 0.158128, acc: 91.02%] [G loss: 5.580291, acc: 0.000000]\n",
            "100 [D loss: 0.070526, acc: 99.02%] [G loss: 5.323071, acc: 0.000000]\n",
            "150 [D loss: 0.011333, acc: 100.00%] [G loss: 5.319270, acc: 0.000000]\n",
            "200 [D loss: 0.003950, acc: 100.00%] [G loss: 5.320036, acc: 0.000000]\n",
            "250 [D loss: 0.005590, acc: 100.00%] [G loss: 5.319098, acc: 0.000000]\n",
            "300 [D loss: 0.000585, acc: 100.00%] [G loss: 5.317933, acc: 0.000000]\n",
            "350 [D loss: 0.001885, acc: 100.00%] [G loss: 5.283051, acc: 0.000000]\n",
            "400 [D loss: 0.001248, acc: 100.00%] [G loss: 5.318947, acc: 0.000000]\n",
            "450 [D loss: 0.000000, acc: 100.00%] [G loss: 5.318947, acc: 0.000000]\n",
            "(5412,)\n",
            "(5412,)\n",
            "Scores of Normal and Abnormal: (4920,) (492,)\n",
            "Optimal threshold for best AUC: 0.017830781784833175 TPR-FPR= 0.6176829268292683\n",
            "Optimal threshold for best AUPRC: 0.03479938062342405 f-score= 0.5810968494749125\n",
            "run: 6\n",
            "train: (279395, 29) (279395,) ;  test: (5412, 29) (5412,)\n"
          ]
        },
        {
          "name": "stderr",
          "output_type": "stream",
          "text": [
            "<ipython-input-9-de172d5afa3b>:52: RuntimeWarning: invalid value encountered in true_divide\n",
            "  fscore = (2 * precision * recall) / (precision + recall)\n"
          ]
        },
        {
          "name": "stdout",
          "output_type": "stream",
          "text": [
            "0 [D loss: 0.975239, acc: 57.81%] [G loss: 11.858102, acc: 7.031250]\n",
            "50 [D loss: 0.041709, acc: 99.02%] [G loss: 6.913693, acc: 0.000000]\n",
            "100 [D loss: 0.002456, acc: 100.00%] [G loss: 6.912874, acc: 0.000000]\n",
            "150 [D loss: 0.001574, acc: 100.00%] [G loss: 5.964771, acc: 0.000000]\n",
            "200 [D loss: 0.000000, acc: 100.00%] [G loss: 5.850952, acc: 0.000000]\n",
            "250 [D loss: 0.000248, acc: 100.00%] [G loss: 5.850884, acc: 0.000000]\n",
            "300 [D loss: 0.000000, acc: 100.00%] [G loss: 5.850848, acc: 0.000000]\n",
            "350 [D loss: 0.000000, acc: 100.00%] [G loss: 5.850856, acc: 0.000000]\n",
            "400 [D loss: 0.000000, acc: 100.00%] [G loss: 5.850890, acc: 0.000000]\n",
            "450 [D loss: 0.000000, acc: 100.00%] [G loss: 5.850848, acc: 0.000000]\n",
            "(5412,)\n",
            "(5412,)\n",
            "Scores of Normal and Abnormal: (4920,) (492,)\n",
            "Optimal threshold for best AUC: 0.010845947041773189 TPR-FPR= 0.5861788617886179\n",
            "Optimal threshold for best AUPRC: 0.02330282069844308 f-score= 0.48665297741273095\n",
            "run: 7\n",
            "train: (279395, 29) (279395,) ;  test: (5412, 29) (5412,)\n",
            "0 [D loss: 1.258496, acc: 50.98%] [G loss: 12.054202, acc: 4.882812]\n",
            "50 [D loss: 0.114367, acc: 99.22%] [G loss: 7.627987, acc: 0.000000]\n",
            "100 [D loss: 0.005196, acc: 100.00%] [G loss: 7.454403, acc: 0.000000]\n",
            "150 [D loss: 0.001479, acc: 100.00%] [G loss: 7.447940, acc: 0.000000]\n",
            "200 [D loss: 0.000104, acc: 100.00%] [G loss: 7.448005, acc: 0.000000]\n",
            "250 [D loss: 0.000928, acc: 100.00%] [G loss: 7.446789, acc: 0.000000]\n",
            "300 [D loss: 0.000824, acc: 100.00%] [G loss: 7.446624, acc: 0.000000]\n",
            "350 [D loss: 0.000000, acc: 100.00%] [G loss: 7.446600, acc: 0.000000]\n",
            "400 [D loss: 0.000000, acc: 100.00%] [G loss: 7.446548, acc: 0.000000]\n",
            "450 [D loss: 0.000186, acc: 100.00%] [G loss: 7.446650, acc: 0.000000]\n",
            "(5412,)\n",
            "(5412,)\n",
            "Scores of Normal and Abnormal: (4920,) (492,)\n",
            "Optimal threshold for best AUC: 0.018223377962961484 TPR-FPR= 0.6707317073170731\n",
            "Optimal threshold for best AUPRC: 0.03383069727004589 f-score= 0.604\n",
            "run: 8\n",
            "train: (279395, 29) (279395,) ;  test: (5412, 29) (5412,)\n",
            "0 [D loss: 2.072777, acc: 54.88%] [G loss: 10.833746, acc: 6.250000]\n",
            "50 [D loss: 0.428343, acc: 81.84%] [G loss: 5.776564, acc: 0.000000]\n",
            "100 [D loss: 0.043515, acc: 99.22%] [G loss: 5.325236, acc: 0.000000]\n",
            "150 [D loss: 0.013699, acc: 99.80%] [G loss: 4.799709, acc: 0.000000]\n",
            "200 [D loss: 0.031984, acc: 99.80%] [G loss: 4.791719, acc: 0.000000]\n",
            "250 [D loss: 0.000595, acc: 100.00%] [G loss: 4.788137, acc: 0.000000]\n",
            "300 [D loss: 0.000575, acc: 100.00%] [G loss: 4.787210, acc: 0.000000]\n",
            "350 [D loss: 0.002110, acc: 99.80%] [G loss: 4.790223, acc: 0.000000]\n",
            "400 [D loss: 0.000119, acc: 100.00%] [G loss: 4.788246, acc: 0.000000]\n",
            "450 [D loss: 0.001500, acc: 99.80%] [G loss: 4.788187, acc: 0.000000]\n",
            "(5412,)\n",
            "(5412,)\n",
            "Scores of Normal and Abnormal: (4920,) (492,)\n",
            "Optimal threshold for best AUC: 0.018741886620696778 TPR-FPR= 0.8357723577235773\n",
            "Optimal threshold for best AUPRC: 0.028798450676183432 f-score= 0.7960199004975125\n",
            "run: 9\n",
            "train: (279395, 29) (279395,) ;  test: (5412, 29) (5412,)\n",
            "0 [D loss: 1.755578, acc: 50.78%] [G loss: 11.705605, acc: 6.445312]\n",
            "50 [D loss: 0.264419, acc: 92.77%] [G loss: 5.015312, acc: 0.000000]\n",
            "100 [D loss: 0.011424, acc: 99.41%] [G loss: 4.808861, acc: 0.000000]\n",
            "150 [D loss: 0.008099, acc: 99.80%] [G loss: 4.787702, acc: 0.000000]\n",
            "200 [D loss: 0.000565, acc: 100.00%] [G loss: 4.787439, acc: 0.000000]\n",
            "250 [D loss: 0.000708, acc: 100.00%] [G loss: 4.787205, acc: 0.000000]\n",
            "300 [D loss: 0.000180, acc: 100.00%] [G loss: 4.787263, acc: 0.000000]\n",
            "350 [D loss: 0.000390, acc: 100.00%] [G loss: 4.787084, acc: 0.000000]\n",
            "400 [D loss: 0.000000, acc: 100.00%] [G loss: 4.787116, acc: 0.000000]\n",
            "450 [D loss: 0.000000, acc: 100.00%] [G loss: 4.787053, acc: 0.000000]\n",
            "(5412,)\n",
            "(5412,)\n",
            "Scores of Normal and Abnormal: (4920,) (492,)\n",
            "Optimal threshold for best AUC: 0.008808810429168604 TPR-FPR= 0.7371951219512195\n",
            "Optimal threshold for best AUPRC: 0.01732543169190154 f-score= 0.6758620689655171\n",
            "run: 10\n",
            "train: (279395, 29) (279395,) ;  test: (5412, 29) (5412,)\n"
          ]
        },
        {
          "name": "stderr",
          "output_type": "stream",
          "text": [
            "<ipython-input-9-de172d5afa3b>:52: RuntimeWarning: invalid value encountered in true_divide\n",
            "  fscore = (2 * precision * recall) / (precision + recall)\n"
          ]
        },
        {
          "name": "stdout",
          "output_type": "stream",
          "text": [
            "0 [D loss: 2.793495, acc: 50.78%] [G loss: 10.752302, acc: 7.421875]\n",
            "50 [D loss: 0.085142, acc: 97.27%] [G loss: 3.296192, acc: 0.000000]\n",
            "100 [D loss: 0.006038, acc: 100.00%] [G loss: 2.695658, acc: 0.000000]\n",
            "150 [D loss: 0.000550, acc: 100.00%] [G loss: 2.659477, acc: 0.000000]\n",
            "200 [D loss: 0.000000, acc: 100.00%] [G loss: 2.659514, acc: 0.000000]\n",
            "250 [D loss: 0.001005, acc: 100.00%] [G loss: 2.659474, acc: 0.000000]\n",
            "300 [D loss: 0.000456, acc: 100.00%] [G loss: 2.659474, acc: 0.000000]\n",
            "350 [D loss: 0.000000, acc: 100.00%] [G loss: 2.659504, acc: 0.000000]\n",
            "400 [D loss: 0.000651, acc: 100.00%] [G loss: 2.659474, acc: 0.000000]\n",
            "450 [D loss: 0.000000, acc: 100.00%] [G loss: 2.659479, acc: 0.000000]\n",
            "(5412,)\n",
            "(5412,)\n",
            "Scores of Normal and Abnormal: (4920,) (492,)\n",
            "Optimal threshold for best AUC: 0.01009316450420745 TPR-FPR= 0.7780487804878049\n",
            "Optimal threshold for best AUPRC: 0.015619407083447069 f-score= 0.7221664994984955\n"
          ]
        }
      ],
      "source": [
        "TOTAL_RUN = 10\n",
        "run = 1\n",
        "\n",
        "for run in range(1,TOTAL_RUN+1):\n",
        "    ae = Autoencoder()\n",
        "    \n",
        "    print('run: {!r}'.format(run))\n",
        "    datasets = np.load('data/Runs/{!s}_{!s}_Runs/Run_{!s}.npz'.format(RAT,TOTAL_RUN, run))\n",
        "    x_train, y_train = datasets['trainX'], datasets['trainY']\n",
        "    x_test, y_test = datasets['testX'], datasets['testY']\n",
        "    print('train:',x_train.shape,y_train.shape,'; ','test:',x_test.shape,y_test.shape)\n",
        "    \n",
        "    train_1(x_train=x_train)\n",
        "    \n",
        "    d = discriminator()\n",
        "    train_2(x_train=x_train)\n",
        "    \n",
        "    evaluation(x_test=x_test, y_test=y_test)\n",
        "    run+=1"
      ]
    },
    {
      "cell_type": "markdown",
      "metadata": {},
      "source": [
        "# Retrain\n",
        "* [back to model](#model)"
      ]
    },
    {
      "cell_type": "markdown",
      "metadata": {},
      "source": [
        "# AUC and PR curve"
      ]
    },
    {
      "cell_type": "code",
      "execution_count": 11,
      "metadata": {},
      "outputs": [
        {
          "name": "stdout",
          "output_type": "stream",
          "text": [
            "0.5\n"
          ]
        },
        {
          "data": {
            "image/png": "[encoded data removed]",
            "text/plain": [
              "<Figure size 432x288 with 2 Axes>"
            ]
          },
          "metadata": {
            "needs_background": "light"
          },
          "output_type": "display_data"
        },
        {
          "name": "stdout",
          "output_type": "stream",
          "text": [
            "Average AUC score =  0.9143457515367837\n",
            "Average AUPRC score =  0.6741191813918748\n",
            "Average f1 score =  0.6530089835208178\n",
            "Average recall =  0.6349593495934959\n",
            "Average precision =  0.6765900083894555\n",
            "Average accuracy =  0.9385624538063564\n",
            "[{'AUC': 0.014623780095118392, 'PRC': 0.028349724244141068}, {'AUC': 0.03241387655339871, 'PRC': 0.05558621394831719}, {'AUC': 0.013905941374063334, 'PRC': 0.031759754162786896}, {'AUC': 0.017003098068840105, 'PRC': 0.03530097190088256}, {'AUC': 0.017830781784833175, 'PRC': 0.03479938062342405}, {'AUC': 0.010845947041773189, 'PRC': 0.02330282069844308}, {'AUC': 0.018223377962961484, 'PRC': 0.03383069727004589}, {'AUC': 0.018741886620696778, 'PRC': 0.028798450676183432}, {'AUC': 0.008808810429168604, 'PRC': 0.01732543169190154}, {'AUC': 0.01009316450420745, 'PRC': 0.015619407083447069}]\n"
          ]
        }
      ],
      "source": [
        "rcParams['figure.figsize'] = 20, 5\n",
        "#plot\n",
        "fig, ax=plt.subplots(1,2)\n",
        "proportion_of_abn = 0.5\n",
        "\n",
        "colors = ['orange','purple','green','lime','black','yellow','brown','pink','blue','lightblue']\n",
        "print(proportion_of_abn)\n",
        "\n",
        "\n",
        "for i in range(len(TPR_res)):\n",
        "    tpr, fpr = TPR_res[i], FPR_res[i]\n",
        "    precision, recall = P_res[i], R_res[i]\n",
        "    auc_score, auprc_score = AUC_res[i], AUPRC_res[i]\n",
        "    indicator = colors[i]\n",
        "\n",
        "    #ROC curve\n",
        "    ax[0].plot(fpr, tpr, color = indicator, label = '%0.4f' % auc_score)\n",
        "    ax[0].legend(loc = 'lower right')\n",
        "\n",
        "    #PR curve\n",
        "    ax[1].plot(recall, precision, color = indicator, label='%0.4f' % auprc_score)\n",
        "    ax[1].legend(loc = 'lower right')\n",
        "    \n",
        "\n",
        "\n",
        "ax[0].set_title('Receiver Operating Characteristic')\n",
        "ax[0].plot([0, 1], [0, 1],'r--')\n",
        "ax[0].set_xlim([0, 1])\n",
        "ax[0].set_ylim([0, 1])\n",
        "ax[0].set_ylabel('True Positive Rate')\n",
        "ax[0].set_xlabel('False Positive Rate')\n",
        "\n",
        "ax[1].set_title('Precision-Recall Curve')\n",
        "ax[1].plot([0, 1], [proportion_of_abn, proportion_of_abn],'r--')\n",
        "ax[1].plot([0, 1], [proportion_of_abn, proportion_of_abn],'r--')\n",
        "ax[1].set_xlim([0, 1])\n",
        "ax[1].set_ylim([0, 1])\n",
        "ax[1].set_ylabel('Precision')\n",
        "ax[1].set_xlabel('Recall')\n",
        "plt.show()\n",
        "\n",
        "#calculate average AUC and AUPRC score\n",
        "print('Average AUC score = ',sum(AUC_res) / TOTAL_RUN)\n",
        "print('Average AUPRC score = ',sum(AUPRC_res) / TOTAL_RUN)\n",
        "print('Average f1 score = ',sum(fscore_res) / TOTAL_RUN)\n",
        "print('Average recall = ',sum(recall_res) / TOTAL_RUN)\n",
        "print('Average precision = ',sum(precision_res) / TOTAL_RUN)\n",
        "print('Average accuracy = ', sum(accuracies)/TOTAL_RUN)\n",
        "\n",
        "print(THR_opt)\n",
        "\n",
        "#print optnimal thresholds of 10 folds\n",
        "#print(THR_opt)"
      ]
    },
    {
      "cell_type": "code",
      "execution_count": 12,
      "metadata": {},
      "outputs": [],
      "source": [
        "TPR_maxlen = FPR_maxlen = P_maxlen = R_maxlen = 0\n",
        "\n",
        "for i in range(len(TPR_res)):\n",
        "    if TPR_maxlen < len(TPR_res[i]): TPR_maxlen = len(TPR_res[i])\n",
        "    if FPR_maxlen < len(FPR_res[i]): FPR_maxlen = len(FPR_res[i])\n",
        "    if P_maxlen < len(P_res[i]): P_maxlen = len(P_res[i])\n",
        "    if R_maxlen < len(R_res[i]): R_maxlen = len(R_res[i])\n",
        "\n",
        "def AddOn(addTo,data,row, dataLen):\n",
        "    tmp = data[0]\n",
        "    for i in range(dataLen):\n",
        "        if i<len(data[row]) and data[row][i] is not np.nan: tmp = data[row][i]\n",
        "        addTo[i]+=tmp\n",
        "\n",
        "def AVG(data):\n",
        "    return (data / TOTAL_RUN).tolist()\n",
        "TPR_avg, FPR_avg, P_avg, R_avg = np.zeros((TPR_maxlen)), np.zeros((FPR_maxlen)), np.zeros((P_maxlen)), np.zeros((R_maxlen))\n",
        "\n",
        "for i in range(len(TPR_res)):\n",
        "    AddOn(TPR_avg, TPR_res, i, TPR_maxlen)\n",
        "    AddOn(FPR_avg, FPR_res, i, FPR_maxlen)\n",
        "    AddOn(P_avg, P_res, i, P_maxlen)\n",
        "    AddOn(R_avg, R_res, i, R_maxlen)\n",
        "    \n",
        "TPR_avg, FPR_avg, P_avg, R_avg = AVG(TPR_avg), AVG(FPR_avg), AVG(P_avg), AVG(R_avg)"
      ]
    },
    {
      "attachments": {},
      "cell_type": "markdown",
      "metadata": {},
      "source": [
        "# Save Result to json"
      ]
    },
    {
      "cell_type": "code",
      "execution_count": 13,
      "metadata": {},
      "outputs": [],
      "source": [
        "import json\n",
        "\n",
        "with open('data/Runs/{!s}_{!s}_Runs/result.json'.format(RAT,TOTAL_RUN, run), \"r\", encoding='utf-8') as jsonFile:\n",
        "    data = json.load(jsonFile)\n",
        "\n",
        "with open('data/Runs/{!s}_{!s}_Runs/result.json'.format(RAT,TOTAL_RUN, run), 'w', encoding='utf-8') as jsonFile:\n",
        "    data['GAN-AE'] = {\n",
        "            'AUC': AUC_res,\n",
        "            'AUPRC': AUPRC_res,\n",
        "            'Fscore': fscore_res,\n",
        "            'Recall': recall_res,\n",
        "            'Precision': precision_res,\n",
        "            'Accuracy': accuracies,\n",
        "            'THR_opt': THR_opt,\n",
        "            'AVG': {\n",
        "                'TPR': TPR_avg,\n",
        "                'FPR': FPR_avg,\n",
        "                'P': P_avg,\n",
        "                'R': R_avg\n",
        "            }\n",
        "        }\n",
        "    \n",
        "    json.dump(data, jsonFile, ensure_ascii=False)"
      ]
    },
    {
      "cell_type": "markdown",
      "metadata": {},
      "source": [
        "# End of Jupyter\n",
        "* [To top](#common-link)"
      ]
    }
  ],
  "metadata": {
    "accelerator": "GPU",
    "colab": {
      "name": "ganomaly",
      "provenance": [],
      "version": "0.3.2"
    },
    "kernelspec": {
      "display_name": "Python 3.8.3 ('base')",
      "language": "python",
      "name": "python3"
    },
    "language_info": {
      "codemirror_mode": {
        "name": "ipython",
        "version": 3
      },
      "file_extension": ".py",
      "mimetype": "text/x-python",
      "name": "python",
      "nbconvert_exporter": "python",
      "pygments_lexer": "ipython3",
      "version": "3.8.3"
    },
    "vscode": {
      "interpreter": {
        "hash": "ad2bdc8ecc057115af97d19610ffacc2b4e99fae6737bb82f5d7fb13d2f2c186"
      }
    }
  },
  "nbformat": 4,
  "nbformat_minor": 0
}
