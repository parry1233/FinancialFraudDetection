{
  "cells": [
    {
      "cell_type": "markdown",
      "metadata": {},
      "source": [
        "# Common link\n",
        "* [Load Data](#load-data)\n",
        "* [Split Data](#split-dataset)\n",
        "* [Model](#model)\n",
        "* [Evaluation](#evaluation)"
      ]
    },
    {
      "cell_type": "code",
      "execution_count": 1,
      "metadata": {},
      "outputs": [],
      "source": [
        "feature = 29"
      ]
    },
    {
      "cell_type": "markdown",
      "metadata": {},
      "source": [
        "# Model"
      ]
    },
    {
      "cell_type": "code",
      "execution_count": 2,
      "metadata": {
        "colab": {
          "base_uri": "https://localhost:8080/",
          "height": 34
        },
        "colab_type": "code",
        "id": "_fOFzTCbXTfi",
        "outputId": "4e0db446-6657-442e-a7e5-f81c198d1dee"
      },
      "outputs": [],
      "source": [
        "from tensorflow.keras import layers\n",
        "import tensorflow.keras as keras\n",
        "import tensorflow.keras.backend as K"
      ]
    },
    {
      "cell_type": "code",
      "execution_count": 3,
      "metadata": {},
      "outputs": [],
      "source": [
        "ae = None\n",
        "d = None\n",
        "RAT = 115"
      ]
    },
    {
      "cell_type": "code",
      "execution_count": 4,
      "metadata": {
        "colab": {
          "base_uri": "https://localhost:8080/",
          "height": 819
        },
        "colab_type": "code",
        "id": "6SSgbWtgYFge",
        "outputId": "ffb3b7cc-871f-4ef6-b1cb-6f2eb6193249"
      },
      "outputs": [],
      "source": [
        "def Autoencoder():\n",
        "    input_layer = layers.Input(name='input', shape=(feature))\n",
        "    #x = layers.Reshape((height, width, channels), name='ge_reshape')(input_layer)\n",
        "\n",
        "    # Encoder\n",
        "    x = layers.Dense(25, name='e_dense_1')(input_layer)\n",
        "    x = layers.ReLU(name='e_relu_1')(x)\n",
        "\n",
        "    x = layers.Dense(20, name='e_dense_2')(x)\n",
        "    x = layers.ReLU(name='e_relu_2')(x)\n",
        "\n",
        "    x = layers.Dense(15, name='e_dense_3')(x)\n",
        "    x = layers.ReLU(name='e_relu_3')(x)\n",
        "\n",
        "    x = layers.Dense(10, name='e_dense_4')(x)\n",
        "    x = layers.ReLU(name='e_relu_4')(x)\n",
        "\n",
        "    #decoder\n",
        "    y = layers.Dense(15, name='dec_dense_1')(x)\n",
        "    y = layers.ReLU(name='dec_relu_1')(y)\n",
        "\n",
        "    y = layers.Dense(20, name='dec_dense_2')(y)\n",
        "    y = layers.ReLU(name='dec_relu_2')(y)\n",
        "\n",
        "    y = layers.Dense(25, name='dec_dense_3')(y)\n",
        "    y = layers.ReLU(name='dec_relu_3')(y)\n",
        "\n",
        "    y = layers.Dense(feature, name='dec_dense_4')(y)\n",
        "    y = layers.ReLU(name='dec_relu_4')(y)\n",
        "\n",
        "    ae = keras.models.Model(inputs=input_layer, outputs=y) #Autoencoder\n",
        "    \n",
        "    return ae\n"
      ]
    },
    {
      "cell_type": "code",
      "execution_count": 5,
      "metadata": {},
      "outputs": [],
      "source": [
        "def discriminator():\n",
        "    input_layer = layers.Input(name='input', shape=(feature))\n",
        "\n",
        "    z = layers.Dense(25, name='dec_dense_1')(input_layer)\n",
        "    z = layers.ReLU(name='dec_relu_1')(z)\n",
        "\n",
        "    z = layers.Dense(20, name='dec_dense_2')(z)\n",
        "    z = layers.ReLU(name='dec_relu_2')(z)\n",
        "\n",
        "    z = layers.Dense(15, name='dec_dense_3')(z)\n",
        "    z = layers.ReLU(name='dec_relu_3')(z)\n",
        "\n",
        "    z = layers.Dense(10, name='dec_dense_4')(z)\n",
        "    z = layers.ReLU(name='dec_relu_4')(z)\n",
        "\n",
        "    z = layers.Dense(1, name='dec_dense_5')(z)\n",
        "    z = layers.ReLU(name='dec_relu_5')(z)\n",
        "\n",
        "    d = keras.models.Model(inputs=input_layer, outputs=z) #Discriminator\n",
        "\n",
        "    d.compile(optimizer='adam',\n",
        "                        loss='binary_crossentropy',\n",
        "                        metrics=['accuracy'])\n",
        "    \n",
        "    return d"
      ]
    },
    {
      "cell_type": "markdown",
      "metadata": {
        "colab_type": "text",
        "id": "dxPzCEC1bFMR"
      },
      "source": [
        "# Training"
      ]
    },
    {
      "cell_type": "code",
      "execution_count": 6,
      "metadata": {},
      "outputs": [],
      "source": [
        "import numpy as np"
      ]
    },
    {
      "cell_type": "code",
      "execution_count": 7,
      "metadata": {},
      "outputs": [],
      "source": [
        "def train_1(x_train, niter=50,bz=512):\n",
        "    ae.compile(optimizer = 'adam',\n",
        "              loss = 'mse')\n",
        "    history = ae.fit(x_train,x_train,\n",
        "                    epochs = niter,\n",
        "                    batch_size = bz,\n",
        "                    validation_split=0.2,\n",
        "                    verbose = 0\n",
        "                    )"
      ]
    },
    {
      "cell_type": "code",
      "execution_count": 8,
      "metadata": {},
      "outputs": [],
      "source": [
        "def train_2(x_train, niter=500, bz=512):\n",
        "    ae.compile(optimizer = 'adam',\n",
        "              loss = 'binary_crossentropy',\n",
        "              metrics=['accuracy'])\n",
        "    \n",
        "    half_bz = bz//2\n",
        "    for i in range(niter):\n",
        "        idx = np.random.randint(0, x_train.shape[0], half_bz)\n",
        "        data = x_train[idx]\n",
        "        \n",
        "        # Generate a half batch of new images\n",
        "        recons = ae.predict(data)\n",
        "        valid = np.ones((half_bz, 1)) # for data\n",
        "        fake = np.zeros((half_bz, 1)) # for recons\n",
        "        \n",
        "        ### train disciminator ###\n",
        "        d.trainable = True\n",
        "        d_loss_real = d.train_on_batch(data, valid)\n",
        "        d_loss_fake = d.train_on_batch(recons, fake)\n",
        "        d_loss = 0.5*np.add(d_loss_real, d_loss_fake)\n",
        "\n",
        "        ### train autoencoder ###\n",
        "        d.trainable = False \n",
        "        idx = np.random.randint(0, x_train.shape[0], bz)\n",
        "        data = x_train[idx]\n",
        "        valid_y = np.ones((bz, 1))\n",
        "        g_loss = ae.train_on_batch(ae.predict(data), valid_y)\n",
        "        \n",
        "        if i % 50 == 0:\n",
        "            print (\"%d [D loss: %f, acc: %.2f%%] [G loss: %f, acc: %f]\" % (i, d_loss[0], 100*d_loss[1],\n",
        "                    g_loss[0], 100*g_loss[1]))"
      ]
    },
    {
      "cell_type": "markdown",
      "metadata": {
        "colab_type": "text",
        "id": "0cHDcccacdST"
      },
      "source": [
        "# Evaluation"
      ]
    },
    {
      "cell_type": "code",
      "execution_count": 9,
      "metadata": {
        "colab": {},
        "colab_type": "code",
        "id": "UXAufnuIbuvF"
      },
      "outputs": [],
      "source": [
        "from matplotlib import pyplot as plt\n",
        "from pylab import rcParams\n",
        "from sklearn.metrics import roc_curve, roc_auc_score, precision_recall_curve, auc, average_precision_score\n",
        "from sklearn import metrics\n",
        "from sklearn.metrics import classification_report, confusion_matrix\n",
        "import seaborn as sns\n",
        "\n",
        "TPR_res, FPR_res, P_res, R_res = [], [], [], []\n",
        "AUC_res, AUPRC_res = [], []\n",
        "accuracies, fscore_res, recall_res, precision_res = [], [], [], []\n",
        "reports = []\n",
        "scores = []\n",
        "THR_opt = []\n",
        "\n",
        "def evaluation(x_test,y_test):\n",
        "    recons_x = ae.predict(x_test)\n",
        "    recons_loss = np.sum(np.square(recons_x - x_test), axis=-1)\n",
        "    #print(recons_loss)\n",
        "    print(recons_loss.shape)\n",
        "    score = recons_loss\n",
        "    score = (score - np.min(score)) / (np.max(score) - np.min(score)) # map to 0~1\n",
        "    #print(score)\n",
        "    print(score.shape)\n",
        "    score = score.reshape(len(score))\n",
        "\n",
        "    nScore, abnScore = score[y_test==0], score[y_test==1]\n",
        "    print('Scores of Normal and Abnormal:',nScore.shape,abnScore.shape)\n",
        "    scores.append([nScore,abnScore])\n",
        "\n",
        "\n",
        "    score = score.reshape(len(score))\n",
        "    fpr, tpr, threshold_auc = roc_curve(y_score=score, y_true=y_test, pos_label=1)\n",
        "    TPR_res.append(tpr)\n",
        "    FPR_res.append(fpr)\n",
        "    precision, recall, threshold_prc = precision_recall_curve(probas_pred=score, y_true=y_test, pos_label=1)\n",
        "    P_res.append(precision)\n",
        "    R_res.append(recall)\n",
        "\n",
        "    auc_score = auc(fpr,tpr)\n",
        "    auprc_score = auc(recall, precision)\n",
        "    AUC_res.append(auc_score)\n",
        "    AUPRC_res.append(auprc_score)\n",
        "\n",
        "\n",
        "    # optimal cut off point would be where “true positive rate” is high and the “false positive rate” is low.\n",
        "    J = tpr - fpr\n",
        "    ix1 = np.argmax(J)\n",
        "    optimal_threshold = threshold_auc[ix1]\n",
        "    #optimal_threshold = sorted(list(zip(np.sqrt(tpr-fpr), threshold_auc)), key=lambda i: i[0], reverse=False)[0][1]\n",
        "    print('Optimal threshold for best AUC:',optimal_threshold, 'TPR-FPR=',J[ix1])\n",
        "\n",
        "    fscore = (2 * precision * recall) / (precision + recall)\n",
        "    ix2 = np.nanargmax(fscore)\n",
        "    optimal_prc_threshold = threshold_prc[ix2]\n",
        "    #optimal_prc_threshold = sorted(list(zip(np.abs(precision - recall), threshold_prc)), key=lambda i: i[0], reverse=False)[0][1]\n",
        "    print('Optimal threshold for best AUPRC:',optimal_prc_threshold,'f-score=', fscore[ix2])\n",
        "    \n",
        "    fscore_res.append(fscore[ix2])\n",
        "    recall_res.append(recall[ix2])\n",
        "    precision_res.append(precision[ix2])\n",
        "\n",
        "    THR_opt.append({'AUC':optimal_threshold, 'PRC':optimal_prc_threshold})\n",
        "    \n",
        "    yTest_predict = [0 if s<=optimal_prc_threshold else 1 for s in score]\n",
        "    class_report = classification_report(y_pred=yTest_predict, y_true=y_test, digits=4, output_dict=True)\n",
        "    reports.append(class_report)\n",
        "    accuracies.append(class_report['accuracy'])\n"
      ]
    },
    {
      "cell_type": "markdown",
      "metadata": {},
      "source": [
        "# K-Fold Train"
      ]
    },
    {
      "cell_type": "code",
      "execution_count": 10,
      "metadata": {},
      "outputs": [
        {
          "name": "stdout",
          "output_type": "stream",
          "text": [
            "run: 1\n",
            "train: (227452, 29) (227452,) ;  test: (57355, 29) (57355,)\n",
            "0 [D loss: 7.337890, acc: 50.00%] [G loss: 9.818500, acc: 4.101562]\n",
            "50 [D loss: 0.238612, acc: 88.87%] [G loss: 3.478194, acc: 0.000000]\n",
            "100 [D loss: 0.009402, acc: 100.00%] [G loss: 3.191851, acc: 0.000000]\n",
            "150 [D loss: 0.000927, acc: 100.00%] [G loss: 3.192491, acc: 0.000000]\n",
            "200 [D loss: 0.000000, acc: 100.00%] [G loss: 3.192466, acc: 0.000000]\n",
            "250 [D loss: 0.000000, acc: 100.00%] [G loss: 3.191388, acc: 0.000000]\n",
            "300 [D loss: 0.000019, acc: 100.00%] [G loss: 3.191397, acc: 0.000000]\n",
            "350 [D loss: 0.000000, acc: 100.00%] [G loss: 3.191391, acc: 0.000000]\n",
            "400 [D loss: 0.000003, acc: 100.00%] [G loss: 3.191418, acc: 0.000000]\n",
            "450 [D loss: 0.000000, acc: 100.00%] [G loss: 3.191409, acc: 0.000000]\n",
            "(57355,)\n",
            "(57355,)\n",
            "Scores of Normal and Abnormal: (56863,) (492,)\n",
            "Optimal threshold for best AUC: 0.015382229073787368 TPR-FPR= 0.7968628134745199\n",
            "Optimal threshold for best AUPRC: 0.04953672993846905 f-score= 0.52465483234714\n",
            "run: 2\n",
            "train: (227452, 29) (227452,) ;  test: (57355, 29) (57355,)\n",
            "0 [D loss: 7.689835, acc: 50.00%] [G loss: 9.959453, acc: 0.000000]\n",
            "50 [D loss: 0.371330, acc: 74.41%] [G loss: 4.260874, acc: 0.000000]\n",
            "100 [D loss: 0.055446, acc: 98.83%] [G loss: 4.255204, acc: 0.000000]\n",
            "150 [D loss: 0.013162, acc: 99.80%] [G loss: 4.255199, acc: 0.000000]\n",
            "200 [D loss: 0.003110, acc: 100.00%] [G loss: 4.255161, acc: 0.000000]\n",
            "250 [D loss: 0.000174, acc: 100.00%] [G loss: 4.255158, acc: 0.000000]\n",
            "300 [D loss: 0.000115, acc: 100.00%] [G loss: 4.255185, acc: 0.000000]\n",
            "350 [D loss: 0.000329, acc: 100.00%] [G loss: 4.255222, acc: 0.000000]\n",
            "400 [D loss: 0.001675, acc: 100.00%] [G loss: 4.255158, acc: 0.000000]\n",
            "450 [D loss: 0.000865, acc: 100.00%] [G loss: 4.255158, acc: 0.000000]\n",
            "(57355,)\n",
            "(57355,)\n",
            "Scores of Normal and Abnormal: (56863,) (492,)\n",
            "Optimal threshold for best AUC: 0.028539194922753145 TPR-FPR= 0.638543481129727\n",
            "Optimal threshold for best AUPRC: 0.1096391553253704 f-score= 0.4261437908496732\n",
            "run: 3\n",
            "train: (227452, 29) (227452,) ;  test: (57355, 29) (57355,)\n",
            "0 [D loss: 0.982839, acc: 69.73%] [G loss: 11.506189, acc: 5.859375]\n",
            "50 [D loss: 0.038809, acc: 99.61%] [G loss: 6.458285, acc: 4.101562]\n",
            "100 [D loss: 0.001271, acc: 100.00%] [G loss: 5.455607, acc: 0.000000]\n",
            "150 [D loss: 0.000332, acc: 100.00%] [G loss: 5.320107, acc: 0.000000]\n",
            "200 [D loss: 0.000005, acc: 100.00%] [G loss: 5.319014, acc: 0.000000]\n",
            "250 [D loss: 0.000464, acc: 100.00%] [G loss: 5.320004, acc: 0.000000]\n",
            "300 [D loss: 0.000436, acc: 100.00%] [G loss: 5.319013, acc: 0.000000]\n",
            "350 [D loss: 0.000000, acc: 100.00%] [G loss: 5.318972, acc: 0.000000]\n",
            "400 [D loss: 0.000000, acc: 100.00%] [G loss: 5.318997, acc: 0.000000]\n",
            "450 [D loss: 0.000000, acc: 100.00%] [G loss: 5.318978, acc: 0.000000]\n",
            "(57355,)\n",
            "(57355,)\n",
            "Scores of Normal and Abnormal: (56863,) (492,)\n",
            "Optimal threshold for best AUC: 0.024556987394023944 TPR-FPR= 0.844660658501842\n",
            "Optimal threshold for best AUPRC: 0.058608382551678356 f-score= 0.6082474226804123\n",
            "run: 4\n",
            "train: (227452, 29) (227452,) ;  test: (57355, 29) (57355,)\n",
            "0 [D loss: 6.045865, acc: 50.39%] [G loss: 11.495862, acc: 6.054688]\n",
            "50 [D loss: 0.249043, acc: 89.06%] [G loss: 4.168659, acc: 0.000000]\n",
            "100 [D loss: 0.021706, acc: 99.61%] [G loss: 3.734140, acc: 0.000000]\n",
            "150 [D loss: 0.002369, acc: 100.00%] [G loss: 3.724499, acc: 0.000000]\n",
            "200 [D loss: 0.035627, acc: 99.41%] [G loss: 3.723439, acc: 0.000000]\n",
            "250 [D loss: 0.002030, acc: 99.80%] [G loss: 3.723413, acc: 0.000000]\n",
            "300 [D loss: 0.001096, acc: 100.00%] [G loss: 3.559788, acc: 0.000000]\n",
            "350 [D loss: 0.000528, acc: 100.00%] [G loss: 3.191515, acc: 0.000000]\n",
            "400 [D loss: 0.000000, acc: 100.00%] [G loss: 3.191385, acc: 0.000000]\n",
            "450 [D loss: 0.001320, acc: 100.00%] [G loss: 3.191532, acc: 0.000000]\n",
            "(57355,)\n",
            "(57355,)\n",
            "Scores of Normal and Abnormal: (56863,) (492,)\n",
            "Optimal threshold for best AUC: 0.017683931294326882 TPR-FPR= 0.7009728059839732\n",
            "Optimal threshold for best AUPRC: 0.10150350149222688 f-score= 0.38696109358569925\n",
            "run: 5\n",
            "train: (227452, 29) (227452,) ;  test: (57355, 29) (57355,)\n",
            "0 [D loss: 4.962448, acc: 50.20%] [G loss: 11.177007, acc: 5.078125]\n",
            "50 [D loss: 0.505616, acc: 69.53%] [G loss: 6.254113, acc: 0.000000]\n",
            "100 [D loss: 0.052069, acc: 99.41%] [G loss: 5.463091, acc: 0.000000]\n",
            "150 [D loss: 0.008674, acc: 99.80%] [G loss: 5.325318, acc: 0.000000]\n",
            "200 [D loss: 0.001747, acc: 100.00%] [G loss: 5.324247, acc: 0.000000]\n",
            "250 [D loss: 0.000000, acc: 100.00%] [G loss: 5.320047, acc: 0.000000]\n",
            "300 [D loss: 0.029859, acc: 99.80%] [G loss: 5.320038, acc: 0.000000]\n",
            "350 [D loss: 0.000423, acc: 100.00%] [G loss: 5.320025, acc: 0.000000]\n",
            "400 [D loss: 0.000085, acc: 100.00%] [G loss: 5.321077, acc: 0.000000]\n",
            "450 [D loss: 0.000094, acc: 100.00%] [G loss: 5.321110, acc: 0.000000]\n",
            "(57355,)\n",
            "(57355,)\n",
            "Scores of Normal and Abnormal: (56863,) (492,)\n",
            "Optimal threshold for best AUC: 0.007759917849959039 TPR-FPR= 0.6871456055625924\n",
            "Optimal threshold for best AUPRC: 0.10725096096724382 f-score= 0.3399693721286371\n",
            "run: 6\n",
            "train: (227452, 29) (227452,) ;  test: (57355, 29) (57355,)\n"
          ]
        },
        {
          "name": "stderr",
          "output_type": "stream",
          "text": [
            "<ipython-input-9-de172d5afa3b>:52: RuntimeWarning: invalid value encountered in true_divide\n",
            "  fscore = (2 * precision * recall) / (precision + recall)\n"
          ]
        },
        {
          "name": "stdout",
          "output_type": "stream",
          "text": [
            "0 [D loss: 6.683551, acc: 50.00%] [G loss: 11.055160, acc: 5.468750]\n",
            "50 [D loss: 0.508421, acc: 64.26%] [G loss: 5.326614, acc: 0.000000]\n",
            "100 [D loss: 0.032347, acc: 99.80%] [G loss: 4.827781, acc: 0.000000]\n",
            "150 [D loss: 0.005070, acc: 100.00%] [G loss: 4.787063, acc: 0.000000]\n",
            "200 [D loss: 0.000913, acc: 100.00%] [G loss: 4.787053, acc: 0.000000]\n",
            "250 [D loss: 0.000953, acc: 100.00%] [G loss: 4.787053, acc: 0.000000]\n",
            "300 [D loss: 0.000455, acc: 100.00%] [G loss: 4.787075, acc: 0.000000]\n",
            "350 [D loss: 0.000013, acc: 100.00%] [G loss: 4.787053, acc: 0.000000]\n",
            "400 [D loss: 0.001295, acc: 100.00%] [G loss: 4.787054, acc: 0.000000]\n",
            "450 [D loss: 0.000082, acc: 100.00%] [G loss: 4.787115, acc: 0.000000]\n",
            "(57355,)\n",
            "(57355,)\n",
            "Scores of Normal and Abnormal: (56863,) (492,)\n",
            "Optimal threshold for best AUC: 0.009976221613714534 TPR-FPR= 0.7143060578206155\n",
            "Optimal threshold for best AUPRC: 0.06436962118348827 f-score= 0.3383199079401611\n",
            "run: 7\n",
            "train: (227452, 29) (227452,) ;  test: (57355, 29) (57355,)\n"
          ]
        },
        {
          "name": "stderr",
          "output_type": "stream",
          "text": [
            "<ipython-input-9-de172d5afa3b>:52: RuntimeWarning: invalid value encountered in true_divide\n",
            "  fscore = (2 * precision * recall) / (precision + recall)\n"
          ]
        },
        {
          "name": "stdout",
          "output_type": "stream",
          "text": [
            "0 [D loss: 3.098322, acc: 50.00%] [G loss: 10.942735, acc: 6.640625]\n",
            "50 [D loss: 0.257518, acc: 88.67%] [G loss: 4.922399, acc: 0.000000]\n",
            "100 [D loss: 0.014296, acc: 100.00%] [G loss: 4.255158, acc: 0.000000]\n",
            "150 [D loss: 0.001453, acc: 100.00%] [G loss: 4.255158, acc: 0.000000]\n",
            "200 [D loss: 0.000296, acc: 100.00%] [G loss: 4.255158, acc: 0.000000]\n",
            "250 [D loss: 0.002640, acc: 99.80%] [G loss: 4.255158, acc: 0.000000]\n",
            "300 [D loss: 0.001915, acc: 100.00%] [G loss: 4.255158, acc: 0.000000]\n",
            "350 [D loss: 0.000799, acc: 100.00%] [G loss: 4.255158, acc: 0.000000]\n",
            "400 [D loss: 0.000103, acc: 100.00%] [G loss: 4.255158, acc: 0.000000]\n",
            "450 [D loss: 0.000000, acc: 100.00%] [G loss: 4.255158, acc: 0.000000]\n",
            "(57355,)\n",
            "(57355,)\n",
            "Scores of Normal and Abnormal: (56863,) (492,)\n",
            "Optimal threshold for best AUC: 0.0022138007100906557 TPR-FPR= 0.5901965700187399\n",
            "Optimal threshold for best AUPRC: 0.01253237690625133 f-score= 0.31843575418994413\n",
            "run: 8\n",
            "train: (227452, 29) (227452,) ;  test: (57355, 29) (57355,)\n"
          ]
        },
        {
          "name": "stderr",
          "output_type": "stream",
          "text": [
            "<ipython-input-9-de172d5afa3b>:52: RuntimeWarning: invalid value encountered in true_divide\n",
            "  fscore = (2 * precision * recall) / (precision + recall)\n"
          ]
        },
        {
          "name": "stdout",
          "output_type": "stream",
          "text": [
            "0 [D loss: 1.296661, acc: 53.52%] [G loss: 11.464840, acc: 0.000000]\n",
            "50 [D loss: 0.016006, acc: 99.41%] [G loss: 5.411183, acc: 0.000000]\n",
            "100 [D loss: 0.002351, acc: 100.00%] [G loss: 5.318947, acc: 0.000000]\n",
            "150 [D loss: 0.000720, acc: 100.00%] [G loss: 5.318947, acc: 0.000000]\n",
            "200 [D loss: 0.001150, acc: 100.00%] [G loss: 5.318947, acc: 0.000000]\n",
            "250 [D loss: 0.000706, acc: 100.00%] [G loss: 5.318947, acc: 0.000000]\n",
            "300 [D loss: 0.000072, acc: 100.00%] [G loss: 5.318947, acc: 0.000000]\n",
            "350 [D loss: 0.000025, acc: 100.00%] [G loss: 5.318947, acc: 0.000000]\n",
            "400 [D loss: 0.000217, acc: 100.00%] [G loss: 5.318947, acc: 0.000000]\n",
            "450 [D loss: 0.000000, acc: 100.00%] [G loss: 5.318947, acc: 0.000000]\n",
            "(57355,)\n",
            "(57355,)\n",
            "Scores of Normal and Abnormal: (56863,) (492,)\n",
            "Optimal threshold for best AUC: 0.010696993983095416 TPR-FPR= 0.6530236916599861\n",
            "Optimal threshold for best AUPRC: 0.09815676826387322 f-score= 0.32503660322108346\n",
            "run: 9\n",
            "train: (227452, 29) (227452,) ;  test: (57355, 29) (57355,)\n"
          ]
        },
        {
          "name": "stderr",
          "output_type": "stream",
          "text": [
            "<ipython-input-9-de172d5afa3b>:52: RuntimeWarning: invalid value encountered in true_divide\n",
            "  fscore = (2 * precision * recall) / (precision + recall)\n"
          ]
        },
        {
          "name": "stdout",
          "output_type": "stream",
          "text": [
            "0 [D loss: 5.982159, acc: 50.00%] [G loss: 11.734926, acc: 5.468750]\n",
            "50 [D loss: 0.250247, acc: 86.13%] [G loss: 5.283899, acc: 0.000000]\n",
            "100 [D loss: 0.045346, acc: 99.41%] [G loss: 3.964924, acc: 0.000000]\n",
            "150 [D loss: 0.001899, acc: 100.00%] [G loss: 3.725106, acc: 0.000000]\n",
            "200 [D loss: 0.001063, acc: 100.00%] [G loss: 3.723583, acc: 0.000000]\n",
            "250 [D loss: 0.001310, acc: 100.00%] [G loss: 3.723393, acc: 0.000000]\n",
            "300 [D loss: 0.000015, acc: 100.00%] [G loss: 3.723357, acc: 0.000000]\n",
            "350 [D loss: 0.000685, acc: 100.00%] [G loss: 3.723548, acc: 0.000000]\n",
            "400 [D loss: 0.000035, acc: 100.00%] [G loss: 3.723266, acc: 0.000000]\n",
            "450 [D loss: 0.000072, acc: 100.00%] [G loss: 3.723268, acc: 0.000000]\n",
            "(57355,)\n",
            "(57355,)\n",
            "Scores of Normal and Abnormal: (56863,) (492,)\n",
            "Optimal threshold for best AUC: 0.006783863840546434 TPR-FPR= 0.748423610935369\n",
            "Optimal threshold for best AUPRC: 0.03551769952219264 f-score= 0.3820224719101123\n",
            "run: 10\n",
            "train:"
          ]
        },
        {
          "name": "stderr",
          "output_type": "stream",
          "text": [
            "<ipython-input-9-de172d5afa3b>:52: RuntimeWarning: invalid value encountered in true_divide\n",
            "  fscore = (2 * precision * recall) / (precision + recall)\n"
          ]
        },
        {
          "name": "stdout",
          "output_type": "stream",
          "text": [
            " (227452, 29) (227452,) ;  test: (57355, 29) (57355,)\n",
            "0 [D loss: 4.705262, acc: 50.39%] [G loss: 12.254904, acc: 10.156250]\n",
            "50 [D loss: 0.248051, acc: 90.82%] [G loss: 7.019129, acc: 0.000000]\n",
            "100 [D loss: 0.031627, acc: 98.44%] [G loss: 6.383183, acc: 0.000000]\n",
            "150 [D loss: 0.008556, acc: 99.41%] [G loss: 6.381996, acc: 0.000000]\n",
            "200 [D loss: 0.004926, acc: 100.00%] [G loss: 6.382797, acc: 0.000000]\n",
            "250 [D loss: 0.001013, acc: 100.00%] [G loss: 6.382957, acc: 0.000000]\n",
            "300 [D loss: 0.000467, acc: 100.00%] [G loss: 6.367564, acc: 0.000000]\n",
            "350 [D loss: 0.000134, acc: 100.00%] [G loss: 5.319019, acc: 0.000000]\n",
            "400 [D loss: 0.001167, acc: 100.00%] [G loss: 5.318947, acc: 0.000000]\n",
            "450 [D loss: 0.001477, acc: 100.00%] [G loss: 5.318949, acc: 0.000000]\n",
            "(57355,)\n",
            "(57355,)\n",
            "Scores of Normal and Abnormal: (56863,) (492,)\n",
            "Optimal threshold for best AUC: 0.009104388239900597 TPR-FPR= 0.5326476101667265\n",
            "Optimal threshold for best AUPRC: 0.03762409646987352 f-score= 0.2642369020501139\n"
          ]
        },
        {
          "name": "stderr",
          "output_type": "stream",
          "text": [
            "<ipython-input-9-de172d5afa3b>:52: RuntimeWarning: invalid value encountered in true_divide\n",
            "  fscore = (2 * precision * recall) / (precision + recall)\n"
          ]
        }
      ],
      "source": [
        "TOTAL_RUN = 10\n",
        "run = 1\n",
        "\n",
        "for run in range(1,TOTAL_RUN+1):\n",
        "    ae = Autoencoder()\n",
        "    \n",
        "    print('run: {!r}'.format(run))\n",
        "    datasets = np.load('data/Runs/{!s}_{!s}_Runs/Run_{!s}.npz'.format(RAT,TOTAL_RUN, run))\n",
        "    x_train, y_train = datasets['trainX'], datasets['trainY']\n",
        "    x_test, y_test = datasets['testX'], datasets['testY']\n",
        "    print('train:',x_train.shape,y_train.shape,'; ','test:',x_test.shape,y_test.shape)\n",
        "    \n",
        "    train_1(x_train=x_train)\n",
        "    \n",
        "    d = discriminator()\n",
        "    train_2(x_train=x_train)\n",
        "    \n",
        "    evaluation(x_test=x_test, y_test=y_test)\n",
        "    run+=1"
      ]
    },
    {
      "cell_type": "markdown",
      "metadata": {},
      "source": [
        "# Retrain\n",
        "* [back to model](#model)"
      ]
    },
    {
      "cell_type": "markdown",
      "metadata": {},
      "source": [
        "# AUC and PR curve"
      ]
    },
    {
      "cell_type": "code",
      "execution_count": 11,
      "metadata": {},
      "outputs": [
        {
          "name": "stdout",
          "output_type": "stream",
          "text": [
            "0.5\n"
          ]
        },
        {
          "data": {
            "image/png": "[encoded data removed]",
            "text/plain": [
              "<Figure size 432x288 with 2 Axes>"
            ]
          },
          "metadata": {
            "needs_background": "light"
          },
          "output_type": "display_data"
        },
        {
          "name": "stdout",
          "output_type": "stream",
          "text": [
            "Average AUC score =  0.908005119707916\n",
            "Average AUPRC score =  0.32011027585495155\n",
            "Average f1 score =  0.39140281509029773\n",
            "Average recall =  0.34430894308943094\n",
            "Average precision =  0.497861794223298\n",
            "Average accuracy =  0.9911080115072792\n",
            "[{'AUC': 0.015382229073787368, 'PRC': 0.04953672993846905}, {'AUC': 0.028539194922753145, 'PRC': 0.1096391553253704}, {'AUC': 0.024556987394023944, 'PRC': 0.058608382551678356}, {'AUC': 0.017683931294326882, 'PRC': 0.10150350149222688}, {'AUC': 0.007759917849959039, 'PRC': 0.10725096096724382}, {'AUC': 0.009976221613714534, 'PRC': 0.06436962118348827}, {'AUC': 0.0022138007100906557, 'PRC': 0.01253237690625133}, {'AUC': 0.010696993983095416, 'PRC': 0.09815676826387322}, {'AUC': 0.006783863840546434, 'PRC': 0.03551769952219264}, {'AUC': 0.009104388239900597, 'PRC': 0.03762409646987352}]\n"
          ]
        }
      ],
      "source": [
        "rcParams['figure.figsize'] = 20, 5\n",
        "#plot\n",
        "fig, ax=plt.subplots(1,2)\n",
        "proportion_of_abn = 0.5\n",
        "\n",
        "colors = ['orange','purple','green','lime','black','yellow','brown','pink','blue','lightblue']\n",
        "print(proportion_of_abn)\n",
        "\n",
        "\n",
        "for i in range(len(TPR_res)):\n",
        "    tpr, fpr = TPR_res[i], FPR_res[i]\n",
        "    precision, recall = P_res[i], R_res[i]\n",
        "    auc_score, auprc_score = AUC_res[i], AUPRC_res[i]\n",
        "    indicator = colors[i]\n",
        "\n",
        "    #ROC curve\n",
        "    ax[0].plot(fpr, tpr, color = indicator, label = '%0.4f' % auc_score)\n",
        "    ax[0].legend(loc = 'lower right')\n",
        "\n",
        "    #PR curve\n",
        "    ax[1].plot(recall, precision, color = indicator, label='%0.4f' % auprc_score)\n",
        "    ax[1].legend(loc = 'lower right')\n",
        "    \n",
        "\n",
        "\n",
        "ax[0].set_title('Receiver Operating Characteristic')\n",
        "ax[0].plot([0, 1], [0, 1],'r--')\n",
        "ax[0].set_xlim([0, 1])\n",
        "ax[0].set_ylim([0, 1])\n",
        "ax[0].set_ylabel('True Positive Rate')\n",
        "ax[0].set_xlabel('False Positive Rate')\n",
        "\n",
        "ax[1].set_title('Precision-Recall Curve')\n",
        "ax[1].plot([0, 1], [proportion_of_abn, proportion_of_abn],'r--')\n",
        "ax[1].plot([0, 1], [proportion_of_abn, proportion_of_abn],'r--')\n",
        "ax[1].set_xlim([0, 1])\n",
        "ax[1].set_ylim([0, 1])\n",
        "ax[1].set_ylabel('Precision')\n",
        "ax[1].set_xlabel('Recall')\n",
        "plt.show()\n",
        "\n",
        "#calculate average AUC and AUPRC score\n",
        "print('Average AUC score = ',sum(AUC_res) / TOTAL_RUN)\n",
        "print('Average AUPRC score = ',sum(AUPRC_res) / TOTAL_RUN)\n",
        "print('Average f1 score = ',sum(fscore_res) / TOTAL_RUN)\n",
        "print('Average recall = ',sum(recall_res) / TOTAL_RUN)\n",
        "print('Average precision = ',sum(precision_res) / TOTAL_RUN)\n",
        "print('Average accuracy = ', sum(accuracies)/TOTAL_RUN)\n",
        "\n",
        "print(THR_opt)\n",
        "\n",
        "#print optnimal thresholds of 10 folds\n",
        "#print(THR_opt)"
      ]
    },
    {
      "cell_type": "code",
      "execution_count": 12,
      "metadata": {},
      "outputs": [],
      "source": [
        "TPR_maxlen = FPR_maxlen = P_maxlen = R_maxlen = 0\n",
        "\n",
        "for i in range(len(TPR_res)):\n",
        "    if TPR_maxlen < len(TPR_res[i]): TPR_maxlen = len(TPR_res[i])\n",
        "    if FPR_maxlen < len(FPR_res[i]): FPR_maxlen = len(FPR_res[i])\n",
        "    if P_maxlen < len(P_res[i]): P_maxlen = len(P_res[i])\n",
        "    if R_maxlen < len(R_res[i]): R_maxlen = len(R_res[i])\n",
        "\n",
        "def AddOn(addTo,data,row, dataLen):\n",
        "    tmp = data[0]\n",
        "    for i in range(dataLen):\n",
        "        if i<len(data[row]) and data[row][i] is not np.nan: tmp = data[row][i]\n",
        "        addTo[i]+=tmp\n",
        "\n",
        "def AVG(data):\n",
        "    return (data / TOTAL_RUN).tolist()\n",
        "TPR_avg, FPR_avg, P_avg, R_avg = np.zeros((TPR_maxlen)), np.zeros((FPR_maxlen)), np.zeros((P_maxlen)), np.zeros((R_maxlen))\n",
        "\n",
        "for i in range(len(TPR_res)):\n",
        "    AddOn(TPR_avg, TPR_res, i, TPR_maxlen)\n",
        "    AddOn(FPR_avg, FPR_res, i, FPR_maxlen)\n",
        "    AddOn(P_avg, P_res, i, P_maxlen)\n",
        "    AddOn(R_avg, R_res, i, R_maxlen)\n",
        "    \n",
        "TPR_avg, FPR_avg, P_avg, R_avg = AVG(TPR_avg), AVG(FPR_avg), AVG(P_avg), AVG(R_avg)"
      ]
    },
    {
      "attachments": {},
      "cell_type": "markdown",
      "metadata": {},
      "source": [
        "# Save Result to json"
      ]
    },
    {
      "cell_type": "code",
      "execution_count": 13,
      "metadata": {},
      "outputs": [],
      "source": [
        "import json\n",
        "\n",
        "with open('data/Runs/{!s}_{!s}_Runs/result.json'.format(RAT,TOTAL_RUN, run), \"r\", encoding='utf-8') as jsonFile:\n",
        "    data = json.load(jsonFile)\n",
        "\n",
        "with open('data/Runs/{!s}_{!s}_Runs/result.json'.format(RAT,TOTAL_RUN, run), 'w', encoding='utf-8') as jsonFile:\n",
        "    data['GAN-AE'] = {\n",
        "            'AUC': AUC_res,\n",
        "            'AUPRC': AUPRC_res,\n",
        "            'Fscore': fscore_res,\n",
        "            'Recall': recall_res,\n",
        "            'Precision': precision_res,\n",
        "            'Accuracy': accuracies,\n",
        "            'THR_opt': THR_opt,\n",
        "            'AVG': {\n",
        "                'TPR': TPR_avg,\n",
        "                'FPR': FPR_avg,\n",
        "                'P': P_avg,\n",
        "                'R': R_avg\n",
        "            }\n",
        "        }\n",
        "    \n",
        "    json.dump(data, jsonFile, ensure_ascii=False)"
      ]
    },
    {
      "cell_type": "markdown",
      "metadata": {},
      "source": [
        "# End of Jupyter\n",
        "* [To top](#common-link)"
      ]
    }
  ],
  "metadata": {
    "accelerator": "GPU",
    "colab": {
      "name": "ganomaly",
      "provenance": [],
      "version": "0.3.2"
    },
    "kernelspec": {
      "display_name": "Python 3.8.3 ('base')",
      "language": "python",
      "name": "python3"
    },
    "language_info": {
      "codemirror_mode": {
        "name": "ipython",
        "version": 3
      },
      "file_extension": ".py",
      "mimetype": "text/x-python",
      "name": "python",
      "nbconvert_exporter": "python",
      "pygments_lexer": "ipython3",
      "version": "3.8.3"
    },
    "vscode": {
      "interpreter": {
        "hash": "ad2bdc8ecc057115af97d19610ffacc2b4e99fae6737bb82f5d7fb13d2f2c186"
      }
    }
  },
  "nbformat": 4,
  "nbformat_minor": 0
}
