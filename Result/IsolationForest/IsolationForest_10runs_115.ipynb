{
  "cells": [
    {
      "cell_type": "markdown",
      "metadata": {},
      "source": [
        "# Common link\n",
        "* [Load Data](#load-data)\n",
        "* [Split Data](#split-dataset)\n",
        "* [Model](#model)\n",
        "* [Evaluation](#evaluation)"
      ]
    },
    {
      "cell_type": "code",
      "execution_count": 1,
      "metadata": {},
      "outputs": [],
      "source": [
        "feature = 29\n",
        "RAT = 115"
      ]
    },
    {
      "cell_type": "markdown",
      "metadata": {},
      "source": [
        "# Model"
      ]
    },
    {
      "cell_type": "code",
      "execution_count": 2,
      "metadata": {
        "colab": {
          "base_uri": "https://localhost:8080/",
          "height": 34
        },
        "colab_type": "code",
        "id": "_fOFzTCbXTfi",
        "outputId": "4e0db446-6657-442e-a7e5-f81c198d1dee"
      },
      "outputs": [],
      "source": [
        "from tensorflow.keras import layers\n",
        "import tensorflow.keras as keras\n",
        "import tensorflow.keras.backend as K\n",
        "from sklearn.ensemble import IsolationForest\n",
        "import numpy as np\n",
        "\n",
        "model = None\n",
        "\n",
        "def define_IF(ratio):\n",
        "    return IsolationForest(contamination = ratio, random_state = 1)"
      ]
    },
    {
      "cell_type": "markdown",
      "metadata": {
        "colab_type": "text",
        "id": "dxPzCEC1bFMR"
      },
      "source": [
        "# Training"
      ]
    },
    {
      "cell_type": "code",
      "execution_count": 3,
      "metadata": {
        "colab": {},
        "colab_type": "code",
        "id": "53rLCTe3a8LY"
      },
      "outputs": [],
      "source": [
        "def get_data_generator(data, batch_size=32):\n",
        "    datalen = len(data)\n",
        "    cnt = 0\n",
        "    while True:\n",
        "        idxes = np.arange(datalen)\n",
        "        np.random.shuffle(idxes)\n",
        "        cnt += 1\n",
        "        for i in range(int(np.ceil(datalen/batch_size))):\n",
        "            train_x = np.take(data, idxes[i*batch_size: (i+1) * batch_size], axis=0)\n",
        "            y = np.ones(len(train_x))\n",
        "            yield train_x, [y, y, y]"
      ]
    },
    {
      "cell_type": "code",
      "execution_count": 4,
      "metadata": {},
      "outputs": [],
      "source": [
        "def train(x_train):\n",
        "    # Training the model\n",
        "    model.fit(x_train)"
      ]
    },
    {
      "cell_type": "markdown",
      "metadata": {
        "colab_type": "text",
        "id": "0cHDcccacdST"
      },
      "source": [
        "# Evaluation"
      ]
    },
    {
      "cell_type": "code",
      "execution_count": 5,
      "metadata": {
        "colab": {},
        "colab_type": "code",
        "id": "UXAufnuIbuvF"
      },
      "outputs": [],
      "source": [
        "from matplotlib import pyplot as plt\n",
        "from pylab import rcParams\n",
        "from sklearn.metrics import roc_curve, roc_auc_score, precision_recall_curve, auc, average_precision_score\n",
        "from sklearn import metrics\n",
        "from sklearn.metrics import classification_report, confusion_matrix\n",
        "import seaborn as sns\n",
        "\n",
        "TPR_res, FPR_res, P_res, R_res = [], [], [], []\n",
        "AUC_res, AUPRC_res = [], []\n",
        "accuracies, fscore_res, recall_res, precision_res = [], [], [], []\n",
        "reports = []\n",
        "scores = []\n",
        "THR_opt = []\n",
        "\n",
        "def evaluation(x_test,y_test):\n",
        "    \n",
        "    score = -model.decision_function(x_test)\n",
        "    fpr, tpr, threshold_auc = roc_curve(y_score=score, y_true=y_test, pos_label=1)\n",
        "    TPR_res.append(tpr)\n",
        "    FPR_res.append(fpr)\n",
        "    precision, recall, threshold_prc = precision_recall_curve(probas_pred=score, y_true=y_test, pos_label=1)\n",
        "    P_res.append(precision)\n",
        "    R_res.append(recall)\n",
        "\n",
        "    auc_score = auc(fpr,tpr)\n",
        "    auprc_score = auc(recall, precision)\n",
        "    AUC_res.append(auc_score)\n",
        "    AUPRC_res.append(auprc_score)\n",
        "\n",
        "\n",
        "    # optimal cut off point would be where “true positive rate” is high and the “false positive rate” is low.\n",
        "    J = tpr - fpr\n",
        "    ix1 = np.argmax(J)\n",
        "    optimal_threshold = threshold_auc[ix1]\n",
        "    #optimal_threshold = sorted(list(zip(np.sqrt(tpr-fpr), threshold_auc)), key=lambda i: i[0], reverse=False)[0][1]\n",
        "    print('Optimal threshold for best AUC:',optimal_threshold, 'TPR-FPR=',J[ix1])\n",
        "\n",
        "    fscore = (2 * precision * recall) / (precision + recall)\n",
        "    ix2 = np.nanargmax(fscore)\n",
        "    optimal_prc_threshold = threshold_prc[ix2]\n",
        "    #optimal_prc_threshold = sorted(list(zip(np.abs(precision - recall), threshold_prc)), key=lambda i: i[0], reverse=False)[0][1]\n",
        "    print('Optimal threshold for best AUPRC:',optimal_prc_threshold,'f-score=', fscore[ix2])\n",
        "    \n",
        "    fscore_res.append(fscore[ix2])\n",
        "    recall_res.append(recall[ix2])\n",
        "    precision_res.append(precision[ix2])\n",
        "\n",
        "    THR_opt.append({'AUC':optimal_threshold, 'PRC':optimal_prc_threshold})\n",
        "    \n",
        "    yTest_predict = [0 if s<=optimal_prc_threshold else 1 for s in score]\n",
        "    class_report = classification_report(y_pred=yTest_predict, y_true=y_test, digits=4, output_dict=True)\n",
        "    reports.append(class_report)\n",
        "    accuracies.append(class_report['accuracy'])\n"
      ]
    },
    {
      "cell_type": "markdown",
      "metadata": {},
      "source": [
        "# K-Fold Train"
      ]
    },
    {
      "cell_type": "code",
      "execution_count": 6,
      "metadata": {},
      "outputs": [
        {
          "name": "stdout",
          "output_type": "stream",
          "text": [
            "run: 1\n",
            "train: (227452, 29) (227452,) ;  test: (57355, 29) (57355,)\n",
            "Optimal threshold for best AUC: -0.10265455885251523 TPR-FPR= 0.8018471582461283\n",
            "Optimal threshold for best AUPRC: 0.034145177077794964 f-score= 0.474090407938258\n",
            "run: 2\n",
            "train: (227452, 29) (227452,) ;  test: (57355, 29) (57355,)\n"
          ]
        },
        {
          "name": "stderr",
          "output_type": "stream",
          "text": [
            "<ipython-input-5-bace2ebc9cfe>:38: RuntimeWarning: invalid value encountered in true_divide\n",
            "  fscore = (2 * precision * recall) / (precision + recall)\n"
          ]
        },
        {
          "name": "stdout",
          "output_type": "stream",
          "text": [
            "Optimal threshold for best AUC: -0.08836670179037664 TPR-FPR= 0.8025730149586462\n",
            "Optimal threshold for best AUPRC: 0.02813258409756092 f-score= 0.4728033472803347\n",
            "run: 3\n",
            "train: (227452, 29) (227452,) ;  test: (57355, 29) (57355,)\n"
          ]
        },
        {
          "name": "stderr",
          "output_type": "stream",
          "text": [
            "<ipython-input-5-bace2ebc9cfe>:38: RuntimeWarning: invalid value encountered in true_divide\n",
            "  fscore = (2 * precision * recall) / (precision + recall)\n"
          ]
        },
        {
          "name": "stdout",
          "output_type": "stream",
          "text": [
            "Optimal threshold for best AUC: -0.10689438118382855 TPR-FPR= 0.811902062709845\n",
            "Optimal threshold for best AUPRC: 0.026970184153734755 f-score= 0.444672131147541\n",
            "run: 4\n",
            "train: (227452, 29) (227452,) ;  test: (57355, 29) (57355,)\n",
            "Optimal threshold for best AUC: -0.09341502524078454 TPR-FPR= 0.8227527037242128\n",
            "Optimal threshold for best AUPRC: 0.014324456267131969 f-score= 0.505982905982906\n",
            "run: 5\n",
            "train: (227452, 29) (227452,) ;  test: (57355, 29) (57355,)\n"
          ]
        },
        {
          "name": "stderr",
          "output_type": "stream",
          "text": [
            "<ipython-input-5-bace2ebc9cfe>:38: RuntimeWarning: invalid value encountered in true_divide\n",
            "  fscore = (2 * precision * recall) / (precision + recall)\n"
          ]
        },
        {
          "name": "stdout",
          "output_type": "stream",
          "text": [
            "Optimal threshold for best AUC: -0.10541198689165604 TPR-FPR= 0.813703318302198\n",
            "Optimal threshold for best AUPRC: 0.013189087679989053 f-score= 0.45345622119815665\n",
            "run: 6\n",
            "train: (227452, 29) (227452,) ;  test: (57355, 29) (57355,)\n",
            "Optimal threshold for best AUC: -0.10129124702946735 TPR-FPR= 0.8107840210438754\n",
            "Optimal threshold for best AUPRC: 0.0027609109614736838 f-score= 0.48156862745098045\n",
            "run: 7\n",
            "train: (227452, 29) (227452,) ;  test: (57355, 29) (57355,)\n"
          ]
        },
        {
          "name": "stderr",
          "output_type": "stream",
          "text": [
            "<ipython-input-5-bace2ebc9cfe>:38: RuntimeWarning: invalid value encountered in true_divide\n",
            "  fscore = (2 * precision * recall) / (precision + recall)\n"
          ]
        },
        {
          "name": "stdout",
          "output_type": "stream",
          "text": [
            "Optimal threshold for best AUC: -0.08150983229374831 TPR-FPR= 0.8188380030222404\n",
            "Optimal threshold for best AUPRC: 0.018585879776877978 f-score= 0.4976258309591643\n",
            "run: 8\n",
            "train: (227452, 29) (227452,) ;  test: (57355, 29) (57355,)\n"
          ]
        },
        {
          "name": "stderr",
          "output_type": "stream",
          "text": [
            "<ipython-input-5-bace2ebc9cfe>:38: RuntimeWarning: invalid value encountered in true_divide\n",
            "  fscore = (2 * precision * recall) / (precision + recall)\n"
          ]
        },
        {
          "name": "stdout",
          "output_type": "stream",
          "text": [
            "Optimal threshold for best AUC: -0.09214618665547952 TPR-FPR= 0.8084947146536341\n",
            "Optimal threshold for best AUPRC: 0.007437751243337121 f-score= 0.5169340463458111\n",
            "run: 9\n",
            "train: (227452, 29) (227452,) ;  test: (57355, 29) (57355,)\n"
          ]
        },
        {
          "name": "stderr",
          "output_type": "stream",
          "text": [
            "<ipython-input-5-bace2ebc9cfe>:38: RuntimeWarning: invalid value encountered in true_divide\n",
            "  fscore = (2 * precision * recall) / (precision + recall)\n"
          ]
        },
        {
          "name": "stdout",
          "output_type": "stream",
          "text": [
            "Optimal threshold for best AUC: -0.10595835210597021 TPR-FPR= 0.8142986015882704\n",
            "Optimal threshold for best AUPRC: 0.013857967431904594 f-score= 0.45235975066785394\n",
            "run: 10\n",
            "train: (227452, 29) (227452,) ;  test: (57355, 29) (57355,)\n"
          ]
        },
        {
          "name": "stderr",
          "output_type": "stream",
          "text": [
            "<ipython-input-5-bace2ebc9cfe>:38: RuntimeWarning: invalid value encountered in true_divide\n",
            "  fscore = (2 * precision * recall) / (precision + recall)\n"
          ]
        },
        {
          "name": "stdout",
          "output_type": "stream",
          "text": [
            "Optimal threshold for best AUC: -0.10500825861732388 TPR-FPR= 0.8108090777019478\n",
            "Optimal threshold for best AUPRC: 0.003579754579524308 f-score= 0.44482173174872663\n"
          ]
        },
        {
          "name": "stderr",
          "output_type": "stream",
          "text": [
            "<ipython-input-5-bace2ebc9cfe>:38: RuntimeWarning: invalid value encountered in true_divide\n",
            "  fscore = (2 * precision * recall) / (precision + recall)\n"
          ]
        }
      ],
      "source": [
        "TOTAL_RUN = 10\n",
        "run = 1\n",
        "\n",
        "for run in range(1,TOTAL_RUN+1):\n",
        "    print('run: {!r}'.format(run))\n",
        "    datasets = np.load('data/Runs/{!s}_{!s}_Runs/Run_{!s}.npz'.format(RAT,TOTAL_RUN, run))\n",
        "    x_train, y_train = datasets['trainX'], datasets['trainY']\n",
        "    x_test, y_test = datasets['testX'], datasets['testY']\n",
        "    print('train:',x_train.shape,y_train.shape,'; ','test:',x_test.shape,y_test.shape)\n",
        "    \n",
        "    # For Isolation Forest Model\n",
        "    ratio = float(y_test[y_test==1].shape[0]/(y_test[y_test==1].shape[0]+y_test[y_test==0].shape[0]))\n",
        "    model = define_IF(ratio)\n",
        "    \n",
        "    train(x_train=x_train)\n",
        "    evaluation(x_test=x_test, y_test=y_test)\n",
        "    run+=1"
      ]
    },
    {
      "cell_type": "markdown",
      "metadata": {},
      "source": [
        "# Retrain\n",
        "* [back to model](#model)"
      ]
    },
    {
      "cell_type": "markdown",
      "metadata": {},
      "source": [
        "# AUC and PR curve"
      ]
    },
    {
      "cell_type": "code",
      "execution_count": 7,
      "metadata": {},
      "outputs": [
        {
          "name": "stdout",
          "output_type": "stream",
          "text": [
            "0.5\n"
          ]
        },
        {
          "data": {
            "image/png": "[encoded data removed]",
            "text/plain": [
              "<Figure size 432x288 with 2 Axes>"
            ]
          },
          "metadata": {
            "needs_background": "light"
          },
          "output_type": "display_data"
        },
        {
          "name": "stdout",
          "output_type": "stream",
          "text": [
            "Average AUC score =  0.9505728073565493\n",
            "Average AUPRC score =  0.413731804424058\n",
            "Average f1 score =  0.4744315000719733\n",
            "Average recall =  0.5233739837398375\n",
            "Average precision =  0.44087885569117036\n",
            "Average accuracy =  0.9900531775782409\n",
            "[{'AUC': -0.10265455885251523, 'PRC': 0.034145177077794964}, {'AUC': -0.08836670179037664, 'PRC': 0.02813258409756092}, {'AUC': -0.10689438118382855, 'PRC': 0.026970184153734755}, {'AUC': -0.09341502524078454, 'PRC': 0.014324456267131969}, {'AUC': -0.10541198689165604, 'PRC': 0.013189087679989053}, {'AUC': -0.10129124702946735, 'PRC': 0.0027609109614736838}, {'AUC': -0.08150983229374831, 'PRC': 0.018585879776877978}, {'AUC': -0.09214618665547952, 'PRC': 0.007437751243337121}, {'AUC': -0.10595835210597021, 'PRC': 0.013857967431904594}, {'AUC': -0.10500825861732388, 'PRC': 0.003579754579524308}]\n"
          ]
        }
      ],
      "source": [
        "rcParams['figure.figsize'] = 20, 5\n",
        "#plot\n",
        "fig, ax=plt.subplots(1,2)\n",
        "proportion_of_abn = 0.5\n",
        "\n",
        "colors = ['orange','purple','green','lime','black','yellow','brown','pink','blue','lightblue']\n",
        "print(proportion_of_abn)\n",
        "\n",
        "\n",
        "for i in range(len(TPR_res)):\n",
        "    tpr, fpr = TPR_res[i], FPR_res[i]\n",
        "    precision, recall = P_res[i], R_res[i]\n",
        "    auc_score, auprc_score = AUC_res[i], AUPRC_res[i]\n",
        "    indicator = colors[i]\n",
        "\n",
        "    #ROC curve\n",
        "    ax[0].plot(fpr, tpr, color = indicator, label = '%0.4f' % auc_score)\n",
        "    ax[0].legend(loc = 'lower right')\n",
        "\n",
        "    #PR curve\n",
        "    ax[1].plot(recall, precision, color = indicator, label='%0.4f' % auprc_score)\n",
        "    ax[1].legend(loc = 'lower right')\n",
        "    \n",
        "\n",
        "\n",
        "ax[0].set_title('Receiver Operating Characteristic')\n",
        "ax[0].plot([0, 1], [0, 1],'r--')\n",
        "ax[0].set_xlim([0, 1])\n",
        "ax[0].set_ylim([0, 1])\n",
        "ax[0].set_ylabel('True Positive Rate')\n",
        "ax[0].set_xlabel('False Positive Rate')\n",
        "\n",
        "ax[1].set_title('Precision-Recall Curve')\n",
        "ax[1].plot([0, 1], [proportion_of_abn, proportion_of_abn],'r--')\n",
        "ax[1].plot([0, 1], [proportion_of_abn, proportion_of_abn],'r--')\n",
        "ax[1].set_xlim([0, 1])\n",
        "ax[1].set_ylim([0, 1])\n",
        "ax[1].set_ylabel('Precision')\n",
        "ax[1].set_xlabel('Recall')\n",
        "plt.show()\n",
        "\n",
        "#calculate average AUC and AUPRC score\n",
        "print('Average AUC score = ',sum(AUC_res) / TOTAL_RUN)\n",
        "print('Average AUPRC score = ',sum(AUPRC_res) / TOTAL_RUN)\n",
        "print('Average f1 score = ',sum(fscore_res) / TOTAL_RUN)\n",
        "print('Average recall = ',sum(recall_res) / TOTAL_RUN)\n",
        "print('Average precision = ',sum(precision_res) / TOTAL_RUN)\n",
        "print('Average accuracy = ', sum(accuracies)/TOTAL_RUN)\n",
        "\n",
        "print(THR_opt)\n",
        "\n",
        "#print optnimal thresholds of 10 folds\n",
        "#print(THR_opt)"
      ]
    },
    {
      "cell_type": "code",
      "execution_count": 8,
      "metadata": {},
      "outputs": [],
      "source": [
        "TPR_maxlen = FPR_maxlen = P_maxlen = R_maxlen = 0\n",
        "\n",
        "for i in range(len(TPR_res)):\n",
        "    if TPR_maxlen < len(TPR_res[i]): TPR_maxlen = len(TPR_res[i])\n",
        "    if FPR_maxlen < len(FPR_res[i]): FPR_maxlen = len(FPR_res[i])\n",
        "    if P_maxlen < len(P_res[i]): P_maxlen = len(P_res[i])\n",
        "    if R_maxlen < len(R_res[i]): R_maxlen = len(R_res[i])\n",
        "\n",
        "def AddOn(addTo,data,row, dataLen):\n",
        "    tmp = data[0]\n",
        "    for i in range(dataLen):\n",
        "        if i<len(data[row]) and data[row][i] is not np.nan: tmp = data[row][i]\n",
        "        addTo[i]+=tmp\n",
        "\n",
        "def AVG(data):\n",
        "    return (data / TOTAL_RUN).tolist()\n",
        "TPR_avg, FPR_avg, P_avg, R_avg = np.zeros((TPR_maxlen)), np.zeros((FPR_maxlen)), np.zeros((P_maxlen)), np.zeros((R_maxlen))\n",
        "\n",
        "for i in range(len(TPR_res)):\n",
        "    AddOn(TPR_avg, TPR_res, i, TPR_maxlen)\n",
        "    AddOn(FPR_avg, FPR_res, i, FPR_maxlen)\n",
        "    AddOn(P_avg, P_res, i, P_maxlen)\n",
        "    AddOn(R_avg, R_res, i, R_maxlen)\n",
        "    \n",
        "TPR_avg, FPR_avg, P_avg, R_avg = AVG(TPR_avg), AVG(FPR_avg), AVG(P_avg), AVG(R_avg)"
      ]
    },
    {
      "cell_type": "code",
      "execution_count": 9,
      "metadata": {},
      "outputs": [
        {
          "data": {
            "image/png": "[encoded data removed]",
            "text/plain": [
              "<Figure size 432x288 with 2 Axes>"
            ]
          },
          "metadata": {
            "needs_background": "light"
          },
          "output_type": "display_data"
        }
      ],
      "source": [
        "#plot\n",
        "fig, ax=plt.subplots(1,2)\n",
        "\n",
        "#ROC curve\n",
        "ax[0].set_title('Receiver Operating Characteristic')\n",
        "ax[0].plot(FPR_avg, TPR_avg, color = 'orange', label = 'AUC = %0.4f' % 0)\n",
        "ax[0].legend(loc = 'lower right')\n",
        "ax[0].plot([0, 1], [0, 1],'r--')\n",
        "ax[0].set_xlim([0, 1])\n",
        "ax[0].set_ylim([0, 1])\n",
        "ax[0].set_ylabel('True Positive Rate')\n",
        "ax[0].set_xlabel('False Positive Rate')\n",
        "\n",
        "#PR curve\n",
        "ax[1].set_title('Precision-Recall Curve')\n",
        "ax[1].plot(R_avg, P_avg, color = 'purple', label='AUPRC = %0.4f' % 0)\n",
        "ax[1].legend(loc = 'lower right')\n",
        "nScore, abnScore = y_test[y_test==1], y_test[y_test==-1]\n",
        "proportion_of_abn = len(abnScore) / (len(nScore)+len(abnScore))\n",
        "ax[1].plot([0, 1], [proportion_of_abn, proportion_of_abn],'r--')\n",
        "ax[1].set_xlim([0, 1])\n",
        "ax[1].set_ylim([0, 1])\n",
        "ax[1].set_ylabel('Precision')\n",
        "ax[1].set_xlabel('Recall')\n",
        "\n",
        "plt.show()"
      ]
    },
    {
      "cell_type": "markdown",
      "metadata": {},
      "source": [
        "# Save Result to json"
      ]
    },
    {
      "cell_type": "code",
      "execution_count": 10,
      "metadata": {},
      "outputs": [],
      "source": [
        "import json\n",
        "\n",
        "with open('data/Runs/{!s}_{!s}_Runs/result.json'.format(RAT,TOTAL_RUN, run), \"r\", encoding='utf-8') as jsonFile:\n",
        "    data = json.load(jsonFile)\n",
        "\n",
        "with open('data/Runs/{!s}_{!s}_Runs/result.json'.format(RAT,TOTAL_RUN, run), 'w', encoding='utf-8') as jsonFile:\n",
        "    data['IF'] = {\n",
        "            'AUC': AUC_res,\n",
        "            'AUPRC': AUPRC_res,\n",
        "            'Fscore': fscore_res,\n",
        "            'Recall': recall_res,\n",
        "            'Precision': precision_res,\n",
        "            'Accuracy': accuracies,\n",
        "            'THR_opt': THR_opt,\n",
        "            'AVG': {\n",
        "                'TPR': TPR_avg,\n",
        "                'FPR': FPR_avg,\n",
        "                'P': P_avg,\n",
        "                'R': R_avg\n",
        "            }\n",
        "        }\n",
        "    \n",
        "    json.dump(data, jsonFile, ensure_ascii=False)"
      ]
    },
    {
      "cell_type": "markdown",
      "metadata": {},
      "source": [
        "# End of Jupyter\n",
        "* [To top](#common-link)"
      ]
    }
  ],
  "metadata": {
    "accelerator": "GPU",
    "colab": {
      "name": "ganomaly",
      "provenance": [],
      "version": "0.3.2"
    },
    "kernelspec": {
      "display_name": "Python 3.8.3 ('base')",
      "language": "python",
      "name": "python3"
    },
    "language_info": {
      "codemirror_mode": {
        "name": "ipython",
        "version": 3
      },
      "file_extension": ".py",
      "mimetype": "text/x-python",
      "name": "python",
      "nbconvert_exporter": "python",
      "pygments_lexer": "ipython3",
      "version": "3.8.3"
    },
    "vscode": {
      "interpreter": {
        "hash": "ad2bdc8ecc057115af97d19610ffacc2b4e99fae6737bb82f5d7fb13d2f2c186"
      }
    }
  },
  "nbformat": 4,
  "nbformat_minor": 0
}
