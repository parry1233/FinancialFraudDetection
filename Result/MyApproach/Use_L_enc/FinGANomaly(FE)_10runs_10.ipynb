{
  "cells": [
    {
      "cell_type": "markdown",
      "metadata": {},
      "source": [
        "# Common link\n",
        "* [Load Data](#load-data)\n",
        "* [Split Data](#split-dataset)\n",
        "* [Model](#model)\n",
        "* [Evaluation](#evaluation)"
      ]
    },
    {
      "cell_type": "code",
      "execution_count": 1,
      "metadata": {},
      "outputs": [],
      "source": [
        "feature = 29"
      ]
    },
    {
      "cell_type": "markdown",
      "metadata": {},
      "source": [
        "# Model"
      ]
    },
    {
      "cell_type": "code",
      "execution_count": 2,
      "metadata": {
        "colab": {
          "base_uri": "https://localhost:8080/",
          "height": 34
        },
        "colab_type": "code",
        "id": "_fOFzTCbXTfi",
        "outputId": "4e0db446-6657-442e-a7e5-f81c198d1dee"
      },
      "outputs": [],
      "source": [
        "from tensorflow.keras import layers\n",
        "import tensorflow.keras as keras\n",
        "import tensorflow.keras.backend as K"
      ]
    },
    {
      "cell_type": "code",
      "execution_count": 3,
      "metadata": {},
      "outputs": [],
      "source": [
        "g_e, g, f_e, d = None, None, None, None\n",
        "gan_trainer = None\n",
        "RAT = 10"
      ]
    },
    {
      "cell_type": "markdown",
      "metadata": {
        "colab_type": "text",
        "id": "9V6k5E4HX8ns"
      },
      "source": [
        "## Generators Encoder\n"
      ]
    },
    {
      "cell_type": "code",
      "execution_count": 4,
      "metadata": {
        "colab": {
          "base_uri": "https://localhost:8080/",
          "height": 819
        },
        "colab_type": "code",
        "id": "6SSgbWtgYFge",
        "outputId": "ffb3b7cc-871f-4ef6-b1cb-6f2eb6193249"
      },
      "outputs": [],
      "source": [
        "def define_GE():\n",
        "    input_layer = layers.Input(name='input', shape=(feature))\n",
        "    #x = layers.Reshape((height, width, channels), name='ge_reshape')(input_layer)\n",
        "\n",
        "    # Encoder\n",
        "    x = layers.Dense(1024, name='ge_dense_1')(input_layer)\n",
        "    x = layers.LeakyReLU(name='ge_leaky_1')(x)\n",
        "\n",
        "    x = layers.Dense(512, name='ge_dense_2')(x)\n",
        "    x = layers.LeakyReLU(name='ge_leaky_2')(x)\n",
        "\n",
        "    x = layers.Dense(256, name='ge_dense_3')(x)\n",
        "    x = layers.LeakyReLU(name='ge_leaky_3')(x)\n",
        "\n",
        "    x = layers.Dense(128, name='ge_dense_4')(x)\n",
        "    x = layers.LeakyReLU(name='ge_leaky_4')(x)\n",
        "\n",
        "    #x = layers.GlobalAveragePooling2D(name='g_encoder_output')(x)\n",
        "\n",
        "    g_e = keras.models.Model(inputs=input_layer, outputs=x)\n",
        "\n",
        "    #g_e.summary()\n",
        "    return g_e"
      ]
    },
    {
      "cell_type": "markdown",
      "metadata": {
        "colab_type": "text",
        "id": "CsFGE97WYMts"
      },
      "source": [
        "## Generator"
      ]
    },
    {
      "cell_type": "code",
      "execution_count": 5,
      "metadata": {
        "colab": {
          "base_uri": "https://localhost:8080/",
          "height": 510
        },
        "colab_type": "code",
        "id": "pivNg2CMYQwi",
        "outputId": "4281bfb2-df6d-4958-b3e5-dd75d06f866a"
      },
      "outputs": [],
      "source": [
        "def define_G(g_e):\n",
        "    input_layer = layers.Input(name='input', shape=(feature))\n",
        "\n",
        "    x = g_e(input_layer)\n",
        "\n",
        "    #y = layers.Reshape((height // 6, width // 6, 128), name='de_reshape1')(x) # 256 = 256 * (6/6) * (6/6) \n",
        "\n",
        "    y = layers.Dense(256, name='dense_1')(x)\n",
        "    y = layers.LeakyReLU(name='leaky_1')(y)\n",
        "\n",
        "    y = layers.Dense(512, name='dense_2')(y)\n",
        "    y = layers.LeakyReLU(name='leaky_2')(y)\n",
        "\n",
        "    y = layers.Dense(1024, name='dense_3')(y)\n",
        "    y = layers.LeakyReLU(name='leaky_3')(y)\n",
        "\n",
        "    y = layers.Dense(feature, name='dense_4')(y)\n",
        "    y = layers.LeakyReLU(name='leaky_4')(y)\n",
        "\n",
        "    #y = layers.Flatten()(y)\n",
        "    #y = layers.Dense(36, name='dense')(y)\n",
        "    #y = layers.Reshape((height, width, channels), name='de_reshape2')(y)\n",
        "\n",
        "    g = keras.models.Model(inputs=input_layer, outputs=y)\n",
        "\n",
        "    #g.summary()\n",
        "    \n",
        "    return g"
      ]
    },
    {
      "cell_type": "markdown",
      "metadata": {
        "colab_type": "text",
        "id": "pWWVBPizZctk"
      },
      "source": [
        "## discriminator"
      ]
    },
    {
      "cell_type": "code",
      "execution_count": 6,
      "metadata": {
        "colab": {
          "base_uri": "https://localhost:8080/",
          "height": 272
        },
        "colab_type": "code",
        "id": "xcJdjTerZbMN",
        "outputId": "837e9958-23db-408c-916e-2e0c23250d0f"
      },
      "outputs": [],
      "source": [
        "def define_FE():\n",
        "    input_layer = layers.Input(name='input', shape=(feature))\n",
        "\n",
        "    f = layers.Dense(1024, name='f_dense_1')(input_layer)\n",
        "    f = layers.LeakyReLU(name='f_leaky_1')(f)\n",
        "\n",
        "    f = layers.Dense(512, name='f_dense_2')(f)\n",
        "    f = layers.LeakyReLU(name='f_leaky_2')(f)\n",
        "\n",
        "    f = layers.Dense(256, name='f_dense_3')(f)\n",
        "    f = layers.LeakyReLU(name='f_leaky_3')(f)\n",
        "\n",
        "    f = layers.Dense(128, name='f_dense_4')(f)\n",
        "    f = layers.LeakyReLU(name='feature_output')(f)\n",
        "    \n",
        "    fe = keras.models.Model(input_layer, f)\n",
        "    \n",
        "    return fe\n",
        "    "
      ]
    },
    {
      "cell_type": "code",
      "execution_count": 7,
      "metadata": {},
      "outputs": [],
      "source": [
        "def define_D(fe):\n",
        "    input_layer = layers.Input(name='input', shape=(feature))\n",
        "    \n",
        "    f = fe(input_layer)\n",
        "\n",
        "    #d = layers.Dense(16, name='d_dense_1')(f)\n",
        "    d = layers.Dense(1, activation='sigmoid', name='d_out')(f)\n",
        "        \n",
        "    d = keras.models.Model(input_layer, d)\n",
        "    #d.summary()\n",
        "    d.compile(optimizer='adam', loss='binary_crossentropy')\n",
        "    \n",
        "    return d"
      ]
    },
    {
      "cell_type": "markdown",
      "metadata": {
        "colab_type": "text",
        "id": "Z7HBx1GiZhm-"
      },
      "source": [
        "## gan trainer"
      ]
    },
    {
      "cell_type": "code",
      "execution_count": 8,
      "metadata": {
        "colab": {
          "base_uri": "https://localhost:8080/",
          "height": 71
        },
        "colab_type": "code",
        "id": "bosacIf7ZkZ4",
        "outputId": "341417b4-0771-466f-c9d0-68554e089f8e"
      },
      "outputs": [],
      "source": [
        "import tensorflow as tf\n",
        "class AdvLoss(keras.layers.Layer):\n",
        "    def __init__(self, **kwargs):\n",
        "        super(AdvLoss, self).__init__(**kwargs)\n",
        "\n",
        "    def call(self, x, mask=None):\n",
        "        y_pred = d(x[1])\n",
        "        y_true = tf.ones_like(y_pred)\n",
        "        return keras.losses.binary_crossentropy(y_true,y_pred)\n",
        "\n",
        "    def get_output_shape_for(self, input_shape):\n",
        "        return (input_shape[0][0], 1)\n",
        "    \n",
        "class CntLoss(keras.layers.Layer):\n",
        "    def __init__(self, **kwargs):\n",
        "        super(CntLoss, self).__init__(**kwargs)\n",
        "\n",
        "    def call(self, x, mask=None):\n",
        "        ori = x[0]\n",
        "        gan = x[1]\n",
        "        return K.mean(K.abs(ori - gan))\n",
        "\n",
        "    def get_output_shape_for(self, input_shape):\n",
        "        return (input_shape[0][0], 1)\n",
        "    \n",
        "class EncLoss(keras.layers.Layer):\n",
        "    def __init__(self, **kwargs):\n",
        "        super(EncLoss, self).__init__(**kwargs)\n",
        "\n",
        "    def call(self, x, mask=None):\n",
        "        ori = x[0]\n",
        "        gan = x[1]\n",
        "        return K.mean(K.square(f_e(ori) - f_e(gan)))\n",
        "\n",
        "    def get_output_shape_for(self, input_shape):\n",
        "        return (input_shape[0][0], 1)\n",
        "\n",
        "# loss function\n",
        "def loss(yt, yp):\n",
        "    return yp"
      ]
    },
    {
      "cell_type": "code",
      "execution_count": 9,
      "metadata": {},
      "outputs": [],
      "source": [
        "def define_gan_trainer():\n",
        "    # model for training\n",
        "    input_layer = layers.Input(name='input', shape=(feature))\n",
        "    gan = g(input_layer) # g(x)\n",
        "\n",
        "    adv_loss = AdvLoss(name='adv_loss')([input_layer, gan])\n",
        "    cnt_loss = CntLoss(name='cnt_loss')([input_layer, gan])\n",
        "    enc_loss = EncLoss(name='enc_loss')([input_layer, gan])\n",
        "\n",
        "    gan_trainer = keras.models.Model(input_layer, [adv_loss, cnt_loss, enc_loss])\n",
        "\n",
        "    losses = {\n",
        "        'adv_loss': loss,\n",
        "        'cnt_loss': loss,\n",
        "        'enc_loss': loss,\n",
        "    }\n",
        "\n",
        "    lossWeights = {'cnt_loss': 40.0, 'adv_loss': 1.0, 'enc_loss': 1.0}\n",
        "    \n",
        "    # compile\n",
        "    gan_trainer.compile(optimizer = 'adam', loss=losses, loss_weights=lossWeights)\n",
        "    #gan_trainer.summary()\n",
        "    \n",
        "    return gan_trainer"
      ]
    },
    {
      "cell_type": "markdown",
      "metadata": {
        "colab_type": "text",
        "id": "dxPzCEC1bFMR"
      },
      "source": [
        "# Training"
      ]
    },
    {
      "cell_type": "code",
      "execution_count": 10,
      "metadata": {},
      "outputs": [],
      "source": [
        "import numpy as np\n",
        "niter = 1000\n",
        "bz = 512"
      ]
    },
    {
      "cell_type": "code",
      "execution_count": 11,
      "metadata": {
        "colab": {},
        "colab_type": "code",
        "id": "53rLCTe3a8LY"
      },
      "outputs": [],
      "source": [
        "def get_data_generator(data, batch_size=32):\n",
        "    datalen = len(data)\n",
        "    cnt = 0\n",
        "    while True:\n",
        "        idxes = np.arange(datalen)\n",
        "        np.random.shuffle(idxes)\n",
        "        cnt += 1\n",
        "        for i in range(int(np.ceil(datalen/batch_size))):\n",
        "            train_x = np.take(data, idxes[i*batch_size: (i+1) * batch_size], axis=0)\n",
        "            y = np.ones(len(train_x))\n",
        "            yield train_x, [y, y, y]"
      ]
    },
    {
      "cell_type": "code",
      "execution_count": 12,
      "metadata": {},
      "outputs": [],
      "source": [
        "def train(x_train):\n",
        "    train_data_generator = get_data_generator(x_train, bz)\n",
        "    for i in range(niter):\n",
        "        \n",
        "        ### get batch x, y ###\n",
        "        x, y = train_data_generator.__next__()\n",
        "            \n",
        "        ### train disciminator ###\n",
        "        d.trainable = True\n",
        "\n",
        "        #print(x.shape)\n",
        "            \n",
        "        fake_x = g.predict(x)\n",
        "            \n",
        "        d_x = np.concatenate([x, fake_x], axis=0)\n",
        "        d_y = np.concatenate([np.zeros(len(x)), np.ones(len(fake_x))], axis=0)\n",
        "            \n",
        "        d_loss = d.train_on_batch(d_x, d_y)\n",
        "\n",
        "        ### train generator ###\n",
        "        \n",
        "        d.trainable = False        \n",
        "        g_loss = gan_trainer.train_on_batch(x, y)\n",
        "        \n",
        "        if i % 100 == 0:\n",
        "            print(f'niter: {i+1}, g_loss: {g_loss}, d_loss: {d_loss}')"
      ]
    },
    {
      "cell_type": "markdown",
      "metadata": {
        "colab_type": "text",
        "id": "0cHDcccacdST"
      },
      "source": [
        "# Evaluation"
      ]
    },
    {
      "cell_type": "code",
      "execution_count": 13,
      "metadata": {
        "colab": {},
        "colab_type": "code",
        "id": "UXAufnuIbuvF"
      },
      "outputs": [],
      "source": [
        "from matplotlib import pyplot as plt\n",
        "from pylab import rcParams\n",
        "from sklearn.metrics import roc_curve, roc_auc_score, precision_recall_curve, auc, average_precision_score\n",
        "from sklearn import metrics\n",
        "from sklearn.metrics import classification_report, confusion_matrix\n",
        "import seaborn as sns\n",
        "\n",
        "TPR_res, FPR_res, P_res, R_res = [], [], [], []\n",
        "AUC_res, AUPRC_res = [], []\n",
        "accuracies, fscore_res, recall_res, precision_res = [], [], [], []\n",
        "reports = []\n",
        "scores = []\n",
        "THR_opt = []\n",
        "\n",
        "lat_weight = 0.1\n",
        "recons_weight = 1-lat_weight\n",
        "\n",
        "def evaluation(x_test,y_test):\n",
        "    encoded = g_e.predict(x_test)\n",
        "    gan_x = g.predict(x_test)\n",
        "    encoded_gan = g_e.predict(gan_x)\n",
        "    recons_loss = np.mean(np.absolute(gan_x - x_test), axis=-1)\n",
        "    lat_loss = np.mean(np.square(encoded - encoded_gan), axis=-1)\n",
        "    print('LATloss:',lat_loss.shape)\n",
        "    print('RECloss:',recons_loss.shape)\n",
        "    score = lat_weight*lat_loss + recons_weight*recons_loss\n",
        "    #score = (score - np.min(score)) / (np.max(score) - np.min(score)) # map to 0~1\n",
        "    print('Scores:',score.shape)\n",
        "    score = score.reshape(len(score))\n",
        "\n",
        "    nScore, abnScore = score[y_test==0], score[y_test==1]\n",
        "    print('Scores of Normal and Abnormal:',nScore.shape,abnScore.shape)\n",
        "    scores.append([nScore,abnScore])\n",
        "\n",
        "\n",
        "    score = score.reshape(len(score))\n",
        "    fpr, tpr, threshold_auc = roc_curve(y_score=score, y_true=y_test, pos_label=1)\n",
        "    TPR_res.append(tpr)\n",
        "    FPR_res.append(fpr)\n",
        "    precision, recall, threshold_prc = precision_recall_curve(probas_pred=score, y_true=y_test, pos_label=1)\n",
        "    P_res.append(precision)\n",
        "    R_res.append(recall)\n",
        "\n",
        "    auc_score = auc(fpr,tpr)\n",
        "    auprc_score = auc(recall, precision)\n",
        "    AUC_res.append(auc_score)\n",
        "    AUPRC_res.append(auprc_score)\n",
        "\n",
        "\n",
        "    # optimal cut off point would be where “true positive rate” is high and the “false positive rate” is low.\n",
        "    J = tpr - fpr\n",
        "    ix1 = np.argmax(J)\n",
        "    optimal_threshold = threshold_auc[ix1]\n",
        "    #optimal_threshold = sorted(list(zip(np.sqrt(tpr-fpr), threshold_auc)), key=lambda i: i[0], reverse=False)[0][1]\n",
        "    print('Optimal threshold for best AUC:',optimal_threshold, 'TPR-FPR=',J[ix1])\n",
        "\n",
        "    fscore = (2 * precision * recall) / (precision + recall)\n",
        "    ix2 = np.nanargmax(fscore)\n",
        "    optimal_prc_threshold = threshold_prc[ix2]\n",
        "    #optimal_prc_threshold = sorted(list(zip(np.abs(precision - recall), threshold_prc)), key=lambda i: i[0], reverse=False)[0][1]\n",
        "    print('Optimal threshold for best AUPRC:',optimal_prc_threshold,'f-score=', fscore[ix2])\n",
        "    \n",
        "    fscore_res.append(fscore[ix2])\n",
        "    recall_res.append(recall[ix2])\n",
        "    precision_res.append(precision[ix2])\n",
        "\n",
        "    THR_opt.append({'AUC':optimal_threshold, 'PRC':optimal_prc_threshold})\n",
        "    \n",
        "    yTest_predict = [0 if s<=optimal_prc_threshold else 1 for s in score]\n",
        "    class_report = classification_report(y_pred=yTest_predict, y_true=y_test, digits=4, output_dict=True)\n",
        "    reports.append(class_report)\n",
        "    accuracies.append(class_report['accuracy'])\n"
      ]
    },
    {
      "cell_type": "markdown",
      "metadata": {},
      "source": [
        "# K-Fold Train"
      ]
    },
    {
      "cell_type": "code",
      "execution_count": 14,
      "metadata": {},
      "outputs": [
        {
          "name": "stdout",
          "output_type": "stream",
          "text": [
            "run: 1\n",
            "train: (279395, 29) (279395,) ;  test: (5412, 29) (5412,)\n",
            "niter: 1, g_loss: [26.49443244934082, 0.6986196637153625, 0.6443107724189758, 0.023381996899843216], d_loss: 0.7059369683265686\n",
            "niter: 101, g_loss: [5.898979187011719, 0.23525501787662506, 0.13100484013557434, 0.4235306680202484], d_loss: 0.27209600806236267\n",
            "niter: 201, g_loss: [9.819809913635254, 0.2167513072490692, 0.20098024606704712, 1.5638494491577148], d_loss: 0.19361267983913422\n",
            "niter: 301, g_loss: [27.620147705078125, 0.1521444022655487, 0.16251373291015625, 20.96745491027832], d_loss: 0.3050540089607239\n",
            "niter: 401, g_loss: [15.57028579711914, 0.1071162223815918, 0.31769758462905884, 2.7552661895751953], d_loss: 0.11240128427743912\n",
            "niter: 501, g_loss: [18.27890968322754, 0.04987828806042671, 0.33651041984558105, 4.768615245819092], d_loss: 0.044309962540864944\n",
            "niter: 601, g_loss: [21.51900863647461, 0.11756420880556107, 0.3870353400707245, 5.9200310707092285], d_loss: 0.1458478420972824\n",
            "niter: 701, g_loss: [27.84514617919922, 0.1283782571554184, 0.4900169372558594, 8.116090774536133], d_loss: 0.15403655171394348\n",
            "niter: 801, g_loss: [17.144027709960938, 0.05792323872447014, 0.2985842525959015, 5.142735481262207], d_loss: 0.07921922951936722\n",
            "niter: 901, g_loss: [14.836861610412598, 0.0815284252166748, 0.2695175111293793, 3.9746322631835938], d_loss: 0.11362933367490768\n",
            "LATloss: (5412,)\n",
            "RECloss: (5412,)\n",
            "Scores: (5412,)\n",
            "Scores of Normal and Abnormal: (4920,) (492,)\n",
            "Optimal threshold for best AUC: 0.6502263264760131 TPR-FPR= 0.817479674796748\n",
            "Optimal threshold for best AUPRC: 1.2673595764816452 f-score= 0.8658669574700109\n",
            "run: 2\n",
            "train: (279395, 29) (279395,) ;  test: (5412, 29) (5412,)\n",
            "niter: 1, g_loss: [27.867412567138672, 0.6960527896881104, 0.6783553957939148, 0.03714437782764435], d_loss: 0.6764035820960999\n",
            "niter: 101, g_loss: [5.921707630157471, 0.23150888085365295, 0.1324528306722641, 0.3920852541923523], d_loss: 0.3042256534099579\n",
            "niter: 201, g_loss: [14.226112365722656, 0.24674224853515625, 0.2482394129037857, 4.049792766571045], d_loss: 0.22375939786434174\n",
            "niter: 301, g_loss: [21.37579345703125, 0.08105143159627914, 0.3540554344654083, 7.132525444030762], d_loss: 0.05623653903603554\n",
            "niter: 401, g_loss: [17.046133041381836, 0.08067142963409424, 0.2627178132534027, 6.456749439239502], d_loss: 0.10015100985765457\n",
            "niter: 501, g_loss: [15.84722900390625, 0.03346093371510506, 0.2915475368499756, 4.1518659591674805], d_loss: 0.07187758386135101\n",
            "niter: 601, g_loss: [26.78139877319336, 0.1923682987689972, 0.2575118839740753, 16.288555145263672], d_loss: 0.16669076681137085\n",
            "niter: 701, g_loss: [12.31625747680664, 0.09349611401557922, 0.20743560791015625, 3.9253363609313965], d_loss: 0.12088917940855026\n",
            "niter: 801, g_loss: [15.924598693847656, 0.10951460897922516, 0.23161962628364563, 6.550298690795898], d_loss: 0.10485025495290756\n",
            "niter: 901, g_loss: [15.57802963256836, 0.09161161631345749, 0.2231765240430832, 6.559357166290283], d_loss: 0.15354254841804504\n",
            "LATloss: (5412,)\n",
            "RECloss: (5412,)\n",
            "Scores: (5412,)\n",
            "Scores of Normal and Abnormal: (4920,) (492,)\n",
            "Optimal threshold for best AUC: 0.45295326936147795 TPR-FPR= 0.8223577235772358\n",
            "Optimal threshold for best AUPRC: 0.991888546735957 f-score= 0.8441145281018028\n",
            "run: 3\n",
            "train: (279395, 29) (279395,) ;  test: (5412, 29) (5412,)\n",
            "niter: 1, g_loss: [26.255971908569336, 0.70125412940979, 0.6384504437446594, 0.016701018437743187], d_loss: 0.743209183216095\n",
            "niter: 101, g_loss: [6.378048419952393, 0.2299947589635849, 0.1413913071155548, 0.4924014210700989], d_loss: 0.2785889506340027\n",
            "niter: 201, g_loss: [16.041601181030273, 0.23537889122962952, 0.2181665301322937, 7.079561233520508], d_loss: 0.2620818018913269\n",
            "niter: 301, g_loss: [20.05159568786621, 0.24054349958896637, 0.4156447649002075, 3.18526291847229], d_loss: 0.21871697902679443\n",
            "niter: 401, g_loss: [13.433359146118164, 0.19130954146385193, 0.2252403199672699, 4.2324371337890625], d_loss: 0.1449345052242279\n",
            "niter: 501, g_loss: [14.685121536254883, 0.08989476412534714, 0.2506614029407501, 4.568770885467529], d_loss: 0.10371959954500198\n",
            "niter: 601, g_loss: [10.031463623046875, 0.14735065400600433, 0.17995525896549225, 2.6859025955200195], d_loss: 0.12863044440746307\n",
            "niter: 701, g_loss: [11.429725646972656, 0.15031376481056213, 0.18628379702568054, 3.828059673309326], d_loss: 0.15008097887039185\n",
            "niter: 801, g_loss: [15.37808609008789, 0.06109006702899933, 0.246207594871521, 5.468692779541016], d_loss: 0.06671496480703354\n",
            "niter: 901, g_loss: [14.578006744384766, 0.042499493807554245, 0.24651004374027252, 4.675105571746826], d_loss: 0.04603162780404091\n",
            "LATloss: (5412,)\n",
            "RECloss: (5412,)\n",
            "Scores: (5412,)\n",
            "Scores of Normal and Abnormal: (4920,) (492,)\n",
            "Optimal threshold for best AUC: 0.5121774461133615 TPR-FPR= 0.8272357723577235\n",
            "Optimal threshold for best AUPRC: 4.162148630521575 f-score= 0.8873873873873873\n",
            "run: 4\n",
            "train: (279395, 29) (279395,) ;  test: (5412, 29) (5412,)\n",
            "niter: 1, g_loss: [26.880029678344727, 0.7007771730422974, 0.6538333296775818, 0.025919409468770027], d_loss: 0.6726484298706055\n",
            "niter: 101, g_loss: [6.2453694343566895, 0.3571447432041168, 0.14014150202274323, 0.2825647294521332], d_loss: 0.3255532383918762\n",
            "niter: 201, g_loss: [9.224692344665527, 0.31527984142303467, 0.18816296756267548, 1.3828933238983154], d_loss: 0.3395879864692688\n",
            "niter: 301, g_loss: [7.924923896789551, 0.17816995084285736, 0.13943669199943542, 2.169285774230957], d_loss: 0.19242648780345917\n",
            "niter: 401, g_loss: [18.217891693115234, 0.1870051473379135, 0.3213512897491455, 5.176835060119629], d_loss: 0.16380183398723602\n",
            "niter: 501, g_loss: [15.174844741821289, 0.07497464865446091, 0.2967558205127716, 3.22963809967041], d_loss: 0.09958648681640625\n",
            "niter: 601, g_loss: [55.96564865112305, 0.07107599824666977, 0.2785395383834839, 44.75299072265625], d_loss: 0.1932356059551239\n",
            "niter: 701, g_loss: [73.76434326171875, 0.08367343991994858, 0.23102092742919922, 64.43983459472656], d_loss: 0.09385543316602707\n",
            "niter: 801, g_loss: [19.03913116455078, 0.0863911360502243, 0.32831159234046936, 5.820277214050293], d_loss: 0.09671875834465027\n",
            "niter: 901, g_loss: [14.887378692626953, 0.0685868039727211, 0.24779954552650452, 4.9068098068237305], d_loss: 0.05915989354252815\n",
            "LATloss: (5412,)\n",
            "RECloss: (5412,)\n",
            "Scores: (5412,)\n",
            "Scores of Normal and Abnormal: (4920,) (492,)\n",
            "Optimal threshold for best AUC: 0.8001446298796969 TPR-FPR= 0.8420731707317073\n",
            "Optimal threshold for best AUPRC: 1.2227593333161808 f-score= 0.8499475341028332\n",
            "run: 5\n",
            "train: (279395, 29) (279395,) ;  test: (5412, 29) (5412,)\n",
            "niter: 1, g_loss: [26.6138858795166, 0.7017428874969482, 0.6472792625427246, 0.020973041653633118], d_loss: 0.7103627324104309\n",
            "niter: 101, g_loss: [6.404026985168457, 0.599275529384613, 0.14024066925048828, 0.19512483477592468], d_loss: 0.46534034609794617\n",
            "niter: 201, g_loss: [30.834938049316406, 0.2689328193664551, 0.24525949358940125, 20.755626678466797], d_loss: 0.33902445435523987\n",
            "niter: 301, g_loss: [20.41059112548828, 0.07673226296901703, 0.4016072452068329, 4.269570350646973], d_loss: 0.09237681329250336\n",
            "niter: 401, g_loss: [14.552461624145508, 0.07806173712015152, 0.24610969424247742, 4.630011558532715], d_loss: 0.0984874814748764\n",
            "niter: 501, g_loss: [21.437877655029297, 0.20412704348564148, 0.3937709331512451, 5.482913970947266], d_loss: 0.2599802613258362\n",
            "niter: 601, g_loss: [17.26787757873535, 0.07255226373672485, 0.284685343503952, 5.8079118728637695], d_loss: 0.0783076137304306\n",
            "niter: 701, g_loss: [25.60193634033203, 0.08469029515981674, 0.5151228904724121, 4.912330627441406], d_loss: 0.07873260974884033\n",
            "niter: 801, g_loss: [21.309694290161133, 0.0374564453959465, 0.41916438937187195, 4.505662441253662], d_loss: 0.0507650151848793\n",
            "niter: 901, g_loss: [17.43997573852539, 0.0399533286690712, 0.3201734721660614, 4.593084335327148], d_loss: 0.06216222792863846\n",
            "LATloss: (5412,)\n",
            "RECloss: (5412,)\n",
            "Scores: (5412,)\n",
            "Scores of Normal and Abnormal: (4920,) (492,)\n",
            "Optimal threshold for best AUC: 0.4835019492888985 TPR-FPR= 0.823170731707317\n",
            "Optimal threshold for best AUPRC: 1.280984067145802 f-score= 0.8671023965141612\n",
            "run: 6\n",
            "train: (279395, 29) (279395,) ;  test: (5412, 29) (5412,)\n",
            "niter: 1, g_loss: [25.667659759521484, 0.7001925706863403, 0.6237123608589172, 0.01897374540567398], d_loss: 0.7087593078613281\n",
            "niter: 101, g_loss: [6.609050750732422, 0.21872110664844513, 0.14674319326877594, 0.5206019878387451], d_loss: 0.28189757466316223\n",
            "niter: 201, g_loss: [8.786981582641602, 0.3017483055591583, 0.16921961307525635, 1.7164491415023804], d_loss: 0.2600805461406708\n",
            "niter: 301, g_loss: [38.356727600097656, 0.03863713890314102, 0.4621671140193939, 19.83140754699707], d_loss: 0.022538816556334496\n",
            "niter: 401, g_loss: [16.83548927307129, 0.0633087083697319, 0.30160635709762573, 4.707925319671631], d_loss: 0.05253435671329498\n",
            "niter: 501, g_loss: [24.761268615722656, 0.028191469609737396, 0.2597582936286926, 14.342745780944824], d_loss: 0.05896707996726036\n",
            "niter: 601, g_loss: [18.779396057128906, 0.04203062504529953, 0.28077349066734314, 7.506424903869629], d_loss: 0.04759486764669418\n",
            "niter: 701, g_loss: [19.49529266357422, 0.08285652101039886, 0.32987233996391296, 6.21754264831543], d_loss: 0.10032456368207932\n",
            "niter: 801, g_loss: [19.07607650756836, 0.03595929220318794, 0.2693467438220978, 8.266246795654297], d_loss: 0.04037433862686157\n",
            "niter: 901, g_loss: [15.537010192871094, 0.05242181569337845, 0.24310356378555298, 5.760446548461914], d_loss: 0.0655326172709465\n",
            "LATloss: (5412,)\n",
            "RECloss: (5412,)\n",
            "Scores: (5412,)\n",
            "Scores of Normal and Abnormal: (4920,) (492,)\n",
            "Optimal threshold for best AUC: 0.3994012519222337 TPR-FPR= 0.816260162601626\n",
            "Optimal threshold for best AUPRC: 1.266747171795395 f-score= 0.8593073593073592\n",
            "run: 7\n",
            "train: (279395, 29) (279395,) ;  test: (5412, 29) (5412,)\n",
            "niter: 1, g_loss: [27.844898223876953, 0.7004212141036987, 0.6779605746269226, 0.026053545996546745], d_loss: 0.7296589612960815\n",
            "niter: 101, g_loss: [6.273532867431641, 0.30158063769340515, 0.14119677245616913, 0.32408130168914795], d_loss: 0.29695257544517517\n",
            "niter: 201, g_loss: [4.928906440734863, 0.30604034662246704, 0.10606323927640915, 0.3803369104862213], d_loss: 0.3645496070384979\n",
            "niter: 301, g_loss: [12.955814361572266, 0.09744327515363693, 0.2636425793170929, 2.3126678466796875], d_loss: 0.06609965860843658\n",
            "niter: 401, g_loss: [9.903242111206055, 0.16578419506549835, 0.20138154923915863, 1.6821959018707275], d_loss: 0.11388109624385834\n",
            "niter: 501, g_loss: [9.219135284423828, 0.09350025653839111, 0.17027756571769714, 2.3145320415496826], d_loss: 0.07481817901134491\n",
            "niter: 601, g_loss: [18.357097625732422, 0.11484754085540771, 0.236427903175354, 8.785135269165039], d_loss: 0.10288861393928528\n",
            "niter: 701, g_loss: [18.62253189086914, 0.06286260485649109, 0.34275755286216736, 4.849368095397949], d_loss: 0.06830257177352905\n",
            "niter: 801, g_loss: [19.483409881591797, 0.03857380896806717, 0.30716633796691895, 7.158181667327881], d_loss: 0.0746171623468399\n",
            "niter: 901, g_loss: [12.641399383544922, 0.03687813878059387, 0.24223949015140533, 2.9149410724639893], d_loss: 0.07097058743238449\n",
            "LATloss: (5412,)\n",
            "RECloss: (5412,)\n",
            "Scores: (5412,)\n",
            "Scores of Normal and Abnormal: (4920,) (492,)\n",
            "Optimal threshold for best AUC: 0.43444176905972065 TPR-FPR= 0.8123983739837398\n",
            "Optimal threshold for best AUPRC: 1.7364696333490874 f-score= 0.8698553948832036\n",
            "run: 8\n",
            "train: (279395, 29) (279395,) ;  test: (5412, 29) (5412,)\n",
            "niter: 1, g_loss: [26.355857849121094, 0.701836109161377, 0.6408718824386597, 0.019145583733916283], d_loss: 0.7120016813278198\n",
            "niter: 101, g_loss: [6.874483108520508, 0.43857094645500183, 0.13034109771251678, 1.2222678661346436], d_loss: 0.3676565885543823\n",
            "niter: 201, g_loss: [17.826391220092773, 0.3165832459926605, 0.3007804751396179, 5.478588581085205], d_loss: 0.23823802173137665\n",
            "niter: 301, g_loss: [11.28648853302002, 0.1846691071987152, 0.18636709451675415, 3.6471357345581055], d_loss: 0.13793420791625977\n",
            "niter: 401, g_loss: [8.836883544921875, 0.19200077652931213, 0.1515406370162964, 2.5832576751708984], d_loss: 0.15084217488765717\n",
            "niter: 501, g_loss: [14.215522766113281, 0.1323910355567932, 0.21473217010498047, 5.493844985961914], d_loss: 0.1638767421245575\n",
            "niter: 601, g_loss: [13.662467956542969, 0.09493135660886765, 0.23050463199615479, 4.347351551055908], d_loss: 0.09494912624359131\n",
            "niter: 701, g_loss: [9.623519897460938, 0.10524534434080124, 0.15835759043693542, 3.1839709281921387], d_loss: 0.08797699213027954\n",
            "niter: 801, g_loss: [9.122503280639648, 0.1109565868973732, 0.13936351239681244, 3.4370055198669434], d_loss: 0.12374056875705719\n",
            "niter: 901, g_loss: [16.13772201538086, 0.05522159859538078, 0.23120321333408356, 6.834372043609619], d_loss: 0.10059954226016998\n",
            "LATloss: (5412,)\n",
            "RECloss: (5412,)\n",
            "Scores: (5412,)\n",
            "Scores of Normal and Abnormal: (4920,) (492,)\n",
            "Optimal threshold for best AUC: 0.3549921446511048 TPR-FPR= 0.8219512195121952\n",
            "Optimal threshold for best AUPRC: 2.3514905366998393 f-score= 0.8824188129899216\n",
            "run: 9\n",
            "train: (279395, 29) (279395,) ;  test: (5412, 29) (5412,)\n",
            "niter: 1, g_loss: [26.542919158935547, 0.6996561288833618, 0.6453818082809448, 0.02798972651362419], d_loss: 0.6926649808883667\n",
            "niter: 101, g_loss: [6.00216817855835, 0.28619080781936646, 0.13348129391670227, 0.37672603130340576], d_loss: 0.3435134291648865\n",
            "niter: 201, g_loss: [8.093576431274414, 0.2912929952144623, 0.1541721373796463, 1.6353975534439087], d_loss: 0.29518312215805054\n",
            "niter: 301, g_loss: [22.16683578491211, 0.13897894322872162, 0.4091135263442993, 5.663315773010254], d_loss: 0.3354102373123169\n",
            "niter: 401, g_loss: [11.333998680114746, 0.15180456638336182, 0.2217903435230255, 2.3105804920196533], d_loss: 0.211746484041214\n",
            "niter: 501, g_loss: [10.771316528320312, 0.2106853872537613, 0.19274117052555084, 2.850984573364258], d_loss: 0.18148118257522583\n",
            "niter: 601, g_loss: [19.873077392578125, 0.19480621814727783, 0.28661981225013733, 8.213478088378906], d_loss: 0.18506139516830444\n",
            "niter: 701, g_loss: [12.204041481018066, 0.10378818958997726, 0.18649430572986603, 4.640480995178223], d_loss: 0.11237750947475433\n",
            "niter: 801, g_loss: [17.49608612060547, 0.12931036949157715, 0.20233823359012604, 9.273246765136719], d_loss: 0.14740680158138275\n",
            "niter: 901, g_loss: [10.435696601867676, 0.13832026720046997, 0.17348447442054749, 3.3579978942871094], d_loss: 0.11926614493131638\n",
            "LATloss: (5412,)\n",
            "RECloss: (5412,)\n",
            "Scores: (5412,)\n",
            "Scores of Normal and Abnormal: (4920,) (492,)\n",
            "Optimal threshold for best AUC: 0.8325557146148572 TPR-FPR= 0.8101626016260163\n",
            "Optimal threshold for best AUPRC: 1.484822845499867 f-score= 0.8459016393442624\n",
            "run: 10\n",
            "train: (279395, 29) (279395,) ;  test: (5412, 29) (5412,)\n",
            "niter: 1, g_loss: [26.268062591552734, 0.6991006135940552, 0.6386638283729553, 0.022409580647945404], d_loss: 0.6919094920158386\n",
            "niter: 101, g_loss: [6.248276710510254, 0.21615782380104065, 0.13570120930671692, 0.6040709018707275], d_loss: 0.20476190745830536\n",
            "niter: 201, g_loss: [13.312755584716797, 0.17934906482696533, 0.24606217443943024, 3.2909188270568848], d_loss: 0.27211207151412964\n",
            "niter: 301, g_loss: [10.80691146850586, 0.13196110725402832, 0.2045525461435318, 2.4928479194641113], d_loss: 0.15194077789783478\n",
            "niter: 401, g_loss: [13.170482635498047, 0.15508082509040833, 0.24541614949703217, 3.198755979537964], d_loss: 0.1264251321554184\n",
            "niter: 501, g_loss: [13.56906795501709, 0.16287027299404144, 0.28751346468925476, 1.9056590795516968], d_loss: 0.16985343396663666\n",
            "niter: 601, g_loss: [11.451410293579102, 0.0732710137963295, 0.2030768245458603, 3.255066394805908], d_loss: 0.09914501756429672\n",
            "niter: 701, g_loss: [10.506329536437988, 0.1623598039150238, 0.17643320560455322, 3.2866415977478027], d_loss: 0.1876928210258484\n",
            "niter: 801, g_loss: [19.074363708496094, 0.03239620849490166, 0.3279418349266052, 5.924294471740723], d_loss: 0.04159697890281677\n",
            "niter: 901, g_loss: [37.10650634765625, 0.05311800166964531, 0.46370184421539307, 18.50531768798828], d_loss: 0.05837304890155792\n",
            "LATloss: (5412,)\n",
            "RECloss: (5412,)\n",
            "Scores: (5412,)\n",
            "Scores of Normal and Abnormal: (4920,) (492,)\n",
            "Optimal threshold for best AUC: 1.014082997163987 TPR-FPR= 0.8455284552845529\n",
            "Optimal threshold for best AUPRC: 3.5269476542337017 f-score= 0.8837209302325582\n"
          ]
        }
      ],
      "source": [
        "TOTAL_RUN = 10\n",
        "run = 1\n",
        "\n",
        "for run in range(1,TOTAL_RUN+1):\n",
        "    g_e = define_GE()\n",
        "    g = define_G(g_e)\n",
        "    f_e = define_FE()\n",
        "    d = define_D(f_e)\n",
        "    gan_trainer = define_gan_trainer()\n",
        "    \n",
        "    print('run: {!r}'.format(run))\n",
        "    datasets = np.load('data/Runs/{!s}_{!s}_Runs/Run_{!s}.npz'.format(RAT,TOTAL_RUN, run))\n",
        "    x_train, y_train = datasets['trainX'], datasets['trainY']\n",
        "    x_test, y_test = datasets['testX'], datasets['testY']\n",
        "    print('train:',x_train.shape,y_train.shape,'; ','test:',x_test.shape,y_test.shape)\n",
        "    train(x_train=x_train)\n",
        "    evaluation(x_test=x_test, y_test=y_test)\n",
        "    run+=1"
      ]
    },
    {
      "cell_type": "markdown",
      "metadata": {},
      "source": [
        "# Retrain\n",
        "* [back to model](#model)"
      ]
    },
    {
      "cell_type": "markdown",
      "metadata": {},
      "source": [
        "# AUC and PR curve"
      ]
    },
    {
      "cell_type": "code",
      "execution_count": 15,
      "metadata": {},
      "outputs": [
        {
          "name": "stdout",
          "output_type": "stream",
          "text": [
            "0.5\n"
          ]
        },
        {
          "data": {
            "image/png": "[encoded data removed]",
            "text/plain": [
              "<Figure size 432x288 with 2 Axes>"
            ]
          },
          "metadata": {
            "needs_background": "light"
          },
          "output_type": "display_data"
        },
        {
          "name": "stdout",
          "output_type": "stream",
          "text": [
            "Average AUC score =  0.9620511104501288\n",
            "Average AUPRC score =  0.8858607948818333\n",
            "Average f1 score =  0.86556229403335\n",
            "Average recall =  0.8048780487804879\n",
            "Average precision =  0.937225737833262\n",
            "Average accuracy =  0.9770325203252034\n",
            "[{'AUC': 0.6502263264760131, 'PRC': 1.2673595764816452}, {'AUC': 0.45295326936147795, 'PRC': 0.991888546735957}, {'AUC': 0.5121774461133615, 'PRC': 4.162148630521575}, {'AUC': 0.8001446298796969, 'PRC': 1.2227593333161808}, {'AUC': 0.4835019492888985, 'PRC': 1.280984067145802}, {'AUC': 0.3994012519222337, 'PRC': 1.266747171795395}, {'AUC': 0.43444176905972065, 'PRC': 1.7364696333490874}, {'AUC': 0.3549921446511048, 'PRC': 2.3514905366998393}, {'AUC': 0.8325557146148572, 'PRC': 1.484822845499867}, {'AUC': 1.014082997163987, 'PRC': 3.5269476542337017}]\n"
          ]
        }
      ],
      "source": [
        "rcParams['figure.figsize'] = 20, 5\n",
        "#plot\n",
        "fig, ax=plt.subplots(1,2)\n",
        "proportion_of_abn = 0.5\n",
        "\n",
        "colors = ['orange','purple','green','lime','black','yellow','brown','pink','blue','lightblue']\n",
        "print(proportion_of_abn)\n",
        "\n",
        "\n",
        "for i in range(len(TPR_res)):\n",
        "    tpr, fpr = TPR_res[i], FPR_res[i]\n",
        "    precision, recall = P_res[i], R_res[i]\n",
        "    auc_score, auprc_score = AUC_res[i], AUPRC_res[i]\n",
        "    indicator = colors[i]\n",
        "\n",
        "    #ROC curve\n",
        "    ax[0].plot(fpr, tpr, color = indicator, label = '%0.4f' % auc_score)\n",
        "    ax[0].legend(loc = 'lower right')\n",
        "\n",
        "    #PR curve\n",
        "    ax[1].plot(recall, precision, color = indicator, label='%0.4f' % auprc_score)\n",
        "    ax[1].legend(loc = 'lower right')\n",
        "    \n",
        "\n",
        "\n",
        "ax[0].set_title('Receiver Operating Characteristic')\n",
        "ax[0].plot([0, 1], [0, 1],'r--')\n",
        "ax[0].set_xlim([0, 1])\n",
        "ax[0].set_ylim([0, 1])\n",
        "ax[0].set_ylabel('True Positive Rate')\n",
        "ax[0].set_xlabel('False Positive Rate')\n",
        "\n",
        "ax[1].set_title('Precision-Recall Curve')\n",
        "ax[1].plot([0, 1], [proportion_of_abn, proportion_of_abn],'r--')\n",
        "ax[1].plot([0, 1], [proportion_of_abn, proportion_of_abn],'r--')\n",
        "ax[1].set_xlim([0, 1])\n",
        "ax[1].set_ylim([0, 1])\n",
        "ax[1].set_ylabel('Precision')\n",
        "ax[1].set_xlabel('Recall')\n",
        "plt.show()\n",
        "\n",
        "#calculate average AUC and AUPRC score\n",
        "print('Average AUC score = ',sum(AUC_res) / TOTAL_RUN)\n",
        "print('Average AUPRC score = ',sum(AUPRC_res) / TOTAL_RUN)\n",
        "print('Average f1 score = ',sum(fscore_res) / TOTAL_RUN)\n",
        "print('Average recall = ',sum(recall_res) / TOTAL_RUN)\n",
        "print('Average precision = ',sum(precision_res) / TOTAL_RUN)\n",
        "print('Average accuracy = ', sum(accuracies)/TOTAL_RUN)\n",
        "\n",
        "print(THR_opt)\n",
        "\n",
        "#print optnimal thresholds of 10 folds\n",
        "#print(THR_opt)"
      ]
    },
    {
      "cell_type": "code",
      "execution_count": 16,
      "metadata": {},
      "outputs": [],
      "source": [
        "TPR_maxlen = FPR_maxlen = P_maxlen = R_maxlen = 0\n",
        "\n",
        "for i in range(len(TPR_res)):\n",
        "    if TPR_maxlen < len(TPR_res[i]): TPR_maxlen = len(TPR_res[i])\n",
        "    if FPR_maxlen < len(FPR_res[i]): FPR_maxlen = len(FPR_res[i])\n",
        "    if P_maxlen < len(P_res[i]): P_maxlen = len(P_res[i])\n",
        "    if R_maxlen < len(R_res[i]): R_maxlen = len(R_res[i])\n",
        "\n",
        "def AddOn(addTo,data,row, dataLen):\n",
        "    tmp = data[0]\n",
        "    for i in range(dataLen):\n",
        "        if i<len(data[row]) and data[row][i] is not np.nan: tmp = data[row][i]\n",
        "        addTo[i]+=tmp\n",
        "\n",
        "def AVG(data):\n",
        "    return (data / TOTAL_RUN).tolist()\n",
        "TPR_avg, FPR_avg, P_avg, R_avg = np.zeros((TPR_maxlen)), np.zeros((FPR_maxlen)), np.zeros((P_maxlen)), np.zeros((R_maxlen))\n",
        "\n",
        "for i in range(len(TPR_res)):\n",
        "    AddOn(TPR_avg, TPR_res, i, TPR_maxlen)\n",
        "    AddOn(FPR_avg, FPR_res, i, FPR_maxlen)\n",
        "    AddOn(P_avg, P_res, i, P_maxlen)\n",
        "    AddOn(R_avg, R_res, i, R_maxlen)\n",
        "    \n",
        "TPR_avg, FPR_avg, P_avg, R_avg = AVG(TPR_avg), AVG(FPR_avg), AVG(P_avg), AVG(R_avg)"
      ]
    },
    {
      "attachments": {},
      "cell_type": "markdown",
      "metadata": {},
      "source": [
        "# Save Result to json"
      ]
    },
    {
      "cell_type": "code",
      "execution_count": 17,
      "metadata": {},
      "outputs": [],
      "source": [
        "import json\n",
        "\n",
        "with open('data/Runs/{!s}_{!s}_Runs/result.json'.format(RAT,TOTAL_RUN, run), \"r\", encoding='utf-8') as jsonFile:\n",
        "    data = json.load(jsonFile)\n",
        "\n",
        "with open('data/Runs/{!s}_{!s}_Runs/result.json'.format(RAT,TOTAL_RUN, run), 'w', encoding='utf-8') as jsonFile:\n",
        "    data['FinGANomaly(FE)_{!s}'.format(lat_weight)] = {\n",
        "            'AUC': AUC_res,\n",
        "            'AUPRC': AUPRC_res,\n",
        "            'Fscore': fscore_res,\n",
        "            'Recall': recall_res,\n",
        "            'Precision': precision_res,\n",
        "            'Accuracy': accuracies,\n",
        "            'THR_opt': THR_opt,\n",
        "            'AVG': {\n",
        "                'TPR': TPR_avg,\n",
        "                'FPR': FPR_avg,\n",
        "                'P': P_avg,\n",
        "                'R': R_avg\n",
        "            }\n",
        "        }\n",
        "    \n",
        "    json.dump(data, jsonFile, ensure_ascii=False)"
      ]
    },
    {
      "cell_type": "markdown",
      "metadata": {},
      "source": [
        "# End of Jupyter\n",
        "* [To top](#common-link)"
      ]
    }
  ],
  "metadata": {
    "accelerator": "GPU",
    "colab": {
      "name": "ganomaly",
      "provenance": [],
      "version": "0.3.2"
    },
    "kernelspec": {
      "display_name": "Python 3.8.3 ('base')",
      "language": "python",
      "name": "python3"
    },
    "language_info": {
      "codemirror_mode": {
        "name": "ipython",
        "version": 3
      },
      "file_extension": ".py",
      "mimetype": "text/x-python",
      "name": "python",
      "nbconvert_exporter": "python",
      "pygments_lexer": "ipython3",
      "version": "3.8.3"
    },
    "vscode": {
      "interpreter": {
        "hash": "ad2bdc8ecc057115af97d19610ffacc2b4e99fae6737bb82f5d7fb13d2f2c186"
      }
    }
  },
  "nbformat": 4,
  "nbformat_minor": 0
}
