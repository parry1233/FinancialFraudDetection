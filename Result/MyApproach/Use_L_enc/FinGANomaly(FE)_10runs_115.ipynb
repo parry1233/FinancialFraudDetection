{
  "cells": [
    {
      "cell_type": "markdown",
      "metadata": {},
      "source": [
        "# Common link\n",
        "* [Load Data](#load-data)\n",
        "* [Split Data](#split-dataset)\n",
        "* [Model](#model)\n",
        "* [Evaluation](#evaluation)"
      ]
    },
    {
      "cell_type": "code",
      "execution_count": 1,
      "metadata": {},
      "outputs": [],
      "source": [
        "feature = 29"
      ]
    },
    {
      "cell_type": "markdown",
      "metadata": {},
      "source": [
        "# Model"
      ]
    },
    {
      "cell_type": "code",
      "execution_count": 2,
      "metadata": {
        "colab": {
          "base_uri": "https://localhost:8080/",
          "height": 34
        },
        "colab_type": "code",
        "id": "_fOFzTCbXTfi",
        "outputId": "4e0db446-6657-442e-a7e5-f81c198d1dee"
      },
      "outputs": [],
      "source": [
        "from tensorflow.keras import layers\n",
        "import tensorflow.keras as keras\n",
        "import tensorflow.keras.backend as K"
      ]
    },
    {
      "cell_type": "code",
      "execution_count": 3,
      "metadata": {},
      "outputs": [],
      "source": [
        "g_e, g, f_e, d = None, None, None, None\n",
        "gan_trainer = None\n",
        "RAT = 115"
      ]
    },
    {
      "cell_type": "markdown",
      "metadata": {
        "colab_type": "text",
        "id": "9V6k5E4HX8ns"
      },
      "source": [
        "## Generators Encoder\n"
      ]
    },
    {
      "cell_type": "code",
      "execution_count": 4,
      "metadata": {
        "colab": {
          "base_uri": "https://localhost:8080/",
          "height": 819
        },
        "colab_type": "code",
        "id": "6SSgbWtgYFge",
        "outputId": "ffb3b7cc-871f-4ef6-b1cb-6f2eb6193249"
      },
      "outputs": [],
      "source": [
        "def define_GE():\n",
        "    input_layer = layers.Input(name='input', shape=(feature))\n",
        "    #x = layers.Reshape((height, width, channels), name='ge_reshape')(input_layer)\n",
        "\n",
        "    # Encoder\n",
        "    x = layers.Dense(1024, name='ge_dense_1')(input_layer)\n",
        "    x = layers.LeakyReLU(name='ge_leaky_1')(x)\n",
        "\n",
        "    x = layers.Dense(512, name='ge_dense_2')(x)\n",
        "    x = layers.LeakyReLU(name='ge_leaky_2')(x)\n",
        "\n",
        "    x = layers.Dense(256, name='ge_dense_3')(x)\n",
        "    x = layers.LeakyReLU(name='ge_leaky_3')(x)\n",
        "\n",
        "    x = layers.Dense(128, name='ge_dense_4')(x)\n",
        "    x = layers.LeakyReLU(name='ge_leaky_4')(x)\n",
        "\n",
        "    #x = layers.GlobalAveragePooling2D(name='g_encoder_output')(x)\n",
        "\n",
        "    g_e = keras.models.Model(inputs=input_layer, outputs=x)\n",
        "\n",
        "    #g_e.summary()\n",
        "    return g_e"
      ]
    },
    {
      "cell_type": "markdown",
      "metadata": {
        "colab_type": "text",
        "id": "CsFGE97WYMts"
      },
      "source": [
        "## Generator"
      ]
    },
    {
      "cell_type": "code",
      "execution_count": 5,
      "metadata": {
        "colab": {
          "base_uri": "https://localhost:8080/",
          "height": 510
        },
        "colab_type": "code",
        "id": "pivNg2CMYQwi",
        "outputId": "4281bfb2-df6d-4958-b3e5-dd75d06f866a"
      },
      "outputs": [],
      "source": [
        "def define_G(g_e):\n",
        "    input_layer = layers.Input(name='input', shape=(feature))\n",
        "\n",
        "    x = g_e(input_layer)\n",
        "\n",
        "    #y = layers.Reshape((height // 6, width // 6, 128), name='de_reshape1')(x) # 256 = 256 * (6/6) * (6/6) \n",
        "\n",
        "    y = layers.Dense(256, name='dense_1')(x)\n",
        "    y = layers.LeakyReLU(name='leaky_1')(y)\n",
        "\n",
        "    y = layers.Dense(512, name='dense_2')(y)\n",
        "    y = layers.LeakyReLU(name='leaky_2')(y)\n",
        "\n",
        "    y = layers.Dense(1024, name='dense_3')(y)\n",
        "    y = layers.LeakyReLU(name='leaky_3')(y)\n",
        "\n",
        "    y = layers.Dense(feature, name='dense_4')(y)\n",
        "    y = layers.LeakyReLU(name='leaky_4')(y)\n",
        "\n",
        "    #y = layers.Flatten()(y)\n",
        "    #y = layers.Dense(36, name='dense')(y)\n",
        "    #y = layers.Reshape((height, width, channels), name='de_reshape2')(y)\n",
        "\n",
        "    g = keras.models.Model(inputs=input_layer, outputs=y)\n",
        "\n",
        "    #g.summary()\n",
        "    \n",
        "    return g"
      ]
    },
    {
      "cell_type": "markdown",
      "metadata": {
        "colab_type": "text",
        "id": "pWWVBPizZctk"
      },
      "source": [
        "## discriminator"
      ]
    },
    {
      "cell_type": "code",
      "execution_count": 6,
      "metadata": {
        "colab": {
          "base_uri": "https://localhost:8080/",
          "height": 272
        },
        "colab_type": "code",
        "id": "xcJdjTerZbMN",
        "outputId": "837e9958-23db-408c-916e-2e0c23250d0f"
      },
      "outputs": [],
      "source": [
        "def define_FE():\n",
        "    input_layer = layers.Input(name='input', shape=(feature))\n",
        "\n",
        "    f = layers.Dense(1024, name='f_dense_1')(input_layer)\n",
        "    f = layers.LeakyReLU(name='f_leaky_1')(f)\n",
        "\n",
        "    f = layers.Dense(512, name='f_dense_2')(f)\n",
        "    f = layers.LeakyReLU(name='f_leaky_2')(f)\n",
        "\n",
        "    f = layers.Dense(256, name='f_dense_3')(f)\n",
        "    f = layers.LeakyReLU(name='f_leaky_3')(f)\n",
        "\n",
        "    f = layers.Dense(128, name='f_dense_4')(f)\n",
        "    f = layers.LeakyReLU(name='feature_output')(f)\n",
        "    \n",
        "    fe = keras.models.Model(input_layer, f)\n",
        "    \n",
        "    return fe\n",
        "    "
      ]
    },
    {
      "cell_type": "code",
      "execution_count": 7,
      "metadata": {},
      "outputs": [],
      "source": [
        "def define_D(fe):\n",
        "    input_layer = layers.Input(name='input', shape=(feature))\n",
        "    \n",
        "    f = fe(input_layer)\n",
        "\n",
        "    #d = layers.Dense(16, name='d_dense_1')(f)\n",
        "    d = layers.Dense(1, activation='sigmoid', name='d_out')(f)\n",
        "        \n",
        "    d = keras.models.Model(input_layer, d)\n",
        "    #d.summary()\n",
        "    d.compile(optimizer='adam', loss='binary_crossentropy')\n",
        "    \n",
        "    return d"
      ]
    },
    {
      "cell_type": "markdown",
      "metadata": {
        "colab_type": "text",
        "id": "Z7HBx1GiZhm-"
      },
      "source": [
        "## gan trainer"
      ]
    },
    {
      "cell_type": "code",
      "execution_count": 8,
      "metadata": {
        "colab": {
          "base_uri": "https://localhost:8080/",
          "height": 71
        },
        "colab_type": "code",
        "id": "bosacIf7ZkZ4",
        "outputId": "341417b4-0771-466f-c9d0-68554e089f8e"
      },
      "outputs": [],
      "source": [
        "import tensorflow as tf\n",
        "class AdvLoss(keras.layers.Layer):\n",
        "    def __init__(self, **kwargs):\n",
        "        super(AdvLoss, self).__init__(**kwargs)\n",
        "\n",
        "    def call(self, x, mask=None):\n",
        "        y_pred = d(x[1])\n",
        "        y_true = tf.ones_like(y_pred)\n",
        "        return keras.losses.binary_crossentropy(y_true,y_pred)\n",
        "\n",
        "    def get_output_shape_for(self, input_shape):\n",
        "        return (input_shape[0][0], 1)\n",
        "    \n",
        "class CntLoss(keras.layers.Layer):\n",
        "    def __init__(self, **kwargs):\n",
        "        super(CntLoss, self).__init__(**kwargs)\n",
        "\n",
        "    def call(self, x, mask=None):\n",
        "        ori = x[0]\n",
        "        gan = x[1]\n",
        "        return K.mean(K.abs(ori - gan))\n",
        "\n",
        "    def get_output_shape_for(self, input_shape):\n",
        "        return (input_shape[0][0], 1)\n",
        "    \n",
        "class EncLoss(keras.layers.Layer):\n",
        "    def __init__(self, **kwargs):\n",
        "        super(EncLoss, self).__init__(**kwargs)\n",
        "\n",
        "    def call(self, x, mask=None):\n",
        "        ori = x[0]\n",
        "        gan = x[1]\n",
        "        return K.mean(K.square(f_e(ori) - f_e(gan)))\n",
        "\n",
        "    def get_output_shape_for(self, input_shape):\n",
        "        return (input_shape[0][0], 1)\n",
        "\n",
        "# loss function\n",
        "def loss(yt, yp):\n",
        "    return yp"
      ]
    },
    {
      "cell_type": "code",
      "execution_count": 9,
      "metadata": {},
      "outputs": [],
      "source": [
        "def define_gan_trainer():\n",
        "    # model for training\n",
        "    input_layer = layers.Input(name='input', shape=(feature))\n",
        "    gan = g(input_layer) # g(x)\n",
        "\n",
        "    adv_loss = AdvLoss(name='adv_loss')([input_layer, gan])\n",
        "    cnt_loss = CntLoss(name='cnt_loss')([input_layer, gan])\n",
        "    enc_loss = EncLoss(name='enc_loss')([input_layer, gan])\n",
        "\n",
        "    gan_trainer = keras.models.Model(input_layer, [adv_loss, cnt_loss, enc_loss])\n",
        "\n",
        "    losses = {\n",
        "        'adv_loss': loss,\n",
        "        'cnt_loss': loss,\n",
        "        'enc_loss': loss,\n",
        "    }\n",
        "\n",
        "    lossWeights = {'cnt_loss': 40.0, 'adv_loss': 1.0, 'enc_loss': 1.0}\n",
        "    \n",
        "    # compile\n",
        "    gan_trainer.compile(optimizer = 'adam', loss=losses, loss_weights=lossWeights)\n",
        "    #gan_trainer.summary()\n",
        "    \n",
        "    return gan_trainer"
      ]
    },
    {
      "cell_type": "markdown",
      "metadata": {
        "colab_type": "text",
        "id": "dxPzCEC1bFMR"
      },
      "source": [
        "# Training"
      ]
    },
    {
      "cell_type": "code",
      "execution_count": 10,
      "metadata": {},
      "outputs": [],
      "source": [
        "import numpy as np\n",
        "niter = 1000\n",
        "bz = 512"
      ]
    },
    {
      "cell_type": "code",
      "execution_count": 11,
      "metadata": {
        "colab": {},
        "colab_type": "code",
        "id": "53rLCTe3a8LY"
      },
      "outputs": [],
      "source": [
        "def get_data_generator(data, batch_size=32):\n",
        "    datalen = len(data)\n",
        "    cnt = 0\n",
        "    while True:\n",
        "        idxes = np.arange(datalen)\n",
        "        np.random.shuffle(idxes)\n",
        "        cnt += 1\n",
        "        for i in range(int(np.ceil(datalen/batch_size))):\n",
        "            train_x = np.take(data, idxes[i*batch_size: (i+1) * batch_size], axis=0)\n",
        "            y = np.ones(len(train_x))\n",
        "            yield train_x, [y, y, y]"
      ]
    },
    {
      "cell_type": "code",
      "execution_count": 12,
      "metadata": {},
      "outputs": [],
      "source": [
        "def train(x_train):\n",
        "    train_data_generator = get_data_generator(x_train, bz)\n",
        "    for i in range(niter):\n",
        "        \n",
        "        ### get batch x, y ###\n",
        "        x, y = train_data_generator.__next__()\n",
        "            \n",
        "        ### train disciminator ###\n",
        "        d.trainable = True\n",
        "\n",
        "        #print(x.shape)\n",
        "            \n",
        "        fake_x = g.predict(x)\n",
        "            \n",
        "        d_x = np.concatenate([x, fake_x], axis=0)\n",
        "        d_y = np.concatenate([np.zeros(len(x)), np.ones(len(fake_x))], axis=0)\n",
        "            \n",
        "        d_loss = d.train_on_batch(d_x, d_y)\n",
        "\n",
        "        ### train generator ###\n",
        "        \n",
        "        d.trainable = False        \n",
        "        g_loss = gan_trainer.train_on_batch(x, y)\n",
        "        \n",
        "        if i % 100 == 0:\n",
        "            print(f'niter: {i+1}, g_loss: {g_loss}, d_loss: {d_loss}')"
      ]
    },
    {
      "cell_type": "markdown",
      "metadata": {
        "colab_type": "text",
        "id": "0cHDcccacdST"
      },
      "source": [
        "# Evaluation"
      ]
    },
    {
      "cell_type": "code",
      "execution_count": 13,
      "metadata": {
        "colab": {},
        "colab_type": "code",
        "id": "UXAufnuIbuvF"
      },
      "outputs": [],
      "source": [
        "from matplotlib import pyplot as plt\n",
        "from pylab import rcParams\n",
        "from sklearn.metrics import roc_curve, roc_auc_score, precision_recall_curve, auc, average_precision_score\n",
        "from sklearn import metrics\n",
        "from sklearn.metrics import classification_report, confusion_matrix\n",
        "import seaborn as sns\n",
        "\n",
        "TPR_res, FPR_res, P_res, R_res = [], [], [], []\n",
        "AUC_res, AUPRC_res = [], []\n",
        "accuracies, fscore_res, recall_res, precision_res = [], [], [], []\n",
        "reports = []\n",
        "scores = []\n",
        "THR_opt = []\n",
        "\n",
        "lat_weight = 0.1\n",
        "recons_weight = 1-lat_weight\n",
        "\n",
        "def evaluation(x_test,y_test):\n",
        "    encoded = g_e.predict(x_test)\n",
        "    gan_x = g.predict(x_test)\n",
        "    encoded_gan = g_e.predict(gan_x)\n",
        "    recons_loss = np.mean(np.absolute(gan_x - x_test), axis=-1)\n",
        "    lat_loss = np.mean(np.square(encoded - encoded_gan), axis=-1)\n",
        "    print('LATloss:',lat_loss.shape)\n",
        "    print('RECloss:',recons_loss.shape)\n",
        "    score = lat_weight*lat_loss + recons_weight*recons_loss\n",
        "    #score = (score - np.min(score)) / (np.max(score) - np.min(score)) # map to 0~1\n",
        "    print('Scores:',score.shape)\n",
        "    score = score.reshape(len(score))\n",
        "\n",
        "    nScore, abnScore = score[y_test==0], score[y_test==1]\n",
        "    print('Scores of Normal and Abnormal:',nScore.shape,abnScore.shape)\n",
        "    scores.append([nScore,abnScore])\n",
        "\n",
        "\n",
        "    score = score.reshape(len(score))\n",
        "    fpr, tpr, threshold_auc = roc_curve(y_score=score, y_true=y_test, pos_label=1)\n",
        "    TPR_res.append(tpr)\n",
        "    FPR_res.append(fpr)\n",
        "    precision, recall, threshold_prc = precision_recall_curve(probas_pred=score, y_true=y_test, pos_label=1)\n",
        "    P_res.append(precision)\n",
        "    R_res.append(recall)\n",
        "\n",
        "    auc_score = auc(fpr,tpr)\n",
        "    auprc_score = auc(recall, precision)\n",
        "    AUC_res.append(auc_score)\n",
        "    AUPRC_res.append(auprc_score)\n",
        "\n",
        "\n",
        "    # optimal cut off point would be where “true positive rate” is high and the “false positive rate” is low.\n",
        "    J = tpr - fpr\n",
        "    ix1 = np.argmax(J)\n",
        "    optimal_threshold = threshold_auc[ix1]\n",
        "    #optimal_threshold = sorted(list(zip(np.sqrt(tpr-fpr), threshold_auc)), key=lambda i: i[0], reverse=False)[0][1]\n",
        "    print('Optimal threshold for best AUC:',optimal_threshold, 'TPR-FPR=',J[ix1])\n",
        "\n",
        "    fscore = (2 * precision * recall) / (precision + recall)\n",
        "    ix2 = np.nanargmax(fscore)\n",
        "    optimal_prc_threshold = threshold_prc[ix2]\n",
        "    #optimal_prc_threshold = sorted(list(zip(np.abs(precision - recall), threshold_prc)), key=lambda i: i[0], reverse=False)[0][1]\n",
        "    print('Optimal threshold for best AUPRC:',optimal_prc_threshold,'f-score=', fscore[ix2])\n",
        "    \n",
        "    fscore_res.append(fscore[ix2])\n",
        "    recall_res.append(recall[ix2])\n",
        "    precision_res.append(precision[ix2])\n",
        "\n",
        "    THR_opt.append({'AUC':optimal_threshold, 'PRC':optimal_prc_threshold})\n",
        "    \n",
        "    yTest_predict = [0 if s<=optimal_prc_threshold else 1 for s in score]\n",
        "    class_report = classification_report(y_pred=yTest_predict, y_true=y_test, digits=4, output_dict=True)\n",
        "    reports.append(class_report)\n",
        "    accuracies.append(class_report['accuracy'])\n"
      ]
    },
    {
      "cell_type": "markdown",
      "metadata": {},
      "source": [
        "# K-Fold Train"
      ]
    },
    {
      "cell_type": "code",
      "execution_count": 14,
      "metadata": {},
      "outputs": [
        {
          "name": "stdout",
          "output_type": "stream",
          "text": [
            "run: 1\n",
            "train: (227452, 29) (227452,) ;  test: (57355, 29) (57355,)\n",
            "niter: 1, g_loss: [26.828420639038086, 0.6968291997909546, 0.6527366638183594, 0.02212480828166008], d_loss: 0.728908896446228\n",
            "niter: 101, g_loss: [5.792965412139893, 0.17612449824810028, 0.1277514398097992, 0.506783127784729], d_loss: 0.23864194750785828\n",
            "niter: 201, g_loss: [9.415837287902832, 0.2548629343509674, 0.20051231980323792, 1.140481948852539], d_loss: 0.27297472953796387\n",
            "niter: 301, g_loss: [19.316219329833984, 0.13426607847213745, 0.3388795256614685, 5.626771450042725], d_loss: 0.12105764448642731\n",
            "niter: 401, g_loss: [28.799102783203125, 0.16150112450122833, 0.20979435741901398, 20.24582862854004], d_loss: 0.1434619277715683\n",
            "niter: 501, g_loss: [13.45403003692627, 0.13567152619361877, 0.2108149379491806, 4.885761260986328], d_loss: 0.1481277346611023\n",
            "niter: 601, g_loss: [12.149542808532715, 0.12999938428401947, 0.20142601430416107, 3.962503433227539], d_loss: 0.09446573257446289\n",
            "niter: 701, g_loss: [76.40599060058594, 0.08697347342967987, 0.23913684487342834, 66.7535400390625], d_loss: 0.424308717250824\n",
            "niter: 801, g_loss: [16.36762237548828, 0.07699133455753326, 0.21520772576332092, 7.682322978973389], d_loss: 0.0650174468755722\n",
            "niter: 901, g_loss: [13.312822341918945, 0.05624460428953171, 0.2172560840845108, 4.566334247589111], d_loss: 0.09297797083854675\n",
            "LATloss: (57355,)\n",
            "RECloss: (57355,)\n",
            "Scores: (57355,)\n",
            "Scores of Normal and Abnormal: (56863,) (492,)\n",
            "Optimal threshold for best AUC: 0.4926832519842478 TPR-FPR= 0.8138110154644975\n",
            "Optimal threshold for best AUPRC: 1.6095209004556486 f-score= 0.6584905660377359\n",
            "run: 2\n",
            "train: (227452, 29) (227452,) ;  test: (57355, 29) (57355,)\n",
            "niter: 1, g_loss: [26.70354652404785, 0.7025690078735352, 0.6494661569595337, 0.022331301122903824], d_loss: 0.697085440158844\n",
            "niter: 101, g_loss: [6.183165073394775, 0.07806684821844101, 0.13031825423240662, 0.8923680186271667], d_loss: 0.14210905134677887\n",
            "niter: 201, g_loss: [16.772659301757812, 0.21069709956645966, 0.1906358003616333, 8.936531066894531], d_loss: 0.8520839810371399\n",
            "niter: 301, g_loss: [9.825141906738281, 0.11270137131214142, 0.18858912587165833, 2.1688761711120605], d_loss: 0.12443087995052338\n",
            "niter: 401, g_loss: [9.127006530761719, 0.1465354859828949, 0.1755715310573578, 1.9576094150543213], d_loss: 0.12031985074281693\n",
            "niter: 501, g_loss: [11.743218421936035, 0.14511781930923462, 0.22983433306217194, 2.404726982116699], d_loss: 0.14084520936012268\n",
            "niter: 601, g_loss: [16.44834327697754, 0.10871357470750809, 0.33329108357429504, 3.0079870223999023], d_loss: 0.1255984604358673\n",
            "niter: 701, g_loss: [16.593090057373047, 0.09617851674556732, 0.3207482397556305, 3.666982889175415], d_loss: 0.11096711456775665\n",
            "niter: 801, g_loss: [20.30256462097168, 0.12420979887247086, 0.37024644017219543, 5.368496894836426], d_loss: 0.10428263992071152\n",
            "niter: 901, g_loss: [17.780582427978516, 0.027680858969688416, 0.3215593099594116, 4.890528678894043], d_loss: 0.03555849567055702\n",
            "LATloss: (57355,)\n",
            "RECloss: (57355,)\n",
            "Scores: (57355,)\n",
            "Scores of Normal and Abnormal: (56863,) (492,)\n",
            "Optimal threshold for best AUC: 0.7991689884972094 TPR-FPR= 0.8127426224405571\n",
            "Optimal threshold for best AUPRC: 3.0210792296054993 f-score= 0.8313384113166484\n",
            "run: 3\n",
            "train: (227452, 29) (227452,) ;  test: (57355, 29) (57355,)\n",
            "niter: 1, g_loss: [26.415348052978516, 0.6992884278297424, 0.6425299644470215, 0.0148618770763278], d_loss: 0.7453522682189941\n",
            "niter: 101, g_loss: [6.582589149475098, 0.1427302360534668, 0.14198508858680725, 0.7604554891586304], d_loss: 0.17907004058361053\n",
            "niter: 201, g_loss: [20.14905548095703, 0.14922189712524414, 0.44149109721183777, 2.3401899337768555], d_loss: 0.12219646573066711\n",
            "niter: 301, g_loss: [29.431354522705078, 0.04597704857587814, 0.4470784664154053, 11.502239227294922], d_loss: 0.14102739095687866\n",
            "niter: 401, g_loss: [64.4820556640625, 9.535755089018494e-05, 0.4484665095806122, 46.543304443359375], d_loss: 0.041441429406404495\n",
            "niter: 501, g_loss: [19.34615707397461, 0.052146486937999725, 0.3601267635822296, 4.888940334320068], d_loss: 0.058672044426202774\n",
            "niter: 601, g_loss: [16.028352737426758, 0.08951908349990845, 0.2622310519218445, 5.449591636657715], d_loss: 0.1191929429769516\n",
            "niter: 701, g_loss: [13.401153564453125, 0.14504005014896393, 0.238117054104805, 3.731431007385254], d_loss: 0.20469623804092407\n",
            "niter: 801, g_loss: [20.921493530273438, 0.12952108681201935, 0.23575328290462494, 11.36184024810791], d_loss: 0.11237013339996338\n",
            "niter: 901, g_loss: [157.0775604248047, 0.0003484975022729486, 0.9328452944755554, 119.76339721679688], d_loss: 0.6827628016471863\n",
            "LATloss: (57355,)\n",
            "RECloss: (57355,)\n",
            "Scores: (57355,)\n",
            "Scores of Normal and Abnormal: (56863,) (492,)\n",
            "Optimal threshold for best AUC: 1.0173843726243206 TPR-FPR= 0.8270415385774595\n",
            "Optimal threshold for best AUPRC: 3.3203448362265813 f-score= 0.6912878787878788\n",
            "run: 4\n",
            "train: (227452, 29) (227452,) ;  test: (57355, 29) (57355,)\n",
            "niter: 1, g_loss: [26.924457550048828, 0.7024310231208801, 0.654888391494751, 0.026491038501262665], d_loss: 0.6959208846092224\n",
            "niter: 101, g_loss: [5.67888879776001, 0.12672652304172516, 0.12878920137882233, 0.40059441328048706], d_loss: 0.23806032538414001\n",
            "niter: 201, g_loss: [12.572341918945312, 0.23762613534927368, 0.2709246277809143, 1.4977312088012695], d_loss: 0.1797218769788742\n",
            "niter: 301, g_loss: [10.818625450134277, 0.15420325100421906, 0.21187123656272888, 2.189572811126709], d_loss: 0.15072789788246155\n",
            "niter: 401, g_loss: [15.454062461853027, 0.06035539507865906, 0.31844815611839294, 2.655780792236328], d_loss: 0.09013291448354721\n",
            "niter: 501, g_loss: [12.376815795898438, 0.11918363720178604, 0.24141864478588104, 2.600886344909668], d_loss: 0.12838387489318848\n",
            "niter: 601, g_loss: [11.350969314575195, 0.15359003841876984, 0.19954214990139008, 3.2156927585601807], d_loss: 0.16828522086143494\n",
            "niter: 701, g_loss: [9.579601287841797, 0.1357416957616806, 0.16458870470523834, 2.860311508178711], d_loss: 0.17544589936733246\n",
            "niter: 801, g_loss: [15.445602416992188, 0.07329463213682175, 0.2752749025821686, 4.361311435699463], d_loss: 0.07874145358800888\n",
            "niter: 901, g_loss: [21.171768188476562, 0.07986662536859512, 0.33799073100090027, 7.572272777557373], d_loss: 0.06882435828447342\n",
            "LATloss: (57355,)\n",
            "RECloss: (57355,)\n",
            "Scores: (57355,)\n",
            "Scores of Normal and Abnormal: (56863,) (492,)\n",
            "Optimal threshold for best AUC: 0.8142086467497708 TPR-FPR= 0.836025404949194\n",
            "Optimal threshold for best AUPRC: 2.879688747541481 f-score= 0.7706806282722514\n",
            "run: 5\n",
            "train: (227452, 29) (227452,) ;  test: (57355, 29) (57355,)\n",
            "niter: 1, g_loss: [25.98806381225586, 0.698708713054657, 0.6317416429519653, 0.01969086565077305], d_loss: 0.6910595297813416\n",
            "niter: 101, g_loss: [8.266946792602539, 0.21852263808250427, 0.14568279683589935, 2.2211122512817383], d_loss: 0.2549459934234619\n",
            "niter: 201, g_loss: [14.987863540649414, 0.21767303347587585, 0.31079962849617004, 2.338205337524414], d_loss: 0.2007680982351303\n",
            "niter: 301, g_loss: [18.401565551757812, 0.06838013231754303, 0.28309452533721924, 7.009404182434082], d_loss: 0.08926530182361603\n",
            "niter: 401, g_loss: [13.157234191894531, 0.07503729313611984, 0.2306174635887146, 3.8574979305267334], d_loss: 0.13670404255390167\n",
            "niter: 501, g_loss: [11.598666191101074, 0.13207805156707764, 0.19792020320892334, 3.5497798919677734], d_loss: 0.17209938168525696\n",
            "niter: 601, g_loss: [12.715256690979004, 0.15886190533638, 0.19149424135684967, 4.89662504196167], d_loss: 0.22613810002803802\n",
            "niter: 701, g_loss: [26.14094352722168, 0.021641574800014496, 0.24358457326889038, 16.375919342041016], d_loss: 0.04994608834385872\n",
            "niter: 801, g_loss: [22.46116065979004, 0.03448456898331642, 0.4011450409889221, 6.380875587463379], d_loss: 0.036849893629550934\n",
            "niter: 901, g_loss: [15.943559646606445, 0.03782327100634575, 0.274092435836792, 4.942039489746094], d_loss: 0.058302268385887146\n",
            "LATloss: (57355,)\n",
            "RECloss: (57355,)\n",
            "Scores: (57355,)\n",
            "Scores of Normal and Abnormal: (56863,) (492,)\n",
            "Optimal threshold for best AUC: 0.5218963359279198 TPR-FPR= 0.8158105439275029\n",
            "Optimal threshold for best AUPRC: 2.822708528529599 f-score= 0.8227571115973742\n",
            "run: 6\n",
            "train: (227452, 29) (227452,) ;  test: (57355, 29) (57355,)\n",
            "niter: 1, g_loss: [26.414321899414062, 0.7004054188728333, 0.6423879265785217, 0.01839938946068287], d_loss: 0.7064418792724609\n",
            "niter: 101, g_loss: [6.125638961791992, 0.768433153629303, 0.13001349568367004, 0.15666639804840088], d_loss: 0.5690330862998962\n",
            "niter: 201, g_loss: [6.809398174285889, 0.24241921305656433, 0.13652659952640533, 1.1059149503707886], d_loss: 0.22435618937015533\n",
            "niter: 301, g_loss: [9.412439346313477, 0.17500540614128113, 0.1819932907819748, 1.9577016830444336], d_loss: 0.19252881407737732\n",
            "niter: 401, g_loss: [17.150238037109375, 0.10066363215446472, 0.3540254235267639, 2.8885574340820312], d_loss: 0.09156259149312973\n",
            "niter: 501, g_loss: [29.385393142700195, 0.04868472367525101, 0.5252581238746643, 8.326383590698242], d_loss: 0.11552544683218002\n",
            "niter: 601, g_loss: [16.3761043548584, 0.06751666218042374, 0.319168359041214, 3.541853904724121], d_loss: 0.07696954905986786\n",
            "niter: 701, g_loss: [15.919012069702148, 0.06530874222517014, 0.2698427438735962, 5.059993743896484], d_loss: 0.0867377296090126\n",
            "niter: 801, g_loss: [39.436100006103516, 0.010697467252612114, 0.5011705756187439, 19.378578186035156], d_loss: 0.039012610912323\n",
            "niter: 901, g_loss: [26.541200637817383, 0.021032962948083878, 0.5181134343147278, 5.795631408691406], d_loss: 0.02429135888814926\n",
            "LATloss: (57355,)\n",
            "RECloss: (57355,)\n",
            "Scores: (57355,)\n",
            "Scores of Normal and Abnormal: (56863,) (492,)\n",
            "Optimal threshold for best AUC: 0.5958679061048722 TPR-FPR= 0.8193318086303281\n",
            "Optimal threshold for best AUPRC: 2.778333570446442 f-score= 0.7791932059447984\n",
            "run: 7\n",
            "train: (227452, 29) (227452,) ;  test: (57355, 29) (57355,)\n",
            "niter: 1, g_loss: [26.383930206298828, 0.698788046836853, 0.641662061214447, 0.018658258020877838], d_loss: 0.6902737617492676\n",
            "niter: 101, g_loss: [6.177373886108398, 0.220307394862175, 0.14189200103282928, 0.2813860774040222], d_loss: 0.2899022698402405\n",
            "niter: 201, g_loss: [5.24037504196167, 0.3943118453025818, 0.10543999075889587, 0.6284634470939636], d_loss: 0.40087655186653137\n",
            "niter: 301, g_loss: [35.812686920166016, 0.012907239608466625, 0.5295306444168091, 14.618555068969727], d_loss: 0.04606224223971367\n",
            "niter: 401, g_loss: [23.328645706176758, 0.026144392788410187, 0.43430987000465393, 5.9301066398620605], d_loss: 0.046977393329143524\n",
            "niter: 501, g_loss: [14.748017311096191, 0.06965900212526321, 0.23837800323963165, 5.143238067626953], d_loss: 0.08345507830381393\n",
            "niter: 601, g_loss: [11.34287166595459, 0.1334107667207718, 0.1895064115524292, 3.629204273223877], d_loss: 0.13367033004760742\n",
            "niter: 701, g_loss: [40.931610107421875, 0.06707917153835297, 0.5545125007629395, 18.684032440185547], d_loss: 0.057278841733932495\n",
            "niter: 801, g_loss: [32.326377868652344, 0.01294176559895277, 0.5827730298042297, 9.002517700195312], d_loss: 0.018131539225578308\n",
            "niter: 901, g_loss: [24.918323516845703, 0.0389188751578331, 0.43769583106040955, 7.371571063995361], d_loss: 0.03582766652107239\n",
            "LATloss: (57355,)\n",
            "RECloss: (57355,)\n",
            "Scores: (57355,)\n",
            "Scores of Normal and Abnormal: (56863,) (492,)\n",
            "Optimal threshold for best AUC: 0.6314758465583599 TPR-FPR= 0.8269914252613149\n",
            "Optimal threshold for best AUPRC: 3.4963699133959794 f-score= 0.7973421926910299\n",
            "run: 8\n",
            "train: (227452, 29) (227452,) ;  test: (57355, 29) (57355,)\n",
            "niter: 1, g_loss: [25.823389053344727, 0.7017618417739868, 0.6274302005767822, 0.024419328197836876], d_loss: 0.6957546472549438\n",
            "niter: 101, g_loss: [6.172454357147217, 0.08773844689130783, 0.13508711755275726, 0.6812309622764587], d_loss: 0.20669114589691162\n",
            "niter: 201, g_loss: [19.31232261657715, 0.1545943021774292, 0.2080135941505432, 10.83718490600586], d_loss: 0.15508902072906494\n",
            "niter: 301, g_loss: [14.2691068649292, 0.1350209265947342, 0.2817589342594147, 2.8637290000915527], d_loss: 0.15025533735752106\n",
            "niter: 401, g_loss: [11.576399803161621, 0.19906145334243774, 0.206399068236351, 3.121375799179077], d_loss: 0.1400388777256012\n",
            "niter: 501, g_loss: [9.292879104614258, 0.2031567543745041, 0.16509772837162018, 2.485813617706299], d_loss: 0.22640739381313324\n",
            "niter: 601, g_loss: [11.863203048706055, 0.2469344139099121, 0.18591661751270294, 4.1796040534973145], d_loss: 0.1919400990009308\n",
            "niter: 701, g_loss: [13.205514907836914, 0.12488237023353577, 0.22449365258216858, 4.100887298583984], d_loss: 0.12931892275810242\n",
            "niter: 801, g_loss: [15.774881362915039, 0.08837130665779114, 0.21400007605552673, 7.126506805419922], d_loss: 0.10420428961515427\n",
            "niter: 901, g_loss: [20.07864761352539, 0.09587345272302628, 0.26628950238227844, 9.331193923950195], d_loss: 0.0771050974726677\n",
            "LATloss: (57355,)\n",
            "RECloss: (57355,)\n",
            "Scores: (57355,)\n",
            "Scores of Normal and Abnormal: (56863,) (492,)\n",
            "Optimal threshold for best AUC: 0.41536007200440933 TPR-FPR= 0.829628879796527\n",
            "Optimal threshold for best AUPRC: 1.6114100386981052 f-score= 0.791974656810982\n",
            "run: 9\n",
            "train: (227452, 29) (227452,) ;  test: (57355, 29) (57355,)\n",
            "niter: 1, g_loss: [25.97785186767578, 0.6986013650894165, 0.6314039826393127, 0.023091193288564682], d_loss: 0.6671394109725952\n",
            "niter: 101, g_loss: [6.359668254852295, 0.2456839382648468, 0.14035505056381226, 0.4997824430465698], d_loss: 0.3453788161277771\n",
            "niter: 201, g_loss: [11.489401817321777, 0.23631823062896729, 0.22579801082611084, 2.221163272857666], d_loss: 0.21191459894180298\n",
            "niter: 301, g_loss: [18.82156753540039, 0.039591867476701736, 0.32928192615509033, 5.610699653625488], d_loss: 0.1730773001909256\n",
            "niter: 401, g_loss: [23.27167510986328, 0.14959707856178284, 0.42933189868927, 5.948803901672363], d_loss: 0.12198814749717712\n",
            "niter: 501, g_loss: [16.815792083740234, 0.07556027173995972, 0.2920489013195038, 5.05827522277832], d_loss: 0.08622069656848907\n",
            "niter: 601, g_loss: [14.799379348754883, 0.06496454775333405, 0.2216620147228241, 5.867934226989746], d_loss: 0.05978299304842949\n",
            "niter: 701, g_loss: [12.593072891235352, 0.08439889550209045, 0.20008060336112976, 4.505449295043945], d_loss: 0.11113890260457993\n",
            "niter: 801, g_loss: [13.11469554901123, 0.08771650493144989, 0.19526329636573792, 5.216447353363037], d_loss: 0.09643710404634476\n",
            "niter: 901, g_loss: [15.645919799804688, 0.1206018477678299, 0.2074686884880066, 7.2265706062316895], d_loss: 0.11690811812877655\n",
            "LATloss: (57355,)\n",
            "RECloss: (57355,)\n",
            "Scores: (57355,)\n",
            "Scores of Normal and Abnormal: (56863,) (492,)\n",
            "Optimal threshold for best AUC: 0.5917079324093588 TPR-FPR= 0.805755639463786\n",
            "Optimal threshold for best AUPRC: 1.5340654745780573 f-score= 0.7062146892655367\n",
            "run: 10\n",
            "train: (227452, 29) (227452,) ;  test: (57355, 29) (57355,)\n",
            "niter: 1, g_loss: [26.97041893005371, 0.6998915672302246, 0.6561671495437622, 0.02384176477789879], d_loss: 0.716751217842102\n",
            "niter: 101, g_loss: [6.803927421569824, 0.14392772316932678, 0.14532369375228882, 0.8470519781112671], d_loss: 0.21348388493061066\n",
            "niter: 201, g_loss: [16.570302963256836, 0.1460057646036148, 0.33888694643974304, 2.868818759918213], d_loss: 0.15525729954242706\n",
            "niter: 301, g_loss: [14.045296669006348, 0.10955982655286789, 0.26114118099212646, 3.4900894165039062], d_loss: 0.12068428099155426\n",
            "niter: 401, g_loss: [13.492233276367188, 0.08843586593866348, 0.25957030057907104, 3.020984649658203], d_loss: 0.12623316049575806\n",
            "niter: 501, g_loss: [14.195635795593262, 0.13540226221084595, 0.22804827988147736, 4.938302516937256], d_loss: 0.10076228529214859\n",
            "niter: 601, g_loss: [65.37410736083984, 0.12417140603065491, 0.3091633915901184, 52.883399963378906], d_loss: 0.14957726001739502\n",
            "niter: 701, g_loss: [16.467830657958984, 0.05194750800728798, 0.2861195504665375, 4.971099853515625], d_loss: 0.05343157425522804\n",
            "niter: 801, g_loss: [14.623674392700195, 0.06529457867145538, 0.24669314920902252, 4.690652847290039], d_loss: 0.11114052683115005\n",
            "niter: 901, g_loss: [13.791141510009766, 0.13237795233726501, 0.2215534746646881, 4.796624183654785], d_loss: 0.1735871434211731\n",
            "LATloss: (57355,)\n",
            "RECloss: (57355,)\n",
            "Scores: (57355,)\n",
            "Scores of Normal and Abnormal: (56863,) (492,)\n",
            "Optimal threshold for best AUC: 0.4758507650424668 TPR-FPR= 0.8239991384227017\n",
            "Optimal threshold for best AUPRC: 1.7965070282894111 f-score= 0.5919477693144722\n"
          ]
        }
      ],
      "source": [
        "TOTAL_RUN = 10\n",
        "run = 1\n",
        "\n",
        "for run in range(1,TOTAL_RUN+1):\n",
        "    g_e = define_GE()\n",
        "    g = define_G(g_e)\n",
        "    f_e = define_FE()\n",
        "    d = define_D(f_e)\n",
        "    gan_trainer = define_gan_trainer()\n",
        "    \n",
        "    print('run: {!r}'.format(run))\n",
        "    datasets = np.load('data/Runs/{!s}_{!s}_Runs/Run_{!s}.npz'.format(RAT,TOTAL_RUN, run))\n",
        "    x_train, y_train = datasets['trainX'], datasets['trainY']\n",
        "    x_test, y_test = datasets['testX'], datasets['testY']\n",
        "    print('train:',x_train.shape,y_train.shape,'; ','test:',x_test.shape,y_test.shape)\n",
        "    train(x_train=x_train)\n",
        "    evaluation(x_test=x_test, y_test=y_test)\n",
        "    run+=1"
      ]
    },
    {
      "cell_type": "markdown",
      "metadata": {},
      "source": [
        "# Retrain\n",
        "* [back to model](#model)"
      ]
    },
    {
      "cell_type": "markdown",
      "metadata": {},
      "source": [
        "# AUC and PR curve"
      ]
    },
    {
      "cell_type": "code",
      "execution_count": 15,
      "metadata": {},
      "outputs": [
        {
          "name": "stdout",
          "output_type": "stream",
          "text": [
            "0.5\n"
          ]
        },
        {
          "data": {
            "image/png": "[encoded data removed]",
            "text/plain": [
              "<Figure size 432x288 with 2 Axes>"
            ]
          },
          "metadata": {
            "needs_background": "light"
          },
          "output_type": "display_data"
        },
        {
          "name": "stdout",
          "output_type": "stream",
          "text": [
            "Average AUC score =  0.9612186664882317\n",
            "Average AUPRC score =  0.7243712292862914\n",
            "Average f1 score =  0.7441227110038707\n",
            "Average recall =  0.729471544715447\n",
            "Average precision =  0.7652565866027173\n",
            "Average accuracy =  0.9956254903670125\n",
            "[{'AUC': 0.4926832519842478, 'PRC': 1.6095209004556486}, {'AUC': 0.7991689884972094, 'PRC': 3.0210792296054993}, {'AUC': 1.0173843726243206, 'PRC': 3.3203448362265813}, {'AUC': 0.8142086467497708, 'PRC': 2.879688747541481}, {'AUC': 0.5218963359279198, 'PRC': 2.822708528529599}, {'AUC': 0.5958679061048722, 'PRC': 2.778333570446442}, {'AUC': 0.6314758465583599, 'PRC': 3.4963699133959794}, {'AUC': 0.41536007200440933, 'PRC': 1.6114100386981052}, {'AUC': 0.5917079324093588, 'PRC': 1.5340654745780573}, {'AUC': 0.4758507650424668, 'PRC': 1.7965070282894111}]\n"
          ]
        }
      ],
      "source": [
        "rcParams['figure.figsize'] = 20, 5\n",
        "#plot\n",
        "fig, ax=plt.subplots(1,2)\n",
        "proportion_of_abn = 0.5\n",
        "\n",
        "colors = ['orange','purple','green','lime','black','yellow','brown','pink','blue','lightblue']\n",
        "print(proportion_of_abn)\n",
        "\n",
        "\n",
        "for i in range(len(TPR_res)):\n",
        "    tpr, fpr = TPR_res[i], FPR_res[i]\n",
        "    precision, recall = P_res[i], R_res[i]\n",
        "    auc_score, auprc_score = AUC_res[i], AUPRC_res[i]\n",
        "    indicator = colors[i]\n",
        "\n",
        "    #ROC curve\n",
        "    ax[0].plot(fpr, tpr, color = indicator, label = '%0.4f' % auc_score)\n",
        "    ax[0].legend(loc = 'lower right')\n",
        "\n",
        "    #PR curve\n",
        "    ax[1].plot(recall, precision, color = indicator, label='%0.4f' % auprc_score)\n",
        "    ax[1].legend(loc = 'lower right')\n",
        "    \n",
        "\n",
        "\n",
        "ax[0].set_title('Receiver Operating Characteristic')\n",
        "ax[0].plot([0, 1], [0, 1],'r--')\n",
        "ax[0].set_xlim([0, 1])\n",
        "ax[0].set_ylim([0, 1])\n",
        "ax[0].set_ylabel('True Positive Rate')\n",
        "ax[0].set_xlabel('False Positive Rate')\n",
        "\n",
        "ax[1].set_title('Precision-Recall Curve')\n",
        "ax[1].plot([0, 1], [proportion_of_abn, proportion_of_abn],'r--')\n",
        "ax[1].plot([0, 1], [proportion_of_abn, proportion_of_abn],'r--')\n",
        "ax[1].set_xlim([0, 1])\n",
        "ax[1].set_ylim([0, 1])\n",
        "ax[1].set_ylabel('Precision')\n",
        "ax[1].set_xlabel('Recall')\n",
        "plt.show()\n",
        "\n",
        "#calculate average AUC and AUPRC score\n",
        "print('Average AUC score = ',sum(AUC_res) / TOTAL_RUN)\n",
        "print('Average AUPRC score = ',sum(AUPRC_res) / TOTAL_RUN)\n",
        "print('Average f1 score = ',sum(fscore_res) / TOTAL_RUN)\n",
        "print('Average recall = ',sum(recall_res) / TOTAL_RUN)\n",
        "print('Average precision = ',sum(precision_res) / TOTAL_RUN)\n",
        "print('Average accuracy = ', sum(accuracies)/TOTAL_RUN)\n",
        "\n",
        "print(THR_opt)\n",
        "\n",
        "#print optnimal thresholds of 10 folds\n",
        "#print(THR_opt)"
      ]
    },
    {
      "cell_type": "code",
      "execution_count": 16,
      "metadata": {},
      "outputs": [],
      "source": [
        "TPR_maxlen = FPR_maxlen = P_maxlen = R_maxlen = 0\n",
        "\n",
        "for i in range(len(TPR_res)):\n",
        "    if TPR_maxlen < len(TPR_res[i]): TPR_maxlen = len(TPR_res[i])\n",
        "    if FPR_maxlen < len(FPR_res[i]): FPR_maxlen = len(FPR_res[i])\n",
        "    if P_maxlen < len(P_res[i]): P_maxlen = len(P_res[i])\n",
        "    if R_maxlen < len(R_res[i]): R_maxlen = len(R_res[i])\n",
        "\n",
        "def AddOn(addTo,data,row, dataLen):\n",
        "    tmp = data[0]\n",
        "    for i in range(dataLen):\n",
        "        if i<len(data[row]) and data[row][i] is not np.nan: tmp = data[row][i]\n",
        "        addTo[i]+=tmp\n",
        "\n",
        "def AVG(data):\n",
        "    return (data / TOTAL_RUN).tolist()\n",
        "TPR_avg, FPR_avg, P_avg, R_avg = np.zeros((TPR_maxlen)), np.zeros((FPR_maxlen)), np.zeros((P_maxlen)), np.zeros((R_maxlen))\n",
        "\n",
        "for i in range(len(TPR_res)):\n",
        "    AddOn(TPR_avg, TPR_res, i, TPR_maxlen)\n",
        "    AddOn(FPR_avg, FPR_res, i, FPR_maxlen)\n",
        "    AddOn(P_avg, P_res, i, P_maxlen)\n",
        "    AddOn(R_avg, R_res, i, R_maxlen)\n",
        "    \n",
        "TPR_avg, FPR_avg, P_avg, R_avg = AVG(TPR_avg), AVG(FPR_avg), AVG(P_avg), AVG(R_avg)"
      ]
    },
    {
      "attachments": {},
      "cell_type": "markdown",
      "metadata": {},
      "source": [
        "# Save Result to json"
      ]
    },
    {
      "cell_type": "code",
      "execution_count": 17,
      "metadata": {},
      "outputs": [],
      "source": [
        "import json\n",
        "\n",
        "with open('data/Runs/{!s}_{!s}_Runs/result.json'.format(RAT,TOTAL_RUN, run), \"r\", encoding='utf-8') as jsonFile:\n",
        "    data = json.load(jsonFile)\n",
        "\n",
        "with open('data/Runs/{!s}_{!s}_Runs/result.json'.format(RAT,TOTAL_RUN, run), 'w', encoding='utf-8') as jsonFile:\n",
        "    data['FinGANomaly(FE)_{!s}'.format(lat_weight)] = {\n",
        "            'AUC': AUC_res,\n",
        "            'AUPRC': AUPRC_res,\n",
        "            'Fscore': fscore_res,\n",
        "            'Recall': recall_res,\n",
        "            'Precision': precision_res,\n",
        "            'Accuracy': accuracies,\n",
        "            'THR_opt': THR_opt,\n",
        "            'AVG': {\n",
        "                'TPR': TPR_avg,\n",
        "                'FPR': FPR_avg,\n",
        "                'P': P_avg,\n",
        "                'R': R_avg\n",
        "            }\n",
        "        }\n",
        "    \n",
        "    json.dump(data, jsonFile, ensure_ascii=False)"
      ]
    },
    {
      "cell_type": "markdown",
      "metadata": {},
      "source": [
        "# End of Jupyter\n",
        "* [To top](#common-link)"
      ]
    }
  ],
  "metadata": {
    "accelerator": "GPU",
    "colab": {
      "name": "ganomaly",
      "provenance": [],
      "version": "0.3.2"
    },
    "kernelspec": {
      "display_name": "Python 3.8.3 ('base')",
      "language": "python",
      "name": "python3"
    },
    "language_info": {
      "codemirror_mode": {
        "name": "ipython",
        "version": 3
      },
      "file_extension": ".py",
      "mimetype": "text/x-python",
      "name": "python",
      "nbconvert_exporter": "python",
      "pygments_lexer": "ipython3",
      "version": "3.8.3"
    },
    "vscode": {
      "interpreter": {
        "hash": "ad2bdc8ecc057115af97d19610ffacc2b4e99fae6737bb82f5d7fb13d2f2c186"
      }
    }
  },
  "nbformat": 4,
  "nbformat_minor": 0
}
