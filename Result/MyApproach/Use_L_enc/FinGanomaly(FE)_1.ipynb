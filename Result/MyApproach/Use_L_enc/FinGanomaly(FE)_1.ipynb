{
  "cells": [
    {
      "cell_type": "code",
      "execution_count": 1,
      "metadata": {
        "colab": {
          "base_uri": "https://localhost:8080/",
          "height": 34
        },
        "colab_type": "code",
        "id": "_fOFzTCbXTfi",
        "outputId": "4e0db446-6657-442e-a7e5-f81c198d1dee"
      },
      "outputs": [],
      "source": [
        "from tensorflow.keras import layers\n",
        "import tensorflow.keras as keras\n",
        "import tensorflow.keras.backend as K"
      ]
    },
    {
      "cell_type": "markdown",
      "metadata": {
        "colab_type": "text",
        "id": "jAzGntqyX583"
      },
      "source": [
        "# Models"
      ]
    },
    {
      "cell_type": "code",
      "execution_count": 2,
      "metadata": {
        "colab": {},
        "colab_type": "code",
        "id": "lj9m8quMYrtB"
      },
      "outputs": [],
      "source": [
        "feature = 29"
      ]
    },
    {
      "cell_type": "markdown",
      "metadata": {
        "colab_type": "text",
        "id": "9V6k5E4HX8ns"
      },
      "source": [
        "## Generators Encoder\n"
      ]
    },
    {
      "cell_type": "code",
      "execution_count": 3,
      "metadata": {
        "colab": {
          "base_uri": "https://localhost:8080/",
          "height": 819
        },
        "colab_type": "code",
        "id": "6SSgbWtgYFge",
        "outputId": "ffb3b7cc-871f-4ef6-b1cb-6f2eb6193249"
      },
      "outputs": [
        {
          "name": "stdout",
          "output_type": "stream",
          "text": [
            "Model: \"model\"\n",
            "_________________________________________________________________\n",
            "Layer (type)                 Output Shape              Param #   \n",
            "=================================================================\n",
            "input (InputLayer)           [(None, 29)]              0         \n",
            "_________________________________________________________________\n",
            "ge_dense_1 (Dense)           (None, 1024)              30720     \n",
            "_________________________________________________________________\n",
            "ge_leaky_1 (LeakyReLU)       (None, 1024)              0         \n",
            "_________________________________________________________________\n",
            "ge_dense_2 (Dense)           (None, 512)               524800    \n",
            "_________________________________________________________________\n",
            "ge_leaky_2 (LeakyReLU)       (None, 512)               0         \n",
            "_________________________________________________________________\n",
            "ge_dense_3 (Dense)           (None, 256)               131328    \n",
            "_________________________________________________________________\n",
            "ge_leaky_3 (LeakyReLU)       (None, 256)               0         \n",
            "_________________________________________________________________\n",
            "ge_dense_4 (Dense)           (None, 128)               32896     \n",
            "_________________________________________________________________\n",
            "ge_leaky_4 (LeakyReLU)       (None, 128)               0         \n",
            "=================================================================\n",
            "Total params: 719,744\n",
            "Trainable params: 719,744\n",
            "Non-trainable params: 0\n",
            "_________________________________________________________________\n"
          ]
        }
      ],
      "source": [
        "input_layer = layers.Input(name='input', shape=(feature))\n",
        "#x = layers.Reshape((height, width, channels), name='ge_reshape')(input_layer)\n",
        "\n",
        "# Encoder\n",
        "x = layers.Dense(1024, name='ge_dense_1')(input_layer)\n",
        "x = layers.LeakyReLU(name='ge_leaky_1')(x)\n",
        "\n",
        "x = layers.Dense(512, name='ge_dense_2')(x)\n",
        "x = layers.LeakyReLU(name='ge_leaky_2')(x)\n",
        "\n",
        "x = layers.Dense(256, name='ge_dense_3')(x)\n",
        "x = layers.LeakyReLU(name='ge_leaky_3')(x)\n",
        "\n",
        "x = layers.Dense(128, name='ge_dense_4')(x)\n",
        "x = layers.LeakyReLU(name='ge_leaky_4')(x)\n",
        "\n",
        "#x = layers.GlobalAveragePooling2D(name='g_encoder_output')(x)\n",
        "\n",
        "g_e = keras.models.Model(inputs=input_layer, outputs=x)\n",
        "\n",
        "g_e.summary()"
      ]
    },
    {
      "cell_type": "markdown",
      "metadata": {
        "colab_type": "text",
        "id": "CsFGE97WYMts"
      },
      "source": [
        "## Generator"
      ]
    },
    {
      "cell_type": "code",
      "execution_count": 4,
      "metadata": {
        "colab": {
          "base_uri": "https://localhost:8080/",
          "height": 510
        },
        "colab_type": "code",
        "id": "pivNg2CMYQwi",
        "outputId": "4281bfb2-df6d-4958-b3e5-dd75d06f866a"
      },
      "outputs": [
        {
          "name": "stdout",
          "output_type": "stream",
          "text": [
            "Model: \"model_1\"\n",
            "_________________________________________________________________\n",
            "Layer (type)                 Output Shape              Param #   \n",
            "=================================================================\n",
            "input (InputLayer)           [(None, 29)]              0         \n",
            "_________________________________________________________________\n",
            "model (Functional)           (None, 128)               719744    \n",
            "_________________________________________________________________\n",
            "dense_1 (Dense)              (None, 256)               33024     \n",
            "_________________________________________________________________\n",
            "leaky_1 (LeakyReLU)          (None, 256)               0         \n",
            "_________________________________________________________________\n",
            "dense_2 (Dense)              (None, 512)               131584    \n",
            "_________________________________________________________________\n",
            "leaky_2 (LeakyReLU)          (None, 512)               0         \n",
            "_________________________________________________________________\n",
            "dense_3 (Dense)              (None, 1024)              525312    \n",
            "_________________________________________________________________\n",
            "leaky_3 (LeakyReLU)          (None, 1024)              0         \n",
            "_________________________________________________________________\n",
            "dense_4 (Dense)              (None, 29)                29725     \n",
            "_________________________________________________________________\n",
            "leaky_4 (LeakyReLU)          (None, 29)                0         \n",
            "=================================================================\n",
            "Total params: 1,439,389\n",
            "Trainable params: 1,439,389\n",
            "Non-trainable params: 0\n",
            "_________________________________________________________________\n"
          ]
        }
      ],
      "source": [
        "input_layer = layers.Input(name='input', shape=(feature))\n",
        "\n",
        "x = g_e(input_layer)\n",
        "\n",
        "#y = layers.Reshape((height // 6, width // 6, 128), name='de_reshape1')(x) # 256 = 256 * (6/6) * (6/6) \n",
        "\n",
        "y = layers.Dense(256, name='dense_1')(x)\n",
        "y = layers.LeakyReLU(name='leaky_1')(y)\n",
        "\n",
        "y = layers.Dense(512, name='dense_2')(y)\n",
        "y = layers.LeakyReLU(name='leaky_2')(y)\n",
        "\n",
        "y = layers.Dense(1024, name='dense_3')(y)\n",
        "y = layers.LeakyReLU(name='leaky_3')(y)\n",
        "\n",
        "y = layers.Dense(feature, name='dense_4')(y)\n",
        "y = layers.LeakyReLU(name='leaky_4')(y)\n",
        "\n",
        "#y = layers.Flatten()(y)\n",
        "#y = layers.Dense(36, name='dense')(y)\n",
        "#y = layers.Reshape((height, width, channels), name='de_reshape2')(y)\n",
        "\n",
        "g = keras.models.Model(inputs=input_layer, outputs=y)\n",
        "\n",
        "g.summary()"
      ]
    },
    {
      "cell_type": "markdown",
      "metadata": {
        "colab_type": "text",
        "id": "6xJahMZrZReX"
      },
      "source": [
        "## Encoder"
      ]
    },
    {
      "cell_type": "code",
      "execution_count": 5,
      "metadata": {
        "colab": {
          "base_uri": "https://localhost:8080/",
          "height": 578
        },
        "colab_type": "code",
        "id": "coa6bXCRYRG9",
        "outputId": "9554afeb-f0a2-45ad-82d0-44c0f245be5a"
      },
      "outputs": [
        {
          "data": {
            "text/plain": [
              "\"input_layer = layers.Input(name='input', shape=(feature))\\n\\nz = layers.Dense(1024, name='e_dense_1')(input_layer)\\nz = layers.LeakyReLU(name='e_leaky_1')(z)\\n\\nz = layers.Dense(512, name='e_dense_2')(z)\\nz = layers.LeakyReLU(name='e_leaky_2')(z)\\n\\nz = layers.Dense(256, name='e_dense_3')(z)\\nz = layers.LeakyReLU(name='e_leaky_3')(z)\\n\\nz = layers.Dense(128, name='e_dense_4')(z)\\nz = layers.LeakyReLU(name='e_leaky_4')(z)\\n\\n#z = layers.GlobalAveragePooling2D(name='encoder_output')(z)\\n\\nencoder = keras.models.Model(input_layer, z)\\nencoder.summary()\""
            ]
          },
          "execution_count": 5,
          "metadata": {},
          "output_type": "execute_result"
        }
      ],
      "source": [
        "'''input_layer = layers.Input(name='input', shape=(feature))\n",
        "\n",
        "z = layers.Dense(1024, name='e_dense_1')(input_layer)\n",
        "z = layers.LeakyReLU(name='e_leaky_1')(z)\n",
        "\n",
        "z = layers.Dense(512, name='e_dense_2')(z)\n",
        "z = layers.LeakyReLU(name='e_leaky_2')(z)\n",
        "\n",
        "z = layers.Dense(256, name='e_dense_3')(z)\n",
        "z = layers.LeakyReLU(name='e_leaky_3')(z)\n",
        "\n",
        "z = layers.Dense(128, name='e_dense_4')(z)\n",
        "z = layers.LeakyReLU(name='e_leaky_4')(z)\n",
        "\n",
        "#z = layers.GlobalAveragePooling2D(name='encoder_output')(z)\n",
        "\n",
        "encoder = keras.models.Model(input_layer, z)\n",
        "encoder.summary()'''"
      ]
    },
    {
      "cell_type": "markdown",
      "metadata": {
        "colab_type": "text",
        "id": "WHU8SoiCZUCH"
      },
      "source": [
        "## feature extractor"
      ]
    },
    {
      "cell_type": "code",
      "execution_count": 6,
      "metadata": {
        "colab": {
          "base_uri": "https://localhost:8080/",
          "height": 544
        },
        "colab_type": "code",
        "id": "tovsU-1uZXzr",
        "outputId": "b2fe7fe5-bf33-42e1-c5bd-dea57e33e762"
      },
      "outputs": [
        {
          "name": "stdout",
          "output_type": "stream",
          "text": [
            "Model: \"model_2\"\n",
            "_________________________________________________________________\n",
            "Layer (type)                 Output Shape              Param #   \n",
            "=================================================================\n",
            "input (InputLayer)           [(None, 29)]              0         \n",
            "_________________________________________________________________\n",
            "f_dense_1 (Dense)            (None, 1024)              30720     \n",
            "_________________________________________________________________\n",
            "f_leaky_1 (LeakyReLU)        (None, 1024)              0         \n",
            "_________________________________________________________________\n",
            "f_dense_2 (Dense)            (None, 512)               524800    \n",
            "_________________________________________________________________\n",
            "f_leaky_2 (LeakyReLU)        (None, 512)               0         \n",
            "_________________________________________________________________\n",
            "f_dense_3 (Dense)            (None, 256)               131328    \n",
            "_________________________________________________________________\n",
            "f_leaky_3 (LeakyReLU)        (None, 256)               0         \n",
            "_________________________________________________________________\n",
            "f_dense_4 (Dense)            (None, 128)               32896     \n",
            "_________________________________________________________________\n",
            "feature_output (LeakyReLU)   (None, 128)               0         \n",
            "=================================================================\n",
            "Total params: 719,744\n",
            "Trainable params: 719,744\n",
            "Non-trainable params: 0\n",
            "_________________________________________________________________\n"
          ]
        }
      ],
      "source": [
        "input_layer = layers.Input(name='input', shape=(feature))\n",
        "#f = layers.Reshape((height, width, channels), name='f_reshape')(input_layer)\n",
        "\n",
        "f = layers.Dense(1024, name='f_dense_1')(input_layer)\n",
        "f = layers.LeakyReLU(name='f_leaky_1')(f)\n",
        "\n",
        "f = layers.Dense(512, name='f_dense_2')(f)\n",
        "f = layers.LeakyReLU(name='f_leaky_2')(f)\n",
        "\n",
        "f = layers.Dense(256, name='f_dense_3')(f)\n",
        "f = layers.LeakyReLU(name='f_leaky_3')(f)\n",
        "\n",
        "f = layers.Dense(128, name='f_dense_4')(f)\n",
        "f = layers.LeakyReLU(name='feature_output')(f)\n",
        "\n",
        "feature_extractor = keras.models.Model(input_layer, f)\n",
        "\n",
        "feature_extractor.summary()"
      ]
    },
    {
      "cell_type": "markdown",
      "metadata": {
        "colab_type": "text",
        "id": "pWWVBPizZctk"
      },
      "source": [
        "## discriminator"
      ]
    },
    {
      "cell_type": "code",
      "execution_count": 7,
      "metadata": {
        "colab": {
          "base_uri": "https://localhost:8080/",
          "height": 272
        },
        "colab_type": "code",
        "id": "xcJdjTerZbMN",
        "outputId": "837e9958-23db-408c-916e-2e0c23250d0f"
      },
      "outputs": [
        {
          "name": "stdout",
          "output_type": "stream",
          "text": [
            "Model: \"model_3\"\n",
            "_________________________________________________________________\n",
            "Layer (type)                 Output Shape              Param #   \n",
            "=================================================================\n",
            "input (InputLayer)           [(None, 29)]              0         \n",
            "_________________________________________________________________\n",
            "model_2 (Functional)         (None, 128)               719744    \n",
            "_________________________________________________________________\n",
            "d_out (Dense)                (None, 1)                 129       \n",
            "=================================================================\n",
            "Total params: 719,873\n",
            "Trainable params: 719,873\n",
            "Non-trainable params: 0\n",
            "_________________________________________________________________\n"
          ]
        }
      ],
      "source": [
        "input_layer = layers.Input(name='input', shape=(feature))\n",
        "\n",
        "f = feature_extractor(input_layer)\n",
        "\n",
        "#d = layers.Dense(16, name='d_dense_1')(f)\n",
        "d = layers.Dense(1, activation='sigmoid', name='d_out')(f)\n",
        "    \n",
        "d = keras.models.Model(input_layer, d)\n",
        "d.summary()"
      ]
    },
    {
      "cell_type": "code",
      "execution_count": 8,
      "metadata": {
        "colab": {
          "base_uri": "https://localhost:8080/",
          "height": 88
        },
        "colab_type": "code",
        "id": "W6d91GYncIGT",
        "outputId": "f7e33a25-4b54-46b8-c6c8-5362e00b9da1"
      },
      "outputs": [],
      "source": [
        "d.compile(optimizer='adam', loss='binary_crossentropy')"
      ]
    },
    {
      "cell_type": "markdown",
      "metadata": {
        "colab_type": "text",
        "id": "Z7HBx1GiZhm-"
      },
      "source": [
        "## gan trainer"
      ]
    },
    {
      "cell_type": "code",
      "execution_count": 9,
      "metadata": {
        "colab": {
          "base_uri": "https://localhost:8080/",
          "height": 71
        },
        "colab_type": "code",
        "id": "bosacIf7ZkZ4",
        "outputId": "341417b4-0771-466f-c9d0-68554e089f8e"
      },
      "outputs": [],
      "source": [
        "import tensorflow as tf\n",
        "class AdvLoss(keras.layers.Layer):\n",
        "    def __init__(self, **kwargs):\n",
        "        super(AdvLoss, self).__init__(**kwargs)\n",
        "\n",
        "    def call(self, x, mask=None):\n",
        "        y_pred = d(x[1])\n",
        "        y_true = tf.ones_like(y_pred)\n",
        "        return keras.losses.binary_crossentropy(y_true,y_pred)\n",
        "\n",
        "    def get_output_shape_for(self, input_shape):\n",
        "        return (input_shape[0][0], 1)\n",
        "    \n",
        "class CntLoss(keras.layers.Layer):\n",
        "    def __init__(self, **kwargs):\n",
        "        super(CntLoss, self).__init__(**kwargs)\n",
        "\n",
        "    def call(self, x, mask=None):\n",
        "        ori = x[0]\n",
        "        gan = x[1]\n",
        "        return K.mean(K.abs(ori - gan))\n",
        "\n",
        "    def get_output_shape_for(self, input_shape):\n",
        "        return (input_shape[0][0], 1)\n",
        "    \n",
        "class EncLoss(keras.layers.Layer):\n",
        "    def __init__(self, **kwargs):\n",
        "        super(EncLoss, self).__init__(**kwargs)\n",
        "\n",
        "    def call(self, x, mask=None):\n",
        "        ori = x[0]\n",
        "        gan = x[1]\n",
        "        return K.mean(K.square(feature_extractor(ori) - feature_extractor(gan)))\n",
        "\n",
        "    def get_output_shape_for(self, input_shape):\n",
        "        return (input_shape[0][0], 1)\n",
        "    \n",
        "# model for training\n",
        "input_layer = layers.Input(name='input', shape=(feature))\n",
        "gan = g(input_layer) # g(x)\n",
        "\n",
        "adv_loss = AdvLoss(name='adv_loss')([input_layer, gan])\n",
        "cnt_loss = CntLoss(name='cnt_loss')([input_layer, gan])\n",
        "enc_loss = EncLoss(name='enc_loss')([input_layer, gan])\n",
        "\n",
        "gan_trainer = keras.models.Model(input_layer, [adv_loss, cnt_loss, enc_loss])\n",
        "\n",
        "# loss function\n",
        "def loss(yt, yp):\n",
        "    return yp\n",
        "\n",
        "losses = {\n",
        "    'adv_loss': loss,\n",
        "    'cnt_loss': loss,\n",
        "    'enc_loss': loss,\n",
        "}\n",
        "\n",
        "lossWeights = {'cnt_loss': 40.0, 'adv_loss': 1.0, 'enc_loss': 1.0}\n",
        "\n",
        "# compile\n",
        "gan_trainer.compile(optimizer = 'adam', loss=losses, loss_weights=lossWeights)"
      ]
    },
    {
      "cell_type": "code",
      "execution_count": 10,
      "metadata": {
        "colab": {
          "base_uri": "https://localhost:8080/",
          "height": 357
        },
        "colab_type": "code",
        "id": "6YlrDrqZUfJG",
        "outputId": "bee8ea69-6b60-45ed-e7d2-73596eb6d102"
      },
      "outputs": [
        {
          "name": "stdout",
          "output_type": "stream",
          "text": [
            "Model: \"model_4\"\n",
            "__________________________________________________________________________________________________\n",
            "Layer (type)                    Output Shape         Param #     Connected to                     \n",
            "==================================================================================================\n",
            "input (InputLayer)              [(None, 29)]         0                                            \n",
            "__________________________________________________________________________________________________\n",
            "model_1 (Functional)            (None, 29)           1439389     input[0][0]                      \n",
            "__________________________________________________________________________________________________\n",
            "adv_loss (AdvLoss)              (None,)              0           input[0][0]                      \n",
            "                                                                 model_1[0][0]                    \n",
            "__________________________________________________________________________________________________\n",
            "cnt_loss (CntLoss)              ()                   0           input[0][0]                      \n",
            "                                                                 model_1[0][0]                    \n",
            "__________________________________________________________________________________________________\n",
            "enc_loss (EncLoss)              ()                   0           input[0][0]                      \n",
            "                                                                 model_1[0][0]                    \n",
            "==================================================================================================\n",
            "Total params: 1,439,389\n",
            "Trainable params: 1,439,389\n",
            "Non-trainable params: 0\n",
            "__________________________________________________________________________________________________\n"
          ]
        }
      ],
      "source": [
        "gan_trainer.summary()"
      ]
    },
    {
      "cell_type": "markdown",
      "metadata": {
        "colab_type": "text",
        "id": "x6f6m8x7bDUX"
      },
      "source": [
        "# Load Data"
      ]
    },
    {
      "cell_type": "code",
      "execution_count": 11,
      "metadata": {
        "colab": {},
        "colab_type": "code",
        "id": "oniqQC4ZbN06"
      },
      "outputs": [
        {
          "name": "stdout",
          "output_type": "stream",
          "text": [
            "29 31\n",
            "<class 'pandas.core.frame.DataFrame'>\n",
            "RangeIndex: 284807 entries, 0 to 284806\n",
            "Data columns (total 31 columns):\n",
            " #   Column  Non-Null Count   Dtype  \n",
            "---  ------  --------------   -----  \n",
            " 0   Time    284807 non-null  float64\n",
            " 1   V1      284807 non-null  float64\n",
            " 2   V2      284807 non-null  float64\n",
            " 3   V3      284807 non-null  float64\n",
            " 4   V4      284807 non-null  float64\n",
            " 5   V5      284807 non-null  float64\n",
            " 6   V6      284807 non-null  float64\n",
            " 7   V7      284807 non-null  float64\n",
            " 8   V8      284807 non-null  float64\n",
            " 9   V9      284807 non-null  float64\n",
            " 10  V10     284807 non-null  float64\n",
            " 11  V11     284807 non-null  float64\n",
            " 12  V12     284807 non-null  float64\n",
            " 13  V13     284807 non-null  float64\n",
            " 14  V14     284807 non-null  float64\n",
            " 15  V15     284807 non-null  float64\n",
            " 16  V16     284807 non-null  float64\n",
            " 17  V17     284807 non-null  float64\n",
            " 18  V18     284807 non-null  float64\n",
            " 19  V19     284807 non-null  float64\n",
            " 20  V20     284807 non-null  float64\n",
            " 21  V21     284807 non-null  float64\n",
            " 22  V22     284807 non-null  float64\n",
            " 23  V23     284807 non-null  float64\n",
            " 24  V24     284807 non-null  float64\n",
            " 25  V25     284807 non-null  float64\n",
            " 26  V26     284807 non-null  float64\n",
            " 27  V27     284807 non-null  float64\n",
            " 28  V28     284807 non-null  float64\n",
            " 29  Class   284807 non-null  int64  \n",
            " 30  Amount  284807 non-null  float64\n",
            "dtypes: float64(30), int64(1)\n",
            "memory usage: 67.4 MB\n"
          ]
        }
      ],
      "source": [
        "import pandas as pd\n",
        "import numpy as np\n",
        "\n",
        "dataset = pd.read_csv('creditcard.csv')\n",
        "print(feature, len(dataset.columns))\n",
        "col_move = dataset.pop('Class') #pop 'Class' out\n",
        "dataset.insert(feature,'Class', col_move) #move col 'Class' to last position\n",
        "dataset.info()"
      ]
    },
    {
      "cell_type": "code",
      "execution_count": 12,
      "metadata": {
        "colab": {
          "base_uri": "https://localhost:8080/",
          "height": 34
        },
        "colab_type": "code",
        "id": "GvxWqaXtbTS4",
        "outputId": "7bd96199-9cec-4eb2-b0d9-b155644fbb4b"
      },
      "outputs": [
        {
          "name": "stdout",
          "output_type": "stream",
          "text": [
            "<class 'pandas.core.frame.DataFrame'>\n",
            "RangeIndex: 284807 entries, 0 to 284806\n",
            "Data columns (total 30 columns):\n",
            " #   Column  Non-Null Count   Dtype  \n",
            "---  ------  --------------   -----  \n",
            " 0   V1      284807 non-null  float64\n",
            " 1   V2      284807 non-null  float64\n",
            " 2   V3      284807 non-null  float64\n",
            " 3   V4      284807 non-null  float64\n",
            " 4   V5      284807 non-null  float64\n",
            " 5   V6      284807 non-null  float64\n",
            " 6   V7      284807 non-null  float64\n",
            " 7   V8      284807 non-null  float64\n",
            " 8   V9      284807 non-null  float64\n",
            " 9   V10     284807 non-null  float64\n",
            " 10  V11     284807 non-null  float64\n",
            " 11  V12     284807 non-null  float64\n",
            " 12  V13     284807 non-null  float64\n",
            " 13  V14     284807 non-null  float64\n",
            " 14  V15     284807 non-null  float64\n",
            " 15  V16     284807 non-null  float64\n",
            " 16  V17     284807 non-null  float64\n",
            " 17  V18     284807 non-null  float64\n",
            " 18  V19     284807 non-null  float64\n",
            " 19  V20     284807 non-null  float64\n",
            " 20  V21     284807 non-null  float64\n",
            " 21  V22     284807 non-null  float64\n",
            " 22  V23     284807 non-null  float64\n",
            " 23  V24     284807 non-null  float64\n",
            " 24  V25     284807 non-null  float64\n",
            " 25  V26     284807 non-null  float64\n",
            " 26  V27     284807 non-null  float64\n",
            " 27  V28     284807 non-null  float64\n",
            " 28  Amount  284807 non-null  float64\n",
            " 29  Class   284807 non-null  int64  \n",
            "dtypes: float64(29), int64(1)\n",
            "memory usage: 65.2 MB\n"
          ]
        }
      ],
      "source": [
        "dataset.pop('Time') #drop 'Time'\n",
        "amount = dataset.pop('Amount')\n",
        "label = dataset.pop('Class')\n",
        "dataset['Amount'] = amount\n",
        "dataset['Class'] = label\n",
        "dataset.info()\n"
      ]
    },
    {
      "cell_type": "code",
      "execution_count": 13,
      "metadata": {},
      "outputs": [],
      "source": [
        "from sklearn.preprocessing import StandardScaler\n",
        "dataset['Amount'] = StandardScaler().fit_transform(dataset['Amount'].values.reshape(-1, 1))"
      ]
    },
    {
      "cell_type": "code",
      "execution_count": 14,
      "metadata": {},
      "outputs": [],
      "source": [
        "dataset_ok = dataset[dataset['Class']==0]\n",
        "dataset_abn = dataset[dataset['Class']==1]\n"
      ]
    },
    {
      "cell_type": "code",
      "execution_count": 15,
      "metadata": {},
      "outputs": [],
      "source": [
        "dataset_X_ok, dataset_X_abn = dataset_ok.iloc[:,:-1], dataset_abn.iloc[:,:-1]\n",
        "dataset_Y_ok, dataset_Y_abn = dataset_ok['Class'], dataset_abn['Class']"
      ]
    },
    {
      "cell_type": "code",
      "execution_count": 16,
      "metadata": {},
      "outputs": [
        {
          "name": "stdout",
          "output_type": "stream",
          "text": [
            "(283823, 29) (283823,) (492, 29) (492,)\n",
            "(984, 29) (984,)\n"
          ]
        }
      ],
      "source": [
        "from sklearn.model_selection import train_test_split\n",
        "from sklearn.preprocessing import StandardScaler\n",
        "from sklearn import utils\n",
        "\n",
        "X_ok, X_abn = dataset_X_ok.values, dataset_X_abn.values\n",
        "Y_ok, Y_abn = dataset_Y_ok.values, dataset_Y_abn.values\n",
        "\n",
        "imb_rat = 1\n",
        "n_test_size = len(Y_abn)*imb_rat/len(Y_ok)\n",
        "\n",
        "x_train, x_test_ok, y_train, y_test_ok = train_test_split(X_ok, Y_ok, test_size=n_test_size, shuffle=True, random_state=42)\n",
        "#x_train_abn, x_test_abn, y_train_abn, y_test_abn = train_test_split(X_abn, Y_abn, test_size=0.15, shuffle=True)\n",
        "print(x_train.shape, y_train.shape, x_test_ok.shape, y_test_ok.shape)\n",
        "\n",
        "#X_abn, Y_abn = utils.shuffle(X_abn, Y_abn, random_state=42, n_samples=98)\n",
        "\n",
        "x_test, y_test = utils.shuffle( np.append(x_test_ok, X_abn, axis=0), np.append(y_test_ok, Y_abn, axis=0), random_state=42)\n",
        "'''sc = StandardScaler()\n",
        "x_train[:, feature-1:] = sc.fit_transform(x_train[:, feature-1:])\n",
        "x_test[:, feature-1:] = sc.transform(x_test[:, feature-1:])'''\n",
        "\n",
        "\n",
        "print(x_test.shape, y_test.shape)\n",
        "#x_ok = x_train[y_train == 1] # 6742 筆\n",
        "#x_test = x_test[(y_test == 7) | (y_test == 1)] # 1135 筆 \"1\", 1028 筆 \"7\"\n",
        "#y_test = y_test[(y_test == 7) | (y_test == 1)]"
      ]
    },
    {
      "cell_type": "code",
      "execution_count": 17,
      "metadata": {},
      "outputs": [],
      "source": [
        "#x_ok = x_train[y_train == 1] # 6742 筆\n",
        "#x_test = x_test[(y_test == 7) | (y_test == 1)] # 1135 筆 \"1\", 1028 筆 \"7\"\n",
        "#y_test = y_test[(y_test == 7) | (y_test == 1)]"
      ]
    },
    {
      "cell_type": "markdown",
      "metadata": {
        "colab_type": "text",
        "id": "dxPzCEC1bFMR"
      },
      "source": [
        "# Training"
      ]
    },
    {
      "cell_type": "code",
      "execution_count": 18,
      "metadata": {
        "colab": {},
        "colab_type": "code",
        "id": "jDYFHg6Iboh4"
      },
      "outputs": [],
      "source": [
        "niter = 1000\n",
        "bz = 512"
      ]
    },
    {
      "cell_type": "code",
      "execution_count": 19,
      "metadata": {
        "colab": {},
        "colab_type": "code",
        "id": "53rLCTe3a8LY"
      },
      "outputs": [],
      "source": [
        "def get_data_generator(data, batch_size=32):\n",
        "    datalen = len(data)\n",
        "    cnt = 0\n",
        "    while True:\n",
        "        idxes = np.arange(datalen)\n",
        "        np.random.shuffle(idxes)\n",
        "        cnt += 1\n",
        "        for i in range(int(np.ceil(datalen/batch_size))):\n",
        "            train_x = np.take(data, idxes[i*batch_size: (i+1) * batch_size], axis=0)\n",
        "            y = np.ones(len(train_x))\n",
        "            yield train_x, [y, y, y]"
      ]
    },
    {
      "cell_type": "code",
      "execution_count": 20,
      "metadata": {
        "colab": {},
        "colab_type": "code",
        "id": "fHQxiAHia_5J"
      },
      "outputs": [],
      "source": [
        "train_data_generator = get_data_generator(x_train, bz)"
      ]
    },
    {
      "cell_type": "code",
      "execution_count": 21,
      "metadata": {
        "colab": {
          "base_uri": "https://localhost:8080/",
          "height": 698
        },
        "colab_type": "code",
        "id": "OKkjwML7bjqg",
        "outputId": "5e1c9f56-b705-49b8-8825-69686eac039d"
      },
      "outputs": [
        {
          "name": "stdout",
          "output_type": "stream",
          "text": [
            "niter: 1, g_loss: [26.514034271240234, 0.6965312957763672, 0.6448493599891663, 0.02352859452366829], d_loss: 0.6524966359138489\n",
            "niter: 51, g_loss: [7.799642562866211, 0.3241693377494812, 0.17241500318050385, 0.5788729190826416], d_loss: 0.237676739692688\n",
            "niter: 101, g_loss: [6.1741204261779785, 0.1356089860200882, 0.13757607340812683, 0.535468339920044], d_loss: 0.18271896243095398\n",
            "niter: 151, g_loss: [5.673460006713867, 0.3918956518173218, 0.12425707280635834, 0.31128114461898804], d_loss: 0.33178186416625977\n",
            "niter: 201, g_loss: [7.035914897918701, 0.12083469331264496, 0.14558441936969757, 1.0917034149169922], d_loss: 0.13623322546482086\n",
            "niter: 251, g_loss: [10.129898071289062, 0.1191568598151207, 0.1732807755470276, 3.0795106887817383], d_loss: 0.11766838282346725\n",
            "niter: 301, g_loss: [7.1528496742248535, 0.21344682574272156, 0.143765389919281, 1.1887872219085693], d_loss: 0.20254413783550262\n",
            "niter: 351, g_loss: [38.2899284362793, 0.26132723689079285, 0.2626144289970398, 27.524023056030273], d_loss: 0.30629631876945496\n",
            "niter: 401, g_loss: [13.783109664916992, 0.17286475002765656, 0.2631581425666809, 3.0839195251464844], d_loss: 0.1375388205051422\n",
            "niter: 451, g_loss: [15.492247581481934, 0.150294229388237, 0.27459651231765747, 4.35809326171875], d_loss: 0.18640024960041046\n",
            "niter: 501, g_loss: [14.541627883911133, 0.10102944076061249, 0.2990002930164337, 2.4805874824523926], d_loss: 0.11893761157989502\n",
            "niter: 551, g_loss: [37.66253662109375, 0.4633534252643585, 0.5049661993980408, 17.000534057617188], d_loss: 0.30776187777519226\n",
            "niter: 601, g_loss: [17.31697654724121, 0.10747656226158142, 0.35912948846817017, 2.844320774078369], d_loss: 0.15658628940582275\n",
            "niter: 651, g_loss: [15.377763748168945, 0.12102596461772919, 0.2898634672164917, 3.662198543548584], d_loss: 0.1465781182050705\n",
            "niter: 701, g_loss: [14.037461280822754, 0.09765902161598206, 0.27399590611457825, 2.979966402053833], d_loss: 0.17550212144851685\n",
            "niter: 751, g_loss: [11.829389572143555, 0.13457494974136353, 0.22863075137138367, 2.549583911895752], d_loss: 0.21046963334083557\n",
            "niter: 801, g_loss: [11.070799827575684, 0.14163775742053986, 0.20572376251220703, 2.700211524963379], d_loss: 0.1395803689956665\n",
            "niter: 851, g_loss: [8.707791328430176, 0.14229752123355865, 0.1684209406375885, 1.8286566734313965], d_loss: 0.15031303465366364\n",
            "niter: 901, g_loss: [10.964561462402344, 0.15016894042491913, 0.17002244293689728, 4.013495445251465], d_loss: 0.17898719012737274\n",
            "niter: 951, g_loss: [18.50102996826172, 0.040425173938274384, 0.31548112630844116, 5.8413591384887695], d_loss: 0.13055725395679474\n"
          ]
        }
      ],
      "source": [
        "for i in range(niter):\n",
        "    \n",
        "    ### get batch x, y ###\n",
        "    x, y = train_data_generator.__next__()\n",
        "        \n",
        "    ### train disciminator ###\n",
        "    d.trainable = True\n",
        "        \n",
        "    fake_x = g.predict(x)\n",
        "        \n",
        "    d_x = np.concatenate([x, fake_x], axis=0)\n",
        "    d_y = np.concatenate([np.zeros(len(x)), np.ones(len(fake_x))], axis=0)\n",
        "        \n",
        "    d_loss = d.train_on_batch(d_x, d_y)\n",
        "\n",
        "    ### train generator ###\n",
        "    \n",
        "    d.trainable = False        \n",
        "    g_loss = gan_trainer.train_on_batch(x, y)\n",
        "    \n",
        "    if i % 50 == 0:\n",
        "        print(f'niter: {i+1}, g_loss: {g_loss}, d_loss: {d_loss}')"
      ]
    },
    {
      "cell_type": "markdown",
      "metadata": {},
      "source": [
        "# Save / Load Model"
      ]
    },
    {
      "cell_type": "code",
      "execution_count": 22,
      "metadata": {},
      "outputs": [],
      "source": [
        "from tensorflow.keras.models import load_model"
      ]
    },
    {
      "cell_type": "code",
      "execution_count": 23,
      "metadata": {},
      "outputs": [],
      "source": [
        "load = False"
      ]
    },
    {
      "cell_type": "code",
      "execution_count": 24,
      "metadata": {},
      "outputs": [],
      "source": [
        "if load:\n",
        "    g_e = load_model('models/ganomaly_dense(FE)_balanced/g_e.h5')\n",
        "    g = load_model('models/ganomaly_dense(FE)_balanced/g.h5')\n",
        "    #encoder = load_model('models/ganomaly_dense(FE)_balanced/encoder.h5')\n",
        "    feature_extractor = load_model('models/ganomaly_dense(FE)_balanced/feature_extractor.h5')\n",
        "    d = load_model('models/ganomaly_dense(FE)_balanced/d.h5')\n",
        "else:\n",
        "    g_e.save('models/ganomaly_dense(FE)_balanced/g_e.h5')\n",
        "    g.save('models/ganomaly_dense(FE)_balanced/g.h5')\n",
        "    #encoder.save('models/ganomaly_dense(FE)_balanced/encoder.h5')\n",
        "    feature_extractor.save('models/ganomaly_dense(FE)_balanced/feature_extractor.h5')\n",
        "    d.save('models/ganomaly_dense(FE)_balanced/d.h5')"
      ]
    },
    {
      "cell_type": "markdown",
      "metadata": {
        "colab_type": "text",
        "id": "0cHDcccacdST"
      },
      "source": [
        "# Evaluation"
      ]
    },
    {
      "cell_type": "code",
      "execution_count": 64,
      "metadata": {},
      "outputs": [],
      "source": [
        "lat_weight = 0.1\n",
        "recons_weight = 1-lat_weight"
      ]
    },
    {
      "cell_type": "code",
      "execution_count": 65,
      "metadata": {},
      "outputs": [
        {
          "name": "stdout",
          "output_type": "stream",
          "text": [
            "(283823,)\n",
            "(283823,)\n",
            "(283823,)\n",
            "(-0.37701425384439535, 0.7681202392386149)\n",
            "Normal class scores: max=20.552267759319925 / min=0.03822694943592219 / mean=0.19555299269710977 / confidence of 99%=(-0.37701425384439535, 0.7681202392386149)\n"
          ]
        }
      ],
      "source": [
        "from scipy import stats\n",
        "from sklearn import utils\n",
        "\n",
        "encoded = g_e.predict(x_train)\n",
        "gan_x = g.predict(x_train)\n",
        "encoded_gan = g_e.predict(gan_x)\n",
        "recons_loss = np.mean(np.absolute(gan_x - x_train), axis=-1)\n",
        "lat_loss = np.mean(np.square(encoded - encoded_gan), axis=-1)\n",
        "#print(enc_loss[0].shape)\n",
        "print(lat_loss.shape)\n",
        "#print(recons_loss)\n",
        "print(recons_loss.shape)\n",
        "train_score = lat_weight*lat_loss + recons_weight*recons_loss\n",
        "\n",
        "#train_score = (train_score - np.min(train_score)) / (np.max(train_score) - np.min(train_score)) # map to 0~1\n",
        "#print(score)\n",
        "print(train_score.shape)\n",
        "train_score = train_score.reshape(len(train_score))\n",
        "# Analyze anomaly scores before scaling\n",
        "max_train = max(train_score)\n",
        "min_train = min(train_score)\n",
        "mean_train = np.mean(train_score)\n",
        "std_train = np.std(train_score)\n",
        "confindence = stats.norm.interval(0.9975,loc=mean_train, scale=std_train)\n",
        "print(confindence)\n",
        "print( 'Normal class scores: max={!r} / min={!r} / mean={!r} / confidence of 99%={!r}'.format(max_train, min_train, mean_train, confindence) )"
      ]
    },
    {
      "cell_type": "code",
      "execution_count": 66,
      "metadata": {
        "colab": {},
        "colab_type": "code",
        "id": "UXAufnuIbuvF"
      },
      "outputs": [
        {
          "name": "stdout",
          "output_type": "stream",
          "text": [
            "(984,)\n",
            "(984,)\n",
            "(984,)\n",
            "Normal class scores: max=1.4589764412585497 / min=0.043316563487364304 / mean=0.1831451734830018 / confidence of 99%=(-0.14941038560806857, 0.5157007325740721)\n",
            "Abormal class scores: max=9.111677860396902 / min=0.0915486396423624 / mean=3.4742061320457833 / confidence of 99%=(-3.795173911332079, 10.743586175423646)\n"
          ]
        }
      ],
      "source": [
        "encoded = g_e.predict(x_test)\n",
        "gan_x = g.predict(x_test)\n",
        "encoded_gan = g_e.predict(gan_x)\n",
        "recons_loss = np.mean(np.absolute(gan_x - x_test), axis=-1)\n",
        "lat_loss = np.mean(np.square(encoded - encoded_gan), axis=-1)\n",
        "#print(enc_loss[0].shape)\n",
        "print(lat_loss.shape)\n",
        "#print(recons_loss)\n",
        "print(recons_loss.shape)\n",
        "score = lat_weight*lat_loss + recons_weight*recons_loss\n",
        "#score = (score - np.min(score)) / (np.max(score) - np.min(score)) # map to 0~1\n",
        "#print(score)\n",
        "print(score.shape)\n",
        "score = score.reshape(len(score))\n",
        "\n",
        "# Analyze anomaly scores before scaling\n",
        "n_score, abn_score = score[y_test == 0], score[y_test == 1]\n",
        "print( 'Normal class scores: max={!r} / min={!r} / mean={!r} / confidence of 99%={!r}'.format(max(n_score), min(n_score), np.mean(n_score), stats.norm.interval(0.99,loc=np.mean(n_score), scale=np.std(n_score))) )\n",
        "print( 'Abormal class scores: max={!r} / min={!r} / mean={!r} / confidence of 99%={!r}'.format(max(abn_score), min(abn_score), np.mean(abn_score), stats.norm.interval(0.99,loc=np.mean(abn_score), scale=np.std(abn_score))) )"
      ]
    },
    {
      "cell_type": "code",
      "execution_count": 67,
      "metadata": {
        "colab": {
          "base_uri": "https://localhost:8080/",
          "height": 340
        },
        "colab_type": "code",
        "id": "-k8DiAAZdeZS",
        "outputId": "895d20cd-a1c6-4d38-e449-264655e035a0"
      },
      "outputs": [
        {
          "data": {
            "text/plain": [
              "<matplotlib.collections.PathCollection at 0x1d7180f1460>"
            ]
          },
          "execution_count": 67,
          "metadata": {},
          "output_type": "execute_result"
        },
        {
          "data": {
            "image/png": "[encoded data removed]",
            "text/plain": [
              "<Figure size 2160x360 with 1 Axes>"
            ]
          },
          "metadata": {
            "needs_background": "light"
          },
          "output_type": "display_data"
        }
      ],
      "source": [
        "from matplotlib import pyplot as plt\n",
        "from pylab import rcParams\n",
        "rcParams['figure.figsize'] = 30, 5\n",
        "plt.title('Score , skyblue = Normal, pink = Abnormal')\n",
        "plt.scatter(range(len(x_test)), score, c=['skyblue' if x == 0 else 'pink' for x in y_test])\n"
      ]
    },
    {
      "cell_type": "code",
      "execution_count": 68,
      "metadata": {},
      "outputs": [
        {
          "name": "stdout",
          "output_type": "stream",
          "text": [
            "(492,) (492,)\n"
          ]
        },
        {
          "data": {
            "image/png": "[encoded data removed]",
            "text/plain": [
              "<Figure size 2160x360 with 1 Axes>"
            ]
          },
          "metadata": {
            "needs_background": "light"
          },
          "output_type": "display_data"
        }
      ],
      "source": [
        "nScore, abnScore = score[y_test==0], score[y_test==1]\n",
        "print(nScore.shape,abnScore.shape)\n",
        "plt.hist(nScore, alpha=0.5)\n",
        "plt.hist(abnScore, alpha=0.5)\n",
        "plt.show()"
      ]
    },
    {
      "cell_type": "markdown",
      "metadata": {},
      "source": [
        "# ROC and PR curve for Postive samples"
      ]
    },
    {
      "cell_type": "code",
      "execution_count": 69,
      "metadata": {},
      "outputs": [],
      "source": [
        "rcParams['figure.figsize'] = 20, 5"
      ]
    },
    {
      "cell_type": "code",
      "execution_count": 70,
      "metadata": {},
      "outputs": [
        {
          "data": {
            "image/png": "[encoded data removed]",
            "text/plain": [
              "<Figure size 1440x360 with 2 Axes>"
            ]
          },
          "metadata": {
            "needs_background": "light"
          },
          "output_type": "display_data"
        }
      ],
      "source": [
        "from sklearn.metrics import roc_curve, roc_auc_score, precision_recall_curve, auc, average_precision_score\n",
        "score = score.reshape(len(score))\n",
        "fpr, tpr, threshold_auc = roc_curve(y_score=score, y_true=y_test, pos_label=1)\n",
        "precision, recall, threshold_prc = precision_recall_curve(probas_pred=score, y_true=y_test, pos_label=1)\n",
        "\n",
        "#print(fpr,tpr, threshold)\n",
        "auc_score = auc(fpr,tpr)\n",
        "auprc_score = auc(recall, precision)\n",
        "\n",
        "#plot\n",
        "fig, ax=plt.subplots(1,2)\n",
        "\n",
        "#ROC curve\n",
        "ax[0].set_title('Receiver Operating Characteristic')\n",
        "ax[0].plot(fpr, tpr, color = 'orange', label = 'AUC = %0.4f' % auc_score)\n",
        "ax[0].legend(loc = 'lower right')\n",
        "ax[0].plot([0, 1], [0, 1],'r--')\n",
        "ax[0].set_xlim([0, 1])\n",
        "ax[0].set_ylim([0, 1])\n",
        "ax[0].set_ylabel('True Positive Rate')\n",
        "ax[0].set_xlabel('False Positive Rate')\n",
        "\n",
        "#PR curve\n",
        "ax[1].set_title('Precision-Recall Curve')\n",
        "ax[1].plot(recall, precision, color = 'purple', label='AUPRC = %0.4f' % auprc_score)\n",
        "ax[1].legend(loc = 'lower right')\n",
        "proportion_of_abn = len(abnScore) / (len(nScore)+len(abnScore))\n",
        "ax[1].plot([0, 1], [proportion_of_abn, proportion_of_abn],'r--')\n",
        "ax[1].set_xlim([0, 1])\n",
        "ax[1].set_ylim([0, 1])\n",
        "ax[1].set_ylabel('Precision')\n",
        "ax[1].set_xlabel('Recall')\n",
        "\n",
        "plt.show()"
      ]
    },
    {
      "cell_type": "code",
      "execution_count": 71,
      "metadata": {},
      "outputs": [
        {
          "name": "stdout",
          "output_type": "stream",
          "text": [
            "Optimal threshold for best AUC: 0.5196971214170392 TPR-FPR= 0.8130081300813008\n",
            "Optimal threshold for best AUPRC: 0.5196971214170392 f-score= 0.899343544857768\n"
          ]
        }
      ],
      "source": [
        "# optimal cut off point would be where “true positive rate” is high and the “false positive rate” is low.\n",
        "J = tpr - fpr\n",
        "ix1 = np.argmax(J)\n",
        "optimal_threshold = threshold_auc[ix1]\n",
        "#optimal_threshold = sorted(list(zip(np.sqrt(tpr-fpr), threshold_auc)), key=lambda i: i[0], reverse=False)[0][1]\n",
        "print('Optimal threshold for best AUC:',optimal_threshold, 'TPR-FPR=',J[ix1])\n",
        "\n",
        "fscore = (2 * precision * recall) / (precision + recall)\n",
        "ix2 = np.nanargmax(fscore)\n",
        "optimal_prc_threshold = threshold_prc[ix2]\n",
        "#optimal_prc_threshold = sorted(list(zip(np.abs(precision - recall), threshold_prc)), key=lambda i: i[0], reverse=False)[0][1]\n",
        "print('Optimal threshold for best AUPRC:',optimal_prc_threshold,'f-score=', fscore[ix2])"
      ]
    },
    {
      "cell_type": "markdown",
      "metadata": {},
      "source": [
        "# ROC and PR curve for Negative samples"
      ]
    },
    {
      "cell_type": "code",
      "execution_count": 72,
      "metadata": {},
      "outputs": [
        {
          "name": "stderr",
          "output_type": "stream",
          "text": [
            "No artists with labels found to put in legend.  Note that artists whose label start with an underscore are ignored when legend() is called with no argument.\n"
          ]
        },
        {
          "data": {
            "image/png": "[encoded data removed]",
            "text/plain": [
              "<Figure size 1440x360 with 2 Axes>"
            ]
          },
          "metadata": {
            "needs_background": "light"
          },
          "output_type": "display_data"
        }
      ],
      "source": [
        "from sklearn.metrics import roc_curve, roc_auc_score, precision_recall_curve, auc\n",
        "score1 = [1-s for s in score]\n",
        "fpr, tpr, threshold = roc_curve(y_score=score1, y_true=y_test, pos_label=0)\n",
        "precision, recall, thresholds = precision_recall_curve(probas_pred=score1, y_true=y_test, pos_label=0)\n",
        "\n",
        "#print(fpr,tpr, threshold)\n",
        "auc1 = auc(fpr,tpr)\n",
        "\n",
        "#plot\n",
        "fig, ax=plt.subplots(1,2)\n",
        "\n",
        "#ROC curve\n",
        "ax[0].set_title('Receiver Operating Characteristic')\n",
        "ax[0].plot(fpr, tpr, color = 'orange', label = 'AUC = %0.4f' % auc1)\n",
        "ax[0].legend(loc = 'lower right')\n",
        "ax[0].plot([0, 1], [0, 1],'r--')\n",
        "ax[0].set_xlim([0, 1])\n",
        "ax[0].set_ylim([0, 1])\n",
        "ax[0].set_ylabel('True Positive Rate')\n",
        "ax[0].set_xlabel('False Positive Rate')\n",
        "\n",
        "#PR curve\n",
        "ax[1].set_title('Precision-Recall Curve')\n",
        "ax[1].plot(recall, precision, color = 'purple')\n",
        "ax[1].legend(loc = 'lower right')\n",
        "#ax[1].plot([0, 1], [0, 1],'r--')\n",
        "ax[1].set_xlim([0, 1])\n",
        "ax[1].set_ylim([0, 1])\n",
        "ax[1].set_ylabel('Precision')\n",
        "ax[1].set_xlabel('Recall')\n",
        "\n",
        "plt.show()"
      ]
    },
    {
      "cell_type": "markdown",
      "metadata": {},
      "source": [
        "# Set Threshold"
      ]
    },
    {
      "cell_type": "code",
      "execution_count": 73,
      "metadata": {},
      "outputs": [
        {
          "name": "stdout",
          "output_type": "stream",
          "text": [
            "              precision    recall  f1-score   support\n",
            "\n",
            "           0     0.8544    0.9776    0.9118       492\n",
            "           1     0.9739    0.8333    0.8981       492\n",
            "\n",
            "    accuracy                         0.9055       984\n",
            "   macro avg     0.9141    0.9055    0.9050       984\n",
            "weighted avg     0.9141    0.9055    0.9050       984\n",
            "\n",
            "AUC = 0.9054878048780489 PRC = 0.8948931116389549\n"
          ]
        },
        {
          "data": {
            "image/png": "[encoded data removed]",
            "text/plain": [
              "<Figure size 1440x360 with 1 Axes>"
            ]
          },
          "metadata": {
            "needs_background": "light"
          },
          "output_type": "display_data"
        }
      ],
      "source": [
        "from sklearn import metrics\n",
        "from sklearn.metrics import classification_report, confusion_matrix\n",
        "import seaborn as sns\n",
        "\n",
        "type = np.array(list(set(y_test)))\n",
        "\n",
        "THR = optimal_prc_threshold\n",
        "#THR = confindence[1]\n",
        "\n",
        "yTest_predict = [0 if s<=THR else 1 for s in score]\n",
        "\n",
        "confu_matrix = confusion_matrix(y_pred=yTest_predict, y_true=y_test)\n",
        "sns.heatmap(confu_matrix, annot=True, fmt='d',\n",
        "            xticklabels=type, yticklabels=type, cmap='Blues', cbar=False)\n",
        "plt.title('Test data Condusion matrix. Threshold = {!r}'.format(THR))\n",
        "plt.xlabel('Predicted')\n",
        "plt.ylabel('True')\n",
        "\n",
        "class_report = classification_report(y_pred=yTest_predict, y_true=y_test, digits=4)\n",
        "print(class_report)\n",
        "auc = metrics.roc_auc_score(y_score=yTest_predict, y_true=y_test)\n",
        "prc = metrics.average_precision_score(y_score=yTest_predict, y_true=y_test)\n",
        "print('AUC = '+str(auc), 'PRC = '+str(prc))\n"
      ]
    },
    {
      "cell_type": "code",
      "execution_count": 74,
      "metadata": {},
      "outputs": [
        {
          "data": {
            "text/plain": [
              "array([1], dtype=int64)"
            ]
          },
          "execution_count": 74,
          "metadata": {},
          "output_type": "execute_result"
        }
      ],
      "source": [
        "i = 0 #or 1\n",
        "y_test[i:i+1]"
      ]
    },
    {
      "cell_type": "code",
      "execution_count": 75,
      "metadata": {
        "colab": {
          "base_uri": "https://localhost:8080/",
          "height": 340
        },
        "colab_type": "code",
        "id": "T4RTuE-Ud8k9",
        "outputId": "784e9913-8652-463d-9cb1-b53f4f1677dc"
      },
      "outputs": [
        {
          "data": {
            "text/plain": [
              "array([ -3.6092637 ,  39.111618  ,  -0.72786605,  -2.7789972 ,\n",
              "         7.3900075 ,  -8.525582  ,   6.843138  ,  -7.169757  ,\n",
              "        -1.5885398 ,  -3.160328  ,  -3.635408  ,  -1.7375976 ,\n",
              "        18.394793  , -13.565761  ,  -1.2774192 ,  -1.2372241 ,\n",
              "        -2.6469991 ,  -1.7320702 ,  -5.6642404 ,  -3.3540847 ,\n",
              "        -0.779901  ,  -6.752071  ,  -2.1043394 ,   2.021713  ,\n",
              "         1.9724525 ,  -1.16615   ,  -1.1810572 ,  -1.687054  ,\n",
              "        -5.8480196 ], dtype=float32)"
            ]
          },
          "execution_count": 75,
          "metadata": {},
          "output_type": "execute_result"
        }
      ],
      "source": [
        "reconstructed_data = np.reshape(gan_x[i:i+1], (feature))\n",
        "reconstructed_data"
      ]
    },
    {
      "cell_type": "code",
      "execution_count": 76,
      "metadata": {
        "colab": {
          "base_uri": "https://localhost:8080/",
          "height": 340
        },
        "colab_type": "code",
        "id": "zToWEVgjgfkH",
        "outputId": "53ab43a9-4213-4f2a-8510-29ded7d1cd36"
      },
      "outputs": [
        {
          "data": {
            "text/plain": [
              "array([-10.64579965,   5.91830666, -11.67104259,   8.80736918,\n",
              "        -7.97550137,  -3.58680634, -13.61679705,   6.42816935,\n",
              "        -7.36845129, -12.88815829,   6.85495311, -13.21169503,\n",
              "         1.03561234, -13.77895564,   1.04044836, -11.29032781,\n",
              "       -20.57802205,  -7.54782411,   3.11847977,  -0.04617018,\n",
              "         2.57196959,   0.20680936,  -1.6678014 ,   0.55841875,\n",
              "        -0.02789788,   0.35425378,   0.27332873,  -0.15290808,\n",
              "        -0.35322939])"
            ]
          },
          "execution_count": 76,
          "metadata": {},
          "output_type": "execute_result"
        }
      ],
      "source": [
        "data = np.reshape(x_test[i:i+1], (feature))\n",
        "data"
      ]
    }
  ],
  "metadata": {
    "accelerator": "GPU",
    "colab": {
      "name": "ganomaly",
      "provenance": [],
      "version": "0.3.2"
    },
    "kernelspec": {
      "display_name": "Python 3.8.3 ('base')",
      "language": "python",
      "name": "python3"
    },
    "language_info": {
      "codemirror_mode": {
        "name": "ipython",
        "version": 3
      },
      "file_extension": ".py",
      "mimetype": "text/x-python",
      "name": "python",
      "nbconvert_exporter": "python",
      "pygments_lexer": "ipython3",
      "version": "3.8.3"
    },
    "vscode": {
      "interpreter": {
        "hash": "ad2bdc8ecc057115af97d19610ffacc2b4e99fae6737bb82f5d7fb13d2f2c186"
      }
    }
  },
  "nbformat": 4,
  "nbformat_minor": 0
}
