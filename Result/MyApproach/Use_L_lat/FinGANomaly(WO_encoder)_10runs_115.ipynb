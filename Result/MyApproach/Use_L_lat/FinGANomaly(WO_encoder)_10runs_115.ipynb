{
  "cells": [
    {
      "cell_type": "markdown",
      "metadata": {},
      "source": [
        "# Common link\n",
        "* [Load Data](#load-data)\n",
        "* [Split Data](#split-dataset)\n",
        "* [Model](#model)\n",
        "* [Evaluation](#evaluation)"
      ]
    },
    {
      "cell_type": "code",
      "execution_count": 1,
      "metadata": {},
      "outputs": [],
      "source": [
        "feature = 29"
      ]
    },
    {
      "cell_type": "markdown",
      "metadata": {},
      "source": [
        "# Model"
      ]
    },
    {
      "cell_type": "code",
      "execution_count": 2,
      "metadata": {
        "colab": {
          "base_uri": "https://localhost:8080/",
          "height": 34
        },
        "colab_type": "code",
        "id": "_fOFzTCbXTfi",
        "outputId": "4e0db446-6657-442e-a7e5-f81c198d1dee"
      },
      "outputs": [],
      "source": [
        "from tensorflow.keras import layers\n",
        "import tensorflow.keras as keras\n",
        "import tensorflow.keras.backend as K"
      ]
    },
    {
      "cell_type": "code",
      "execution_count": 3,
      "metadata": {},
      "outputs": [],
      "source": [
        "g_e, g, feature_extractor, d = None, None, None, None\n",
        "gan_trainer = None\n",
        "RAT = 115"
      ]
    },
    {
      "cell_type": "markdown",
      "metadata": {
        "colab_type": "text",
        "id": "9V6k5E4HX8ns"
      },
      "source": [
        "## Generators Encoder\n"
      ]
    },
    {
      "cell_type": "code",
      "execution_count": 4,
      "metadata": {
        "colab": {
          "base_uri": "https://localhost:8080/",
          "height": 819
        },
        "colab_type": "code",
        "id": "6SSgbWtgYFge",
        "outputId": "ffb3b7cc-871f-4ef6-b1cb-6f2eb6193249"
      },
      "outputs": [],
      "source": [
        "def define_GE():\n",
        "    input_layer = layers.Input(name='input', shape=(feature))\n",
        "    #x = layers.Reshape((height, width, channels), name='ge_reshape')(input_layer)\n",
        "\n",
        "    # Encoder\n",
        "    x = layers.Dense(1024, name='ge_dense_1')(input_layer)\n",
        "    x = layers.LeakyReLU(name='ge_leaky_1')(x)\n",
        "\n",
        "    x = layers.Dense(512, name='ge_dense_2')(x)\n",
        "    x = layers.LeakyReLU(name='ge_leaky_2')(x)\n",
        "\n",
        "    x = layers.Dense(256, name='ge_dense_3')(x)\n",
        "    x = layers.LeakyReLU(name='ge_leaky_3')(x)\n",
        "\n",
        "    x = layers.Dense(128, name='ge_dense_4')(x)\n",
        "    x = layers.LeakyReLU(name='ge_leaky_4')(x)\n",
        "\n",
        "    #x = layers.GlobalAveragePooling2D(name='g_encoder_output')(x)\n",
        "\n",
        "    g_e = keras.models.Model(inputs=input_layer, outputs=x)\n",
        "\n",
        "    #g_e.summary()\n",
        "    return g_e"
      ]
    },
    {
      "cell_type": "markdown",
      "metadata": {
        "colab_type": "text",
        "id": "CsFGE97WYMts"
      },
      "source": [
        "## Generator"
      ]
    },
    {
      "cell_type": "code",
      "execution_count": 5,
      "metadata": {
        "colab": {
          "base_uri": "https://localhost:8080/",
          "height": 510
        },
        "colab_type": "code",
        "id": "pivNg2CMYQwi",
        "outputId": "4281bfb2-df6d-4958-b3e5-dd75d06f866a"
      },
      "outputs": [],
      "source": [
        "def define_G(g_e):\n",
        "    input_layer = layers.Input(name='input', shape=(feature))\n",
        "\n",
        "    x = g_e(input_layer)\n",
        "\n",
        "    #y = layers.Reshape((height // 6, width // 6, 128), name='de_reshape1')(x) # 256 = 256 * (6/6) * (6/6) \n",
        "\n",
        "    y = layers.Dense(256, name='dense_1')(x)\n",
        "    y = layers.LeakyReLU(name='leaky_1')(y)\n",
        "\n",
        "    y = layers.Dense(512, name='dense_2')(y)\n",
        "    y = layers.LeakyReLU(name='leaky_2')(y)\n",
        "\n",
        "    y = layers.Dense(1024, name='dense_3')(y)\n",
        "    y = layers.LeakyReLU(name='leaky_3')(y)\n",
        "\n",
        "    y = layers.Dense(feature, name='dense_4')(y)\n",
        "    y = layers.LeakyReLU(name='leaky_4')(y)\n",
        "\n",
        "    #y = layers.Flatten()(y)\n",
        "    #y = layers.Dense(36, name='dense')(y)\n",
        "    #y = layers.Reshape((height, width, channels), name='de_reshape2')(y)\n",
        "\n",
        "    g = keras.models.Model(inputs=input_layer, outputs=y)\n",
        "\n",
        "    #g.summary()\n",
        "    \n",
        "    return g"
      ]
    },
    {
      "cell_type": "markdown",
      "metadata": {
        "colab_type": "text",
        "id": "pWWVBPizZctk"
      },
      "source": [
        "## discriminator"
      ]
    },
    {
      "cell_type": "code",
      "execution_count": 6,
      "metadata": {
        "colab": {
          "base_uri": "https://localhost:8080/",
          "height": 272
        },
        "colab_type": "code",
        "id": "xcJdjTerZbMN",
        "outputId": "837e9958-23db-408c-916e-2e0c23250d0f"
      },
      "outputs": [],
      "source": [
        "def define_D():\n",
        "    input_layer = layers.Input(name='input', shape=(feature))\n",
        "\n",
        "    f = layers.Dense(1024, name='f_dense_1')(input_layer)\n",
        "    f = layers.LeakyReLU(name='f_leaky_1')(f)\n",
        "\n",
        "    f = layers.Dense(512, name='f_dense_2')(f)\n",
        "    f = layers.LeakyReLU(name='f_leaky_2')(f)\n",
        "\n",
        "    f = layers.Dense(256, name='f_dense_3')(f)\n",
        "    f = layers.LeakyReLU(name='f_leaky_3')(f)\n",
        "\n",
        "    f = layers.Dense(128, name='f_dense_4')(f)\n",
        "    f = layers.LeakyReLU(name='feature_output')(f)\n",
        "    \n",
        "    #f = feature_extractor(input_layer)\n",
        "\n",
        "    #d = layers.Dense(16, name='d_dense_1')(f)\n",
        "    d = layers.Dense(1, activation='sigmoid', name='d_out')(f)\n",
        "        \n",
        "    d = keras.models.Model(input_layer, d)\n",
        "    #d.summary()\n",
        "    d.compile(optimizer='adam', loss='binary_crossentropy')\n",
        "    \n",
        "    return d"
      ]
    },
    {
      "cell_type": "markdown",
      "metadata": {
        "colab_type": "text",
        "id": "Z7HBx1GiZhm-"
      },
      "source": [
        "## gan trainer"
      ]
    },
    {
      "cell_type": "code",
      "execution_count": 7,
      "metadata": {
        "colab": {
          "base_uri": "https://localhost:8080/",
          "height": 71
        },
        "colab_type": "code",
        "id": "bosacIf7ZkZ4",
        "outputId": "341417b4-0771-466f-c9d0-68554e089f8e"
      },
      "outputs": [],
      "source": [
        "import tensorflow as tf\n",
        "class AdvLoss(keras.layers.Layer):\n",
        "    def __init__(self, **kwargs):\n",
        "        super(AdvLoss, self).__init__(**kwargs)\n",
        "\n",
        "    def call(self, x, mask=None):\n",
        "        y_pred = d(x[1])\n",
        "        y_true = tf.ones_like(y_pred)\n",
        "        return keras.losses.binary_crossentropy(y_true,y_pred)\n",
        "\n",
        "    def get_output_shape_for(self, input_shape):\n",
        "        return (input_shape[0][0], 1)\n",
        "    \n",
        "class CntLoss(keras.layers.Layer):\n",
        "    def __init__(self, **kwargs):\n",
        "        super(CntLoss, self).__init__(**kwargs)\n",
        "\n",
        "    def call(self, x, mask=None):\n",
        "        ori = x[0]\n",
        "        gan = x[1]\n",
        "        return K.mean(K.abs(ori - gan))\n",
        "\n",
        "    def get_output_shape_for(self, input_shape):\n",
        "        return (input_shape[0][0], 1)\n",
        "    \n",
        "class EncLoss(keras.layers.Layer):\n",
        "    def __init__(self, **kwargs):\n",
        "        super(EncLoss, self).__init__(**kwargs)\n",
        "\n",
        "    def call(self, x, mask=None):\n",
        "        ori = x[0]\n",
        "        gan = x[1]\n",
        "        return K.mean(K.square(g_e(ori) - g_e(gan)))\n",
        "\n",
        "    def get_output_shape_for(self, input_shape):\n",
        "        return (input_shape[0][0], 1)\n",
        "\n",
        "# loss function\n",
        "def loss(yt, yp):\n",
        "    return yp"
      ]
    },
    {
      "cell_type": "code",
      "execution_count": 8,
      "metadata": {},
      "outputs": [],
      "source": [
        "def define_gan_trainer():\n",
        "    # model for training\n",
        "    input_layer = layers.Input(name='input', shape=(feature))\n",
        "    gan = g(input_layer) # g(x)\n",
        "\n",
        "    adv_loss = AdvLoss(name='adv_loss')([input_layer, gan])\n",
        "    cnt_loss = CntLoss(name='cnt_loss')([input_layer, gan])\n",
        "    enc_loss = EncLoss(name='enc_loss')([input_layer, gan])\n",
        "\n",
        "    gan_trainer = keras.models.Model(input_layer, [adv_loss, cnt_loss, enc_loss])\n",
        "\n",
        "    losses = {\n",
        "        'adv_loss': loss,\n",
        "        'cnt_loss': loss,\n",
        "        'enc_loss': loss,\n",
        "    }\n",
        "\n",
        "    lossWeights = {'cnt_loss': 40.0, 'adv_loss': 1.0, 'enc_loss': 1.0}\n",
        "    \n",
        "    # compile\n",
        "    gan_trainer.compile(optimizer = 'adam', loss=losses, loss_weights=lossWeights)\n",
        "    #gan_trainer.summary()\n",
        "    \n",
        "    return gan_trainer"
      ]
    },
    {
      "cell_type": "markdown",
      "metadata": {
        "colab_type": "text",
        "id": "dxPzCEC1bFMR"
      },
      "source": [
        "# Training"
      ]
    },
    {
      "cell_type": "code",
      "execution_count": 9,
      "metadata": {},
      "outputs": [],
      "source": [
        "import numpy as np\n",
        "niter = 1000\n",
        "bz = 512"
      ]
    },
    {
      "cell_type": "code",
      "execution_count": 10,
      "metadata": {
        "colab": {},
        "colab_type": "code",
        "id": "53rLCTe3a8LY"
      },
      "outputs": [],
      "source": [
        "def get_data_generator(data, batch_size=32):\n",
        "    datalen = len(data)\n",
        "    cnt = 0\n",
        "    while True:\n",
        "        idxes = np.arange(datalen)\n",
        "        np.random.shuffle(idxes)\n",
        "        cnt += 1\n",
        "        for i in range(int(np.ceil(datalen/batch_size))):\n",
        "            train_x = np.take(data, idxes[i*batch_size: (i+1) * batch_size], axis=0)\n",
        "            y = np.ones(len(train_x))\n",
        "            yield train_x, [y, y, y]"
      ]
    },
    {
      "cell_type": "code",
      "execution_count": 11,
      "metadata": {},
      "outputs": [],
      "source": [
        "def train(x_train):\n",
        "    train_data_generator = get_data_generator(x_train, bz)\n",
        "    for i in range(niter):\n",
        "        \n",
        "        ### get batch x, y ###\n",
        "        x, y = train_data_generator.__next__()\n",
        "            \n",
        "        ### train disciminator ###\n",
        "        d.trainable = True\n",
        "\n",
        "        #print(x.shape)\n",
        "            \n",
        "        fake_x = g.predict(x)\n",
        "            \n",
        "        d_x = np.concatenate([x, fake_x], axis=0)\n",
        "        d_y = np.concatenate([np.zeros(len(x)), np.ones(len(fake_x))], axis=0)\n",
        "            \n",
        "        d_loss = d.train_on_batch(d_x, d_y)\n",
        "\n",
        "        ### train generator ###\n",
        "        \n",
        "        d.trainable = False        \n",
        "        g_loss = gan_trainer.train_on_batch(x, y)\n",
        "        \n",
        "        if i % 100 == 0:\n",
        "            print(f'niter: {i+1}, g_loss: {g_loss}, d_loss: {d_loss}')"
      ]
    },
    {
      "cell_type": "markdown",
      "metadata": {
        "colab_type": "text",
        "id": "0cHDcccacdST"
      },
      "source": [
        "# Evaluation"
      ]
    },
    {
      "cell_type": "code",
      "execution_count": 12,
      "metadata": {
        "colab": {},
        "colab_type": "code",
        "id": "UXAufnuIbuvF"
      },
      "outputs": [],
      "source": [
        "from matplotlib import pyplot as plt\n",
        "from pylab import rcParams\n",
        "from sklearn.metrics import roc_curve, roc_auc_score, precision_recall_curve, auc, average_precision_score\n",
        "from sklearn import metrics\n",
        "from sklearn.metrics import classification_report, confusion_matrix\n",
        "import seaborn as sns\n",
        "\n",
        "TPR_res, FPR_res, P_res, R_res = [], [], [], []\n",
        "AUC_res, AUPRC_res = [], []\n",
        "accuracies, fscore_res, recall_res, precision_res = [], [], [], []\n",
        "reports = []\n",
        "scores = []\n",
        "THR_opt = []\n",
        "\n",
        "lat_weight = 0.1\n",
        "recons_weight = 1-lat_weight\n",
        "\n",
        "def evaluation(x_test,y_test):\n",
        "    encoded = g_e.predict(x_test)\n",
        "    gan_x = g.predict(x_test)\n",
        "    encoded_gan = g_e.predict(gan_x)\n",
        "    recons_loss = np.mean(np.absolute(gan_x - x_test), axis=-1)\n",
        "    lat_loss = np.mean(np.square(encoded - encoded_gan), axis=-1)\n",
        "    print('LATloss:',lat_loss.shape)\n",
        "    print('RECloss:',recons_loss.shape)\n",
        "    score = lat_weight*lat_loss + recons_weight*recons_loss\n",
        "    #score = (score - np.min(score)) / (np.max(score) - np.min(score)) # map to 0~1\n",
        "    print('Scores:',score.shape)\n",
        "    score = score.reshape(len(score))\n",
        "\n",
        "    nScore, abnScore = score[y_test==0], score[y_test==1]\n",
        "    print('Scores of Normal and Abnormal:',nScore.shape,abnScore.shape)\n",
        "    scores.append([nScore,abnScore])\n",
        "\n",
        "\n",
        "    score = score.reshape(len(score))\n",
        "    fpr, tpr, threshold_auc = roc_curve(y_score=score, y_true=y_test, pos_label=1)\n",
        "    TPR_res.append(tpr)\n",
        "    FPR_res.append(fpr)\n",
        "    precision, recall, threshold_prc = precision_recall_curve(probas_pred=score, y_true=y_test, pos_label=1)\n",
        "    P_res.append(precision)\n",
        "    R_res.append(recall)\n",
        "\n",
        "    auc_score = auc(fpr,tpr)\n",
        "    auprc_score = auc(recall, precision)\n",
        "    AUC_res.append(auc_score)\n",
        "    AUPRC_res.append(auprc_score)\n",
        "\n",
        "\n",
        "    # optimal cut off point would be where “true positive rate” is high and the “false positive rate” is low.\n",
        "    J = tpr - fpr\n",
        "    ix1 = np.argmax(J)\n",
        "    optimal_threshold = threshold_auc[ix1]\n",
        "    #optimal_threshold = sorted(list(zip(np.sqrt(tpr-fpr), threshold_auc)), key=lambda i: i[0], reverse=False)[0][1]\n",
        "    print('Optimal threshold for best AUC:',optimal_threshold, 'TPR-FPR=',J[ix1])\n",
        "\n",
        "    fscore = (2 * precision * recall) / (precision + recall)\n",
        "    ix2 = np.nanargmax(fscore)\n",
        "    optimal_prc_threshold = threshold_prc[ix2]\n",
        "    #optimal_prc_threshold = sorted(list(zip(np.abs(precision - recall), threshold_prc)), key=lambda i: i[0], reverse=False)[0][1]\n",
        "    print('Optimal threshold for best AUPRC:',optimal_prc_threshold,'f-score=', fscore[ix2])\n",
        "    \n",
        "    fscore_res.append(fscore[ix2])\n",
        "    recall_res.append(recall[ix2])\n",
        "    precision_res.append(precision[ix2])\n",
        "\n",
        "    THR_opt.append({'AUC':optimal_threshold, 'PRC':optimal_prc_threshold})\n",
        "    \n",
        "    yTest_predict = [0 if s<=optimal_prc_threshold else 1 for s in score]\n",
        "    class_report = classification_report(y_pred=yTest_predict, y_true=y_test, digits=4, output_dict=True)\n",
        "    \n",
        "    reports.append(class_report)\n",
        "    accuracies.append(class_report['accuracy'])\n"
      ]
    },
    {
      "cell_type": "markdown",
      "metadata": {},
      "source": [
        "# K-Fold Train"
      ]
    },
    {
      "cell_type": "code",
      "execution_count": 13,
      "metadata": {},
      "outputs": [
        {
          "name": "stdout",
          "output_type": "stream",
          "text": [
            "run: 1\n",
            "train: (227452, 29) (227452,) ;  test: (57355, 29) (57355,)\n",
            "niter: 1, g_loss: [25.946544647216797, 0.6993457674980164, 0.6308907866477966, 0.011565975844860077], d_loss: 0.6965380907058716\n",
            "niter: 101, g_loss: [5.679062366485596, 0.00028084786026738584, 0.14160364866256714, 0.014635458588600159], d_loss: 0.03558129817247391\n",
            "niter: 201, g_loss: [4.192737102508545, 0.12618491053581238, 0.10147084295749664, 0.00771857425570488], d_loss: 0.09775805473327637\n",
            "niter: 301, g_loss: [3.914294958114624, 0.01676146313548088, 0.09724535048007965, 0.007719660643488169], d_loss: 0.0274309441447258\n",
            "niter: 401, g_loss: [3.4819953441619873, 0.11177308857440948, 0.08407142013311386, 0.007365451194345951], d_loss: 0.0762602835893631\n",
            "niter: 501, g_loss: [2.9602949619293213, 0.03576295077800751, 0.07300689816474915, 0.004255989566445351], d_loss: 0.03822916001081467\n",
            "niter: 601, g_loss: [2.872856616973877, 0.024728693068027496, 0.07111053913831711, 0.0037062233313918114], d_loss: 0.030710434541106224\n",
            "niter: 701, g_loss: [2.9397778511047363, 0.012004641816020012, 0.07307218015193939, 0.0048859501257538795], d_loss: 0.015406577847898006\n",
            "niter: 801, g_loss: [2.9030306339263916, 0.0023036827333271503, 0.07240130752325058, 0.0046746693551540375], d_loss: 0.014573868364095688\n",
            "niter: 901, g_loss: [2.9238674640655518, 0.056600235402584076, 0.07156885415315628, 0.004513063468039036], d_loss: 0.03574824705719948\n",
            "LATloss: (57355,)\n",
            "RECloss: (57355,)\n",
            "Scores: (57355,)\n",
            "Scores of Normal and Abnormal: (56863,) (492,)\n",
            "Optimal threshold for best AUC: 0.13567157379307762 TPR-FPR= 0.8129211287892207\n",
            "Optimal threshold for best AUPRC: 0.7083172876477581 f-score= 0.8549107142857143\n",
            "run: 2\n",
            "train: (227452, 29) (227452,) ;  test: (57355, 29) (57355,)\n",
            "niter: 1, g_loss: [26.131040573120117, 0.699173092842102, 0.6355313062667847, 0.010613899677991867], d_loss: 0.692615270614624\n",
            "niter: 101, g_loss: [5.546942710876465, 0.07688356190919876, 0.1364063024520874, 0.013807155191898346], d_loss: 0.08265285938978195\n",
            "niter: 201, g_loss: [4.293785572052002, 0.08132210373878479, 0.10500882565975189, 0.012110244482755661], d_loss: 0.09054767340421677\n",
            "niter: 301, g_loss: [3.6196515560150146, 0.07579878717660904, 0.08840435743331909, 0.0076783886179327965], d_loss: 0.069630466401577\n",
            "niter: 401, g_loss: [3.5690016746520996, 0.03894587978720665, 0.08796956390142441, 0.011273129843175411], d_loss: 0.028768278658390045\n",
            "niter: 501, g_loss: [3.0255088806152344, 0.055768802762031555, 0.07412942498922348, 0.004562939517199993], d_loss: 0.0487203374505043\n",
            "niter: 601, g_loss: [2.916837692260742, 0.07541966438293457, 0.0709369108080864, 0.003941527102142572], d_loss: 0.06837980449199677\n",
            "niter: 701, g_loss: [2.954550266265869, 1.4480624699331202e-08, 0.07376549392938614, 0.003930619917809963], d_loss: 0.020661797374486923\n",
            "niter: 801, g_loss: [2.604020118713379, 0.03346966207027435, 0.06415645033121109, 0.004292593337595463], d_loss: 0.021258167922496796\n",
            "niter: 901, g_loss: [2.4698004722595215, 0.06054409593343735, 0.06016186252236366, 0.00278173154219985], d_loss: 0.0679113119840622\n",
            "LATloss: (57355,)\n",
            "RECloss: (57355,)\n",
            "Scores: (57355,)\n",
            "Scores of Normal and Abnormal: (56863,) (492,)\n",
            "Optimal threshold for best AUC: 0.12166523325887933 TPR-FPR= 0.8207148932629259\n",
            "Optimal threshold for best AUPRC: 0.6665114580171005 f-score= 0.8409586056644879\n",
            "run: 3\n",
            "train: (227452, 29) (227452,) ;  test: (57355, 29) (57355,)\n",
            "niter: 1, g_loss: [26.525386810302734, 0.6998308897018433, 0.6453924775123596, 0.009857194498181343], d_loss: 0.7195536494255066\n",
            "niter: 101, g_loss: [5.691225528717041, 0.056197356432676315, 0.14048007130622864, 0.015825467184185982], d_loss: 0.06346398591995239\n",
            "niter: 201, g_loss: [4.0959577560424805, 0.0034257268998771906, 0.10211825370788574, 0.0078020887449383736], d_loss: 0.04429258033633232\n",
            "niter: 301, g_loss: [3.8296310901641846, 0.04594254121184349, 0.09435859322547913, 0.009344788268208504], d_loss: 0.047286950051784515\n",
            "niter: 401, g_loss: [3.485833168029785, 0.08545321226119995, 0.08482477813959122, 0.007388840429484844], d_loss: 0.06230315566062927\n",
            "niter: 501, g_loss: [3.174185276031494, 0.1664634346961975, 0.07506898045539856, 0.004962591454386711], d_loss: 0.12633837759494781\n",
            "niter: 601, g_loss: [2.9256772994995117, 0.051825132220983505, 0.07175321877002716, 0.0037235140334814787], d_loss: 0.04279661551117897\n",
            "niter: 701, g_loss: [2.9028608798980713, 0.009355691261589527, 0.07225291430950165, 0.003388537559658289], d_loss: 0.014624874107539654\n",
            "niter: 801, g_loss: [2.5341527462005615, 0.0391455814242363, 0.062296655029058456, 0.003141159424558282], d_loss: 0.06490089744329453\n",
            "niter: 901, g_loss: [2.6260063648223877, 0.08401687443256378, 0.0634641945362091, 0.0034217408392578363], d_loss: 0.05407533049583435\n",
            "LATloss: (57355,)\n",
            "RECloss: (57355,)\n",
            "Scores: (57355,)\n",
            "Scores of Normal and Abnormal: (56863,) (492,)\n",
            "Optimal threshold for best AUC: 0.14234847487343655 TPR-FPR= 0.8158303104494915\n",
            "Optimal threshold for best AUPRC: 0.6884369276835818 f-score= 0.8494983277591973\n",
            "run: 4\n",
            "train: (227452, 29) (227452,) ;  test: (57355, 29) (57355,)\n",
            "niter: 1, g_loss: [26.304065704345703, 0.69806969165802, 0.6398572325706482, 0.011705714277923107], d_loss: 0.6785541772842407\n",
            "niter: 101, g_loss: [6.1560211181640625, 0.08887090533971786, 0.15104900300502777, 0.025189945474267006], d_loss: 0.07034994661808014\n",
            "niter: 201, g_loss: [4.467818737030029, 0.058274444192647934, 0.10999920964241028, 0.00957620982080698], d_loss: 0.04776053503155708\n",
            "niter: 301, g_loss: [3.5974855422973633, 0.04731433838605881, 0.08861488848924637, 0.0055756112560629845], d_loss: 0.042485304176807404\n",
            "niter: 401, g_loss: [3.402442693710327, 0.024838849902153015, 0.0842757523059845, 0.0065736593678593636], d_loss: 0.043640512973070145\n",
            "niter: 501, g_loss: [3.2818119525909424, 0.023372627794742584, 0.08134231716394424, 0.004746595397591591], d_loss: 0.028610514476895332\n",
            "niter: 601, g_loss: [2.9632580280303955, 0.055065423250198364, 0.07261888682842255, 0.0034369826316833496], d_loss: 0.049912601709365845\n",
            "niter: 701, g_loss: [2.7166378498077393, 0.054696232080459595, 0.06647545099258423, 0.0029234804678708315], d_loss: 0.04737800732254982\n",
            "niter: 801, g_loss: [2.7325921058654785, 0.05032937228679657, 0.06697626411914825, 0.0032123387791216373], d_loss: 0.037521447986364365\n",
            "niter: 901, g_loss: [2.5845298767089844, 0.006408296525478363, 0.06437180936336517, 0.0032491926103830338], d_loss: 0.02793700061738491\n",
            "LATloss: (57355,)\n",
            "RECloss: (57355,)\n",
            "Scores: (57355,)\n",
            "Scores of Normal and Abnormal: (56863,) (492,)\n",
            "Optimal threshold for best AUC: 0.10838534634186683 TPR-FPR= 0.8119047077778869\n",
            "Optimal threshold for best AUPRC: 0.7679644409696638 f-score= 0.8158458244111348\n",
            "run: 5\n",
            "train: (227452, 29) (227452,) ;  test: (57355, 29) (57355,)\n",
            "niter: 1, g_loss: [26.297670364379883, 0.6992058753967285, 0.6397112011909485, 0.01001604925841093], d_loss: 0.7289374470710754\n",
            "niter: 101, g_loss: [5.824782848358154, 0.09311921894550323, 0.14291083812713623, 0.015229927375912666], d_loss: 0.08475688099861145\n",
            "niter: 201, g_loss: [4.167799472808838, 0.058561503887176514, 0.10251662135124207, 0.008573086932301521], d_loss: 0.06885050982236862\n",
            "niter: 301, g_loss: [3.903348445892334, 0.12240712344646454, 0.09426155686378479, 0.010479073971509933], d_loss: 0.1041654497385025\n",
            "niter: 401, g_loss: [3.445068359375, 0.08802007883787155, 0.08370739221572876, 0.008752575144171715], d_loss: 0.06180582568049431\n",
            "niter: 501, g_loss: [3.2857160568237305, 0.009544754400849342, 0.0817403495311737, 0.006557333283126354], d_loss: 0.028190378099679947\n",
            "niter: 601, g_loss: [2.9205100536346436, 0.0007313879323191941, 0.07285595685243607, 0.0055405572056770325], d_loss: 0.011491047218441963\n",
            "niter: 701, g_loss: [2.6969258785247803, 0.05746065080165863, 0.06590595096349716, 0.003227176610380411], d_loss: 0.06036439538002014\n",
            "niter: 801, g_loss: [2.7788445949554443, 0.11698935180902481, 0.06639967858791351, 0.005868094973266125], d_loss: 0.08573324978351593\n",
            "niter: 901, g_loss: [2.968533754348755, 0.0321774035692215, 0.07329323887825012, 0.004626869224011898], d_loss: 0.02032814547419548\n",
            "LATloss: (57355,)\n",
            "RECloss: (57355,)\n",
            "Scores: (57355,)\n",
            "Scores of Normal and Abnormal: (56863,) (492,)\n",
            "Optimal threshold for best AUC: 0.1173130995894482 TPR-FPR= 0.8170341023618457\n",
            "Optimal threshold for best AUPRC: 0.5783607572733686 f-score= 0.8457389428263214\n",
            "run: 6\n",
            "train: (227452, 29) (227452,) ;  test: (57355, 29) (57355,)\n",
            "niter: 1, g_loss: [26.717409133911133, 0.6990023851394653, 0.6501990556716919, 0.010445445775985718], d_loss: 0.6796032190322876\n",
            "niter: 101, g_loss: [5.67868185043335, 0.04190484434366226, 0.14059066772460938, 0.013150421902537346], d_loss: 0.04510532692074776\n",
            "niter: 201, g_loss: [4.2275071144104, 0.0438852459192276, 0.10434520989656448, 0.009813351556658745], d_loss: 0.048428189009428024\n",
            "niter: 301, g_loss: [4.015871524810791, 0.15300200879573822, 0.09634016454219818, 0.009262693114578724], d_loss: 0.08871563524007797\n",
            "niter: 401, g_loss: [3.2060065269470215, 0.014232735149562359, 0.07963364571332932, 0.006427966058254242], d_loss: 0.012132729403674603\n",
            "niter: 501, g_loss: [3.295217514038086, 0.04201149195432663, 0.08111381530761719, 0.008653324097394943], d_loss: 0.035607028752565384\n",
            "niter: 601, g_loss: [2.98801589012146, 0.03707471117377281, 0.07365879416465759, 0.0045893145725131035], d_loss: 0.03145044296979904\n",
            "niter: 701, g_loss: [2.6376380920410156, 0.024462802335619926, 0.06525780260562897, 0.002863266970962286], d_loss: 0.01812714897096157\n",
            "niter: 801, g_loss: [2.47202205657959, 0.014615261927247047, 0.061369091272354126, 0.00264309486374259], d_loss: 0.018095338717103004\n",
            "niter: 901, g_loss: [2.511126756668091, 0.04182766377925873, 0.061658747494220734, 0.002949192887172103], d_loss: 0.032646529376506805\n",
            "LATloss: (57355,)\n",
            "RECloss: (57355,)\n",
            "Scores: (57355,)\n",
            "Scores of Normal and Abnormal: (56863,) (492,)\n",
            "Optimal threshold for best AUC: 0.1112682006958524 TPR-FPR= 0.8112434407674185\n",
            "Optimal threshold for best AUPRC: 0.7117917392716961 f-score= 0.8451327433628318\n",
            "run: 7\n",
            "train: (227452, 29) (227452,) ;  test: (57355, 29) (57355,)\n",
            "niter: 1, g_loss: [26.590368270874023, 0.7006930708885193, 0.6468907594680786, 0.014045451767742634], d_loss: 0.6758650541305542\n",
            "niter: 101, g_loss: [5.555955410003662, 0.010104997083544731, 0.13827501237392426, 0.014849874190986156], d_loss: 0.06352683901786804\n",
            "niter: 201, g_loss: [4.711669921875, 0.060414962470531464, 0.11597035080194473, 0.012440865859389305], d_loss: 0.06075745075941086\n",
            "niter: 301, g_loss: [3.8116259574890137, 0.03814752399921417, 0.09416396170854568, 0.006919953040778637], d_loss: 0.032052181661129\n",
            "niter: 401, g_loss: [3.6396758556365967, 0.03371960297226906, 0.08985361456871033, 0.011811584234237671], d_loss: 0.03267085179686546\n",
            "niter: 501, g_loss: [2.9420127868652344, 0.06597492098808289, 0.0717880129814148, 0.004517363850027323], d_loss: 0.07679139077663422\n",
            "niter: 601, g_loss: [3.212792158126831, 0.0717109814286232, 0.07839307188987732, 0.005358198657631874], d_loss: 0.06730259954929352\n",
            "niter: 701, g_loss: [2.7447876930236816, 0.059968046844005585, 0.06700808554887772, 0.004496377892792225], d_loss: 0.06725696474313736\n",
            "niter: 801, g_loss: [2.9151875972747803, 0.00869626086205244, 0.07257216423749924, 0.0036046935711055994], d_loss: 0.02047269232571125\n",
            "niter: 901, g_loss: [2.762636661529541, 0.015664974227547646, 0.06857604533433914, 0.003929872065782547], d_loss: 0.013084065169095993\n",
            "LATloss: (57355,)\n",
            "RECloss: (57355,)\n",
            "Scores: (57355,)\n",
            "Scores of Normal and Abnormal: (56863,) (492,)\n",
            "Optimal threshold for best AUC: 0.12735594842776726 TPR-FPR= 0.8140871033774087\n",
            "Optimal threshold for best AUPRC: 0.7313111872387249 f-score= 0.8565022421524663\n",
            "run: 8\n",
            "train: (227452, 29) (227452,) ;  test: (57355, 29) (57355,)\n",
            "niter: 1, g_loss: [26.725446701049805, 0.6984274983406067, 0.6503145694732666, 0.014436610043048859], d_loss: 0.6941501498222351\n",
            "niter: 101, g_loss: [5.283048152923584, 0.05463539436459541, 0.13044488430023193, 0.01061736699193716], d_loss: 0.059175044298172\n",
            "niter: 201, g_loss: [4.525210380554199, 0.01842913217842579, 0.11238725483417511, 0.011290935799479485], d_loss: 0.03710676729679108\n",
            "niter: 301, g_loss: [4.003293037414551, 0.00929699931293726, 0.09961327165365219, 0.009465334936976433], d_loss: 0.031059574335813522\n",
            "niter: 401, g_loss: [3.479682207107544, 0.047485195100307465, 0.08553679287433624, 0.010725487023591995], d_loss: 0.034522973001003265\n",
            "niter: 501, g_loss: [3.0651285648345947, 0.0272974856197834, 0.07582348585128784, 0.004891593940556049], d_loss: 0.02729884721338749\n",
            "niter: 601, g_loss: [2.984578847885132, 0.03600858896970749, 0.07356865704059601, 0.00582403689622879], d_loss: 0.037934087216854095\n",
            "niter: 701, g_loss: [2.8073055744171143, 0.07451055198907852, 0.0682264044880867, 0.003738794242963195], d_loss: 0.053701579570770264\n",
            "niter: 801, g_loss: [2.6664059162139893, 0.004469250328838825, 0.06644567102193832, 0.004109661094844341], d_loss: 0.020192041993141174\n",
            "niter: 901, g_loss: [2.61932373046875, 0.12934814393520355, 0.06215614825487137, 0.003729647258296609], d_loss: 0.0847233459353447\n",
            "LATloss: (57355,)\n",
            "RECloss: (57355,)\n",
            "Scores: (57355,)\n",
            "Scores of Normal and Abnormal: (56863,) (492,)\n",
            "Optimal threshold for best AUC: 0.1542604504636259 TPR-FPR= 0.8223371778324997\n",
            "Optimal threshold for best AUPRC: 0.6030088375108008 f-score= 0.8590163934426229\n",
            "run: 9\n",
            "train: (227452, 29) (227452,) ;  test: (57355, 29) (57355,)\n",
            "niter: 1, g_loss: [26.250627517700195, 0.6961274147033691, 0.6386297941207886, 0.009306572377681732], d_loss: 0.6673665642738342\n",
            "niter: 101, g_loss: [5.490562438964844, 0.1331297755241394, 0.1336440145969391, 0.011672252789139748], d_loss: 0.11773507297039032\n",
            "niter: 201, g_loss: [4.362754821777344, 0.07657390087842941, 0.10690991580486298, 0.009784050285816193], d_loss: 0.07564523071050644\n",
            "niter: 301, g_loss: [3.8724782466888428, 0.05242392048239708, 0.09530013799667358, 0.00804874300956726], d_loss: 0.057805754244327545\n",
            "niter: 401, g_loss: [3.2593233585357666, 0.07062749564647675, 0.07959745824337006, 0.004797466564923525], d_loss: 0.05427144467830658\n",
            "niter: 501, g_loss: [3.2422239780426025, 0.05363254249095917, 0.07959980517625809, 0.004599246196448803], d_loss: 0.03390592336654663\n",
            "niter: 601, g_loss: [2.9540867805480957, 0.016165366396307945, 0.07337062060832977, 0.003096437081694603], d_loss: 0.021174240857362747\n",
            "niter: 701, g_loss: [2.8540232181549072, 0.033466584980487823, 0.0703989639878273, 0.004598178900778294], d_loss: 0.031364500522613525\n",
            "niter: 801, g_loss: [2.597956895828247, 0.04090316966176033, 0.06379134207963943, 0.005400187335908413], d_loss: 0.04739066958427429\n",
            "niter: 901, g_loss: [2.5168581008911133, 0.02058667317032814, 0.0623374804854393, 0.002772162202745676], d_loss: 0.019379790872335434\n",
            "LATloss: (57355,)\n",
            "RECloss: (57355,)\n",
            "Scores: (57355,)\n",
            "Scores of Normal and Abnormal: (56863,) (492,)\n",
            "Optimal threshold for best AUC: 0.10742999738746593 TPR-FPR= 0.8130201043758147\n",
            "Optimal threshold for best AUPRC: 0.7529652686850759 f-score= 0.8286334056399133\n",
            "run: 10\n",
            "train: (227452, 29) (227452,) ;  test: (57355, 29) (57355,)\n",
            "niter: 1, g_loss: [25.822277069091797, 0.7008393406867981, 0.6278136968612671, 0.008889732882380486], d_loss: 0.71028733253479\n",
            "niter: 101, g_loss: [5.89845609664917, 0.029670920222997665, 0.1461566984653473, 0.02251768484711647], d_loss: 0.05576962232589722\n",
            "niter: 201, g_loss: [4.554257392883301, 0.04507417976856232, 0.11247123777866364, 0.010333738289773464], d_loss: 0.047366663813591\n",
            "niter: 301, g_loss: [3.8998420238494873, 0.019235944375395775, 0.09682828187942505, 0.007474763318896294], d_loss: 0.0499076321721077\n",
            "niter: 401, g_loss: [3.2701313495635986, 0.02350432239472866, 0.08101829886436462, 0.00589514896273613], d_loss: 0.02473677322268486\n",
            "niter: 501, g_loss: [3.116396903991699, 0.017859021201729774, 0.0773334726691246, 0.0051988642662763596], d_loss: 0.030954565852880478\n",
            "niter: 601, g_loss: [3.093931198120117, 0.041226644068956375, 0.07619373500347137, 0.004955132491886616], d_loss: 0.04071531444787979\n",
            "niter: 701, g_loss: [2.987175464630127, 0.009694715030491352, 0.07429695129394531, 0.005602614488452673], d_loss: 0.009036476723849773\n",
            "niter: 801, g_loss: [2.7347540855407715, 0.043291546404361725, 0.06719856709241867, 0.0035197464749217033], d_loss: 0.040927737951278687\n",
            "niter: 901, g_loss: [2.7653231620788574, 0.047428470104932785, 0.06783434748649597, 0.004520886577665806], d_loss: 0.035726796835660934\n",
            "LATloss: (57355,)\n",
            "RECloss: (57355,)\n",
            "Scores: (57355,)\n",
            "Scores of Normal and Abnormal: (56863,) (492,)\n",
            "Optimal threshold for best AUC: 0.13837718812916333 TPR-FPR= 0.8146823866634811\n",
            "Optimal threshold for best AUPRC: 0.6267879674651627 f-score= 0.8407367280606718\n"
          ]
        }
      ],
      "source": [
        "TOTAL_RUN = 10\n",
        "run = 1\n",
        "\n",
        "for run in range(1,TOTAL_RUN+1):\n",
        "    g_e = define_GE()\n",
        "    g = define_G(g_e)\n",
        "    d = define_D()\n",
        "    gan_trainer = define_gan_trainer()\n",
        "    \n",
        "    print('run: {!r}'.format(run))\n",
        "    datasets = np.load('data/Runs/{!s}_{!s}_Runs/Run_{!s}.npz'.format(RAT,TOTAL_RUN, run))\n",
        "    x_train, y_train = datasets['trainX'], datasets['trainY']\n",
        "    x_test, y_test = datasets['testX'], datasets['testY']\n",
        "    print('train:',x_train.shape,y_train.shape,'; ','test:',x_test.shape,y_test.shape)\n",
        "    train(x_train=x_train)\n",
        "    evaluation(x_test=x_test, y_test=y_test)\n",
        "    run+=1"
      ]
    },
    {
      "cell_type": "markdown",
      "metadata": {},
      "source": [
        "# Retrain\n",
        "* [back to model](#model)"
      ]
    },
    {
      "cell_type": "markdown",
      "metadata": {},
      "source": [
        "# AUC and PR curve"
      ]
    },
    {
      "cell_type": "code",
      "execution_count": 14,
      "metadata": {},
      "outputs": [
        {
          "name": "stdout",
          "output_type": "stream",
          "text": [
            "0.5\n"
          ]
        },
        {
          "data": {
            "image/png": "[encoded data removed]",
            "text/plain": [
              "<Figure size 432x288 with 2 Axes>"
            ]
          },
          "metadata": {
            "needs_background": "light"
          },
          "output_type": "display_data"
        },
        {
          "name": "stdout",
          "output_type": "stream",
          "text": [
            "Average AUC score =  0.9596801340663459\n",
            "Average AUPRC score =  0.7929418341139693\n",
            "Average f1 score =  0.8436973927605361\n",
            "Average recall =  0.7825203252032521\n",
            "Average precision =  0.9157870796408073\n",
            "Average accuracy =  0.9974928079504839\n",
            "[{'AUC': 0.13567157379307762, 'PRC': 0.7083172876477581}, {'AUC': 0.12166523325887933, 'PRC': 0.6665114580171005}, {'AUC': 0.14234847487343655, 'PRC': 0.6884369276835818}, {'AUC': 0.10838534634186683, 'PRC': 0.7679644409696638}, {'AUC': 0.1173130995894482, 'PRC': 0.5783607572733686}, {'AUC': 0.1112682006958524, 'PRC': 0.7117917392716961}, {'AUC': 0.12735594842776726, 'PRC': 0.7313111872387249}, {'AUC': 0.1542604504636259, 'PRC': 0.6030088375108008}, {'AUC': 0.10742999738746593, 'PRC': 0.7529652686850759}, {'AUC': 0.13837718812916333, 'PRC': 0.6267879674651627}]\n"
          ]
        }
      ],
      "source": [
        "rcParams['figure.figsize'] = 20, 5\n",
        "#plot\n",
        "fig, ax=plt.subplots(1,2)\n",
        "proportion_of_abn = 0.5\n",
        "\n",
        "colors = ['orange','purple','green','lime','black','yellow','brown','pink','blue','lightblue']\n",
        "print(proportion_of_abn)\n",
        "\n",
        "\n",
        "for i in range(len(TPR_res)):\n",
        "    tpr, fpr = TPR_res[i], FPR_res[i]\n",
        "    precision, recall = P_res[i], R_res[i]\n",
        "    auc_score, auprc_score = AUC_res[i], AUPRC_res[i]\n",
        "    indicator = colors[i]\n",
        "\n",
        "    #ROC curve\n",
        "    ax[0].plot(fpr, tpr, color = indicator, label = '%0.4f' % auc_score)\n",
        "    ax[0].legend(loc = 'lower right')\n",
        "\n",
        "    #PR curve\n",
        "    ax[1].plot(recall, precision, color = indicator, label='%0.4f' % auprc_score)\n",
        "    ax[1].legend(loc = 'lower right')\n",
        "    \n",
        "\n",
        "\n",
        "ax[0].set_title('Receiver Operating Characteristic')\n",
        "ax[0].plot([0, 1], [0, 1],'r--')\n",
        "ax[0].set_xlim([0, 1])\n",
        "ax[0].set_ylim([0, 1])\n",
        "ax[0].set_ylabel('True Positive Rate')\n",
        "ax[0].set_xlabel('False Positive Rate')\n",
        "\n",
        "ax[1].set_title('Precision-Recall Curve')\n",
        "ax[1].plot([0, 1], [proportion_of_abn, proportion_of_abn],'r--')\n",
        "ax[1].plot([0, 1], [proportion_of_abn, proportion_of_abn],'r--')\n",
        "ax[1].set_xlim([0, 1])\n",
        "ax[1].set_ylim([0, 1])\n",
        "ax[1].set_ylabel('Precision')\n",
        "ax[1].set_xlabel('Recall')\n",
        "plt.show()\n",
        "\n",
        "#calculate average AUC and AUPRC score\n",
        "print('Average AUC score = ',sum(AUC_res) / TOTAL_RUN)\n",
        "print('Average AUPRC score = ',sum(AUPRC_res) / TOTAL_RUN)\n",
        "print('Average f1 score = ',sum(fscore_res) / TOTAL_RUN)\n",
        "print('Average recall = ',sum(recall_res) / TOTAL_RUN)\n",
        "print('Average precision = ',sum(precision_res) / TOTAL_RUN)\n",
        "print('Average accuracy = ', sum(accuracies)/TOTAL_RUN)\n",
        "\n",
        "print(THR_opt)\n",
        "\n",
        "#print optnimal thresholds of 10 folds\n",
        "#print(THR_opt)"
      ]
    },
    {
      "cell_type": "code",
      "execution_count": 15,
      "metadata": {},
      "outputs": [],
      "source": [
        "TPR_maxlen = FPR_maxlen = P_maxlen = R_maxlen = 0\n",
        "\n",
        "for i in range(len(TPR_res)):\n",
        "    if TPR_maxlen < len(TPR_res[i]): TPR_maxlen = len(TPR_res[i])\n",
        "    if FPR_maxlen < len(FPR_res[i]): FPR_maxlen = len(FPR_res[i])\n",
        "    if P_maxlen < len(P_res[i]): P_maxlen = len(P_res[i])\n",
        "    if R_maxlen < len(R_res[i]): R_maxlen = len(R_res[i])\n",
        "\n",
        "def AddOn(addTo,data,row, dataLen):\n",
        "    tmp = data[0]\n",
        "    for i in range(dataLen):\n",
        "        if i<len(data[row]) and data[row][i] is not np.nan: tmp = data[row][i]\n",
        "        addTo[i]+=tmp\n",
        "\n",
        "def AVG(data):\n",
        "    return (data / TOTAL_RUN).tolist()\n",
        "TPR_avg, FPR_avg, P_avg, R_avg = np.zeros((TPR_maxlen)), np.zeros((FPR_maxlen)), np.zeros((P_maxlen)), np.zeros((R_maxlen))\n",
        "\n",
        "for i in range(len(TPR_res)):\n",
        "    AddOn(TPR_avg, TPR_res, i, TPR_maxlen)\n",
        "    AddOn(FPR_avg, FPR_res, i, FPR_maxlen)\n",
        "    AddOn(P_avg, P_res, i, P_maxlen)\n",
        "    AddOn(R_avg, R_res, i, R_maxlen)\n",
        "    \n",
        "TPR_avg, FPR_avg, P_avg, R_avg = AVG(TPR_avg), AVG(FPR_avg), AVG(P_avg), AVG(R_avg)"
      ]
    },
    {
      "attachments": {},
      "cell_type": "markdown",
      "metadata": {},
      "source": [
        "# Save Result to json"
      ]
    },
    {
      "cell_type": "code",
      "execution_count": 17,
      "metadata": {},
      "outputs": [],
      "source": [
        "import json\n",
        "\n",
        "with open('data/Runs/{!s}_{!s}_Runs/result.json'.format(RAT,TOTAL_RUN, run), \"r\", encoding='utf-8') as jsonFile:\n",
        "    data = json.load(jsonFile)\n",
        "\n",
        "with open('data/Runs/{!s}_{!s}_Runs/result.json'.format(RAT,TOTAL_RUN, run), 'w', encoding='utf-8') as jsonFile:\n",
        "    data['FinGANomaly_{!s}'.format(lat_weight)] = {\n",
        "            'AUC': AUC_res,\n",
        "            'AUPRC': AUPRC_res,\n",
        "            'Fscore': fscore_res,\n",
        "            'Recall': recall_res,\n",
        "            'Precision': precision_res,\n",
        "            'Accuracy': accuracies,\n",
        "            'THR_opt': THR_opt,\n",
        "            'AVG': {\n",
        "                'TPR': TPR_avg,\n",
        "                'FPR': FPR_avg,\n",
        "                'P': P_avg,\n",
        "                'R': R_avg\n",
        "            }\n",
        "        }\n",
        "    \n",
        "    json.dump(data, jsonFile, ensure_ascii=False)"
      ]
    },
    {
      "cell_type": "markdown",
      "metadata": {},
      "source": [
        "# End of Jupyter\n",
        "* [To top](#common-link)"
      ]
    }
  ],
  "metadata": {
    "accelerator": "GPU",
    "colab": {
      "name": "ganomaly",
      "provenance": [],
      "version": "0.3.2"
    },
    "kernelspec": {
      "display_name": "Python 3.8.3 ('base')",
      "language": "python",
      "name": "python3"
    },
    "language_info": {
      "codemirror_mode": {
        "name": "ipython",
        "version": 3
      },
      "file_extension": ".py",
      "mimetype": "text/x-python",
      "name": "python",
      "nbconvert_exporter": "python",
      "pygments_lexer": "ipython3",
      "version": "3.8.3"
    },
    "vscode": {
      "interpreter": {
        "hash": "ad2bdc8ecc057115af97d19610ffacc2b4e99fae6737bb82f5d7fb13d2f2c186"
      }
    }
  },
  "nbformat": 4,
  "nbformat_minor": 0
}
