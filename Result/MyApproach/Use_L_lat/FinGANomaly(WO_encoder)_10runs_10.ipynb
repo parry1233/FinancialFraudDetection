{
  "cells": [
    {
      "cell_type": "markdown",
      "metadata": {},
      "source": [
        "# Common link\n",
        "* [Load Data](#load-data)\n",
        "* [Split Data](#split-dataset)\n",
        "* [Model](#model)\n",
        "* [Evaluation](#evaluation)"
      ]
    },
    {
      "cell_type": "code",
      "execution_count": 1,
      "metadata": {},
      "outputs": [],
      "source": [
        "feature = 29"
      ]
    },
    {
      "cell_type": "markdown",
      "metadata": {},
      "source": [
        "# Model"
      ]
    },
    {
      "cell_type": "code",
      "execution_count": 2,
      "metadata": {
        "colab": {
          "base_uri": "https://localhost:8080/",
          "height": 34
        },
        "colab_type": "code",
        "id": "_fOFzTCbXTfi",
        "outputId": "4e0db446-6657-442e-a7e5-f81c198d1dee"
      },
      "outputs": [],
      "source": [
        "from tensorflow.keras import layers\n",
        "import tensorflow.keras as keras\n",
        "import tensorflow.keras.backend as K"
      ]
    },
    {
      "cell_type": "code",
      "execution_count": 3,
      "metadata": {},
      "outputs": [],
      "source": [
        "g_e, g, feature_extractor, d = None, None, None, None\n",
        "gan_trainer = None\n",
        "RAT = 10"
      ]
    },
    {
      "cell_type": "markdown",
      "metadata": {
        "colab_type": "text",
        "id": "9V6k5E4HX8ns"
      },
      "source": [
        "## Generators Encoder\n"
      ]
    },
    {
      "cell_type": "code",
      "execution_count": 4,
      "metadata": {
        "colab": {
          "base_uri": "https://localhost:8080/",
          "height": 819
        },
        "colab_type": "code",
        "id": "6SSgbWtgYFge",
        "outputId": "ffb3b7cc-871f-4ef6-b1cb-6f2eb6193249"
      },
      "outputs": [],
      "source": [
        "def define_GE():\n",
        "    input_layer = layers.Input(name='input', shape=(feature))\n",
        "    #x = layers.Reshape((height, width, channels), name='ge_reshape')(input_layer)\n",
        "\n",
        "    # Encoder\n",
        "    x = layers.Dense(1024, name='ge_dense_1')(input_layer)\n",
        "    x = layers.LeakyReLU(name='ge_leaky_1')(x)\n",
        "\n",
        "    x = layers.Dense(512, name='ge_dense_2')(x)\n",
        "    x = layers.LeakyReLU(name='ge_leaky_2')(x)\n",
        "\n",
        "    x = layers.Dense(256, name='ge_dense_3')(x)\n",
        "    x = layers.LeakyReLU(name='ge_leaky_3')(x)\n",
        "\n",
        "    x = layers.Dense(128, name='ge_dense_4')(x)\n",
        "    x = layers.LeakyReLU(name='ge_leaky_4')(x)\n",
        "\n",
        "    #x = layers.GlobalAveragePooling2D(name='g_encoder_output')(x)\n",
        "\n",
        "    g_e = keras.models.Model(inputs=input_layer, outputs=x)\n",
        "\n",
        "    #g_e.summary()\n",
        "    return g_e"
      ]
    },
    {
      "cell_type": "markdown",
      "metadata": {
        "colab_type": "text",
        "id": "CsFGE97WYMts"
      },
      "source": [
        "## Generator"
      ]
    },
    {
      "cell_type": "code",
      "execution_count": 5,
      "metadata": {
        "colab": {
          "base_uri": "https://localhost:8080/",
          "height": 510
        },
        "colab_type": "code",
        "id": "pivNg2CMYQwi",
        "outputId": "4281bfb2-df6d-4958-b3e5-dd75d06f866a"
      },
      "outputs": [],
      "source": [
        "def define_G(g_e):\n",
        "    input_layer = layers.Input(name='input', shape=(feature))\n",
        "\n",
        "    x = g_e(input_layer)\n",
        "\n",
        "    #y = layers.Reshape((height // 6, width // 6, 128), name='de_reshape1')(x) # 256 = 256 * (6/6) * (6/6) \n",
        "\n",
        "    y = layers.Dense(256, name='dense_1')(x)\n",
        "    y = layers.LeakyReLU(name='leaky_1')(y)\n",
        "\n",
        "    y = layers.Dense(512, name='dense_2')(y)\n",
        "    y = layers.LeakyReLU(name='leaky_2')(y)\n",
        "\n",
        "    y = layers.Dense(1024, name='dense_3')(y)\n",
        "    y = layers.LeakyReLU(name='leaky_3')(y)\n",
        "\n",
        "    y = layers.Dense(feature, name='dense_4')(y)\n",
        "    y = layers.LeakyReLU(name='leaky_4')(y)\n",
        "\n",
        "    #y = layers.Flatten()(y)\n",
        "    #y = layers.Dense(36, name='dense')(y)\n",
        "    #y = layers.Reshape((height, width, channels), name='de_reshape2')(y)\n",
        "\n",
        "    g = keras.models.Model(inputs=input_layer, outputs=y)\n",
        "\n",
        "    #g.summary()\n",
        "    \n",
        "    return g"
      ]
    },
    {
      "cell_type": "markdown",
      "metadata": {
        "colab_type": "text",
        "id": "pWWVBPizZctk"
      },
      "source": [
        "## discriminator"
      ]
    },
    {
      "cell_type": "code",
      "execution_count": 6,
      "metadata": {
        "colab": {
          "base_uri": "https://localhost:8080/",
          "height": 272
        },
        "colab_type": "code",
        "id": "xcJdjTerZbMN",
        "outputId": "837e9958-23db-408c-916e-2e0c23250d0f"
      },
      "outputs": [],
      "source": [
        "def define_D():\n",
        "    input_layer = layers.Input(name='input', shape=(feature))\n",
        "\n",
        "    f = layers.Dense(1024, name='f_dense_1')(input_layer)\n",
        "    f = layers.LeakyReLU(name='f_leaky_1')(f)\n",
        "\n",
        "    f = layers.Dense(512, name='f_dense_2')(f)\n",
        "    f = layers.LeakyReLU(name='f_leaky_2')(f)\n",
        "\n",
        "    f = layers.Dense(256, name='f_dense_3')(f)\n",
        "    f = layers.LeakyReLU(name='f_leaky_3')(f)\n",
        "\n",
        "    f = layers.Dense(128, name='f_dense_4')(f)\n",
        "    f = layers.LeakyReLU(name='feature_output')(f)\n",
        "    \n",
        "    #f = feature_extractor(input_layer)\n",
        "\n",
        "    #d = layers.Dense(16, name='d_dense_1')(f)\n",
        "    d = layers.Dense(1, activation='sigmoid', name='d_out')(f)\n",
        "        \n",
        "    d = keras.models.Model(input_layer, d)\n",
        "    #d.summary()\n",
        "    d.compile(optimizer='adam', loss='binary_crossentropy')\n",
        "    \n",
        "    return d"
      ]
    },
    {
      "cell_type": "markdown",
      "metadata": {
        "colab_type": "text",
        "id": "Z7HBx1GiZhm-"
      },
      "source": [
        "## gan trainer"
      ]
    },
    {
      "cell_type": "code",
      "execution_count": 7,
      "metadata": {
        "colab": {
          "base_uri": "https://localhost:8080/",
          "height": 71
        },
        "colab_type": "code",
        "id": "bosacIf7ZkZ4",
        "outputId": "341417b4-0771-466f-c9d0-68554e089f8e"
      },
      "outputs": [],
      "source": [
        "import tensorflow as tf\n",
        "class AdvLoss(keras.layers.Layer):\n",
        "    def __init__(self, **kwargs):\n",
        "        super(AdvLoss, self).__init__(**kwargs)\n",
        "\n",
        "    def call(self, x, mask=None):\n",
        "        y_pred = d(x[1])\n",
        "        y_true = tf.ones_like(y_pred)\n",
        "        return keras.losses.binary_crossentropy(y_true,y_pred)\n",
        "\n",
        "    def get_output_shape_for(self, input_shape):\n",
        "        return (input_shape[0][0], 1)\n",
        "    \n",
        "class CntLoss(keras.layers.Layer):\n",
        "    def __init__(self, **kwargs):\n",
        "        super(CntLoss, self).__init__(**kwargs)\n",
        "\n",
        "    def call(self, x, mask=None):\n",
        "        ori = x[0]\n",
        "        gan = x[1]\n",
        "        return K.mean(K.abs(ori - gan))\n",
        "\n",
        "    def get_output_shape_for(self, input_shape):\n",
        "        return (input_shape[0][0], 1)\n",
        "    \n",
        "class EncLoss(keras.layers.Layer):\n",
        "    def __init__(self, **kwargs):\n",
        "        super(EncLoss, self).__init__(**kwargs)\n",
        "\n",
        "    def call(self, x, mask=None):\n",
        "        ori = x[0]\n",
        "        gan = x[1]\n",
        "        return K.mean(K.square(g_e(ori) - g_e(gan)))\n",
        "\n",
        "    def get_output_shape_for(self, input_shape):\n",
        "        return (input_shape[0][0], 1)\n",
        "\n",
        "# loss function\n",
        "def loss(yt, yp):\n",
        "    return yp"
      ]
    },
    {
      "cell_type": "code",
      "execution_count": 8,
      "metadata": {},
      "outputs": [],
      "source": [
        "def define_gan_trainer():\n",
        "    # model for training\n",
        "    input_layer = layers.Input(name='input', shape=(feature))\n",
        "    gan = g(input_layer) # g(x)\n",
        "\n",
        "    adv_loss = AdvLoss(name='adv_loss')([input_layer, gan])\n",
        "    cnt_loss = CntLoss(name='cnt_loss')([input_layer, gan])\n",
        "    enc_loss = EncLoss(name='enc_loss')([input_layer, gan])\n",
        "\n",
        "    gan_trainer = keras.models.Model(input_layer, [adv_loss, cnt_loss, enc_loss])\n",
        "\n",
        "    losses = {\n",
        "        'adv_loss': loss,\n",
        "        'cnt_loss': loss,\n",
        "        'enc_loss': loss,\n",
        "    }\n",
        "\n",
        "    lossWeights = {'cnt_loss': 40.0, 'adv_loss': 1.0, 'enc_loss': 1.0}\n",
        "    \n",
        "    # compile\n",
        "    gan_trainer.compile(optimizer = 'adam', loss=losses, loss_weights=lossWeights)\n",
        "    #gan_trainer.summary()\n",
        "    \n",
        "    return gan_trainer"
      ]
    },
    {
      "cell_type": "markdown",
      "metadata": {
        "colab_type": "text",
        "id": "dxPzCEC1bFMR"
      },
      "source": [
        "# Training"
      ]
    },
    {
      "cell_type": "code",
      "execution_count": 9,
      "metadata": {},
      "outputs": [],
      "source": [
        "import numpy as np\n",
        "niter = 1000\n",
        "bz = 512"
      ]
    },
    {
      "cell_type": "code",
      "execution_count": 10,
      "metadata": {
        "colab": {},
        "colab_type": "code",
        "id": "53rLCTe3a8LY"
      },
      "outputs": [],
      "source": [
        "def get_data_generator(data, batch_size=32):\n",
        "    datalen = len(data)\n",
        "    cnt = 0\n",
        "    while True:\n",
        "        idxes = np.arange(datalen)\n",
        "        np.random.shuffle(idxes)\n",
        "        cnt += 1\n",
        "        for i in range(int(np.ceil(datalen/batch_size))):\n",
        "            train_x = np.take(data, idxes[i*batch_size: (i+1) * batch_size], axis=0)\n",
        "            y = np.ones(len(train_x))\n",
        "            yield train_x, [y, y, y]"
      ]
    },
    {
      "cell_type": "code",
      "execution_count": 11,
      "metadata": {},
      "outputs": [],
      "source": [
        "def train(x_train):\n",
        "    train_data_generator = get_data_generator(x_train, bz)\n",
        "    for i in range(niter):\n",
        "        \n",
        "        ### get batch x, y ###\n",
        "        x, y = train_data_generator.__next__()\n",
        "            \n",
        "        ### train disciminator ###\n",
        "        d.trainable = True\n",
        "\n",
        "        #print(x.shape)\n",
        "            \n",
        "        fake_x = g.predict(x)\n",
        "            \n",
        "        d_x = np.concatenate([x, fake_x], axis=0)\n",
        "        d_y = np.concatenate([np.zeros(len(x)), np.ones(len(fake_x))], axis=0)\n",
        "            \n",
        "        d_loss = d.train_on_batch(d_x, d_y)\n",
        "\n",
        "        ### train generator ###\n",
        "        \n",
        "        d.trainable = False        \n",
        "        g_loss = gan_trainer.train_on_batch(x, y)\n",
        "        \n",
        "        if i % 100 == 0:\n",
        "            print(f'niter: {i+1}, g_loss: {g_loss}, d_loss: {d_loss}')"
      ]
    },
    {
      "cell_type": "markdown",
      "metadata": {
        "colab_type": "text",
        "id": "0cHDcccacdST"
      },
      "source": [
        "# Evaluation"
      ]
    },
    {
      "cell_type": "code",
      "execution_count": 12,
      "metadata": {
        "colab": {},
        "colab_type": "code",
        "id": "UXAufnuIbuvF"
      },
      "outputs": [],
      "source": [
        "from matplotlib import pyplot as plt\n",
        "from pylab import rcParams\n",
        "from sklearn.metrics import roc_curve, roc_auc_score, precision_recall_curve, auc, average_precision_score\n",
        "from sklearn import metrics\n",
        "from sklearn.metrics import classification_report, confusion_matrix\n",
        "import seaborn as sns\n",
        "\n",
        "TPR_res, FPR_res, P_res, R_res = [], [], [], []\n",
        "AUC_res, AUPRC_res = [], []\n",
        "accuracies, fscore_res, recall_res, precision_res = [], [], [], []\n",
        "reports = []\n",
        "scores = []\n",
        "THR_opt = []\n",
        "\n",
        "lat_weight = 0.1\n",
        "recons_weight = 1-lat_weight\n",
        "\n",
        "def evaluation(x_test,y_test):\n",
        "    encoded = g_e.predict(x_test)\n",
        "    gan_x = g.predict(x_test)\n",
        "    encoded_gan = g_e.predict(gan_x)\n",
        "    recons_loss = np.mean(np.absolute(gan_x - x_test), axis=-1)\n",
        "    lat_loss = np.mean(np.square(encoded - encoded_gan), axis=-1)\n",
        "    print('LATloss:',lat_loss.shape)\n",
        "    print('RECloss:',recons_loss.shape)\n",
        "    score = lat_weight*lat_loss + recons_weight*recons_loss\n",
        "    #score = (score - np.min(score)) / (np.max(score) - np.min(score)) # map to 0~1\n",
        "    print('Scores:',score.shape)\n",
        "    score = score.reshape(len(score))\n",
        "\n",
        "    nScore, abnScore = score[y_test==0], score[y_test==1]\n",
        "    print('Scores of Normal and Abnormal:',nScore.shape,abnScore.shape)\n",
        "    scores.append([nScore,abnScore])\n",
        "\n",
        "\n",
        "    score = score.reshape(len(score))\n",
        "    fpr, tpr, threshold_auc = roc_curve(y_score=score, y_true=y_test, pos_label=1)\n",
        "    TPR_res.append(tpr)\n",
        "    FPR_res.append(fpr)\n",
        "    precision, recall, threshold_prc = precision_recall_curve(probas_pred=score, y_true=y_test, pos_label=1)\n",
        "    P_res.append(precision)\n",
        "    R_res.append(recall)\n",
        "\n",
        "    auc_score = auc(fpr,tpr)\n",
        "    auprc_score = auc(recall, precision)\n",
        "    AUC_res.append(auc_score)\n",
        "    AUPRC_res.append(auprc_score)\n",
        "\n",
        "\n",
        "    # optimal cut off point would be where “true positive rate” is high and the “false positive rate” is low.\n",
        "    J = tpr - fpr\n",
        "    ix1 = np.argmax(J)\n",
        "    optimal_threshold = threshold_auc[ix1]\n",
        "    #optimal_threshold = sorted(list(zip(np.sqrt(tpr-fpr), threshold_auc)), key=lambda i: i[0], reverse=False)[0][1]\n",
        "    print('Optimal threshold for best AUC:',optimal_threshold, 'TPR-FPR=',J[ix1])\n",
        "\n",
        "    fscore = (2 * precision * recall) / (precision + recall)\n",
        "    ix2 = np.nanargmax(fscore)\n",
        "    optimal_prc_threshold = threshold_prc[ix2]\n",
        "    #optimal_prc_threshold = sorted(list(zip(np.abs(precision - recall), threshold_prc)), key=lambda i: i[0], reverse=False)[0][1]\n",
        "    print('Optimal threshold for best AUPRC:',optimal_prc_threshold,'f-score=', fscore[ix2])\n",
        "    \n",
        "    fscore_res.append(fscore[ix2])\n",
        "    recall_res.append(recall[ix2])\n",
        "    precision_res.append(precision[ix2])\n",
        "\n",
        "    THR_opt.append({'AUC':optimal_threshold, 'PRC':optimal_prc_threshold})\n",
        "    \n",
        "    yTest_predict = [0 if s<=optimal_prc_threshold else 1 for s in score]\n",
        "    class_report = classification_report(y_pred=yTest_predict, y_true=y_test, digits=4, output_dict=True)\n",
        "    \n",
        "    reports.append(class_report)\n",
        "    accuracies.append(class_report['accuracy'])\n"
      ]
    },
    {
      "cell_type": "markdown",
      "metadata": {},
      "source": [
        "# K-Fold Train"
      ]
    },
    {
      "cell_type": "code",
      "execution_count": 13,
      "metadata": {},
      "outputs": [
        {
          "name": "stdout",
          "output_type": "stream",
          "text": [
            "run: 1\n",
            "train: (279395, 29) (279395,) ;  test: (5412, 29) (5412,)\n",
            "niter: 1, g_loss: [28.141496658325195, 0.6987265944480896, 0.6856134533882141, 0.018232246860861778], d_loss: 0.6982773542404175\n",
            "niter: 101, g_loss: [5.6382551193237305, 0.022148383781313896, 0.14006951451301575, 0.013326414860785007], d_loss: 0.041385211050510406\n",
            "niter: 201, g_loss: [4.069025039672852, 0.12266142666339874, 0.09835460036993027, 0.012179706245660782], d_loss: 0.08139687031507492\n",
            "niter: 301, g_loss: [3.5054659843444824, 0.03773816302418709, 0.08655688911676407, 0.005452228710055351], d_loss: 0.04830879718065262\n",
            "niter: 401, g_loss: [3.373170852661133, 0.037694819271564484, 0.08321189880371094, 0.007000009063631296], d_loss: 0.03806126117706299\n",
            "niter: 501, g_loss: [2.960934638977051, 0.09023217111825943, 0.07167556136846542, 0.003679855028167367], d_loss: 0.055196087807416916\n",
            "niter: 601, g_loss: [3.2291555404663086, 0.0487537682056427, 0.07931191474199295, 0.00792513508349657], d_loss: 0.03324887901544571\n",
            "niter: 701, g_loss: [2.641056776046753, 0.02993571013212204, 0.06516382098197937, 0.004568327683955431], d_loss: 0.043089479207992554\n",
            "niter: 801, g_loss: [2.6784558296203613, 0.004999168682843447, 0.06675876677036285, 0.0031060539186000824], d_loss: 0.01322838757187128\n",
            "niter: 901, g_loss: [2.329481363296509, 0.013432534411549568, 0.057843875139951706, 0.002293776720762253], d_loss: 0.027358723804354668\n",
            "LATloss: (5412,)\n",
            "RECloss: (5412,)\n",
            "Scores: (5412,)\n",
            "Scores of Normal and Abnormal: (4920,) (492,)\n",
            "Optimal threshold for best AUC: 0.18430720622481483 TPR-FPR= 0.8058943089430894\n",
            "Optimal threshold for best AUPRC: 0.5535156963611534 f-score= 0.8775055679287306\n",
            "run: 2\n",
            "train: (279395, 29) (279395,) ;  test: (5412, 29) (5412,)\n",
            "niter: 1, g_loss: [27.037939071655273, 0.7027190923690796, 0.6580656170845032, 0.012595690786838531], d_loss: 0.6984413862228394\n",
            "niter: 101, g_loss: [6.2415995597839355, 0.22109319269657135, 0.14998261630535126, 0.02120162546634674], d_loss: 0.18472518026828766\n",
            "niter: 201, g_loss: [4.326858043670654, 0.08189253509044647, 0.10536105930805206, 0.030523382127285004], d_loss: 0.05777731165289879\n",
            "niter: 301, g_loss: [3.7408287525177, 0.09889338165521622, 0.09085232764482498, 0.00784231722354889], d_loss: 0.07264405488967896\n",
            "niter: 401, g_loss: [3.345958948135376, 0.048981089144945145, 0.08226782083511353, 0.006265085656195879], d_loss: 0.06548789143562317\n",
            "niter: 501, g_loss: [3.1370208263397217, 0.02587437629699707, 0.07765133678913116, 0.005093006417155266], d_loss: 0.04391832277178764\n",
            "niter: 601, g_loss: [2.9312076568603516, 0.06491617858409882, 0.07154680043458939, 0.004419571720063686], d_loss: 0.05500374361872673\n",
            "niter: 701, g_loss: [2.754850149154663, 0.029836339876055717, 0.06803479045629501, 0.0036222063936293125], d_loss: 0.01921411231160164\n",
            "niter: 801, g_loss: [2.5318803787231445, 0.034740231931209564, 0.06235658749938011, 0.0028768316842615604], d_loss: 0.022472836077213287\n",
            "niter: 901, g_loss: [2.2621705532073975, 0.0027882286813110113, 0.05642704665660858, 0.0023002936504781246], d_loss: 0.01788155734539032\n",
            "LATloss: (5412,)\n",
            "RECloss: (5412,)\n",
            "Scores: (5412,)\n",
            "Scores of Normal and Abnormal: (4920,) (492,)\n",
            "Optimal threshold for best AUC: 0.09884113422655753 TPR-FPR= 0.8221544715447154\n",
            "Optimal threshold for best AUPRC: 0.5003288144140763 f-score= 0.88268156424581\n",
            "run: 3\n",
            "train: (279395, 29) (279395,) ;  test: (5412, 29) (5412,)\n",
            "niter: 1, g_loss: [26.399486541748047, 0.6991075277328491, 0.6422520279884338, 0.01029788888990879], d_loss: 0.6908111572265625\n",
            "niter: 101, g_loss: [5.582719326019287, 0.04288828372955322, 0.13813242316246033, 0.014534025453031063], d_loss: 0.03597186133265495\n",
            "niter: 201, g_loss: [4.416075706481934, 0.06757982820272446, 0.10843672603368759, 0.011026933789253235], d_loss: 0.05442644655704498\n",
            "niter: 301, g_loss: [3.915010929107666, 0.08445369452238083, 0.09552647173404694, 0.009498536586761475], d_loss: 0.05425884202122688\n",
            "niter: 401, g_loss: [3.5258946418762207, 0.0739959329366684, 0.08610126376152039, 0.007848137989640236], d_loss: 0.057729240506887436\n",
            "niter: 501, g_loss: [3.3484103679656982, 0.04284850135445595, 0.08250252902507782, 0.005460696294903755], d_loss: 0.03602825105190277\n",
            "niter: 601, g_loss: [2.6968841552734375, 0.047850169241428375, 0.0661432072520256, 0.0033055427484214306], d_loss: 0.03907918930053711\n",
            "niter: 701, g_loss: [2.6883976459503174, 0.025461845099925995, 0.06649798899888992, 0.0030164048075675964], d_loss: 0.029992129653692245\n",
            "niter: 801, g_loss: [2.7840445041656494, 0.05185437947511673, 0.068206787109375, 0.003918644972145557], d_loss: 0.03527766093611717\n",
            "niter: 901, g_loss: [2.7199275493621826, 0.061252083629369736, 0.06637770682573318, 0.0035672811791300774], d_loss: 0.04509902745485306\n",
            "LATloss: (5412,)\n",
            "RECloss: (5412,)\n",
            "Scores: (5412,)\n",
            "Scores of Normal and Abnormal: (4920,) (492,)\n",
            "Optimal threshold for best AUC: 0.13996314412483374 TPR-FPR= 0.8199186991869919\n",
            "Optimal threshold for best AUPRC: 0.5345282276865972 f-score= 0.8856502242152466\n",
            "run: 4\n",
            "train: (279395, 29) (279395,) ;  test: (5412, 29) (5412,)\n",
            "niter: 1, g_loss: [26.01321792602539, 0.6996908187866211, 0.6325989961624146, 0.009567705914378166], d_loss: 0.656569242477417\n",
            "niter: 101, g_loss: [6.008208751678467, 0.0347115620970726, 0.14889240264892578, 0.01780114509165287], d_loss: 0.033019453287124634\n",
            "niter: 201, g_loss: [4.442325592041016, 0.12152336537837982, 0.1077493280172348, 0.010829005390405655], d_loss: 0.11740990728139877\n",
            "niter: 301, g_loss: [3.6807634830474854, 0.0986446738243103, 0.08940687030553818, 0.005843872204422951], d_loss: 0.07698016613721848\n",
            "niter: 401, g_loss: [3.3079378604888916, 0.14511488378047943, 0.07892943918704987, 0.005645608529448509], d_loss: 0.11462083458900452\n",
            "niter: 501, g_loss: [3.35508131980896, 0.06757710129022598, 0.08202673494815826, 0.006435032933950424], d_loss: 0.07969831675291061\n",
            "niter: 601, g_loss: [2.7789251804351807, 0.02836310863494873, 0.0686822459101677, 0.0032722484320402145], d_loss: 0.027803735807538033\n",
            "niter: 701, g_loss: [2.6503496170043945, 0.12172245979309082, 0.06314790993928909, 0.002710812259465456], d_loss: 0.08456690609455109\n",
            "niter: 801, g_loss: [2.697263240814209, 0.025712745264172554, 0.06670749932527542, 0.003250575391575694], d_loss: 0.021510861814022064\n",
            "niter: 901, g_loss: [2.575397491455078, 0.001597690163180232, 0.06424381583929062, 0.004046995658427477], d_loss: 0.014783384278416634\n",
            "LATloss: (5412,)\n",
            "RECloss: (5412,)\n",
            "Scores: (5412,)\n",
            "Scores of Normal and Abnormal: (4920,) (492,)\n",
            "Optimal threshold for best AUC: 0.12655128883804342 TPR-FPR= 0.8132113821138212\n",
            "Optimal threshold for best AUPRC: 0.534070058192057 f-score= 0.8856502242152466\n",
            "run: 5\n",
            "train: (279395, 29) (279395,) ;  test: (5412, 29) (5412,)\n",
            "niter: 1, g_loss: [26.53756332397461, 0.7017253637313843, 0.6455796360969543, 0.012653712183237076], d_loss: 0.7004706859588623\n",
            "niter: 101, g_loss: [5.486572265625, 0.0610695406794548, 0.13532328605651855, 0.012571042403578758], d_loss: 0.041587188839912415\n",
            "niter: 201, g_loss: [4.521694183349609, 0.18717995285987854, 0.10806835442781448, 0.011779643595218658], d_loss: 0.16072924435138702\n",
            "niter: 301, g_loss: [3.8110666275024414, 0.06696395576000214, 0.0934089794754982, 0.00774357421323657], d_loss: 0.056064557284116745\n",
            "niter: 401, g_loss: [4.073951244354248, 0.009019887074828148, 0.10133470594882965, 0.011543035507202148], d_loss: 0.028018996119499207\n",
            "niter: 501, g_loss: [3.0571391582489014, 0.0007529517752118409, 0.07628832012414932, 0.004853342659771442], d_loss: 0.014196406118571758\n",
            "niter: 601, g_loss: [3.0035407543182373, 0.03174072876572609, 0.07419290393590927, 0.004083713050931692], d_loss: 0.03274722769856453\n",
            "niter: 701, g_loss: [2.76692271232605, 0.03627808764576912, 0.0681697204709053, 0.00385579327121377], d_loss: 0.04375731199979782\n",
            "niter: 801, g_loss: [2.758950710296631, 0.10041384398937225, 0.06635794788599014, 0.004219035618007183], d_loss: 0.06630256772041321\n",
            "niter: 901, g_loss: [2.4188499450683594, 0.0371694341301918, 0.05947709083557129, 0.002596795093268156], d_loss: 0.03819214552640915\n",
            "LATloss: (5412,)\n",
            "RECloss: (5412,)\n",
            "Scores: (5412,)\n",
            "Scores of Normal and Abnormal: (4920,) (492,)\n",
            "Optimal threshold for best AUC: 0.13309061273554393 TPR-FPR= 0.8416666666666667\n",
            "Optimal threshold for best AUPRC: 0.4111144823764121 f-score= 0.8866442199775533\n",
            "run: 6\n",
            "train: (279395, 29) (279395,) ;  test: (5412, 29) (5412,)\n",
            "niter: 1, g_loss: [26.800891876220703, 0.7013136744499207, 0.6521846652030945, 0.012190505862236023], d_loss: 0.7516358494758606\n",
            "niter: 101, g_loss: [5.353270053863525, 0.10141023993492126, 0.13100005686283112, 0.011857866309583187], d_loss: 0.07539863884449005\n",
            "niter: 201, g_loss: [4.320995807647705, 0.058762483298778534, 0.10626737773418427, 0.01153823547065258], d_loss: 0.049442656338214874\n",
            "niter: 301, g_loss: [3.945265769958496, 0.05124039947986603, 0.09714371711015701, 0.008276683278381824], d_loss: 0.0470273420214653\n",
            "niter: 401, g_loss: [3.3317558765411377, 0.05798659846186638, 0.08167906105518341, 0.006607015151530504], d_loss: 0.05628066509962082\n",
            "niter: 501, g_loss: [3.1619386672973633, 0.06724956631660461, 0.07723982632160187, 0.005096063949167728], d_loss: 0.09404908865690231\n",
            "niter: 601, g_loss: [3.140333652496338, 0.14383257925510406, 0.07478947937488556, 0.004922114312648773], d_loss: 0.14479964971542358\n",
            "niter: 701, g_loss: [2.8999786376953125, 0.08765564113855362, 0.0701996237039566, 0.004338112194091082], d_loss: 0.08855198323726654\n",
            "niter: 801, g_loss: [2.6299378871917725, 0.03933161497116089, 0.06468472629785538, 0.0032172370702028275], d_loss: 0.03586854040622711\n",
            "niter: 901, g_loss: [2.540388822555542, 0.06490650773048401, 0.061812564730644226, 0.0029795377049595118], d_loss: 0.06372355669736862\n",
            "LATloss: (5412,)\n",
            "RECloss: (5412,)\n",
            "Scores: (5412,)\n",
            "Scores of Normal and Abnormal: (4920,) (492,)\n",
            "Optimal threshold for best AUC: 0.14265425440642046 TPR-FPR= 0.8099593495934959\n",
            "Optimal threshold for best AUPRC: 0.5560931162625548 f-score= 0.88268156424581\n",
            "run: 7\n",
            "train: (279395, 29) (279395,) ;  test: (5412, 29) (5412,)\n",
            "niter: 1, g_loss: [25.801050186157227, 0.6988168954849243, 0.627322256565094, 0.009343091398477554], d_loss: 0.7242671847343445\n",
            "niter: 101, g_loss: [5.688418865203857, 0.10533004999160767, 0.1389373540878296, 0.025594476610422134], d_loss: 0.10776001214981079\n",
            "niter: 201, g_loss: [4.354706287384033, 0.05238741636276245, 0.10733435302972794, 0.008944593369960785], d_loss: 0.04299122467637062\n",
            "niter: 301, g_loss: [3.825289487838745, 0.1048942506313324, 0.09283971786499023, 0.006806552410125732], d_loss: 0.08553214371204376\n",
            "niter: 401, g_loss: [3.3745384216308594, 0.1380835622549057, 0.08077793568372726, 0.005337413866072893], d_loss: 0.10362118482589722\n",
            "niter: 501, g_loss: [3.1927483081817627, 0.07516993582248688, 0.0777934193611145, 0.005841678939759731], d_loss: 0.07322102040052414\n",
            "niter: 601, g_loss: [2.9358413219451904, 0.014414272271096706, 0.07291395962238312, 0.004868794232606888], d_loss: 0.01952500082552433\n",
            "niter: 701, g_loss: [3.1105101108551025, 0.05163437873125076, 0.0763138085603714, 0.00632355734705925], d_loss: 0.05707413703203201\n",
            "niter: 801, g_loss: [2.7420239448547363, 0.03749028220772743, 0.06750957667827606, 0.004150578752160072], d_loss: 0.04740285128355026\n",
            "niter: 901, g_loss: [2.5642495155334473, 0.06627877056598663, 0.062377654016017914, 0.0028645023703575134], d_loss: 0.054196059703826904\n",
            "LATloss: (5412,)\n",
            "RECloss: (5412,)\n",
            "Scores: (5412,)\n",
            "Scores of Normal and Abnormal: (4920,) (492,)\n",
            "Optimal threshold for best AUC: 0.14690822059785477 TPR-FPR= 0.8199186991869919\n",
            "Optimal threshold for best AUPRC: 0.5443366093699166 f-score= 0.8856502242152466\n",
            "run: 8\n",
            "train: (279395, 29) (279395,) ;  test: (5412, 29) (5412,)\n",
            "niter: 1, g_loss: [27.226648330688477, 0.6990034580230713, 0.6628938913345337, 0.011890117079019547], d_loss: 0.6800434589385986\n",
            "niter: 101, g_loss: [5.444794654846191, 0.18179301917552948, 0.13123852014541626, 0.013460968621075153], d_loss: 0.13797523081302643\n",
            "niter: 201, g_loss: [4.296321868896484, 0.022152019664645195, 0.10661806166172028, 0.00944751501083374], d_loss: 0.03026255965232849\n",
            "niter: 301, g_loss: [3.643239974975586, 0.11623179912567139, 0.08802174031734467, 0.0061384541913867], d_loss: 0.10333803296089172\n",
            "niter: 401, g_loss: [3.3093433380126953, 0.10944588482379913, 0.07987076789140701, 0.005066917277872562], d_loss: 0.09085774421691895\n",
            "niter: 501, g_loss: [3.433331251144409, 0.06737963855266571, 0.08396919816732407, 0.007183740846812725], d_loss: 0.04017363488674164\n",
            "niter: 601, g_loss: [2.9078121185302734, 0.050517745316028595, 0.07134030759334564, 0.003681955859065056], d_loss: 0.05834586173295975\n",
            "niter: 701, g_loss: [2.8698863983154297, 0.020551582798361778, 0.0710987001657486, 0.005386844743043184], d_loss: 0.02812303975224495\n",
            "niter: 801, g_loss: [2.692639112472534, 0.0005461064865812659, 0.06721029430627823, 0.0036812899634242058], d_loss: 0.011338750831782818\n",
            "niter: 901, g_loss: [2.355015993118286, 0.03362954780459404, 0.05797683075070381, 0.0023132157512009144], d_loss: 0.034454986453056335\n",
            "LATloss: (5412,)\n",
            "RECloss: (5412,)\n",
            "Scores: (5412,)\n",
            "Scores of Normal and Abnormal: (4920,) (492,)\n",
            "Optimal threshold for best AUC: 0.13737577442574597 TPR-FPR= 0.8058943089430894\n",
            "Optimal threshold for best AUPRC: 0.5255029424444091 f-score= 0.883668903803132\n",
            "run: 9\n",
            "train: (279395, 29) (279395,) ;  test: (5412, 29) (5412,)\n",
            "niter: 1, g_loss: [26.706472396850586, 0.7023663520812988, 0.6497045159339905, 0.015925465151667595], d_loss: 0.7151282429695129\n",
            "niter: 101, g_loss: [5.606016635894775, 0.011147434823215008, 0.1394844353199005, 0.01549200713634491], d_loss: 0.03338056057691574\n",
            "niter: 201, g_loss: [4.473369121551514, 0.08759704232215881, 0.10942470282316208, 0.008783940225839615], d_loss: 0.08038926869630814\n",
            "niter: 301, g_loss: [3.828082799911499, 0.03010578081011772, 0.09474216401576996, 0.008290293626487255], d_loss: 0.048114530742168427\n",
            "niter: 401, g_loss: [3.5792133808135986, 0.03776270151138306, 0.08834407478570938, 0.007687685079872608], d_loss: 0.04406723752617836\n",
            "niter: 501, g_loss: [3.4243109226226807, 0.05132729932665825, 0.08417768031358719, 0.0058765774592757225], d_loss: 0.03082916885614395\n",
            "niter: 601, g_loss: [2.885584831237793, 0.08528761565685272, 0.06992273777723312, 0.00338768120855093], d_loss: 0.0692504420876503\n",
            "niter: 701, g_loss: [2.855717897415161, 0.019070599228143692, 0.07080379128456116, 0.004495666362345219], d_loss: 0.018329858779907227\n",
            "niter: 801, g_loss: [2.943707227706909, 0.16054008901119232, 0.06947658956050873, 0.00410335510969162], d_loss: 0.1527058184146881\n",
            "niter: 901, g_loss: [3.0763988494873047, 0.03192543610930443, 0.07588254660367966, 0.009171423502266407], d_loss: 0.058344047516584396\n",
            "LATloss: (5412,)\n",
            "RECloss: (5412,)\n",
            "Scores: (5412,)\n",
            "Scores of Normal and Abnormal: (4920,) (492,)\n",
            "Optimal threshold for best AUC: 0.24155881267639276 TPR-FPR= 0.8040650406504064\n",
            "Optimal threshold for best AUPRC: 0.5194721014178261 f-score= 0.8800000000000001\n",
            "run: 10\n",
            "train: (279395, 29) (279395,) ;  test: (5412, 29) (5412,)\n",
            "niter: 1, g_loss: [26.397302627563477, 0.7014318108558655, 0.6420963406562805, 0.01201716996729374], d_loss: 0.7021342515945435\n",
            "niter: 101, g_loss: [5.976461410522461, 0.10264164209365845, 0.14630137383937836, 0.021764852106571198], d_loss: 0.09238465130329132\n",
            "niter: 201, g_loss: [4.523700714111328, 0.14697781205177307, 0.10906066745519638, 0.01429598405957222], d_loss: 0.12744733691215515\n",
            "niter: 301, g_loss: [3.9964070320129395, 0.061060551553964615, 0.09793995320796967, 0.017748260870575905], d_loss: 0.05566840246319771\n",
            "niter: 401, g_loss: [3.333587646484375, 0.1327017843723297, 0.07985661178827286, 0.006621440406888723], d_loss: 0.1477632224559784\n",
            "niter: 501, g_loss: [3.1512584686279297, 0.022140903398394585, 0.0780773013830185, 0.006025487557053566], d_loss: 0.02628234401345253\n",
            "niter: 601, g_loss: [2.8505196571350098, 0.0629720464348793, 0.06958630681037903, 0.0040952665731310844], d_loss: 0.053210075944662094\n",
            "niter: 701, g_loss: [2.8788065910339355, 0.01584317348897457, 0.07145688682794571, 0.004688001237809658], d_loss: 0.032965101301670074\n",
            "niter: 801, g_loss: [2.5244383811950684, 0.01803535223007202, 0.06257926672697067, 0.0032322967890650034], d_loss: 0.027653556317090988\n",
            "niter: 901, g_loss: [2.5346410274505615, 0.01426769606769085, 0.06292346864938736, 0.0034346752800047398], d_loss: 0.05590914189815521\n",
            "LATloss: (5412,)\n",
            "RECloss: (5412,)\n",
            "Scores: (5412,)\n",
            "Scores of Normal and Abnormal: (4920,) (492,)\n",
            "Optimal threshold for best AUC: 0.13039518475084885 TPR-FPR= 0.816260162601626\n",
            "Optimal threshold for best AUPRC: 0.542955274744677 f-score= 0.88268156424581\n"
          ]
        }
      ],
      "source": [
        "TOTAL_RUN = 10\n",
        "run = 1\n",
        "\n",
        "for run in range(1,TOTAL_RUN+1):\n",
        "    g_e = define_GE()\n",
        "    g = define_G(g_e)\n",
        "    d = define_D()\n",
        "    gan_trainer = define_gan_trainer()\n",
        "    \n",
        "    print('run: {!r}'.format(run))\n",
        "    datasets = np.load('data/Runs/{!s}_{!s}_Runs/Run_{!s}.npz'.format(RAT,TOTAL_RUN, run))\n",
        "    x_train, y_train = datasets['trainX'], datasets['trainY']\n",
        "    x_test, y_test = datasets['testX'], datasets['testY']\n",
        "    print('train:',x_train.shape,y_train.shape,'; ','test:',x_test.shape,y_test.shape)\n",
        "    train(x_train=x_train)\n",
        "    evaluation(x_test=x_test, y_test=y_test)\n",
        "    run+=1"
      ]
    },
    {
      "cell_type": "markdown",
      "metadata": {},
      "source": [
        "# Retrain\n",
        "* [back to model](#model)"
      ]
    },
    {
      "cell_type": "markdown",
      "metadata": {},
      "source": [
        "# AUC and PR curve"
      ]
    },
    {
      "cell_type": "code",
      "execution_count": 14,
      "metadata": {},
      "outputs": [
        {
          "name": "stdout",
          "output_type": "stream",
          "text": [
            "0.5\n"
          ]
        },
        {
          "data": {
            "image/png": "[encoded data removed]",
            "text/plain": [
              "<Figure size 432x288 with 2 Axes>"
            ]
          },
          "metadata": {
            "needs_background": "light"
          },
          "output_type": "display_data"
        },
        {
          "name": "stdout",
          "output_type": "stream",
          "text": [
            "Average AUC score =  0.9581715579350915\n",
            "Average AUPRC score =  0.8894122157639538\n",
            "Average f1 score =  0.8832814057092586\n",
            "Average recall =  0.8028455284552845\n",
            "Average precision =  0.9816540237191858\n",
            "Average accuracy =  0.9805247597930526\n",
            "[{'AUC': 0.18430720622481483, 'PRC': 0.5535156963611534}, {'AUC': 0.09884113422655753, 'PRC': 0.5003288144140763}, {'AUC': 0.13996314412483374, 'PRC': 0.5345282276865972}, {'AUC': 0.12655128883804342, 'PRC': 0.534070058192057}, {'AUC': 0.13309061273554393, 'PRC': 0.4111144823764121}, {'AUC': 0.14265425440642046, 'PRC': 0.5560931162625548}, {'AUC': 0.14690822059785477, 'PRC': 0.5443366093699166}, {'AUC': 0.13737577442574597, 'PRC': 0.5255029424444091}, {'AUC': 0.24155881267639276, 'PRC': 0.5194721014178261}, {'AUC': 0.13039518475084885, 'PRC': 0.542955274744677}]\n"
          ]
        }
      ],
      "source": [
        "rcParams['figure.figsize'] = 20, 5\n",
        "#plot\n",
        "fig, ax=plt.subplots(1,2)\n",
        "proportion_of_abn = 0.5\n",
        "\n",
        "colors = ['orange','purple','green','lime','black','yellow','brown','pink','blue','lightblue']\n",
        "print(proportion_of_abn)\n",
        "\n",
        "\n",
        "for i in range(len(TPR_res)):\n",
        "    tpr, fpr = TPR_res[i], FPR_res[i]\n",
        "    precision, recall = P_res[i], R_res[i]\n",
        "    auc_score, auprc_score = AUC_res[i], AUPRC_res[i]\n",
        "    indicator = colors[i]\n",
        "\n",
        "    #ROC curve\n",
        "    ax[0].plot(fpr, tpr, color = indicator, label = '%0.4f' % auc_score)\n",
        "    ax[0].legend(loc = 'lower right')\n",
        "\n",
        "    #PR curve\n",
        "    ax[1].plot(recall, precision, color = indicator, label='%0.4f' % auprc_score)\n",
        "    ax[1].legend(loc = 'lower right')\n",
        "    \n",
        "\n",
        "\n",
        "ax[0].set_title('Receiver Operating Characteristic')\n",
        "ax[0].plot([0, 1], [0, 1],'r--')\n",
        "ax[0].set_xlim([0, 1])\n",
        "ax[0].set_ylim([0, 1])\n",
        "ax[0].set_ylabel('True Positive Rate')\n",
        "ax[0].set_xlabel('False Positive Rate')\n",
        "\n",
        "ax[1].set_title('Precision-Recall Curve')\n",
        "ax[1].plot([0, 1], [proportion_of_abn, proportion_of_abn],'r--')\n",
        "ax[1].plot([0, 1], [proportion_of_abn, proportion_of_abn],'r--')\n",
        "ax[1].set_xlim([0, 1])\n",
        "ax[1].set_ylim([0, 1])\n",
        "ax[1].set_ylabel('Precision')\n",
        "ax[1].set_xlabel('Recall')\n",
        "plt.show()\n",
        "\n",
        "#calculate average AUC and AUPRC score\n",
        "print('Average AUC score = ',sum(AUC_res) / TOTAL_RUN)\n",
        "print('Average AUPRC score = ',sum(AUPRC_res) / TOTAL_RUN)\n",
        "print('Average f1 score = ',sum(fscore_res) / TOTAL_RUN)\n",
        "print('Average recall = ',sum(recall_res) / TOTAL_RUN)\n",
        "print('Average precision = ',sum(precision_res) / TOTAL_RUN)\n",
        "print('Average accuracy = ', sum(accuracies)/TOTAL_RUN)\n",
        "\n",
        "print(THR_opt)\n",
        "\n",
        "#print optnimal thresholds of 10 folds\n",
        "#print(THR_opt)"
      ]
    },
    {
      "cell_type": "code",
      "execution_count": 16,
      "metadata": {},
      "outputs": [],
      "source": [
        "TPR_maxlen = FPR_maxlen = P_maxlen = R_maxlen = 0\n",
        "\n",
        "for i in range(len(TPR_res)):\n",
        "    if TPR_maxlen < len(TPR_res[i]): TPR_maxlen = len(TPR_res[i])\n",
        "    if FPR_maxlen < len(FPR_res[i]): FPR_maxlen = len(FPR_res[i])\n",
        "    if P_maxlen < len(P_res[i]): P_maxlen = len(P_res[i])\n",
        "    if R_maxlen < len(R_res[i]): R_maxlen = len(R_res[i])\n",
        "\n",
        "def AddOn(addTo,data,row, dataLen):\n",
        "    tmp = data[0]\n",
        "    for i in range(dataLen):\n",
        "        if i<len(data[row]) and data[row][i] is not np.nan: tmp = data[row][i]\n",
        "        addTo[i]+=tmp\n",
        "\n",
        "def AVG(data):\n",
        "    return (data / TOTAL_RUN).tolist()\n",
        "TPR_avg, FPR_avg, P_avg, R_avg = np.zeros((TPR_maxlen)), np.zeros((FPR_maxlen)), np.zeros((P_maxlen)), np.zeros((R_maxlen))\n",
        "\n",
        "for i in range(len(TPR_res)):\n",
        "    AddOn(TPR_avg, TPR_res, i, TPR_maxlen)\n",
        "    AddOn(FPR_avg, FPR_res, i, FPR_maxlen)\n",
        "    AddOn(P_avg, P_res, i, P_maxlen)\n",
        "    AddOn(R_avg, R_res, i, R_maxlen)\n",
        "    \n",
        "TPR_avg, FPR_avg, P_avg, R_avg = AVG(TPR_avg), AVG(FPR_avg), AVG(P_avg), AVG(R_avg)"
      ]
    },
    {
      "attachments": {},
      "cell_type": "markdown",
      "metadata": {},
      "source": [
        "# Save Result to json"
      ]
    },
    {
      "cell_type": "code",
      "execution_count": 17,
      "metadata": {},
      "outputs": [],
      "source": [
        "import json\n",
        "\n",
        "with open('data/Runs/{!s}_{!s}_Runs/result.json'.format(RAT,TOTAL_RUN, run), \"r\", encoding='utf-8') as jsonFile:\n",
        "    data = json.load(jsonFile)\n",
        "\n",
        "with open('data/Runs/{!s}_{!s}_Runs/result.json'.format(RAT,TOTAL_RUN, run), 'w', encoding='utf-8') as jsonFile:\n",
        "    data['FinGANomaly_{!s}'.format(lat_weight)] = {\n",
        "            'AUC': AUC_res,\n",
        "            'AUPRC': AUPRC_res,\n",
        "            'Fscore': fscore_res,\n",
        "            'Recall': recall_res,\n",
        "            'Precision': precision_res,\n",
        "            'Accuracy': accuracies,\n",
        "            'THR_opt': THR_opt,\n",
        "            'AVG': {\n",
        "                'TPR': TPR_avg,\n",
        "                'FPR': FPR_avg,\n",
        "                'P': P_avg,\n",
        "                'R': R_avg\n",
        "            }\n",
        "        }\n",
        "    \n",
        "    json.dump(data, jsonFile, ensure_ascii=False)"
      ]
    },
    {
      "cell_type": "markdown",
      "metadata": {},
      "source": [
        "# End of Jupyter\n",
        "* [To top](#common-link)"
      ]
    }
  ],
  "metadata": {
    "accelerator": "GPU",
    "colab": {
      "name": "ganomaly",
      "provenance": [],
      "version": "0.3.2"
    },
    "kernelspec": {
      "display_name": "Python 3.8.3 ('base')",
      "language": "python",
      "name": "python3"
    },
    "language_info": {
      "codemirror_mode": {
        "name": "ipython",
        "version": 3
      },
      "file_extension": ".py",
      "mimetype": "text/x-python",
      "name": "python",
      "nbconvert_exporter": "python",
      "pygments_lexer": "ipython3",
      "version": "3.8.3"
    },
    "vscode": {
      "interpreter": {
        "hash": "ad2bdc8ecc057115af97d19610ffacc2b4e99fae6737bb82f5d7fb13d2f2c186"
      }
    }
  },
  "nbformat": 4,
  "nbformat_minor": 0
}
