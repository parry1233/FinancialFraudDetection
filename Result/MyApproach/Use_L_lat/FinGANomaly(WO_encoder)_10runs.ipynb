{
  "cells": [
    {
      "cell_type": "markdown",
      "metadata": {},
      "source": [
        "# Common link\n",
        "* [Load Data](#load-data)\n",
        "* [Split Data](#split-dataset)\n",
        "* [Model](#model)\n",
        "* [Evaluation](#evaluation)"
      ]
    },
    {
      "cell_type": "code",
      "execution_count": 19,
      "metadata": {},
      "outputs": [],
      "source": [
        "feature = 29"
      ]
    },
    {
      "cell_type": "markdown",
      "metadata": {},
      "source": [
        "# Model"
      ]
    },
    {
      "cell_type": "code",
      "execution_count": 20,
      "metadata": {
        "colab": {
          "base_uri": "https://localhost:8080/",
          "height": 34
        },
        "colab_type": "code",
        "id": "_fOFzTCbXTfi",
        "outputId": "4e0db446-6657-442e-a7e5-f81c198d1dee"
      },
      "outputs": [],
      "source": [
        "from tensorflow.keras import layers\n",
        "import tensorflow.keras as keras\n",
        "import tensorflow.keras.backend as K"
      ]
    },
    {
      "cell_type": "code",
      "execution_count": 21,
      "metadata": {},
      "outputs": [],
      "source": [
        "g_e, g, feature_extractor, d = None, None, None, None\n",
        "gan_trainer = None\n",
        "RAT = 1"
      ]
    },
    {
      "cell_type": "markdown",
      "metadata": {
        "colab_type": "text",
        "id": "9V6k5E4HX8ns"
      },
      "source": [
        "## Generators Encoder\n"
      ]
    },
    {
      "cell_type": "code",
      "execution_count": 22,
      "metadata": {
        "colab": {
          "base_uri": "https://localhost:8080/",
          "height": 819
        },
        "colab_type": "code",
        "id": "6SSgbWtgYFge",
        "outputId": "ffb3b7cc-871f-4ef6-b1cb-6f2eb6193249"
      },
      "outputs": [],
      "source": [
        "def define_GE():\n",
        "    input_layer = layers.Input(name='input', shape=(feature))\n",
        "    #x = layers.Reshape((height, width, channels), name='ge_reshape')(input_layer)\n",
        "\n",
        "    # Encoder\n",
        "    x = layers.Dense(1024, name='ge_dense_1')(input_layer)\n",
        "    x = layers.LeakyReLU(name='ge_leaky_1')(x)\n",
        "\n",
        "    x = layers.Dense(512, name='ge_dense_2')(x)\n",
        "    x = layers.LeakyReLU(name='ge_leaky_2')(x)\n",
        "\n",
        "    x = layers.Dense(256, name='ge_dense_3')(x)\n",
        "    x = layers.LeakyReLU(name='ge_leaky_3')(x)\n",
        "\n",
        "    x = layers.Dense(128, name='ge_dense_4')(x)\n",
        "    x = layers.LeakyReLU(name='ge_leaky_4')(x)\n",
        "\n",
        "    #x = layers.GlobalAveragePooling2D(name='g_encoder_output')(x)\n",
        "\n",
        "    g_e = keras.models.Model(inputs=input_layer, outputs=x)\n",
        "\n",
        "    #g_e.summary()\n",
        "    return g_e"
      ]
    },
    {
      "cell_type": "markdown",
      "metadata": {
        "colab_type": "text",
        "id": "CsFGE97WYMts"
      },
      "source": [
        "## Generator"
      ]
    },
    {
      "cell_type": "code",
      "execution_count": 23,
      "metadata": {
        "colab": {
          "base_uri": "https://localhost:8080/",
          "height": 510
        },
        "colab_type": "code",
        "id": "pivNg2CMYQwi",
        "outputId": "4281bfb2-df6d-4958-b3e5-dd75d06f866a"
      },
      "outputs": [],
      "source": [
        "def define_G(g_e):\n",
        "    input_layer = layers.Input(name='input', shape=(feature))\n",
        "\n",
        "    x = g_e(input_layer)\n",
        "\n",
        "    #y = layers.Reshape((height // 6, width // 6, 128), name='de_reshape1')(x) # 256 = 256 * (6/6) * (6/6) \n",
        "\n",
        "    y = layers.Dense(256, name='dense_1')(x)\n",
        "    y = layers.LeakyReLU(name='leaky_1')(y)\n",
        "\n",
        "    y = layers.Dense(512, name='dense_2')(y)\n",
        "    y = layers.LeakyReLU(name='leaky_2')(y)\n",
        "\n",
        "    y = layers.Dense(1024, name='dense_3')(y)\n",
        "    y = layers.LeakyReLU(name='leaky_3')(y)\n",
        "\n",
        "    y = layers.Dense(feature, name='dense_4')(y)\n",
        "    y = layers.LeakyReLU(name='leaky_4')(y)\n",
        "\n",
        "    #y = layers.Flatten()(y)\n",
        "    #y = layers.Dense(36, name='dense')(y)\n",
        "    #y = layers.Reshape((height, width, channels), name='de_reshape2')(y)\n",
        "\n",
        "    g = keras.models.Model(inputs=input_layer, outputs=y)\n",
        "\n",
        "    #g.summary()\n",
        "    \n",
        "    return g"
      ]
    },
    {
      "cell_type": "markdown",
      "metadata": {
        "colab_type": "text",
        "id": "pWWVBPizZctk"
      },
      "source": [
        "## discriminator"
      ]
    },
    {
      "cell_type": "code",
      "execution_count": 24,
      "metadata": {
        "colab": {
          "base_uri": "https://localhost:8080/",
          "height": 272
        },
        "colab_type": "code",
        "id": "xcJdjTerZbMN",
        "outputId": "837e9958-23db-408c-916e-2e0c23250d0f"
      },
      "outputs": [],
      "source": [
        "def define_D():\n",
        "    input_layer = layers.Input(name='input', shape=(feature))\n",
        "\n",
        "    f = layers.Dense(1024, name='f_dense_1')(input_layer)\n",
        "    f = layers.LeakyReLU(name='f_leaky_1')(f)\n",
        "\n",
        "    f = layers.Dense(512, name='f_dense_2')(f)\n",
        "    f = layers.LeakyReLU(name='f_leaky_2')(f)\n",
        "\n",
        "    f = layers.Dense(256, name='f_dense_3')(f)\n",
        "    f = layers.LeakyReLU(name='f_leaky_3')(f)\n",
        "\n",
        "    f = layers.Dense(128, name='f_dense_4')(f)\n",
        "    f = layers.LeakyReLU(name='feature_output')(f)\n",
        "    \n",
        "    #f = feature_extractor(input_layer)\n",
        "\n",
        "    #d = layers.Dense(16, name='d_dense_1')(f)\n",
        "    d = layers.Dense(1, activation='sigmoid', name='d_out')(f)\n",
        "        \n",
        "    d = keras.models.Model(input_layer, d)\n",
        "    #d.summary()\n",
        "    d.compile(optimizer='adam', loss='binary_crossentropy')\n",
        "    \n",
        "    return d"
      ]
    },
    {
      "cell_type": "markdown",
      "metadata": {
        "colab_type": "text",
        "id": "Z7HBx1GiZhm-"
      },
      "source": [
        "## gan trainer"
      ]
    },
    {
      "cell_type": "code",
      "execution_count": 25,
      "metadata": {
        "colab": {
          "base_uri": "https://localhost:8080/",
          "height": 71
        },
        "colab_type": "code",
        "id": "bosacIf7ZkZ4",
        "outputId": "341417b4-0771-466f-c9d0-68554e089f8e"
      },
      "outputs": [],
      "source": [
        "import tensorflow as tf\n",
        "class AdvLoss(keras.layers.Layer):\n",
        "    def __init__(self, **kwargs):\n",
        "        super(AdvLoss, self).__init__(**kwargs)\n",
        "\n",
        "    def call(self, x, mask=None):\n",
        "        y_pred = d(x[1])\n",
        "        y_true = tf.ones_like(y_pred)\n",
        "        return keras.losses.binary_crossentropy(y_true,y_pred)\n",
        "\n",
        "    def get_output_shape_for(self, input_shape):\n",
        "        return (input_shape[0][0], 1)\n",
        "    \n",
        "class CntLoss(keras.layers.Layer):\n",
        "    def __init__(self, **kwargs):\n",
        "        super(CntLoss, self).__init__(**kwargs)\n",
        "\n",
        "    def call(self, x, mask=None):\n",
        "        ori = x[0]\n",
        "        gan = x[1]\n",
        "        return K.mean(K.abs(ori - gan))\n",
        "\n",
        "    def get_output_shape_for(self, input_shape):\n",
        "        return (input_shape[0][0], 1)\n",
        "    \n",
        "class EncLoss(keras.layers.Layer):\n",
        "    def __init__(self, **kwargs):\n",
        "        super(EncLoss, self).__init__(**kwargs)\n",
        "\n",
        "    def call(self, x, mask=None):\n",
        "        ori = x[0]\n",
        "        gan = x[1]\n",
        "        return K.mean(K.square(g_e(ori) - g_e(gan)))\n",
        "\n",
        "    def get_output_shape_for(self, input_shape):\n",
        "        return (input_shape[0][0], 1)\n",
        "\n",
        "# loss function\n",
        "def loss(yt, yp):\n",
        "    return yp"
      ]
    },
    {
      "cell_type": "code",
      "execution_count": 26,
      "metadata": {},
      "outputs": [],
      "source": [
        "def define_gan_trainer():\n",
        "    # model for training\n",
        "    input_layer = layers.Input(name='input', shape=(feature))\n",
        "    gan = g(input_layer) # g(x)\n",
        "\n",
        "    adv_loss = AdvLoss(name='adv_loss')([input_layer, gan])\n",
        "    cnt_loss = CntLoss(name='cnt_loss')([input_layer, gan])\n",
        "    enc_loss = EncLoss(name='enc_loss')([input_layer, gan])\n",
        "\n",
        "    gan_trainer = keras.models.Model(input_layer, [adv_loss, cnt_loss, enc_loss])\n",
        "\n",
        "    losses = {\n",
        "        'adv_loss': loss,\n",
        "        'cnt_loss': loss,\n",
        "        'enc_loss': loss,\n",
        "    }\n",
        "\n",
        "    lossWeights = {'cnt_loss': 40.0, 'adv_loss': 1.0, 'enc_loss': 1.0}\n",
        "    \n",
        "    # compile\n",
        "    gan_trainer.compile(optimizer = 'adam', loss=losses, loss_weights=lossWeights)\n",
        "    #gan_trainer.summary()\n",
        "    \n",
        "    return gan_trainer"
      ]
    },
    {
      "cell_type": "markdown",
      "metadata": {
        "colab_type": "text",
        "id": "dxPzCEC1bFMR"
      },
      "source": [
        "# Training"
      ]
    },
    {
      "cell_type": "code",
      "execution_count": 27,
      "metadata": {},
      "outputs": [],
      "source": [
        "import numpy as np\n",
        "niter = 1000\n",
        "bz = 512"
      ]
    },
    {
      "cell_type": "code",
      "execution_count": 28,
      "metadata": {
        "colab": {},
        "colab_type": "code",
        "id": "53rLCTe3a8LY"
      },
      "outputs": [],
      "source": [
        "def get_data_generator(data, batch_size=32):\n",
        "    datalen = len(data)\n",
        "    cnt = 0\n",
        "    while True:\n",
        "        idxes = np.arange(datalen)\n",
        "        np.random.shuffle(idxes)\n",
        "        cnt += 1\n",
        "        for i in range(int(np.ceil(datalen/batch_size))):\n",
        "            train_x = np.take(data, idxes[i*batch_size: (i+1) * batch_size], axis=0)\n",
        "            y = np.ones(len(train_x))\n",
        "            yield train_x, [y, y, y]"
      ]
    },
    {
      "cell_type": "code",
      "execution_count": 29,
      "metadata": {},
      "outputs": [],
      "source": [
        "def train(x_train):\n",
        "    train_data_generator = get_data_generator(x_train, bz)\n",
        "    for i in range(niter):\n",
        "        \n",
        "        ### get batch x, y ###\n",
        "        x, y = train_data_generator.__next__()\n",
        "            \n",
        "        ### train disciminator ###\n",
        "        d.trainable = True\n",
        "\n",
        "        #print(x.shape)\n",
        "            \n",
        "        fake_x = g.predict(x)\n",
        "            \n",
        "        d_x = np.concatenate([x, fake_x], axis=0)\n",
        "        d_y = np.concatenate([np.zeros(len(x)), np.ones(len(fake_x))], axis=0)\n",
        "            \n",
        "        d_loss = d.train_on_batch(d_x, d_y)\n",
        "\n",
        "        ### train generator ###\n",
        "        \n",
        "        d.trainable = False        \n",
        "        g_loss = gan_trainer.train_on_batch(x, y)\n",
        "        \n",
        "        if i % 100 == 0:\n",
        "            print(f'niter: {i+1}, g_loss: {g_loss}, d_loss: {d_loss}')"
      ]
    },
    {
      "cell_type": "markdown",
      "metadata": {
        "colab_type": "text",
        "id": "0cHDcccacdST"
      },
      "source": [
        "# Evaluation"
      ]
    },
    {
      "cell_type": "code",
      "execution_count": 30,
      "metadata": {
        "colab": {},
        "colab_type": "code",
        "id": "UXAufnuIbuvF"
      },
      "outputs": [],
      "source": [
        "from matplotlib import pyplot as plt\n",
        "from pylab import rcParams\n",
        "from sklearn.metrics import roc_curve, roc_auc_score, precision_recall_curve, auc, average_precision_score\n",
        "from sklearn import metrics\n",
        "from sklearn.metrics import classification_report, confusion_matrix\n",
        "import seaborn as sns\n",
        "\n",
        "TPR_res, FPR_res, P_res, R_res = [], [], [], []\n",
        "AUC_res, AUPRC_res = [], []\n",
        "accuracies, fscore_res, recall_res, precision_res = [], [], [], []\n",
        "reports = []\n",
        "scores = []\n",
        "THR_opt = []\n",
        "\n",
        "lat_weight = 0.1\n",
        "recons_weight = 1-lat_weight\n",
        "\n",
        "def evaluation(x_test,y_test):\n",
        "    encoded = g_e.predict(x_test)\n",
        "    gan_x = g.predict(x_test)\n",
        "    encoded_gan = g_e.predict(gan_x)\n",
        "    recons_loss = np.mean(np.absolute(gan_x - x_test), axis=-1)\n",
        "    lat_loss = np.mean(np.square(encoded - encoded_gan), axis=-1)\n",
        "    print('LATloss:',lat_loss.shape)\n",
        "    print('RECloss:',recons_loss.shape)\n",
        "    score = lat_weight*lat_loss + recons_weight*recons_loss\n",
        "    #score = (score - np.min(score)) / (np.max(score) - np.min(score)) # map to 0~1\n",
        "    print('Scores:',score.shape)\n",
        "    score = score.reshape(len(score))\n",
        "\n",
        "    nScore, abnScore = score[y_test==0], score[y_test==1]\n",
        "    print('Scores of Normal and Abnormal:',nScore.shape,abnScore.shape)\n",
        "    scores.append([nScore,abnScore])\n",
        "\n",
        "\n",
        "    score = score.reshape(len(score))\n",
        "    fpr, tpr, threshold_auc = roc_curve(y_score=score, y_true=y_test, pos_label=1)\n",
        "    TPR_res.append(tpr)\n",
        "    FPR_res.append(fpr)\n",
        "    precision, recall, threshold_prc = precision_recall_curve(probas_pred=score, y_true=y_test, pos_label=1)\n",
        "    P_res.append(precision)\n",
        "    R_res.append(recall)\n",
        "\n",
        "    auc_score = auc(fpr,tpr)\n",
        "    auprc_score = auc(recall, precision)\n",
        "    AUC_res.append(auc_score)\n",
        "    AUPRC_res.append(auprc_score)\n",
        "\n",
        "\n",
        "    # optimal cut off point would be where “true positive rate” is high and the “false positive rate” is low.\n",
        "    J = tpr - fpr\n",
        "    ix1 = np.argmax(J)\n",
        "    optimal_threshold = threshold_auc[ix1]\n",
        "    #optimal_threshold = sorted(list(zip(np.sqrt(tpr-fpr), threshold_auc)), key=lambda i: i[0], reverse=False)[0][1]\n",
        "    print('Optimal threshold for best AUC:',optimal_threshold, 'TPR-FPR=',J[ix1])\n",
        "\n",
        "    fscore = (2 * precision * recall) / (precision + recall)\n",
        "    ix2 = np.nanargmax(fscore)\n",
        "    optimal_prc_threshold = threshold_prc[ix2]\n",
        "    #optimal_prc_threshold = sorted(list(zip(np.abs(precision - recall), threshold_prc)), key=lambda i: i[0], reverse=False)[0][1]\n",
        "    print('Optimal threshold for best AUPRC:',optimal_prc_threshold,'f-score=', fscore[ix2])\n",
        "    \n",
        "    fscore_res.append(fscore[ix2])\n",
        "    recall_res.append(recall[ix2])\n",
        "    precision_res.append(precision[ix2])\n",
        "\n",
        "    THR_opt.append({'AUC':optimal_threshold, 'PRC':optimal_prc_threshold})\n",
        "    \n",
        "    yTest_predict = [0 if s<=optimal_prc_threshold else 1 for s in score]\n",
        "    class_report = classification_report(y_pred=yTest_predict, y_true=y_test, digits=4, output_dict=True)\n",
        "    \n",
        "    reports.append(class_report)\n",
        "    accuracies.append(class_report['accuracy'])\n"
      ]
    },
    {
      "cell_type": "markdown",
      "metadata": {},
      "source": [
        "# K-Fold Train"
      ]
    },
    {
      "cell_type": "code",
      "execution_count": 31,
      "metadata": {},
      "outputs": [
        {
          "name": "stdout",
          "output_type": "stream",
          "text": [
            "run: 1\n",
            "train: (283823, 29) (283823,) ;  test: (984, 29) (984,)\n",
            "niter: 1, g_loss: [27.515274047851562, 0.7032411098480225, 0.6696256399154663, 0.027006208896636963], d_loss: 0.6892255544662476\n",
            "niter: 101, g_loss: [5.455972671508789, 0.04631636291742325, 0.13488489389419556, 0.014260396361351013], d_loss: 0.0633227676153183\n",
            "niter: 201, g_loss: [4.707869529724121, 0.10051792114973068, 0.11486763507127762, 0.01264619454741478], d_loss: 0.093739353120327\n",
            "niter: 301, g_loss: [3.774503231048584, 0.11068297922611237, 0.09143160283565521, 0.006556129083037376], d_loss: 0.087788425385952\n",
            "niter: 401, g_loss: [3.7263011932373047, 0.07914160937070847, 0.09096185117959976, 0.00868557021021843], d_loss: 0.08010924607515335\n",
            "niter: 501, g_loss: [3.603039026260376, 0.05071075260639191, 0.08852244913578033, 0.01143051777034998], d_loss: 0.04179781302809715\n",
            "niter: 601, g_loss: [3.1119742393493652, 0.050047826021909714, 0.07645311206579208, 0.003801938146352768], d_loss: 0.03957212343811989\n",
            "niter: 701, g_loss: [2.8874619007110596, 0.02169710211455822, 0.0715460255742073, 0.003923717886209488], d_loss: 0.031457580626010895\n",
            "niter: 801, g_loss: [2.68801212310791, 0.035951998084783554, 0.06622219830751419, 0.0031722011044621468], d_loss: 0.043198976665735245\n",
            "niter: 901, g_loss: [2.4777603149414062, 0.0750322937965393, 0.06000451743602753, 0.0025472245179116726], d_loss: 0.0594647154211998\n",
            "LATloss: (984,)\n",
            "RECloss: (984,)\n",
            "Scores: (984,)\n",
            "Scores of Normal and Abnormal: (492,) (492,)\n",
            "Optimal threshold for best AUC: 0.2495161909467514 TPR-FPR= 0.8130081300813008\n",
            "Optimal threshold for best AUPRC: 0.1371019320116078 f-score= 0.8987068965517241\n",
            "run: 2\n",
            "train: (283823, 29) (283823,) ;  test: (984, 29) (984,)\n",
            "niter: 1, g_loss: [26.54364013671875, 0.7012559175491333, 0.6457590460777283, 0.012022617273032665], d_loss: 0.6739369630813599\n",
            "niter: 101, g_loss: [6.030105113983154, 0.08102608472108841, 0.14828163385391235, 0.017813589423894882], d_loss: 0.05933406576514244\n",
            "niter: 201, g_loss: [4.382573127746582, 0.16026932001113892, 0.10527262091636658, 0.011398734524846077], d_loss: 0.116238534450531\n",
            "niter: 301, g_loss: [3.978940486907959, 0.049386244267225266, 0.09801650792360306, 0.008893954567611217], d_loss: 0.048867806792259216\n",
            "niter: 401, g_loss: [3.551701784133911, 0.002681848593056202, 0.08853485435247421, 0.0076256790198385715], d_loss: 0.014224844053387642\n",
            "niter: 501, g_loss: [3.305382490158081, 0.043356362730264664, 0.08134636282920837, 0.008171679452061653], d_loss: 0.0327780619263649\n",
            "niter: 601, g_loss: [3.003359317779541, 0.000308212882373482, 0.07495441287755966, 0.004874483682215214], d_loss: 0.02101658284664154\n",
            "niter: 701, g_loss: [2.8337342739105225, 0.03517356142401695, 0.06984826922416687, 0.004629961214959621], d_loss: 0.03170163556933403\n",
            "niter: 801, g_loss: [2.9934134483337402, 0.09375830739736557, 0.07237944006919861, 0.004477431066334248], d_loss: 0.07624045014381409\n",
            "niter: 901, g_loss: [2.691946506500244, 0.08324732631444931, 0.06513754278421402, 0.0031974459998309612], d_loss: 0.05362836271524429\n",
            "LATloss: (984,)\n",
            "RECloss: (984,)\n",
            "Scores: (984,)\n",
            "Scores of Normal and Abnormal: (492,) (492,)\n",
            "Optimal threshold for best AUC: 0.12167239901335553 TPR-FPR= 0.8252032520325203\n",
            "Optimal threshold for best AUPRC: 0.08947311955994149 f-score= 0.90738813735692\n",
            "run: 3\n",
            "train: (283823, 29) (283823,) ;  test: (984, 29) (984,)\n",
            "niter: 1, g_loss: [27.45914649963379, 0.6998538374900818, 0.6686483025550842, 0.013360177166759968], d_loss: 0.649003267288208\n",
            "niter: 101, g_loss: [6.1882429122924805, 0.11893657594919205, 0.15114198625087738, 0.023626528680324554], d_loss: 0.09483921527862549\n",
            "niter: 201, g_loss: [4.721085548400879, 0.09917458146810532, 0.11527284979820251, 0.010996656492352486], d_loss: 0.07870069891214371\n",
            "niter: 301, g_loss: [4.02265739440918, 0.04985266923904419, 0.0990244448184967, 0.011827091686427593], d_loss: 0.04878482222557068\n",
            "niter: 401, g_loss: [3.5592141151428223, 0.025232475250959396, 0.08804239332675934, 0.012285984121263027], d_loss: 0.03428691253066063\n",
            "niter: 501, g_loss: [3.0667080879211426, 0.09165084362030029, 0.0742698386311531, 0.004263786599040031], d_loss: 0.05919064208865166\n",
            "niter: 601, g_loss: [2.8218953609466553, 0.013228616677224636, 0.07012858241796494, 0.0035233451053500175], d_loss: 0.012869026511907578\n",
            "niter: 701, g_loss: [2.6370043754577637, 0.026381319388747215, 0.06518358737230301, 0.0032797283492982388], d_loss: 0.03732459992170334\n",
            "niter: 801, g_loss: [2.6501691341400146, 0.005628230515867472, 0.06602095067501068, 0.003702771384268999], d_loss: 0.014165989123284817\n",
            "niter: 901, g_loss: [2.4904041290283203, 0.030847707763314247, 0.06141626462340355, 0.0029060333035886288], d_loss: 0.024409256875514984\n",
            "LATloss: (984,)\n",
            "RECloss: (984,)\n",
            "Scores: (984,)\n",
            "Scores of Normal and Abnormal: (492,) (492,)\n",
            "Optimal threshold for best AUC: 0.08832710110352851 TPR-FPR= 0.8130081300813008\n",
            "Optimal threshold for best AUPRC: 0.08598519590914168 f-score= 0.9065040650406504\n",
            "run: 4\n",
            "train: (283823, 29) (283823,) ;  test: (984, 29) (984,)\n",
            "niter: 1, g_loss: [26.2811279296875, 0.7000628709793091, 0.6392308473587036, 0.011832818388938904], d_loss: 0.6997826099395752\n",
            "niter: 101, g_loss: [6.433605670928955, 0.11745620518922806, 0.15568366646766663, 0.08880297839641571], d_loss: 0.08567454665899277\n",
            "niter: 201, g_loss: [4.330643653869629, 0.056536220014095306, 0.10662759840488434, 0.009003785438835621], d_loss: 0.05553916469216347\n",
            "niter: 301, g_loss: [4.131442070007324, 0.1277637481689453, 0.09988585859537125, 0.008243946358561516], d_loss: 0.08739440888166428\n",
            "niter: 401, g_loss: [3.4015793800354004, 0.10954785346984863, 0.08213473856449127, 0.006642197258770466], d_loss: 0.09847628325223923\n",
            "niter: 501, g_loss: [3.582988739013672, 0.08491446822881699, 0.08729217946529388, 0.006387030705809593], d_loss: 0.05486626178026199\n",
            "niter: 601, g_loss: [3.007875680923462, 0.0624513179063797, 0.07352683693170547, 0.004350925795733929], d_loss: 0.049322403967380524\n",
            "niter: 701, g_loss: [2.7375025749206543, 0.000548354524653405, 0.06831498444080353, 0.004354916978627443], d_loss: 0.012511119246482849\n",
            "niter: 801, g_loss: [2.8064751625061035, 0.1582120656967163, 0.0660896971821785, 0.004675268195569515], d_loss: 0.14144538342952728\n",
            "niter: 901, g_loss: [2.530653476715088, 0.013409378938376904, 0.06286128610372543, 0.0027926356997340918], d_loss: 0.023951789364218712\n",
            "LATloss: (984,)\n",
            "RECloss: (984,)\n",
            "Scores: (984,)\n",
            "Scores of Normal and Abnormal: (492,) (492,)\n",
            "Optimal threshold for best AUC: 0.13300572432285288 TPR-FPR= 0.8394308943089431\n",
            "Optimal threshold for best AUPRC: 0.13300572432285288 f-score= 0.9136612021857924\n",
            "run: 5\n",
            "train: (283823, 29) (283823,) ;  test: (984, 29) (984,)\n",
            "niter: 1, g_loss: [25.91692352294922, 0.6994119882583618, 0.6301307678222656, 0.01228034496307373], d_loss: 0.7203901410102844\n",
            "niter: 101, g_loss: [5.736783981323242, 0.1837175041437149, 0.13839587569236755, 0.01723136007785797], d_loss: 0.1553807556629181\n",
            "niter: 201, g_loss: [4.591917991638184, 0.07030220329761505, 0.11268901079893112, 0.01405535638332367], d_loss: 0.06277067214250565\n",
            "niter: 301, g_loss: [4.111461639404297, 0.03083716332912445, 0.10170695185661316, 0.012345938012003899], d_loss: 0.03218108043074608\n",
            "niter: 401, g_loss: [4.063192367553711, 0.12439949810504913, 0.09808801859617233, 0.015272284857928753], d_loss: 0.09442704916000366\n",
            "niter: 501, g_loss: [3.1289126873016357, 0.11419334262609482, 0.07524704933166504, 0.00483732670545578], d_loss: 0.10065508633852005\n",
            "niter: 601, g_loss: [3.0286459922790527, 0.011234141886234283, 0.0753302052617073, 0.004203794524073601], d_loss: 0.017820606008172035\n",
            "niter: 701, g_loss: [2.6905364990234375, 0.09141089022159576, 0.06490021198987961, 0.003117075888440013], d_loss: 0.10820025950670242\n",
            "niter: 801, g_loss: [2.8357224464416504, 0.0865170881152153, 0.06863881647586823, 0.003652940969914198], d_loss: 0.06830383092164993\n",
            "niter: 901, g_loss: [2.515683650970459, 0.06781252473592758, 0.06111593171954155, 0.0032338947057724], d_loss: 0.06394241005182266\n",
            "LATloss: (984,)\n",
            "RECloss: (984,)\n",
            "Scores: (984,)\n",
            "Scores of Normal and Abnormal: (492,) (492,)\n",
            "Optimal threshold for best AUC: 0.18128823772860933 TPR-FPR= 0.806910569105691\n",
            "Optimal threshold for best AUPRC: 0.10430245967119421 f-score= 0.8956796628029504\n",
            "run: 6\n",
            "train: (283823, 29) (283823,) ;  test: (984, 29) (984,)\n",
            "niter: 1, g_loss: [27.57994270324707, 0.6980534791946411, 0.6717334985733032, 0.012551004998385906], d_loss: 0.691867470741272\n",
            "niter: 101, g_loss: [5.7944016456604, 0.14134158194065094, 0.1409245729446411, 0.01607721485197544], d_loss: 0.12325562536716461\n",
            "niter: 201, g_loss: [4.725809574127197, 0.03316664695739746, 0.11698056757450104, 0.013420573435723782], d_loss: 0.033382512629032135\n",
            "niter: 301, g_loss: [3.9797277450561523, 0.16122829914093018, 0.09528905153274536, 0.006937404163181782], d_loss: 0.11323244869709015\n",
            "niter: 401, g_loss: [3.4643733501434326, 0.015049361623823643, 0.08600065857172012, 0.009297698736190796], d_loss: 0.02744758501648903\n",
            "niter: 501, g_loss: [2.914726972579956, 0.029270458966493607, 0.07203248143196106, 0.004157241899520159], d_loss: 0.10315088927745819\n",
            "niter: 601, g_loss: [2.844170570373535, 0.016450893133878708, 0.07059211283922195, 0.004035297315567732], d_loss: 0.026365667581558228\n",
            "niter: 701, g_loss: [2.921572685241699, 0.04587751626968384, 0.07178854197263718, 0.004153326619416475], d_loss: 0.03510687127709389\n",
            "niter: 801, g_loss: [2.5241620540618896, 0.00420422712340951, 0.06292258203029633, 0.0030544321052730083], d_loss: 0.009371678344905376\n",
            "niter: 901, g_loss: [2.8421592712402344, 0.007612104527652264, 0.07077553123235703, 0.0035257732961326838], d_loss: 0.013609039597213268\n",
            "LATloss: (984,)\n",
            "RECloss: (984,)\n",
            "Scores: (984,)\n",
            "Scores of Normal and Abnormal: (492,) (492,)\n",
            "Optimal threshold for best AUC: 0.11368788698151326 TPR-FPR= 0.8272357723577235\n",
            "Optimal threshold for best AUPRC: 0.11368788698151326 f-score= 0.909090909090909\n",
            "run: 7\n",
            "train: (283823, 29) (283823,) ;  test: (984, 29) (984,)\n",
            "niter: 1, g_loss: [26.994962692260742, 0.6992087960243225, 0.6570355892181396, 0.01432950422167778], d_loss: 0.6833804845809937\n",
            "niter: 101, g_loss: [5.775144577026367, 0.13594305515289307, 0.1405469924211502, 0.017321813851594925], d_loss: 0.10883258283138275\n",
            "niter: 201, g_loss: [4.552474021911621, 0.2498151659965515, 0.10720644146203995, 0.014401485212147236], d_loss: 0.1914626955986023\n",
            "niter: 301, g_loss: [4.2865190505981445, 0.09258174896240234, 0.10447730869054794, 0.014844918623566628], d_loss: 0.061292048543691635\n",
            "niter: 401, g_loss: [3.3823888301849365, 0.031227583065629005, 0.08362875133752823, 0.0060111661441624165], d_loss: 0.04385634511709213\n",
            "niter: 501, g_loss: [3.2546896934509277, 0.01977645605802536, 0.08032280951738358, 0.022000962868332863], d_loss: 0.023817799985408783\n",
            "niter: 601, g_loss: [3.6568124294281006, 0.0552188940346241, 0.08954913914203644, 0.019627993926405907], d_loss: 0.04437631368637085\n",
            "niter: 701, g_loss: [2.6336452960968018, 0.043336279690265656, 0.06468958407640457, 0.0027256752364337444], d_loss: 0.03728112950921059\n",
            "niter: 801, g_loss: [2.6111552715301514, 0.054298240691423416, 0.06384468823671341, 0.003069475060328841], d_loss: 0.0422288179397583\n",
            "niter: 901, g_loss: [2.5634303092956543, 0.033259518444538116, 0.06315825134515762, 0.003840832971036434], d_loss: 0.05350596457719803\n",
            "LATloss: (984,)\n",
            "RECloss: (984,)\n",
            "Scores: (984,)\n",
            "Scores of Normal and Abnormal: (492,) (492,)\n",
            "Optimal threshold for best AUC: 0.12394706079039183 TPR-FPR= 0.8191056910569107\n",
            "Optimal threshold for best AUPRC: 0.12394706079039183 f-score= 0.9039913700107874\n",
            "run: 8\n",
            "train: (283823, 29) (283823,) ;  test: (984, 29) (984,)\n",
            "niter: 1, g_loss: [27.122478485107422, 0.6995677351951599, 0.6602842211723328, 0.01154051162302494], d_loss: 0.6841491460800171\n",
            "niter: 101, g_loss: [5.637224197387695, 0.22358883917331696, 0.1350119709968567, 0.013156335800886154], d_loss: 0.20551808178424835\n",
            "niter: 201, g_loss: [4.324131488800049, 0.09034714847803116, 0.10561411082744598, 0.009219731204211712], d_loss: 0.07440371811389923\n",
            "niter: 301, g_loss: [3.830948829650879, 0.09535282850265503, 0.09321703761816025, 0.0069145215675234795], d_loss: 0.07722213119268417\n",
            "niter: 401, g_loss: [3.5186378955841064, 0.07023126631975174, 0.08606600761413574, 0.005766354501247406], d_loss: 0.06607579439878464\n",
            "niter: 501, g_loss: [3.0455493927001953, 0.037005867809057236, 0.07505735754966736, 0.006249257829040289], d_loss: 0.04704321548342705\n",
            "niter: 601, g_loss: [3.3083205223083496, 0.07224829494953156, 0.0807066559791565, 0.007806072011590004], d_loss: 0.05640891194343567\n",
            "niter: 701, g_loss: [2.821840286254883, 0.0816834419965744, 0.06833914667367935, 0.0065911272540688515], d_loss: 0.07376323640346527\n",
            "niter: 801, g_loss: [2.6088333129882812, 0.01105868723243475, 0.0648704320192337, 0.002957581076771021], d_loss: 0.014507625252008438\n",
            "niter: 901, g_loss: [2.466062545776367, 0.07119446992874146, 0.0597928911447525, 0.0031525827944278717], d_loss: 0.06300921738147736\n",
            "LATloss: (984,)\n",
            "RECloss: (984,)\n",
            "Scores: (984,)\n",
            "Scores of Normal and Abnormal: (492,) (492,)\n",
            "Optimal threshold for best AUC: 0.08935141687722498 TPR-FPR= 0.8414634146341463\n",
            "Optimal threshold for best AUPRC: 0.08935141687722498 f-score= 0.9194214876033057\n",
            "run: 9\n",
            "train: (283823, 29) (283823,) ;  test: (984, 29) (984,)\n",
            "niter: 1, g_loss: [25.875089645385742, 0.6981770992279053, 0.6291904449462891, 0.009294689632952213], d_loss: 0.7354480028152466\n",
            "niter: 101, g_loss: [5.599213123321533, 0.029308313503861427, 0.13890275359153748, 0.013794578611850739], d_loss: 0.059174682945013046\n",
            "niter: 201, g_loss: [4.2468976974487305, 0.009499005042016506, 0.10573618859052658, 0.007951145060360432], d_loss: 0.03140977397561073\n",
            "niter: 301, g_loss: [4.059700965881348, 0.03693346679210663, 0.10036900639533997, 0.008007689379155636], d_loss: 0.04351990669965744\n",
            "niter: 401, g_loss: [3.2796859741210938, 0.009111489169299603, 0.08164453506469727, 0.004793071653693914], d_loss: 0.025687050074338913\n",
            "niter: 501, g_loss: [3.3853018283843994, 0.007256530690938234, 0.08423803746700287, 0.008523741737008095], d_loss: 0.018887801095843315\n",
            "niter: 601, g_loss: [3.0595688819885254, 0.055793844163417816, 0.07493539154529572, 0.00635944027453661], d_loss: 0.06931819766759872\n",
            "niter: 701, g_loss: [2.7546346187591553, 0.04544829949736595, 0.06763344258069992, 0.0038485461845993996], d_loss: 0.05110081657767296\n",
            "niter: 801, g_loss: [2.4878077507019043, 0.039984624832868576, 0.06111400946974754, 0.0032629314810037613], d_loss: 0.035378169268369675\n",
            "niter: 901, g_loss: [2.436872720718384, 0.011817175894975662, 0.06055494397878647, 0.002857755869626999], d_loss: 0.01877080835402012\n",
            "LATloss: (984,)\n",
            "RECloss: (984,)\n",
            "Scores: (984,)\n",
            "Scores of Normal and Abnormal: (492,) (492,)\n",
            "Optimal threshold for best AUC: 0.19247201263248326 TPR-FPR= 0.8048780487804879\n",
            "Optimal threshold for best AUPRC: 0.14710704989075432 f-score= 0.8954248366013072\n",
            "run: 10\n",
            "train: (283823, 29) (283823,) ;  test: (984, 29) (984,)\n",
            "niter: 1, g_loss: [25.30453872680664, 0.6999020576477051, 0.6148865222930908, 0.009176095947623253], d_loss: 0.6896848678588867\n",
            "niter: 101, g_loss: [5.6835808753967285, 0.11115389317274094, 0.13896405696868896, 0.01386476494371891], d_loss: 0.11691618710756302\n",
            "niter: 201, g_loss: [4.791692733764648, 0.0803510919213295, 0.11734960228204727, 0.017357446253299713], d_loss: 0.06413868814706802\n",
            "niter: 301, g_loss: [4.271740913391113, 0.016076315194368362, 0.10610046237707138, 0.011645805090665817], d_loss: 0.03785047307610512\n",
            "niter: 401, g_loss: [3.1888554096221924, 0.02594650723040104, 0.0789422020316124, 0.005220760591328144], d_loss: 0.020784402266144753\n",
            "niter: 501, g_loss: [3.120861530303955, 0.04473099857568741, 0.07680247724056244, 0.0040312232449650764], d_loss: 0.053665440529584885\n",
            "niter: 601, g_loss: [2.9424939155578613, 0.014240695163607597, 0.0731157585978508, 0.0036227181553840637], d_loss: 0.016090385615825653\n",
            "niter: 701, g_loss: [2.5762908458709717, 0.019471030682325363, 0.06384854763746262, 0.0028777888510376215], d_loss: 0.0239325612783432\n",
            "niter: 801, g_loss: [2.528766393661499, 0.021139197051525116, 0.06262525171041489, 0.0026171663776040077], d_loss: 0.02385355904698372\n",
            "niter: 901, g_loss: [2.4441897869110107, 0.013774040155112743, 0.06069469451904297, 0.0026279818266630173], d_loss: 0.016273116692900658\n",
            "LATloss: (984,)\n",
            "RECloss: (984,)\n",
            "Scores: (984,)\n",
            "Scores of Normal and Abnormal: (492,) (492,)\n",
            "Optimal threshold for best AUC: 0.12390901104338418 TPR-FPR= 0.8231707317073171\n",
            "Optimal threshold for best AUPRC: 0.11739848980267811 f-score= 0.9063509149623251\n"
          ]
        }
      ],
      "source": [
        "TOTAL_RUN = 10\n",
        "run = 1\n",
        "\n",
        "for run in range(1,TOTAL_RUN+1):\n",
        "    g_e = define_GE()\n",
        "    g = define_G(g_e)\n",
        "    d = define_D()\n",
        "    gan_trainer = define_gan_trainer()\n",
        "    \n",
        "    print('run: {!r}'.format(run))\n",
        "    datasets = np.load('data/Runs/{!s}_{!s}_Runs/Run_{!s}.npz'.format(RAT,TOTAL_RUN, run))\n",
        "    x_train, y_train = datasets['trainX'], datasets['trainY']\n",
        "    x_test, y_test = datasets['testX'], datasets['testY']\n",
        "    print('train:',x_train.shape,y_train.shape,'; ','test:',x_test.shape,y_test.shape)\n",
        "    train(x_train=x_train)\n",
        "    evaluation(x_test=x_test, y_test=y_test)\n",
        "    run+=1"
      ]
    },
    {
      "cell_type": "markdown",
      "metadata": {},
      "source": [
        "# Retrain\n",
        "* [back to model](#model)"
      ]
    },
    {
      "cell_type": "markdown",
      "metadata": {},
      "source": [
        "# AUC and PR curve"
      ]
    },
    {
      "cell_type": "code",
      "execution_count": 32,
      "metadata": {},
      "outputs": [
        {
          "name": "stdout",
          "output_type": "stream",
          "text": [
            "0.5\n"
          ]
        },
        {
          "data": {
            "image/png": "[encoded data removed]",
            "text/plain": [
              "<Figure size 1440x360 with 2 Axes>"
            ]
          },
          "metadata": {
            "needs_background": "light"
          },
          "output_type": "display_data"
        },
        {
          "name": "stdout",
          "output_type": "stream",
          "text": [
            "Average AUC score =  0.9584514839050831\n",
            "Average AUPRC score =  0.9690001121487786\n",
            "Average f1 score =  0.9056219482206671\n",
            "Average recall =  0.8664634146341463\n",
            "Average precision =  0.9496357143525896\n",
            "Average accuracy =  0.9087398373983738\n",
            "[{'AUC': 0.2495161909467514, 'PRC': 0.1371019320116078}, {'AUC': 0.12167239901335553, 'PRC': 0.08947311955994149}, {'AUC': 0.08832710110352851, 'PRC': 0.08598519590914168}, {'AUC': 0.13300572432285288, 'PRC': 0.13300572432285288}, {'AUC': 0.18128823772860933, 'PRC': 0.10430245967119421}, {'AUC': 0.11368788698151326, 'PRC': 0.11368788698151326}, {'AUC': 0.12394706079039183, 'PRC': 0.12394706079039183}, {'AUC': 0.08935141687722498, 'PRC': 0.08935141687722498}, {'AUC': 0.19247201263248326, 'PRC': 0.14710704989075432}, {'AUC': 0.12390901104338418, 'PRC': 0.11739848980267811}]\n"
          ]
        }
      ],
      "source": [
        "rcParams['figure.figsize'] = 20, 5\n",
        "#plot\n",
        "fig, ax=plt.subplots(1,2)\n",
        "proportion_of_abn = 0.5\n",
        "\n",
        "colors = ['orange','purple','green','lime','black','yellow','brown','pink','blue','lightblue']\n",
        "print(proportion_of_abn)\n",
        "\n",
        "\n",
        "for i in range(len(TPR_res)):\n",
        "    tpr, fpr = TPR_res[i], FPR_res[i]\n",
        "    precision, recall = P_res[i], R_res[i]\n",
        "    auc_score, auprc_score = AUC_res[i], AUPRC_res[i]\n",
        "    indicator = colors[i]\n",
        "\n",
        "    #ROC curve\n",
        "    ax[0].plot(fpr, tpr, color = indicator, label = '%0.4f' % auc_score)\n",
        "    ax[0].legend(loc = 'lower right')\n",
        "\n",
        "    #PR curve\n",
        "    ax[1].plot(recall, precision, color = indicator, label='%0.4f' % auprc_score)\n",
        "    ax[1].legend(loc = 'lower right')\n",
        "    \n",
        "\n",
        "\n",
        "ax[0].set_title('Receiver Operating Characteristic')\n",
        "ax[0].plot([0, 1], [0, 1],'r--')\n",
        "ax[0].set_xlim([0, 1])\n",
        "ax[0].set_ylim([0, 1])\n",
        "ax[0].set_ylabel('True Positive Rate')\n",
        "ax[0].set_xlabel('False Positive Rate')\n",
        "\n",
        "ax[1].set_title('Precision-Recall Curve')\n",
        "ax[1].plot([0, 1], [proportion_of_abn, proportion_of_abn],'r--')\n",
        "ax[1].plot([0, 1], [proportion_of_abn, proportion_of_abn],'r--')\n",
        "ax[1].set_xlim([0, 1])\n",
        "ax[1].set_ylim([0, 1])\n",
        "ax[1].set_ylabel('Precision')\n",
        "ax[1].set_xlabel('Recall')\n",
        "plt.show()\n",
        "\n",
        "#calculate average AUC and AUPRC score\n",
        "print('Average AUC score = ',sum(AUC_res) / TOTAL_RUN)\n",
        "print('Average AUPRC score = ',sum(AUPRC_res) / TOTAL_RUN)\n",
        "print('Average f1 score = ',sum(fscore_res) / TOTAL_RUN)\n",
        "print('Average recall = ',sum(recall_res) / TOTAL_RUN)\n",
        "print('Average precision = ',sum(precision_res) / TOTAL_RUN)\n",
        "print('Average accuracy = ', sum(accuracies)/TOTAL_RUN)\n",
        "\n",
        "print(THR_opt)\n",
        "\n",
        "#print optnimal thresholds of 10 folds\n",
        "#print(THR_opt)"
      ]
    },
    {
      "cell_type": "code",
      "execution_count": 33,
      "metadata": {},
      "outputs": [],
      "source": [
        "TPR_maxlen = FPR_maxlen = P_maxlen = R_maxlen = 0\n",
        "\n",
        "for i in range(len(TPR_res)):\n",
        "    if TPR_maxlen < len(TPR_res[i]): TPR_maxlen = len(TPR_res[i])\n",
        "    if FPR_maxlen < len(FPR_res[i]): FPR_maxlen = len(FPR_res[i])\n",
        "    if P_maxlen < len(P_res[i]): P_maxlen = len(P_res[i])\n",
        "    if R_maxlen < len(R_res[i]): R_maxlen = len(R_res[i])\n",
        "\n",
        "def AddOn(addTo,data,row, dataLen):\n",
        "    tmp = data[0]\n",
        "    for i in range(dataLen):\n",
        "        if i<len(data[row]) and data[row][i] is not np.nan: tmp = data[row][i]\n",
        "        addTo[i]+=tmp\n",
        "\n",
        "def AVG(data):\n",
        "    return (data / TOTAL_RUN).tolist()\n",
        "TPR_avg, FPR_avg, P_avg, R_avg = np.zeros((TPR_maxlen)), np.zeros((FPR_maxlen)), np.zeros((P_maxlen)), np.zeros((R_maxlen))\n",
        "\n",
        "for i in range(len(TPR_res)):\n",
        "    AddOn(TPR_avg, TPR_res, i, TPR_maxlen)\n",
        "    AddOn(FPR_avg, FPR_res, i, FPR_maxlen)\n",
        "    AddOn(P_avg, P_res, i, P_maxlen)\n",
        "    AddOn(R_avg, R_res, i, R_maxlen)\n",
        "    \n",
        "TPR_avg, FPR_avg, P_avg, R_avg = AVG(TPR_avg), AVG(FPR_avg), AVG(P_avg), AVG(R_avg)"
      ]
    },
    {
      "attachments": {},
      "cell_type": "markdown",
      "metadata": {},
      "source": [
        "# Save Result to json"
      ]
    },
    {
      "cell_type": "code",
      "execution_count": 34,
      "metadata": {},
      "outputs": [],
      "source": [
        "import json\n",
        "\n",
        "with open('data/Runs/{!s}_{!s}_Runs/result.json'.format(RAT,TOTAL_RUN, run), \"r\", encoding='utf-8') as jsonFile:\n",
        "    data = json.load(jsonFile)\n",
        "\n",
        "with open('data/Runs/{!s}_{!s}_Runs/result.json'.format(RAT,TOTAL_RUN, run), 'w', encoding='utf-8') as jsonFile:\n",
        "    data['FinGANomaly_{!s}'.format(lat_weight)] = {\n",
        "            'AUC': AUC_res,\n",
        "            'AUPRC': AUPRC_res,\n",
        "            'Fscore': fscore_res,\n",
        "            'Recall': recall_res,\n",
        "            'Precision': precision_res,\n",
        "            'Accuracy': accuracies,\n",
        "            'THR_opt': THR_opt,\n",
        "            'AVG': {\n",
        "                'TPR': TPR_avg,\n",
        "                'FPR': FPR_avg,\n",
        "                'P': P_avg,\n",
        "                'R': R_avg\n",
        "            }\n",
        "        }\n",
        "    \n",
        "    json.dump(data, jsonFile, ensure_ascii=False)"
      ]
    },
    {
      "cell_type": "markdown",
      "metadata": {},
      "source": [
        "# End of Jupyter\n",
        "* [To top](#common-link)"
      ]
    }
  ],
  "metadata": {
    "accelerator": "GPU",
    "colab": {
      "name": "ganomaly",
      "provenance": [],
      "version": "0.3.2"
    },
    "kernelspec": {
      "display_name": "Python 3.8.3 ('base')",
      "language": "python",
      "name": "python3"
    },
    "language_info": {
      "codemirror_mode": {
        "name": "ipython",
        "version": 3
      },
      "file_extension": ".py",
      "mimetype": "text/x-python",
      "name": "python",
      "nbconvert_exporter": "python",
      "pygments_lexer": "ipython3",
      "version": "3.8.3"
    },
    "vscode": {
      "interpreter": {
        "hash": "ad2bdc8ecc057115af97d19610ffacc2b4e99fae6737bb82f5d7fb13d2f2c186"
      }
    }
  },
  "nbformat": 4,
  "nbformat_minor": 0
}
