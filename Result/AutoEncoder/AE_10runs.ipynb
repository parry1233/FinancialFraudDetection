{
  "cells": [
    {
      "cell_type": "markdown",
      "metadata": {},
      "source": [
        "# Common link\n",
        "* [Load Data](#load-data)\n",
        "* [Split Data](#split-dataset)\n",
        "* [Model](#model)\n",
        "* [Evaluation](#evaluation)"
      ]
    },
    {
      "cell_type": "code",
      "execution_count": 11,
      "metadata": {},
      "outputs": [],
      "source": [
        "feature = 29"
      ]
    },
    {
      "cell_type": "markdown",
      "metadata": {},
      "source": [
        "# Model"
      ]
    },
    {
      "cell_type": "code",
      "execution_count": 12,
      "metadata": {
        "colab": {
          "base_uri": "https://localhost:8080/",
          "height": 34
        },
        "colab_type": "code",
        "id": "_fOFzTCbXTfi",
        "outputId": "4e0db446-6657-442e-a7e5-f81c198d1dee"
      },
      "outputs": [],
      "source": [
        "from tensorflow.keras import layers\n",
        "import tensorflow.keras as keras\n",
        "import tensorflow.keras.backend as K"
      ]
    },
    {
      "cell_type": "code",
      "execution_count": 13,
      "metadata": {},
      "outputs": [],
      "source": [
        "ae = None\n",
        "RAT = 1"
      ]
    },
    {
      "cell_type": "code",
      "execution_count": 14,
      "metadata": {
        "colab": {
          "base_uri": "https://localhost:8080/",
          "height": 819
        },
        "colab_type": "code",
        "id": "6SSgbWtgYFge",
        "outputId": "ffb3b7cc-871f-4ef6-b1cb-6f2eb6193249"
      },
      "outputs": [],
      "source": [
        "def Encoder():\n",
        "    input_layer = layers.Input(name='input', shape=(feature))\n",
        "    #x = layers.Reshape((height, width, channels), name='ge_reshape')(input_layer)\n",
        "\n",
        "    # Encoder\n",
        "    x = layers.Dense(25, name='e_dense_1')(input_layer)\n",
        "    x = layers.ReLU(name='e_relu_1')(x)\n",
        "\n",
        "    x = layers.Dense(20, name='e_dense_2')(x)\n",
        "    x = layers.ReLU(name='e_relu_2')(x)\n",
        "\n",
        "    x = layers.Dense(15, name='e_dense_3')(x)\n",
        "    x = layers.ReLU(name='e_relu_3')(x)\n",
        "\n",
        "    x = layers.Dense(10, name='e_dense_4')(x)\n",
        "    x = layers.ReLU(name='e_relu_4')(x)\n",
        "\n",
        "    #x = layers.GlobalAveragePooling2D(name='g_encoder_output')(x)\n",
        "\n",
        "    encoder = keras.models.Model(inputs=input_layer, outputs=x)\n",
        "    \n",
        "    return encoder\n",
        "    "
      ]
    },
    {
      "cell_type": "code",
      "execution_count": 15,
      "metadata": {
        "colab": {
          "base_uri": "https://localhost:8080/",
          "height": 510
        },
        "colab_type": "code",
        "id": "pivNg2CMYQwi",
        "outputId": "4281bfb2-df6d-4958-b3e5-dd75d06f866a"
      },
      "outputs": [],
      "source": [
        "def Decoder(encoder):\n",
        "    input_layer = layers.Input(name='input', shape=(feature))\n",
        "\n",
        "    x = encoder(input_layer)\n",
        "\n",
        "    #decoder\n",
        "    y = layers.Dense(15, name='dec_dense_1')(x)\n",
        "    y = layers.ReLU(name='dec_relu_1')(y)\n",
        "\n",
        "    y = layers.Dense(20, name='dec_dense_2')(y)\n",
        "    y = layers.ReLU(name='dec_relu_2')(y)\n",
        "\n",
        "    y = layers.Dense(25, name='dec_dense_3')(y)\n",
        "    y = layers.ReLU(name='dec_relu_3')(y)\n",
        "\n",
        "    y = layers.Dense(feature, name='dec_dense_4')(y)\n",
        "    y = layers.ReLU(name='dec_relu_4')(y)\n",
        "\n",
        "    ae = keras.models.Model(inputs=input_layer, outputs=y) #Autoencoder\n",
        "    \n",
        "    return ae"
      ]
    },
    {
      "cell_type": "code",
      "execution_count": 16,
      "metadata": {
        "colab": {
          "base_uri": "https://localhost:8080/",
          "height": 578
        },
        "colab_type": "code",
        "id": "coa6bXCRYRG9",
        "outputId": "9554afeb-f0a2-45ad-82d0-44c0f245be5a"
      },
      "outputs": [],
      "source": [
        "def define_AE():\n",
        "    ae = Decoder(Encoder())\n",
        "    ae.compile(optimizer = 'adam',\n",
        "              loss = 'mse')\n",
        "    return ae"
      ]
    },
    {
      "cell_type": "markdown",
      "metadata": {
        "colab_type": "text",
        "id": "dxPzCEC1bFMR"
      },
      "source": [
        "# Training"
      ]
    },
    {
      "cell_type": "code",
      "execution_count": 17,
      "metadata": {},
      "outputs": [],
      "source": [
        "import numpy as np\n",
        "niter = 50\n",
        "bz = 512"
      ]
    },
    {
      "cell_type": "code",
      "execution_count": 18,
      "metadata": {},
      "outputs": [],
      "source": [
        "def train(x_train):\n",
        "    history = ae.fit(x_train,x_train,\n",
        "                    epochs = niter,\n",
        "                    batch_size = bz,\n",
        "                    verbose = 0\n",
        "                    )"
      ]
    },
    {
      "cell_type": "markdown",
      "metadata": {
        "colab_type": "text",
        "id": "0cHDcccacdST"
      },
      "source": [
        "# Evaluation"
      ]
    },
    {
      "cell_type": "code",
      "execution_count": 19,
      "metadata": {
        "colab": {},
        "colab_type": "code",
        "id": "UXAufnuIbuvF"
      },
      "outputs": [],
      "source": [
        "from matplotlib import pyplot as plt\n",
        "from pylab import rcParams\n",
        "from sklearn.metrics import roc_curve, roc_auc_score, precision_recall_curve, auc, average_precision_score\n",
        "from sklearn import metrics\n",
        "from sklearn.metrics import classification_report, confusion_matrix\n",
        "import seaborn as sns\n",
        "\n",
        "TPR_res, FPR_res, P_res, R_res = [], [], [], []\n",
        "AUC_res, AUPRC_res = [], []\n",
        "accuracies, fscore_res, recall_res, precision_res = [], [], [], []\n",
        "reports = []\n",
        "scores = []\n",
        "THR_opt = []\n",
        "\n",
        "def evaluation(x_test,y_test):\n",
        "    recons_x = ae.predict(x_test)\n",
        "    recons_loss = np.sum(np.square(recons_x - x_test), axis=-1)\n",
        "    #print(recons_loss)\n",
        "    print(recons_loss.shape)\n",
        "    score = recons_loss\n",
        "    score = (score - np.min(score)) / (np.max(score) - np.min(score)) # map to 0~1\n",
        "    #print(score)\n",
        "    print(score.shape)\n",
        "    score = score.reshape(len(score))\n",
        "\n",
        "    nScore, abnScore = score[y_test==0], score[y_test==1]\n",
        "    print('Scores of Normal and Abnormal:',nScore.shape,abnScore.shape)\n",
        "    scores.append([nScore,abnScore])\n",
        "\n",
        "\n",
        "    score = score.reshape(len(score))\n",
        "    fpr, tpr, threshold_auc = roc_curve(y_score=score, y_true=y_test, pos_label=1)\n",
        "    TPR_res.append(tpr)\n",
        "    FPR_res.append(fpr)\n",
        "    precision, recall, threshold_prc = precision_recall_curve(probas_pred=score, y_true=y_test, pos_label=1)\n",
        "    P_res.append(precision)\n",
        "    R_res.append(recall)\n",
        "\n",
        "    auc_score = auc(fpr,tpr)\n",
        "    auprc_score = auc(recall, precision)\n",
        "    AUC_res.append(auc_score)\n",
        "    AUPRC_res.append(auprc_score)\n",
        "\n",
        "\n",
        "    # optimal cut off point would be where “true positive rate” is high and the “false positive rate” is low.\n",
        "    J = tpr - fpr\n",
        "    ix1 = np.argmax(J)\n",
        "    optimal_threshold = threshold_auc[ix1]\n",
        "    #optimal_threshold = sorted(list(zip(np.sqrt(tpr-fpr), threshold_auc)), key=lambda i: i[0], reverse=False)[0][1]\n",
        "    print('Optimal threshold for best AUC:',optimal_threshold, 'TPR-FPR=',J[ix1])\n",
        "\n",
        "    fscore = (2 * precision * recall) / (precision + recall)\n",
        "    ix2 = np.nanargmax(fscore)\n",
        "    optimal_prc_threshold = threshold_prc[ix2]\n",
        "    #optimal_prc_threshold = sorted(list(zip(np.abs(precision - recall), threshold_prc)), key=lambda i: i[0], reverse=False)[0][1]\n",
        "    print('Optimal threshold for best AUPRC:',optimal_prc_threshold,'f-score=', fscore[ix2])\n",
        "    \n",
        "    fscore_res.append(fscore[ix2])\n",
        "    recall_res.append(recall[ix2])\n",
        "    precision_res.append(precision[ix2])\n",
        "\n",
        "    THR_opt.append({'AUC':optimal_threshold, 'PRC':optimal_prc_threshold})\n",
        "    \n",
        "    yTest_predict = [0 if s<=optimal_prc_threshold else 1 for s in score]\n",
        "    class_report = classification_report(y_pred=yTest_predict, y_true=y_test, digits=4, output_dict=True)\n",
        "    reports.append(class_report)\n",
        "    accuracies.append(class_report['accuracy'])\n"
      ]
    },
    {
      "cell_type": "markdown",
      "metadata": {},
      "source": [
        "# K-Fold Train"
      ]
    },
    {
      "cell_type": "code",
      "execution_count": 20,
      "metadata": {},
      "outputs": [
        {
          "name": "stdout",
          "output_type": "stream",
          "text": [
            "run: 1\n",
            "train: (283823, 29) (283823,) ;  test: (984, 29) (984,)\n",
            "(984,)\n",
            "(984,)\n",
            "Scores of Normal and Abnormal: (492,) (492,)\n",
            "Optimal threshold for best AUC: 0.008110086989698973 TPR-FPR= 0.8109756097560975\n",
            "Optimal threshold for best AUPRC: 0.003925668059694744 f-score= 0.900105152471083\n",
            "run: 2\n",
            "train: (283823, 29) (283823,) ;  test: (984, 29) (984,)\n",
            "(984,)\n",
            "(984,)\n",
            "Scores of Normal and Abnormal: (492,) (492,)\n",
            "Optimal threshold for best AUC: 0.0042707131114589885 TPR-FPR= 0.8475609756097562\n",
            "Optimal threshold for best AUPRC: 0.0042707131114589885 f-score= 0.9213011542497377\n",
            "run: 3\n",
            "train: (283823, 29) (283823,) ;  test: (984, 29) (984,)\n",
            "(984,)\n",
            "(984,)\n",
            "Scores of Normal and Abnormal: (492,) (492,)\n",
            "Optimal threshold for best AUC: 0.005591467663042091 TPR-FPR= 0.8252032520325203\n",
            "Optimal threshold for best AUPRC: 0.0053708129263905936 f-score= 0.9090909090909092\n",
            "run: 4\n",
            "train: (283823, 29) (283823,) ;  test: (984, 29) (984,)\n",
            "(984,)\n",
            "(984,)\n",
            "Scores of Normal and Abnormal: (492,) (492,)\n",
            "Optimal threshold for best AUC: 0.005119414453567171 TPR-FPR= 0.8191056910569107\n",
            "Optimal threshold for best AUPRC: 0.005119414453567171 f-score= 0.9033659066232357\n",
            "run: 5\n",
            "train: (283823, 29) (283823,) ;  test: (984, 29) (984,)\n",
            "(984,)\n",
            "(984,)\n",
            "Scores of Normal and Abnormal: (492,) (492,)\n",
            "Optimal threshold for best AUC: 0.004528755871314703 TPR-FPR= 0.8008130081300813\n",
            "Optimal threshold for best AUPRC: 0.004528755871314703 f-score= 0.8964059196617336\n",
            "run: 6\n",
            "train: (283823, 29) (283823,) ;  test: (984, 29) (984,)\n",
            "(984,)\n",
            "(984,)\n",
            "Scores of Normal and Abnormal: (492,) (492,)\n",
            "Optimal threshold for best AUC: 0.006388824213116235 TPR-FPR= 0.8109756097560976\n",
            "Optimal threshold for best AUPRC: 0.006388824213116235 f-score= 0.8992416034669556\n",
            "run: 7\n",
            "train: (283823, 29) (283823,) ;  test: (984, 29) (984,)\n",
            "(984,)\n",
            "(984,)\n",
            "Scores of Normal and Abnormal: (492,) (492,)\n",
            "Optimal threshold for best AUC: 0.006603664523685779 TPR-FPR= 0.8130081300813009\n",
            "Optimal threshold for best AUPRC: 0.003696010486096483 f-score= 0.9005235602094241\n",
            "run: 8\n",
            "train: (283823, 29) (283823,) ;  test: (984, 29) (984,)\n",
            "(984,)\n",
            "(984,)\n",
            "Scores of Normal and Abnormal: (492,) (492,)\n",
            "Optimal threshold for best AUC: 0.004453803629492819 TPR-FPR= 0.8252032520325203\n",
            "Optimal threshold for best AUPRC: 0.004294148272157091 f-score= 0.9092827004219408\n",
            "run: 9\n",
            "train: (283823, 29) (283823,) ;  test: (984, 29) (984,)\n",
            "(984,)\n",
            "(984,)\n",
            "Scores of Normal and Abnormal: (492,) (492,)\n",
            "Optimal threshold for best AUC: 0.00878306577858922 TPR-FPR= 0.8008130081300813\n",
            "Optimal threshold for best AUPRC: 0.005740810046773473 f-score= 0.8936627282491945\n",
            "run: 10\n",
            "train: (283823, 29) (283823,) ;  test: (984, 29) (984,)\n",
            "(984,)\n",
            "(984,)\n",
            "Scores of Normal and Abnormal: (492,) (492,)\n",
            "Optimal threshold for best AUC: 0.004074527187514748 TPR-FPR= 0.8109756097560976\n",
            "Optimal threshold for best AUPRC: 0.004074527187514748 f-score= 0.9022082018927446\n"
          ]
        }
      ],
      "source": [
        "TOTAL_RUN = 10\n",
        "run = 1\n",
        "\n",
        "for run in range(1,TOTAL_RUN+1):\n",
        "    ae = define_AE()\n",
        "    \n",
        "    print('run: {!r}'.format(run))\n",
        "    datasets = np.load('data/Runs/{!s}_{!s}_Runs/Run_{!s}.npz'.format(RAT,TOTAL_RUN, run))\n",
        "    x_train, y_train = datasets['trainX'], datasets['trainY']\n",
        "    x_test, y_test = datasets['testX'], datasets['testY']\n",
        "    print('train:',x_train.shape,y_train.shape,'; ','test:',x_test.shape,y_test.shape)\n",
        "    train(x_train=x_train)\n",
        "    evaluation(x_test=x_test, y_test=y_test)\n",
        "    run+=1"
      ]
    },
    {
      "cell_type": "markdown",
      "metadata": {},
      "source": [
        "# Retrain\n",
        "* [back to model](#model)"
      ]
    },
    {
      "cell_type": "markdown",
      "metadata": {},
      "source": [
        "# AUC and PR curve"
      ]
    },
    {
      "cell_type": "code",
      "execution_count": 21,
      "metadata": {},
      "outputs": [
        {
          "name": "stdout",
          "output_type": "stream",
          "text": [
            "0.5\n"
          ]
        },
        {
          "data": {
            "image/png": "[encoded data removed]",
            "text/plain": [
              "<Figure size 432x288 with 2 Axes>"
            ]
          },
          "metadata": {
            "needs_background": "light"
          },
          "output_type": "display_data"
        },
        {
          "name": "stdout",
          "output_type": "stream",
          "text": [
            "Average AUC score =  0.949706276026175\n",
            "Average AUPRC score =  0.9595807669874528\n",
            "Average f1 score =  0.903518783633696\n",
            "Average recall =  0.8654471544715447\n",
            "Average precision =  0.9454520663358739\n",
            "Average accuracy =  0.9066056910569106\n",
            "[{'AUC': 0.008110086989698973, 'PRC': 0.003925668059694744}, {'AUC': 0.0042707131114589885, 'PRC': 0.0042707131114589885}, {'AUC': 0.005591467663042091, 'PRC': 0.0053708129263905936}, {'AUC': 0.005119414453567171, 'PRC': 0.005119414453567171}, {'AUC': 0.004528755871314703, 'PRC': 0.004528755871314703}, {'AUC': 0.006388824213116235, 'PRC': 0.006388824213116235}, {'AUC': 0.006603664523685779, 'PRC': 0.003696010486096483}, {'AUC': 0.004453803629492819, 'PRC': 0.004294148272157091}, {'AUC': 0.00878306577858922, 'PRC': 0.005740810046773473}, {'AUC': 0.004074527187514748, 'PRC': 0.004074527187514748}]\n"
          ]
        }
      ],
      "source": [
        "rcParams['figure.figsize'] = 20, 5\n",
        "#plot\n",
        "fig, ax=plt.subplots(1,2)\n",
        "proportion_of_abn = 0.5\n",
        "\n",
        "colors = ['orange','purple','green','lime','black','yellow','brown','pink','blue','lightblue']\n",
        "print(proportion_of_abn)\n",
        "\n",
        "\n",
        "for i in range(len(TPR_res)):\n",
        "    tpr, fpr = TPR_res[i], FPR_res[i]\n",
        "    precision, recall = P_res[i], R_res[i]\n",
        "    auc_score, auprc_score = AUC_res[i], AUPRC_res[i]\n",
        "    indicator = colors[i]\n",
        "\n",
        "    #ROC curve\n",
        "    ax[0].plot(fpr, tpr, color = indicator, label = '%0.4f' % auc_score)\n",
        "    ax[0].legend(loc = 'lower right')\n",
        "\n",
        "    #PR curve\n",
        "    ax[1].plot(recall, precision, color = indicator, label='%0.4f' % auprc_score)\n",
        "    ax[1].legend(loc = 'lower right')\n",
        "    \n",
        "\n",
        "\n",
        "ax[0].set_title('Receiver Operating Characteristic')\n",
        "ax[0].plot([0, 1], [0, 1],'r--')\n",
        "ax[0].set_xlim([0, 1])\n",
        "ax[0].set_ylim([0, 1])\n",
        "ax[0].set_ylabel('True Positive Rate')\n",
        "ax[0].set_xlabel('False Positive Rate')\n",
        "\n",
        "ax[1].set_title('Precision-Recall Curve')\n",
        "ax[1].plot([0, 1], [proportion_of_abn, proportion_of_abn],'r--')\n",
        "ax[1].plot([0, 1], [proportion_of_abn, proportion_of_abn],'r--')\n",
        "ax[1].set_xlim([0, 1])\n",
        "ax[1].set_ylim([0, 1])\n",
        "ax[1].set_ylabel('Precision')\n",
        "ax[1].set_xlabel('Recall')\n",
        "plt.show()\n",
        "\n",
        "#calculate average AUC and AUPRC score\n",
        "print('Average AUC score = ',sum(AUC_res) / TOTAL_RUN)\n",
        "print('Average AUPRC score = ',sum(AUPRC_res) / TOTAL_RUN)\n",
        "print('Average f1 score = ',sum(fscore_res) / TOTAL_RUN)\n",
        "print('Average recall = ',sum(recall_res) / TOTAL_RUN)\n",
        "print('Average precision = ',sum(precision_res) / TOTAL_RUN)\n",
        "print('Average accuracy = ', sum(accuracies)/TOTAL_RUN)\n",
        "\n",
        "print(THR_opt)\n",
        "\n",
        "#print optnimal thresholds of 10 folds\n",
        "#print(THR_opt)"
      ]
    },
    {
      "cell_type": "code",
      "execution_count": 22,
      "metadata": {},
      "outputs": [],
      "source": [
        "TPR_maxlen = FPR_maxlen = P_maxlen = R_maxlen = 0\n",
        "\n",
        "for i in range(len(TPR_res)):\n",
        "    if TPR_maxlen < len(TPR_res[i]): TPR_maxlen = len(TPR_res[i])\n",
        "    if FPR_maxlen < len(FPR_res[i]): FPR_maxlen = len(FPR_res[i])\n",
        "    if P_maxlen < len(P_res[i]): P_maxlen = len(P_res[i])\n",
        "    if R_maxlen < len(R_res[i]): R_maxlen = len(R_res[i])\n",
        "\n",
        "def AddOn(addTo,data,row, dataLen):\n",
        "    tmp = data[0]\n",
        "    for i in range(dataLen):\n",
        "        if i<len(data[row]) and data[row][i] is not np.nan: tmp = data[row][i]\n",
        "        addTo[i]+=tmp\n",
        "\n",
        "def AVG(data):\n",
        "    return (data / TOTAL_RUN).tolist()\n",
        "TPR_avg, FPR_avg, P_avg, R_avg = np.zeros((TPR_maxlen)), np.zeros((FPR_maxlen)), np.zeros((P_maxlen)), np.zeros((R_maxlen))\n",
        "\n",
        "for i in range(len(TPR_res)):\n",
        "    AddOn(TPR_avg, TPR_res, i, TPR_maxlen)\n",
        "    AddOn(FPR_avg, FPR_res, i, FPR_maxlen)\n",
        "    AddOn(P_avg, P_res, i, P_maxlen)\n",
        "    AddOn(R_avg, R_res, i, R_maxlen)\n",
        "    \n",
        "TPR_avg, FPR_avg, P_avg, R_avg = AVG(TPR_avg), AVG(FPR_avg), AVG(P_avg), AVG(R_avg)"
      ]
    },
    {
      "attachments": {},
      "cell_type": "markdown",
      "metadata": {},
      "source": [
        "# Save Result to json"
      ]
    },
    {
      "cell_type": "code",
      "execution_count": 23,
      "metadata": {},
      "outputs": [],
      "source": [
        "import json\n",
        "\n",
        "with open('data/Runs/{!s}_{!s}_Runs/result.json'.format(RAT,TOTAL_RUN, run), \"r\", encoding='utf-8') as jsonFile:\n",
        "    data = json.load(jsonFile)\n",
        "\n",
        "with open('data/Runs/{!s}_{!s}_Runs/result.json'.format(RAT,TOTAL_RUN, run), 'w', encoding='utf-8') as jsonFile:\n",
        "    data['AE'] = {\n",
        "            'AUC': AUC_res,\n",
        "            'AUPRC': AUPRC_res,\n",
        "            'Fscore': fscore_res,\n",
        "            'Recall': recall_res,\n",
        "            'Precision': precision_res,\n",
        "            'Accuracy': accuracies,\n",
        "            'THR_opt': THR_opt,\n",
        "            'AVG': {\n",
        "                'TPR': TPR_avg,\n",
        "                'FPR': FPR_avg,\n",
        "                'P': P_avg,\n",
        "                'R': R_avg\n",
        "            }\n",
        "        }\n",
        "    \n",
        "    json.dump(data, jsonFile, ensure_ascii=False)"
      ]
    },
    {
      "cell_type": "markdown",
      "metadata": {},
      "source": [
        "# End of Jupyter\n",
        "* [To top](#common-link)"
      ]
    }
  ],
  "metadata": {
    "accelerator": "GPU",
    "colab": {
      "name": "ganomaly",
      "provenance": [],
      "version": "0.3.2"
    },
    "kernelspec": {
      "display_name": "Python 3.8.3 ('base')",
      "language": "python",
      "name": "python3"
    },
    "language_info": {
      "codemirror_mode": {
        "name": "ipython",
        "version": 3
      },
      "file_extension": ".py",
      "mimetype": "text/x-python",
      "name": "python",
      "nbconvert_exporter": "python",
      "pygments_lexer": "ipython3",
      "version": "3.8.3"
    },
    "vscode": {
      "interpreter": {
        "hash": "ad2bdc8ecc057115af97d19610ffacc2b4e99fae6737bb82f5d7fb13d2f2c186"
      }
    }
  },
  "nbformat": 4,
  "nbformat_minor": 0
}
